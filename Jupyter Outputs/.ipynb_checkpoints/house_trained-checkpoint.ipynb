{
 "cells": [
  {
   "cell_type": "markdown",
   "id": "d2d87c22-4387-4aa1-9ad5-d7c515adefd2",
   "metadata": {
    "papermill": {
     "duration": 0.03057,
     "end_time": "2022-02-06T15:54:00.636662",
     "exception": false,
     "start_time": "2022-02-06T15:54:00.606092",
     "status": "completed"
    },
    "tags": []
   },
   "source": [
    "# HOUSE PRICES TRAINER "
   ]
  },
  {
   "cell_type": "code",
   "execution_count": 1,
   "id": "9c329355-4ccf-4ef3-88e1-b85c76e3f51b",
   "metadata": {
    "execution": {
     "iopub.execute_input": "2022-02-06T15:54:00.696602Z",
     "iopub.status.busy": "2022-02-06T15:54:00.696108Z",
     "iopub.status.idle": "2022-02-06T15:54:00.885590Z",
     "shell.execute_reply": "2022-02-06T15:54:00.884947Z"
    },
    "papermill": {
     "duration": 0.222102,
     "end_time": "2022-02-06T15:54:00.885773",
     "exception": false,
     "start_time": "2022-02-06T15:54:00.663671",
     "status": "completed"
    },
    "tags": []
   },
   "outputs": [
    {
     "name": "stdout",
     "output_type": "stream",
     "text": [
      "Python 3.9.7\n"
     ]
    }
   ],
   "source": [
    "!python --version"
   ]
  },
  {
   "cell_type": "markdown",
   "id": "5eab36b8-9bf8-43de-9fc6-456c74b6a0bd",
   "metadata": {
    "papermill": {
     "duration": 0.026292,
     "end_time": "2022-02-06T15:54:00.945431",
     "exception": false,
     "start_time": "2022-02-06T15:54:00.919139",
     "status": "completed"
    },
    "tags": []
   },
   "source": [
    "## DATA AND GLOBAL PARAMETERS"
   ]
  },
  {
   "cell_type": "markdown",
   "id": "09f58c2b-ed1f-4287-a6aa-4d83d0f0b263",
   "metadata": {
    "papermill": {
     "duration": 0.027868,
     "end_time": "2022-02-06T15:54:00.999195",
     "exception": false,
     "start_time": "2022-02-06T15:54:00.971327",
     "status": "completed"
    },
    "tags": []
   },
   "source": [
    "### Imports"
   ]
  },
  {
   "cell_type": "code",
   "execution_count": 2,
   "id": "bdd4665b-d318-44ad-90e0-d2bb500f9c25",
   "metadata": {
    "execution": {
     "iopub.execute_input": "2022-02-06T15:54:01.063471Z",
     "iopub.status.busy": "2022-02-06T15:54:01.062768Z",
     "iopub.status.idle": "2022-02-06T15:54:01.553140Z",
     "shell.execute_reply": "2022-02-06T15:54:01.553762Z"
    },
    "papermill": {
     "duration": 0.523331,
     "end_time": "2022-02-06T15:54:01.554009",
     "exception": false,
     "start_time": "2022-02-06T15:54:01.030678",
     "status": "completed"
    },
    "tags": []
   },
   "outputs": [],
   "source": [
    "# LIRBARIES ------\n",
    "import warnings\n",
    "\n",
    "warnings.filterwarnings(\"ignore\")\n",
    "\n",
    "import multiprocessing\n",
    "\n",
    "# Misc\n",
    "import os\n",
    "import shutil\n",
    "import sys\n",
    "from datetime import datetime\n",
    "\n",
    "# Combinatorics\n",
    "from itertools import product\n",
    "from pickle import dump\n",
    "\n",
    "# Matrices\n",
    "import numpy as np\n",
    "\n",
    "# DF\n",
    "import pandas as pd\n",
    "\n",
    "# Boosting machine\n",
    "import xgboost as xgb\n",
    "from IPython.display import Markdown as md\n",
    "from IPython.display import display as printmd\n",
    "from sklearn.compose import ColumnTransformer\n",
    "from sklearn.ensemble import RandomForestRegressor\n",
    "from sklearn.impute import KNNImputer\n",
    "from sklearn.metrics import (\n",
    "    make_scorer,\n",
    "    mean_absolute_error,\n",
    "    mean_squared_error,\n",
    "    mean_squared_log_error,\n",
    ")\n",
    "from sklearn.model_selection import GridSearchCV, KFold, train_test_split\n",
    "from sklearn.neural_network import MLPRegressor\n",
    "from sklearn.pipeline import Pipeline\n",
    "from sklearn.preprocessing import OneHotEncoder, StandardScaler\n",
    "from sklearn.svm import SVR\n",
    "\n",
    "# SKLEARN ---\n",
    "# * metrics ---\n",
    "\n",
    "# * Preprocess ---\n",
    "\n",
    "# * Imputation\n",
    "\n",
    "# * CV ---\n",
    "\n",
    "# Regression\n",
    "\n",
    "\n",
    "# utils\n",
    "base_path = \"/home/jovyan/work/TP3_TP4\"  # laptop : /home/jovyan/work/CM_ML/TP3_TP4 other tower: /home/jovyan/work/TP3_TP4\n",
    "os.chdir(base_path)\n",
    "sys.path.append(base_path)\n",
    "from utils.utils import rmsle_scorer"
   ]
  },
  {
   "cell_type": "code",
   "execution_count": 3,
   "id": "ae74c8f9-0436-4bd1-b8b4-9b11b9eb18b6",
   "metadata": {
    "execution": {
     "iopub.execute_input": "2022-02-06T15:54:01.618083Z",
     "iopub.status.busy": "2022-02-06T15:54:01.617679Z",
     "iopub.status.idle": "2022-02-06T15:54:01.620341Z",
     "shell.execute_reply": "2022-02-06T15:54:01.620049Z"
    },
    "papermill": {
     "duration": 0.034663,
     "end_time": "2022-02-06T15:54:01.620431",
     "exception": false,
     "start_time": "2022-02-06T15:54:01.585768",
     "status": "completed"
    },
    "tags": []
   },
   "outputs": [
    {
     "name": "stdout",
     "output_type": "stream",
     "text": [
      "Starting time and time used for files 06-02-2022_15:54:01\n"
     ]
    }
   ],
   "source": [
    "# START TIME ------\n",
    "s = datetime.now()\n",
    "# time as str\n",
    "init_time = s.strftime(\"%d-%m-%Y_%H:%M:%S\")\n",
    "print(f\"Starting time and time used for files {init_time}\")\n",
    "pd.set_option(\"display.float_format\", lambda x: \"%.5f\" % x)"
   ]
  },
  {
   "cell_type": "markdown",
   "id": "7cde833b-9037-4544-b051-8f8776264fbd",
   "metadata": {
    "jp-MarkdownHeadingCollapsed": true,
    "papermill": {
     "duration": 0.025937,
     "end_time": "2022-02-06T15:54:01.672375",
     "exception": false,
     "start_time": "2022-02-06T15:54:01.646438",
     "status": "completed"
    },
    "tags": []
   },
   "source": [
    "### Helper functions "
   ]
  },
  {
   "cell_type": "code",
   "execution_count": 4,
   "id": "b3eb0f29-3e7c-4ca0-b863-532b57157a59",
   "metadata": {
    "execution": {
     "iopub.execute_input": "2022-02-06T15:54:01.732628Z",
     "iopub.status.busy": "2022-02-06T15:54:01.732022Z",
     "iopub.status.idle": "2022-02-06T15:54:01.733305Z",
     "shell.execute_reply": "2022-02-06T15:54:01.733761Z"
    },
    "papermill": {
     "duration": 0.034774,
     "end_time": "2022-02-06T15:54:01.733942",
     "exception": false,
     "start_time": "2022-02-06T15:54:01.699168",
     "status": "completed"
    },
    "tags": []
   },
   "outputs": [],
   "source": [
    "# FROM DATA TO MODEL DATA -----\n",
    "def preprocess_data_as_model(data, dependent, categorical):\n",
    "    # * Divide X,y ---\n",
    "    data_subset = data.drop(dependent, axis=1)\n",
    "    y = data[dependent].values\n",
    "\n",
    "    # handle categorical variables ---\n",
    "    cols_beginning = data_subset.columns.values\n",
    "\n",
    "    all_cols = cols_beginning\n",
    "    numeric_cols = data_subset.select_dtypes([\"number\"]).columns\n",
    "    numeric_cols_index = np.in1d(all_cols, numeric_cols)\n",
    "\n",
    "    categorical_cols = data_subset.select_dtypes([\"object\"]).columns\n",
    "    categorical_cols_index = np.in1d(all_cols, categorical_cols)\n",
    "\n",
    "    # Transformations ---\n",
    "    transformations = []\n",
    "\n",
    "    if categorical:\n",
    "        pass  # todo\n",
    "    else:\n",
    "        # Training cols ---\n",
    "        data_subset = data_subset.select_dtypes([\"number\"])  # drop categorical\n",
    "        all_cols = cols_beginning[numeric_cols_index]  # only numerical cols ....\n",
    "        numeric_cols_index = (\n",
    "            data_subset.columns.values != None\n",
    "        )  # apply transformation to all columns\n",
    "    return (\n",
    "        data_subset,\n",
    "        y,\n",
    "        all_cols,\n",
    "        numeric_cols,\n",
    "        numeric_cols_index,\n",
    "        categorical_cols,\n",
    "        categorical_cols_index,\n",
    "    )"
   ]
  },
  {
   "cell_type": "code",
   "execution_count": 5,
   "id": "a33c6740-4817-4146-b107-44a966451313",
   "metadata": {
    "execution": {
     "iopub.execute_input": "2022-02-06T15:54:01.795989Z",
     "iopub.status.busy": "2022-02-06T15:54:01.795432Z",
     "iopub.status.idle": "2022-02-06T15:54:01.796728Z",
     "shell.execute_reply": "2022-02-06T15:54:01.797134Z"
    },
    "papermill": {
     "duration": 0.034576,
     "end_time": "2022-02-06T15:54:01.797296",
     "exception": false,
     "start_time": "2022-02-06T15:54:01.762720",
     "status": "completed"
    },
    "tags": []
   },
   "outputs": [],
   "source": [
    "# MODEL TRAINERS ------\n",
    "\n",
    "\n",
    "def train_mlp(data=None, best_params=None):\n",
    "    # * Init xgb instance ---\n",
    "    mlp = MLPRegressor(max_iter=3000, random_state=123, early_stopping=True)\n",
    "    # * Set best params, normally found by a previous Grid search ---\n",
    "    if best_params:\n",
    "        print(f\"Setting best parameters: {best_params}\")\n",
    "        mlp.set_params(**best_params)\n",
    "    if data:\n",
    "        # * Fit mlp: ((x_train,y_train)) ---\n",
    "        mlp.fit(X=data[0], y=data[1])\n",
    "    return mlp\n",
    "\n",
    "\n",
    "def train_svr(data=None, best_params=None):\n",
    "    # * Init xgb instance ---\n",
    "    svr = SVR()\n",
    "    # * Set best params, normally found by a previous Grid search ---\n",
    "    if best_params:\n",
    "        print(f\"Setting best parameters: {best_params}\")\n",
    "        svr.set_params(**best_params)\n",
    "    if data:\n",
    "        # * Fit svr: ((x_train,y_train)) ---\n",
    "        svr.fit(X=data[0], y=data[1])\n",
    "    return svr\n",
    "\n",
    "\n",
    "def train_rf(data=None, best_params=None):\n",
    "    # * Init xgb instance ---\n",
    "    rf = RandomForestRegressor()\n",
    "\n",
    "    # * Set best params, normally found by a previous Grid search ---\n",
    "    if best_params:\n",
    "        print(f\"Setting best parameters: {best_params}\")\n",
    "        rf.set_params(**best_params)\n",
    "    if data:\n",
    "        # * Fit rf: ((x_train,y_train)) ---\n",
    "        rf.fit(X=data[0], y=data[1])\n",
    "    return rf\n",
    "\n",
    "\n",
    "def train_xgb(params, data=None, best_params=None):\n",
    "    # * Init xgb instance ---\n",
    "    boost = xgb.XGBRegressor(**params)\n",
    "\n",
    "    # * Set best params, normally found by a previous Grid search ---\n",
    "    if best_params:\n",
    "        print(f\"Setting best parameters: {best_params}\")\n",
    "        boost.set_params(**best_params)\n",
    "\n",
    "    # * Fit booster: ((x_train,y_train), (x_test,y_test)) ---\n",
    "    if data:\n",
    "        boost.fit(\n",
    "            X=data[0][0],\n",
    "            y=data[0][1],\n",
    "            eval_set=data,  # Validation set for early stopping (validates on test -- last data tuple)\n",
    "            early_stopping_rounds=10,\n",
    "            verbose=0,\n",
    "            eval_metric=[\"mae\", \"rmse\", \"rmsle\"],\n",
    "        )\n",
    "    return boost"
   ]
  },
  {
   "cell_type": "code",
   "execution_count": 6,
   "id": "b8997e70-1f93-4f22-8b3b-37667252e789",
   "metadata": {
    "execution": {
     "iopub.execute_input": "2022-02-06T15:54:01.868723Z",
     "iopub.status.busy": "2022-02-06T15:54:01.863833Z",
     "iopub.status.idle": "2022-02-06T15:54:01.870346Z",
     "shell.execute_reply": "2022-02-06T15:54:01.870756Z"
    },
    "papermill": {
     "duration": 0.041407,
     "end_time": "2022-02-06T15:54:01.870881",
     "exception": false,
     "start_time": "2022-02-06T15:54:01.829474",
     "status": "completed"
    },
    "tags": []
   },
   "outputs": [],
   "source": [
    "# MODEL SAVERS ------\n",
    "\n",
    "\n",
    "def save_model(\n",
    "    model,\n",
    "    model_name,\n",
    "    dataset,\n",
    "    kind,\n",
    "    objective,\n",
    "    toScale,\n",
    "    best_score,\n",
    "    init_time,\n",
    "    columns_used,\n",
    "    Preprocess,\n",
    "    preprocessing_path,\n",
    "    categorical,\n",
    "    scores,\n",
    ") -> str:\n",
    "    print(\"\\n\")\n",
    "    print(\"--- Saving model ---\")\n",
    "    model_path = f\"model_dump/{model_name}_{dataset}_{kind}_{objective}_{toScale}_{np.round(best_score,5)}_{init_time}.pkl\"\n",
    "\n",
    "    dump(\n",
    "        {  # options\n",
    "            \"scaled\": toScale,\n",
    "            \"categorical\": categorical,\n",
    "            # processing and model\n",
    "            \"columns_used\": columns_used,\n",
    "            \"preprocess\": Preprocess,\n",
    "            \"model\": model,\n",
    "            \"preprocessing_path\": preprocessing_path,\n",
    "            # outcome\n",
    "            \"scores\": scores,\n",
    "        },\n",
    "        open(model_path, \"wb\"),\n",
    "    )\n",
    "\n",
    "    print(f\"--- {model_name} model saved to {model_path}---\")\n",
    "    return model_path\n",
    "\n",
    "\n",
    "def save_grid(\n",
    "    model_path,\n",
    "    model_name,\n",
    "    dataset,\n",
    "    init_time,\n",
    "    preprocessing_path,\n",
    "    toScale,\n",
    "    categorical,\n",
    "    search,\n",
    "):\n",
    "\n",
    "    res = pd.DataFrame(search.cv_results_)\n",
    "\n",
    "    # * Save estimator ---\n",
    "    res[\"model_path\"] = model_path\n",
    "\n",
    "    # * Did we scale ?\n",
    "    if preprocessing_path:\n",
    "        res[\"preprocessing_path\"] = preprocessing_path\n",
    "    else:\n",
    "        res[\"preprocessing_path\"] = \"no preprocess\"\n",
    "\n",
    "    res[\"categorical\"] = categorical\n",
    "\n",
    "    # * To csv ---\n",
    "    grid_name = f\"grid_search/Grid_{model_name}_{dataset}_{init_time}.csv\"\n",
    "    res.to_csv(grid_name)\n",
    "    print(f\"--- Grid search results saved to {grid_name}---\")\n",
    "\n",
    "\n",
    "def score_model(model, data):\n",
    "    \"\"\"\n",
    "    data = ((xtrain, ytrain), (x_val, y_val), (x_test, y_test))\n",
    "    \"\"\"\n",
    "    splits = [\"train\", \"val\", \"test\"]\n",
    "    scores = {}\n",
    "    for i, split in enumerate(splits):\n",
    "        metrics = {}\n",
    "        metrics[\"rmsle\"] = rmsle(model, data[i][0], data[i][1])\n",
    "        metrics[\"rmse\"] = mean_squared_error(model.predict(data[i][0]), data[i][1])\n",
    "        metrics[\"mae\"] = mean_absolute_error(model.predict(data[i][0]), data[i][1])\n",
    "        scores[split] = metrics\n",
    "    return scores\n",
    "\n",
    "\n",
    "def scores_to_df(scores, verbose=True):\n",
    "    scores_df = pd.DataFrame(scores)\n",
    "    scores_df[\"difference\"] = scores_df[\"train\"] - scores_df[\"val\"]\n",
    "    if verbose:\n",
    "        print(\"---- BEST SCORES ---\")\n",
    "        print(scores_df)\n",
    "    return scores_df"
   ]
  },
  {
   "cell_type": "markdown",
   "id": "73b4b7ec-a38c-4d21-aa0c-0612e45a5c82",
   "metadata": {
    "papermill": {
     "duration": 0.026412,
     "end_time": "2022-02-06T15:54:01.924680",
     "exception": false,
     "start_time": "2022-02-06T15:54:01.898268",
     "status": "completed"
    },
    "tags": []
   },
   "source": [
    "### FITTERS "
   ]
  },
  {
   "cell_type": "code",
   "execution_count": 7,
   "id": "8fd0f2d3-111f-427a-aa53-3331fc52e078",
   "metadata": {
    "execution": {
     "iopub.execute_input": "2022-02-06T15:54:01.984077Z",
     "iopub.status.busy": "2022-02-06T15:54:01.983731Z",
     "iopub.status.idle": "2022-02-06T15:54:01.984926Z",
     "shell.execute_reply": "2022-02-06T15:54:01.985211Z"
    },
    "papermill": {
     "duration": 0.033179,
     "end_time": "2022-02-06T15:54:01.985319",
     "exception": false,
     "start_time": "2022-02-06T15:54:01.952140",
     "status": "completed"
    },
    "tags": []
   },
   "outputs": [],
   "source": [
    "def get_results(model, data):\n",
    "    # PRINT BEST RESULTS ------\n",
    "    scores = score_model(model, data)\n",
    "    scores_df = scores_to_df(scores)\n",
    "\n",
    "    best_params = model.get_params()\n",
    "    printmd(md(f\"Paramètres du modèle: {best_params}\"))\n",
    "    return scores_df"
   ]
  },
  {
   "cell_type": "code",
   "execution_count": 8,
   "id": "b3725046-58c1-4ca2-90c9-1be796b02bf9",
   "metadata": {
    "execution": {
     "iopub.execute_input": "2022-02-06T15:54:02.046831Z",
     "iopub.status.busy": "2022-02-06T15:54:02.046322Z",
     "iopub.status.idle": "2022-02-06T15:54:02.047633Z",
     "shell.execute_reply": "2022-02-06T15:54:02.047357Z"
    },
    "papermill": {
     "duration": 0.031998,
     "end_time": "2022-02-06T15:54:02.047721",
     "exception": false,
     "start_time": "2022-02-06T15:54:02.015723",
     "status": "completed"
    },
    "tags": []
   },
   "outputs": [],
   "source": [
    "def fit_baseline_model(trainer, data, pass_val=False, params=False, **kwargs):\n",
    "    # --- --- --- BASELINE --- --- ---\n",
    "    kind = \"baseline\"\n",
    "\n",
    "    # * Fit if requested ---\n",
    "    if pass_val and params:\n",
    "        model = trainer(params, data, best_params=None)\n",
    "    else:\n",
    "        model = trainer((data[0][0], data[0][1]), best_params=None)\n",
    "\n",
    "    # Best rmsle ---\n",
    "    best_score = rmsle(estimator=model, X=data[1][0], y_true=data[1][1])\n",
    "\n",
    "    return (model, kind, best_score)"
   ]
  },
  {
   "cell_type": "code",
   "execution_count": 9,
   "id": "f7193dc1-5e9c-4890-a2fb-550048092ca8",
   "metadata": {
    "execution": {
     "iopub.execute_input": "2022-02-06T15:54:02.116146Z",
     "iopub.status.busy": "2022-02-06T15:54:02.115776Z",
     "iopub.status.idle": "2022-02-06T15:54:02.117138Z",
     "shell.execute_reply": "2022-02-06T15:54:02.117409Z"
    },
    "papermill": {
     "duration": 0.042046,
     "end_time": "2022-02-06T15:54:02.117529",
     "exception": false,
     "start_time": "2022-02-06T15:54:02.075483",
     "status": "completed"
    },
    "tags": []
   },
   "outputs": [],
   "source": [
    "def fit_grid_model(\n",
    "    trainer,\n",
    "    data,\n",
    "    grid_params,\n",
    "    grid_search_kwargs,\n",
    "    pass_val=False,\n",
    "    params=False,\n",
    "    verbose=True,\n",
    "):\n",
    "    # --- --- --- BASELINE --- --- ---\n",
    "    kind = \"grid\"\n",
    "\n",
    "    if params:\n",
    "        # * Init instance ---\n",
    "        model = trainer(params=params)\n",
    "    else:\n",
    "        model = trainer()\n",
    "\n",
    "    # * GridSearchCV ---\n",
    "    search = GridSearchCV(model, param_grid=grid_params, **grid_search_kwargs)\n",
    "\n",
    "    # * Fit if requested ---\n",
    "    if pass_val:\n",
    "        search.fit(\n",
    "            data[0][0],\n",
    "            data[0][1],\n",
    "            eval_set=[data[1]],  # Validation set for early stopping\n",
    "            early_stopping_rounds=15,\n",
    "            verbose=0,\n",
    "        )\n",
    "    else:\n",
    "        search.fit(data[0][0], data[0][1])\n",
    "\n",
    "    # PRINT BEST RESULTS ------\n",
    "    if verbose:\n",
    "        best_score = search.best_score_\n",
    "        printmd(\n",
    "            md(\n",
    "                f\"Le meilleur score obtenu par notre grid search (à savoir, le score est le RMSLE): {best_score}\"\n",
    "            )\n",
    "        )\n",
    "\n",
    "        best_params = search.best_params_\n",
    "        printmd(md(f\"Le meilleurs paramètres: {best_params}\"))\n",
    "\n",
    "    return search"
   ]
  },
  {
   "cell_type": "code",
   "execution_count": 10,
   "id": "99a13e88-d427-4cd6-b689-3d9eedbcc3b2",
   "metadata": {
    "execution": {
     "iopub.execute_input": "2022-02-06T15:54:02.179396Z",
     "iopub.status.busy": "2022-02-06T15:54:02.179047Z",
     "iopub.status.idle": "2022-02-06T15:54:02.180106Z",
     "shell.execute_reply": "2022-02-06T15:54:02.180365Z"
    },
    "papermill": {
     "duration": 0.033886,
     "end_time": "2022-02-06T15:54:02.180474",
     "exception": false,
     "start_time": "2022-02-06T15:54:02.146588",
     "status": "completed"
    },
    "tags": []
   },
   "outputs": [],
   "source": [
    "def refit_with_params(trainer, best_params, data, pass_val=False):\n",
    "    # * Fit if requested ---\n",
    "    if pass_val and params:\n",
    "        model = trainer(params, data, best_params=best_params)\n",
    "    else:\n",
    "        model = trainer((data[0][0], data[0][1]), best_params=best_params)\n",
    "\n",
    "    return model"
   ]
  },
  {
   "cell_type": "code",
   "execution_count": 11,
   "id": "f0014db5-9140-43bf-824b-3023a0aa4f80",
   "metadata": {
    "execution": {
     "iopub.execute_input": "2022-02-06T15:54:02.243700Z",
     "iopub.status.busy": "2022-02-06T15:54:02.239278Z",
     "iopub.status.idle": "2022-02-06T15:54:02.245151Z",
     "shell.execute_reply": "2022-02-06T15:54:02.245690Z"
    },
    "papermill": {
     "duration": 0.037743,
     "end_time": "2022-02-06T15:54:02.245900",
     "exception": false,
     "start_time": "2022-02-06T15:54:02.208157",
     "status": "completed"
    },
    "tags": []
   },
   "outputs": [],
   "source": [
    "def refit_with_selection(\n",
    "    trainer,\n",
    "    data,\n",
    "    model_with_importances,\n",
    "    all_cols,\n",
    "    grid_params,\n",
    "    grid_search_kwargs,\n",
    "    pass_val,\n",
    "    params,\n",
    "    best_params,\n",
    "    th=0.001,\n",
    "    verbose=False,\n",
    "):\n",
    "    kind = \"subset\"\n",
    "    # which features ---\n",
    "    subset = model_with_importances.feature_importances_ > th\n",
    "    important_cols = all_cols[subset].tolist()\n",
    "\n",
    "    if verbose:\n",
    "        print(f\"IMPORTANT COLUMNS KEPT FOR RETRAINING {important_cols}\")\n",
    "\n",
    "    search = fit_grid_model(\n",
    "        trainer, data, grid_params, grid_search_kwargs, pass_val, params, verbose\n",
    "    )\n",
    "\n",
    "    model = refit_with_params(trainer, best_params, data=data, pass_val=pass_val)\n",
    "\n",
    "    return model, important_cols"
   ]
  },
  {
   "cell_type": "markdown",
   "id": "cebb1be4-f292-49ad-87e6-6860926cc874",
   "metadata": {
    "jp-MarkdownHeadingCollapsed": true,
    "papermill": {
     "duration": 0.026481,
     "end_time": "2022-02-06T15:54:02.308744",
     "exception": false,
     "start_time": "2022-02-06T15:54:02.282263",
     "status": "completed"
    },
    "tags": []
   },
   "source": [
    "### Data Paths "
   ]
  },
  {
   "cell_type": "code",
   "execution_count": 12,
   "id": "6b54d143-6978-426a-bc89-6b54855a3959",
   "metadata": {
    "execution": {
     "iopub.execute_input": "2022-02-06T15:54:02.368797Z",
     "iopub.status.busy": "2022-02-06T15:54:02.368457Z",
     "iopub.status.idle": "2022-02-06T15:54:02.369754Z",
     "shell.execute_reply": "2022-02-06T15:54:02.370010Z"
    },
    "papermill": {
     "duration": 0.034333,
     "end_time": "2022-02-06T15:54:02.370122",
     "exception": false,
     "start_time": "2022-02-06T15:54:02.335789",
     "status": "completed"
    },
    "tags": []
   },
   "outputs": [],
   "source": [
    "# --- --- --- FOLDERS AND FILES --- --- ---\n",
    "# * Data path ---\n",
    "data_path = os.path.join(base_path, \"data\")\n",
    "\n",
    "# * House dataset paths ---\n",
    "house_train = os.path.join(data_path, \"house\", \"train.csv\")\n",
    "\n",
    "# * Bills dataset paths ---\n",
    "bill_train = os.path.join(data_path, \"bill_authentication.csv\")\n",
    "\n",
    "# * Wine dataset paths ---\n",
    "wine_train = os.path.join(data_path, \"winequality-red.csv\")\n",
    "\n",
    "# init scaler\n",
    "scaler_name = None\n",
    "Preprocess = None"
   ]
  },
  {
   "cell_type": "code",
   "execution_count": 13,
   "id": "89367d19-0135-47d5-95cc-c3421fc8c756",
   "metadata": {
    "execution": {
     "iopub.execute_input": "2022-02-06T15:54:02.426667Z",
     "iopub.status.busy": "2022-02-06T15:54:02.426321Z",
     "iopub.status.idle": "2022-02-06T15:54:02.427705Z",
     "shell.execute_reply": "2022-02-06T15:54:02.427963Z"
    },
    "papermill": {
     "duration": 0.031254,
     "end_time": "2022-02-06T15:54:02.428071",
     "exception": false,
     "start_time": "2022-02-06T15:54:02.396817",
     "status": "completed"
    },
    "tags": [
     "parameters"
    ]
   },
   "outputs": [],
   "source": [
    "# DEFAULT STORAGE PARAMETERS ------\n",
    "to_rm_storage = True\n",
    "### DATA PARAMETERS ---\n",
    "training_data_path = None\n",
    "dataset = None\n",
    "dependent = None"
   ]
  },
  {
   "cell_type": "code",
   "execution_count": 14,
   "id": "4fd7558b",
   "metadata": {
    "execution": {
     "iopub.execute_input": "2022-02-06T15:54:02.492251Z",
     "iopub.status.busy": "2022-02-06T15:54:02.491917Z",
     "iopub.status.idle": "2022-02-06T15:54:02.493523Z",
     "shell.execute_reply": "2022-02-06T15:54:02.493769Z"
    },
    "papermill": {
     "duration": 0.0384,
     "end_time": "2022-02-06T15:54:02.493881",
     "exception": false,
     "start_time": "2022-02-06T15:54:02.455481",
     "status": "completed"
    },
    "tags": [
     "injected-parameters"
    ]
   },
   "outputs": [],
   "source": [
    "# Parameters\n",
    "training_data_path = \"house_train\"\n",
    "dataset = \"house\"\n",
    "dependent = \"SalePrice\"\n"
   ]
  },
  {
   "cell_type": "markdown",
   "id": "d08150bd-62a2-4d80-b7ca-a8fc033670ad",
   "metadata": {
    "jp-MarkdownHeadingCollapsed": true,
    "papermill": {
     "duration": 0.027151,
     "end_time": "2022-02-06T15:54:02.548209",
     "exception": false,
     "start_time": "2022-02-06T15:54:02.521058",
     "status": "completed"
    },
    "tags": []
   },
   "source": [
    "### Folders "
   ]
  },
  {
   "cell_type": "code",
   "execution_count": 15,
   "id": "0fb1da5e-e78e-49b4-817d-baff9ff2516d",
   "metadata": {
    "execution": {
     "iopub.execute_input": "2022-02-06T15:54:02.609869Z",
     "iopub.status.busy": "2022-02-06T15:54:02.609511Z",
     "iopub.status.idle": "2022-02-06T15:54:02.613125Z",
     "shell.execute_reply": "2022-02-06T15:54:02.612806Z"
    },
    "papermill": {
     "duration": 0.037284,
     "end_time": "2022-02-06T15:54:02.613216",
     "exception": false,
     "start_time": "2022-02-06T15:54:02.575932",
     "status": "completed"
    },
    "tags": []
   },
   "outputs": [
    {
     "name": "stdout",
     "output_type": "stream",
     "text": [
      "--- Removing previous saved models, grids and scalers ---\n",
      "CPU times: user 1.06 ms, sys: 714 µs, total: 1.78 ms\n",
      "Wall time: 1.52 ms\n"
     ]
    }
   ],
   "source": [
    "%%time\n",
    "# FOLDERS TO STORE ------\n",
    "paths_to_create = [\n",
    "    os.path.join(base_path, \"scale_dump\"),\n",
    "    os.path.join(base_path, \"model_dump\"),\n",
    "    os.path.join(base_path, \"grid_search\"),\n",
    "]\n",
    "\n",
    "# REMOVE PREVIOUS STORAGE IF NEEDED ------\n",
    "if to_rm_storage:\n",
    "    print(\"--- Removing previous saved models, grids and scalers ---\")\n",
    "    for folder in paths_to_create:\n",
    "        shutil.rmtree(folder, ignore_errors=True)\n",
    "\n",
    "# (RE)CREATE STORAGE FOLDERS ------\n",
    "for folder in paths_to_create:\n",
    "    os.makedirs(folder, exist_ok=True)"
   ]
  },
  {
   "cell_type": "markdown",
   "id": "9b7a80e7-c61c-4a9e-8b64-61e04f23457b",
   "metadata": {
    "papermill": {
     "duration": 0.026914,
     "end_time": "2022-02-06T15:54:02.668718",
     "exception": false,
     "start_time": "2022-02-06T15:54:02.641804",
     "status": "completed"
    },
    "tags": []
   },
   "source": [
    "## MODEL PARAMETERS\n"
   ]
  },
  {
   "cell_type": "markdown",
   "id": "4888bc90-804c-4e00-b3e8-466dc5deff71",
   "metadata": {
    "papermill": {
     "duration": 0.027979,
     "end_time": "2022-02-06T15:54:02.724557",
     "exception": false,
     "start_time": "2022-02-06T15:54:02.696578",
     "status": "completed"
    },
    "tags": []
   },
   "source": [
    "### MODEL PARAMETERS "
   ]
  },
  {
   "cell_type": "code",
   "execution_count": 16,
   "id": "ac1206c0-cd17-41cd-b76e-339f1698abe2",
   "metadata": {
    "execution": {
     "iopub.execute_input": "2022-02-06T15:54:02.784453Z",
     "iopub.status.busy": "2022-02-06T15:54:02.784063Z",
     "iopub.status.idle": "2022-02-06T15:54:02.785439Z",
     "shell.execute_reply": "2022-02-06T15:54:02.785727Z"
    },
    "papermill": {
     "duration": 0.0335,
     "end_time": "2022-02-06T15:54:02.785835",
     "exception": false,
     "start_time": "2022-02-06T15:54:02.752335",
     "status": "completed"
    },
    "tags": [
     "parameters"
    ]
   },
   "outputs": [],
   "source": [
    "# --- --- --- MODEL FITTING PARAMETERS --- --- ---\n",
    "\n",
    "# FIT OR LOAD MODEL ------\n",
    "toFitXGB = True\n",
    "toFitRF = True\n",
    "toFitSVM = True\n",
    "toFitMLP = True\n",
    "\n",
    "# * Fitting options ---\n",
    "toScale = True\n",
    "\n",
    "# *Handle categorical vars\n",
    "categorical = True"
   ]
  },
  {
   "cell_type": "code",
   "execution_count": 17,
   "id": "265249ef-80a6-4525-9773-1595ddf85459",
   "metadata": {
    "execution": {
     "iopub.execute_input": "2022-02-06T15:54:02.848632Z",
     "iopub.status.busy": "2022-02-06T15:54:02.848274Z",
     "iopub.status.idle": "2022-02-06T15:54:02.850047Z",
     "shell.execute_reply": "2022-02-06T15:54:02.849759Z"
    },
    "papermill": {
     "duration": 0.036229,
     "end_time": "2022-02-06T15:54:02.850138",
     "exception": false,
     "start_time": "2022-02-06T15:54:02.813909",
     "status": "completed"
    },
    "tags": []
   },
   "outputs": [
    {
     "name": "stdout",
     "output_type": "stream",
     "text": [
      "CPUS DETECTED : 12\n",
      "CPUS TO USE : 9\n"
     ]
    }
   ],
   "source": [
    "# Multiprocessing ---\n",
    "cpus = multiprocessing.cpu_count()\n",
    "cpu_ratio = 0.8\n",
    "cpus_to_use = int(cpus * cpu_ratio)\n",
    "print(f\"CPUS DETECTED : {cpus}\")\n",
    "print(f\"CPUS TO USE : {cpus_to_use}\")"
   ]
  },
  {
   "cell_type": "markdown",
   "id": "c2c93f4c-c461-4387-abfb-9062fe687a3b",
   "metadata": {
    "papermill": {
     "duration": 0.028375,
     "end_time": "2022-02-06T15:54:02.908938",
     "exception": false,
     "start_time": "2022-02-06T15:54:02.880563",
     "status": "completed"
    },
    "tags": []
   },
   "source": [
    "### CV PARAMETERS"
   ]
  },
  {
   "cell_type": "code",
   "execution_count": 18,
   "id": "5d36cee3-2623-4300-8b83-9520ff00fb99",
   "metadata": {
    "execution": {
     "iopub.execute_input": "2022-02-06T15:54:02.970511Z",
     "iopub.status.busy": "2022-02-06T15:54:02.970005Z",
     "iopub.status.idle": "2022-02-06T15:54:02.971270Z",
     "shell.execute_reply": "2022-02-06T15:54:02.971524Z"
    },
    "papermill": {
     "duration": 0.033264,
     "end_time": "2022-02-06T15:54:02.971654",
     "exception": false,
     "start_time": "2022-02-06T15:54:02.938390",
     "status": "completed"
    },
    "tags": []
   },
   "outputs": [],
   "source": [
    "# --- --- --- CV PARAMS --- --- ---\n",
    "folds = 3\n",
    "rstate = 123\n",
    "\n",
    "# * K Fold ---\n",
    "skf = KFold(n_splits=folds, shuffle=True, random_state=rstate)"
   ]
  },
  {
   "cell_type": "code",
   "execution_count": 19,
   "id": "77fa33b4-9378-4a0c-9b00-b5277aa25d4c",
   "metadata": {
    "execution": {
     "iopub.execute_input": "2022-02-06T15:54:03.032090Z",
     "iopub.status.busy": "2022-02-06T15:54:03.031756Z",
     "iopub.status.idle": "2022-02-06T15:54:03.033209Z",
     "shell.execute_reply": "2022-02-06T15:54:03.032938Z"
    },
    "papermill": {
     "duration": 0.033443,
     "end_time": "2022-02-06T15:54:03.033297",
     "exception": false,
     "start_time": "2022-02-06T15:54:02.999854",
     "status": "completed"
    },
    "tags": []
   },
   "outputs": [],
   "source": [
    "# --- --- --- XGB HYPER PARAMS --- --- ---\n",
    "# * Grid for xgb ---\n",
    "xgb_params = {\n",
    "    \"min_child_weight\": [1, 5, 10],\n",
    "    \"gamma\": [0.001, 0.02, 0.04, 0.08, 0.1, 0.5],\n",
    "    \"subsample\": [0.6, 0.8, 1.0],\n",
    "    \"colsample_bytree\": [0.6, 0.8, 1.0],\n",
    "    \"max_depth\": [1, 2, 4, 5],\n",
    "    \"lambda\": [0, 0.01, 0.02, 0.5, 1],  # no much pbs of overfting\n",
    "}\n",
    "objective = \"reg:squaredlogerror\"  # metric RMSLE\n",
    "objective = \"reg:squarederror\"  # RMSLE STUCKED ...\n",
    "metric = \"mae\"\n",
    "rmsle = rmsle_scorer()"
   ]
  },
  {
   "cell_type": "code",
   "execution_count": 20,
   "id": "41b98e16-0c9a-4fae-9eab-2eb1281c43ba",
   "metadata": {
    "execution": {
     "iopub.execute_input": "2022-02-06T15:54:03.118717Z",
     "iopub.status.busy": "2022-02-06T15:54:03.117982Z",
     "iopub.status.idle": "2022-02-06T15:54:03.121001Z",
     "shell.execute_reply": "2022-02-06T15:54:03.120404Z"
    },
    "papermill": {
     "duration": 0.056539,
     "end_time": "2022-02-06T15:54:03.121181",
     "exception": false,
     "start_time": "2022-02-06T15:54:03.064642",
     "status": "completed"
    },
    "tags": []
   },
   "outputs": [
    {
     "name": "stdout",
     "output_type": "stream",
     "text": [
      "RF Original Number of combinations : 5474\n",
      "RF Number of correct combinations : 912\n"
     ]
    }
   ],
   "source": [
    "# --- --- --- RANDOM FOREST HYPER PARAMS --- --- ---\n",
    "max_depth_val = 18\n",
    "max_depth = np.arange(1, max_depth_val, 1)\n",
    "max_leaf_nodes = np.arange(\n",
    "    2, max_depth_val * max_depth_val, 1\n",
    ")  # si on ajoute un max_depth x il faut au plus accepter x*x feuilles...\n",
    "\n",
    "params_combinations = list(product(max_depth, max_leaf_nodes))\n",
    "print(\"RF Original Number of combinations : %s\" % len(params_combinations))\n",
    "\n",
    "# REMOVE ILOGIC COMBINATIONS cf.TP2 ------\n",
    "correct_params = []\n",
    "incorrect_params = []\n",
    "for depth, leaves in params_combinations:\n",
    "    max_feuilles = depth * depth\n",
    "    if leaves > max_feuilles or leaves < np.round(0.5 * max_feuilles):  # critères\n",
    "        incorrect_params.append((depth, leaves))\n",
    "    else:\n",
    "        correct_params.append((depth, leaves))\n",
    "\n",
    "rf_params = []\n",
    "for depth, leaves in correct_params:\n",
    "    grille = {\n",
    "        \"max_depth\": [depth],  # wrap in one list element\n",
    "        \"max_leaf_nodes\": [leaves],\n",
    "    }\n",
    "    rf_params.append(grille)\n",
    "\n",
    "print(\"RF Number of correct combinations : %s\" % len(correct_params))"
   ]
  },
  {
   "cell_type": "code",
   "execution_count": 21,
   "id": "ee02bc68-6f18-4bca-8eee-62c2a2debd92",
   "metadata": {
    "execution": {
     "iopub.execute_input": "2022-02-06T15:54:03.185420Z",
     "iopub.status.busy": "2022-02-06T15:54:03.185071Z",
     "iopub.status.idle": "2022-02-06T15:54:03.186474Z",
     "shell.execute_reply": "2022-02-06T15:54:03.186726Z"
    },
    "papermill": {
     "duration": 0.033485,
     "end_time": "2022-02-06T15:54:03.186841",
     "exception": false,
     "start_time": "2022-02-06T15:54:03.153356",
     "status": "completed"
    },
    "tags": []
   },
   "outputs": [],
   "source": [
    "# --- --- --- SVM HYPER PARAMS --- --- ---\n",
    "\n",
    "# possibilities ---\n",
    "Cs = np.linspace(0.5, 40, 7)\n",
    "KERNELS = [\"linear\", \"poly\", \"rbf\", \"sigmoid\"]\n",
    "# grid ---\n",
    "svm_params = {\"C\": Cs, \"kernel\": KERNELS}"
   ]
  },
  {
   "cell_type": "code",
   "execution_count": 22,
   "id": "bd1466d7-326b-453a-8e2d-54d7e32545ac",
   "metadata": {
    "execution": {
     "iopub.execute_input": "2022-02-06T15:54:03.251190Z",
     "iopub.status.busy": "2022-02-06T15:54:03.250760Z",
     "iopub.status.idle": "2022-02-06T15:54:03.252614Z",
     "shell.execute_reply": "2022-02-06T15:54:03.252298Z"
    },
    "papermill": {
     "duration": 0.03609,
     "end_time": "2022-02-06T15:54:03.252706",
     "exception": false,
     "start_time": "2022-02-06T15:54:03.216616",
     "status": "completed"
    },
    "tags": []
   },
   "outputs": [],
   "source": [
    "# --- --- --- MLP HYPER PARAMS --- --- ---\n",
    "\n",
    "mlp_params = {\n",
    "    \"hidden_layer_sizes\": [(50, 50, 50), (50, 100, 50), (100,)],\n",
    "    \"activation\": [\"tanh\", \"relu\"],\n",
    "    \"solver\": [\"sgd\", \"adam\"],\n",
    "    \"alpha\": [0.0001, 0.05],\n",
    "    \"learning_rate\": [\"constant\", \"adaptive\"],\n",
    "}"
   ]
  },
  {
   "cell_type": "markdown",
   "id": "fcc8463b-ca71-45ac-a2e7-3df3ae727757",
   "metadata": {
    "papermill": {
     "duration": 0.02838,
     "end_time": "2022-02-06T15:54:03.309931",
     "exception": false,
     "start_time": "2022-02-06T15:54:03.281551",
     "status": "completed"
    },
    "tags": []
   },
   "source": [
    "## IMPORT DATA "
   ]
  },
  {
   "cell_type": "markdown",
   "id": "f915346b-977c-433d-8ab2-a5a234fd3555",
   "metadata": {
    "papermill": {
     "duration": 0.029081,
     "end_time": "2022-02-06T15:54:03.368197",
     "exception": false,
     "start_time": "2022-02-06T15:54:03.339116",
     "status": "completed"
    },
    "tags": []
   },
   "source": [
    "### House "
   ]
  },
  {
   "cell_type": "code",
   "execution_count": 23,
   "id": "9efbacad-e9ef-4dbd-97e9-a357ee536079",
   "metadata": {
    "execution": {
     "iopub.execute_input": "2022-02-06T15:54:03.430646Z",
     "iopub.status.busy": "2022-02-06T15:54:03.430215Z",
     "iopub.status.idle": "2022-02-06T15:54:04.334943Z",
     "shell.execute_reply": "2022-02-06T15:54:04.334181Z"
    },
    "papermill": {
     "duration": 0.938362,
     "end_time": "2022-02-06T15:54:04.335145",
     "exception": false,
     "start_time": "2022-02-06T15:54:03.396783",
     "status": "completed"
    },
    "tags": []
   },
   "outputs": [
    {
     "name": "stdout",
     "output_type": "stream",
     "text": [
      "--- Column Transformation. Scaling:True , OneHotEncoder : True  ---\n",
      "CPU times: user 55.4 ms, sys: 43.7 ms, total: 99.1 ms\n",
      "Wall time: 901 ms\n"
     ]
    }
   ],
   "source": [
    "%%time\n",
    "# --- --- --- DATA --- --- ---\n",
    "# * Load data ---\n",
    "data = pd.read_csv(eval(training_data_path), sep=\",\")\n",
    "\n",
    "(\n",
    "    data_subset,\n",
    "    y,\n",
    "    all_cols,\n",
    "    numeric_cols,\n",
    "    numeric_cols_index,\n",
    "    categorical_cols,\n",
    "    categorical_cols_index,\n",
    ") = preprocess_data_as_model(data, dependent, categorical)\n",
    "cols_beginning = data_subset.columns.values\n",
    "\n",
    "# DEFINE TRANSFORMATION BASED ON OPTIONS ------\n",
    "# Transformations ---\n",
    "transformations = []\n",
    "if categorical:\n",
    "    # One hot encoder ---\n",
    "    encoder = OneHotEncoder(handle_unknown=\"ignore\", sparse=False)\n",
    "    transformer = (\"cat_cols\", encoder, categorical_cols_index)  # on cat cols\n",
    "    transformations.append(transformer)\n",
    "\n",
    "else:\n",
    "    # Training cols ---\n",
    "    data_subset = data_subset.select_dtypes([\"number\"])  # drop categorical\n",
    "    all_cols = cols_beginning[numeric_cols_index]  # only numerical cols ....\n",
    "    numeric_cols_index = (\n",
    "        data_subset.columns.values != None\n",
    "    )  # apply transformation to all columns\n",
    "\n",
    "\n",
    "# * Optional Scaling ---\n",
    "if toScale:\n",
    "    # unit variance scaler ---\n",
    "    scaler = StandardScaler()\n",
    "    transformer = (\"num_cols\", scaler, numeric_cols_index)  # on num cols\n",
    "    transformations.append(transformer)\n",
    "\n",
    "# * TRAIN VAL TEST SPLIT ---\n",
    "# train test\n",
    "X_train, XHold_test, y_train, yHold_test = train_test_split(\n",
    "    data_subset.values, y, test_size=0.15, random_state=rstate\n",
    ")\n",
    "# train validation\n",
    "X_train, X_validation, y_train, y_validation = train_test_split(\n",
    "    X_train, y_train, test_size=0.15, random_state=rstate\n",
    ")\n",
    "\n",
    "#\n",
    "\n",
    "if toScale or categorical:\n",
    "    print(\n",
    "        f\"--- Column Transformation. Scaling:{toScale} , OneHotEncoder : {categorical}  ---\"\n",
    "    )\n",
    "    Preprocess = ColumnTransformer(\n",
    "        transformations, n_jobs=cpus_to_use, remainder=\"passthrough\"\n",
    "    )\n",
    "    # fit ---\n",
    "    X_train = Preprocess.fit_transform(X_train)\n",
    "    X_validation = Preprocess.transform(X_validation)\n",
    "    XHold_test = Preprocess.transform(XHold_test)\n",
    "\n",
    "    # get names ---\n",
    "    all_cols = Preprocess.get_feature_names_out()\n",
    "\n",
    "    # dump to reuse\n",
    "    scaler_name = f\"scale_dump/ColumnTransformer_{dataset}_{init_time}.pkl\"\n",
    "    dump(Preprocess, open(scaler_name, \"wb\"))\n",
    "\n",
    "# TRAIN VAL TEST SPLIT ------\n",
    "data_splits = [\n",
    "    (X_train, y_train),\n",
    "    (X_validation, y_validation),\n",
    "    (XHold_test, yHold_test),\n",
    "]"
   ]
  },
  {
   "cell_type": "code",
   "execution_count": 24,
   "id": "be860d2a-1571-4c8f-b5a9-2bd5e978e33e",
   "metadata": {
    "execution": {
     "iopub.execute_input": "2022-02-06T15:54:04.403494Z",
     "iopub.status.busy": "2022-02-06T15:54:04.403104Z",
     "iopub.status.idle": "2022-02-06T15:54:04.404623Z",
     "shell.execute_reply": "2022-02-06T15:54:04.404351Z"
    },
    "papermill": {
     "duration": 0.03539,
     "end_time": "2022-02-06T15:54:04.404714",
     "exception": false,
     "start_time": "2022-02-06T15:54:04.369324",
     "status": "completed"
    },
    "tags": []
   },
   "outputs": [],
   "source": [
    "grid_search_kwargs = dict(\n",
    "    scoring=rmsle, n_jobs=cpus_to_use, refit=True, cv=skf, verbose=1\n",
    ")"
   ]
  },
  {
   "cell_type": "markdown",
   "id": "ed03a8c9-7c6d-4674-a2bd-4be6f7317e27",
   "metadata": {
    "papermill": {
     "duration": 0.031275,
     "end_time": "2022-02-06T15:54:04.465039",
     "exception": false,
     "start_time": "2022-02-06T15:54:04.433764",
     "status": "completed"
    },
    "tags": []
   },
   "source": [
    "## XGBOOST "
   ]
  },
  {
   "cell_type": "code",
   "execution_count": 25,
   "id": "b31cdf5c-e1e8-4709-98c5-7d96bd7f8a17",
   "metadata": {
    "execution": {
     "iopub.execute_input": "2022-02-06T15:54:04.530163Z",
     "iopub.status.busy": "2022-02-06T15:54:04.529688Z",
     "iopub.status.idle": "2022-02-06T15:54:04.531075Z",
     "shell.execute_reply": "2022-02-06T15:54:04.530798Z"
    },
    "papermill": {
     "duration": 0.0363,
     "end_time": "2022-02-06T15:54:04.531164",
     "exception": false,
     "start_time": "2022-02-06T15:54:04.494864",
     "status": "completed"
    },
    "tags": []
   },
   "outputs": [],
   "source": [
    "saver_params = dict(\n",
    "    dataset=dataset,\n",
    "    model_name=\"xgb\",\n",
    "    objective=objective,\n",
    "    toScale=toScale,\n",
    "    init_time=init_time,\n",
    "    columns_used=all_cols,\n",
    "    Preprocess=Preprocess,\n",
    "    preprocessing_path=scaler_name,\n",
    "    categorical=categorical,\n",
    ")\n",
    "\n",
    "saver_grid_params = {}\n",
    "for i in [\n",
    "    \"model_name\",\n",
    "    \"dataset\",\n",
    "    \"init_time\",\n",
    "    \"preprocessing_path\",\n",
    "    \"toScale\",\n",
    "    \"categorical\",\n",
    "]:\n",
    "    saver_grid_params[i] = saver_params.get(i)\n",
    "\n",
    "params = {\n",
    "    \"objective\": objective,\n",
    "    \"learning_rate\": 0.02,\n",
    "    \"n_estimators\": 700,\n",
    "    \"n_jobs\": 1,  # if not defaults to -1...\n",
    "}"
   ]
  },
  {
   "cell_type": "markdown",
   "id": "4faa5f84-83b9-4c90-892c-f10422123b66",
   "metadata": {
    "jp-MarkdownHeadingCollapsed": true,
    "papermill": {
     "duration": 0.029249,
     "end_time": "2022-02-06T15:54:04.590260",
     "exception": false,
     "start_time": "2022-02-06T15:54:04.561011",
     "status": "completed"
    },
    "tags": []
   },
   "source": [
    "### BASIC MODEL (NO HPT)"
   ]
  },
  {
   "cell_type": "code",
   "execution_count": 26,
   "id": "501cb85c-62ca-4c35-a8f1-a931c38caa35",
   "metadata": {
    "execution": {
     "iopub.execute_input": "2022-02-06T15:54:04.668928Z",
     "iopub.status.busy": "2022-02-06T15:54:04.665239Z",
     "iopub.status.idle": "2022-02-06T15:54:10.276651Z",
     "shell.execute_reply": "2022-02-06T15:54:10.277201Z"
    },
    "papermill": {
     "duration": 5.657019,
     "end_time": "2022-02-06T15:54:10.277419",
     "exception": false,
     "start_time": "2022-02-06T15:54:04.620400",
     "status": "completed"
    },
    "tags": []
   },
   "outputs": [
    {
     "name": "stdout",
     "output_type": "stream",
     "text": [
      "---- BEST SCORES ---\n",
      "               train             val            test       difference\n",
      "rmsle       -0.00141        -0.01715        -0.01405          0.01574\n",
      "rmse  26962071.28822 680274108.03494 873970841.02842 -653312036.74672\n",
      "mae       3835.20401     16359.16402     17525.72464     -12523.96001\n"
     ]
    },
    {
     "data": {
      "text/markdown": [
       "Paramètres du modèle: {'objective': 'reg:squarederror', 'base_score': 0.5, 'booster': 'gbtree', 'colsample_bylevel': 1, 'colsample_bynode': 1, 'colsample_bytree': 1, 'enable_categorical': False, 'gamma': 0, 'gpu_id': -1, 'importance_type': None, 'interaction_constraints': '', 'learning_rate': 0.02, 'max_delta_step': 0, 'max_depth': 6, 'min_child_weight': 1, 'missing': nan, 'monotone_constraints': '()', 'n_estimators': 700, 'n_jobs': 1, 'num_parallel_tree': 1, 'predictor': 'auto', 'random_state': 0, 'reg_alpha': 0, 'reg_lambda': 1, 'scale_pos_weight': 1, 'subsample': 1, 'tree_method': 'exact', 'validate_parameters': 1, 'verbosity': None}"
      ],
      "text/plain": [
       "<IPython.core.display.Markdown object>"
      ]
     },
     "metadata": {},
     "output_type": "display_data"
    },
    {
     "name": "stdout",
     "output_type": "stream",
     "text": [
      "\n",
      "\n",
      "--- Saving model ---\n",
      "--- xgb model saved to model_dump/xgb_house_baseline_reg:squarederror_True_-0.01715_06-02-2022_15:54:01.pkl---\n",
      "CPU times: user 5.6 s, sys: 5.67 ms, total: 5.61 s\n",
      "Wall time: 5.61 s\n"
     ]
    }
   ],
   "source": [
    "%%time\n",
    "# --- --- --- XGBOOST --- --- ---\n",
    "if toFitXGB:\n",
    "    model, kind, best_score = fit_baseline_model(\n",
    "        train_xgb,\n",
    "        data=[(X_train, y_train), (X_validation, y_validation)],\n",
    "        pass_val=True,\n",
    "        params=params,\n",
    "    )\n",
    "\n",
    "    scores_df = get_results(model, data_splits)\n",
    "    # SAVE RESULTS ------\n",
    "    save_model(\n",
    "        model=model, kind=kind, best_score=best_score, scores=scores_df, **saver_params\n",
    "    )\n",
    "    # boost.get_booster().feature_names= important_cols"
   ]
  },
  {
   "cell_type": "markdown",
   "id": "729e4e95-b6e4-4fd5-89e0-f7d05ca2450f",
   "metadata": {
    "jp-MarkdownHeadingCollapsed": true,
    "papermill": {
     "duration": 0.044364,
     "end_time": "2022-02-06T15:54:10.355876",
     "exception": false,
     "start_time": "2022-02-06T15:54:10.311512",
     "status": "completed"
    },
    "tags": []
   },
   "source": [
    "### GRID SEARCH"
   ]
  },
  {
   "cell_type": "code",
   "execution_count": 27,
   "id": "37755148-2fa9-464f-a20d-6c209325bef5",
   "metadata": {
    "execution": {
     "iopub.execute_input": "2022-02-06T15:54:10.429260Z",
     "iopub.status.busy": "2022-02-06T15:54:10.428560Z",
     "iopub.status.idle": "2022-02-06T16:42:37.191232Z",
     "shell.execute_reply": "2022-02-06T16:42:37.191774Z"
    },
    "papermill": {
     "duration": 2906.80474,
     "end_time": "2022-02-06T16:42:37.191989",
     "exception": false,
     "start_time": "2022-02-06T15:54:10.387249",
     "status": "completed"
    },
    "tags": []
   },
   "outputs": [
    {
     "name": "stdout",
     "output_type": "stream",
     "text": [
      "Fitting 3 folds for each of 3240 candidates, totalling 9720 fits\n"
     ]
    },
    {
     "name": "stderr",
     "output_type": "stream",
     "text": [
      "/opt/conda/lib/python3.9/site-packages/xgboost/compat.py:36: FutureWarning: pandas.Int64Index is deprecated and will be removed from pandas in a future version. Use pandas.Index with the appropriate dtype instead.\n",
      "  from pandas import MultiIndex, Int64Index\n",
      "/opt/conda/lib/python3.9/site-packages/xgboost/compat.py:36: FutureWarning: pandas.Int64Index is deprecated and will be removed from pandas in a future version. Use pandas.Index with the appropriate dtype instead.\n",
      "  from pandas import MultiIndex, Int64Index\n",
      "/opt/conda/lib/python3.9/site-packages/xgboost/compat.py:36: FutureWarning: pandas.Int64Index is deprecated and will be removed from pandas in a future version. Use pandas.Index with the appropriate dtype instead.\n",
      "  from pandas import MultiIndex, Int64Index\n",
      "/opt/conda/lib/python3.9/site-packages/xgboost/compat.py:36: FutureWarning: pandas.Int64Index is deprecated and will be removed from pandas in a future version. Use pandas.Index with the appropriate dtype instead.\n",
      "  from pandas import MultiIndex, Int64Index\n",
      "/opt/conda/lib/python3.9/site-packages/xgboost/compat.py:36: FutureWarning: pandas.Int64Index is deprecated and will be removed from pandas in a future version. Use pandas.Index with the appropriate dtype instead.\n",
      "  from pandas import MultiIndex, Int64Index\n",
      "/opt/conda/lib/python3.9/site-packages/xgboost/compat.py:36: FutureWarning: pandas.Int64Index is deprecated and will be removed from pandas in a future version. Use pandas.Index with the appropriate dtype instead.\n",
      "  from pandas import MultiIndex, Int64Index\n",
      "/opt/conda/lib/python3.9/site-packages/xgboost/compat.py:36: FutureWarning: pandas.Int64Index is deprecated and will be removed from pandas in a future version. Use pandas.Index with the appropriate dtype instead.\n",
      "  from pandas import MultiIndex, Int64Index\n",
      "/opt/conda/lib/python3.9/site-packages/xgboost/compat.py:36: FutureWarning: pandas.Int64Index is deprecated and will be removed from pandas in a future version. Use pandas.Index with the appropriate dtype instead.\n",
      "  from pandas import MultiIndex, Int64Index\n",
      "/opt/conda/lib/python3.9/site-packages/xgboost/compat.py:36: FutureWarning: pandas.Int64Index is deprecated and will be removed from pandas in a future version. Use pandas.Index with the appropriate dtype instead.\n",
      "  from pandas import MultiIndex, Int64Index\n"
     ]
    },
    {
     "data": {
      "text/markdown": [
       "Le meilleur score obtenu par notre grid search (à savoir, le score est le RMSLE): -0.0180714469665423"
      ],
      "text/plain": [
       "<IPython.core.display.Markdown object>"
      ]
     },
     "metadata": {},
     "output_type": "display_data"
    },
    {
     "data": {
      "text/markdown": [
       "Le meilleurs paramètres: {'colsample_bytree': 0.8, 'gamma': 0.001, 'lambda': 1, 'max_depth': 4, 'min_child_weight': 1, 'subsample': 0.6}"
      ],
      "text/plain": [
       "<IPython.core.display.Markdown object>"
      ]
     },
     "metadata": {},
     "output_type": "display_data"
    },
    {
     "name": "stdout",
     "output_type": "stream",
     "text": [
      "Setting best parameters: {'objective': 'reg:squarederror', 'base_score': 0.5, 'booster': 'gbtree', 'colsample_bylevel': 1, 'colsample_bynode': 1, 'colsample_bytree': 0.8, 'gamma': 0.001, 'gpu_id': -1, 'interaction_constraints': '', 'learning_rate': 0.02, 'max_delta_step': 0, 'max_depth': 4, 'min_child_weight': 1, 'monotone_constraints': '()', 'n_jobs': 1, 'num_parallel_tree': 1, 'predictor': 'auto', 'random_state': 0, 'reg_alpha': 0, 'reg_lambda': 1, 'scale_pos_weight': 1, 'subsample': 0.6, 'tree_method': 'exact', 'validate_parameters': 1, 'verbosity': None, 'lambda': 1}\n",
      "---- BEST SCORES ---\n",
      "                train             val            test       difference\n",
      "rmsle        -0.00535        -0.01548        -0.01085          0.01013\n",
      "rmse  114397395.63152 638789235.11258 673519181.89693 -524391839.48106\n",
      "mae        8032.60512     15923.68687     15278.65220      -7891.08176\n"
     ]
    },
    {
     "data": {
      "text/markdown": [
       "Paramètres du modèle: {'objective': 'reg:squarederror', 'base_score': 0.5, 'booster': 'gbtree', 'colsample_bylevel': 1, 'colsample_bynode': 1, 'colsample_bytree': 0.8, 'enable_categorical': False, 'gamma': 0.001, 'gpu_id': -1, 'importance_type': None, 'interaction_constraints': '', 'learning_rate': 0.02, 'max_delta_step': 0, 'max_depth': 4, 'min_child_weight': 1, 'missing': nan, 'monotone_constraints': '()', 'n_estimators': 700, 'n_jobs': 1, 'num_parallel_tree': 1, 'predictor': 'auto', 'random_state': 0, 'reg_alpha': 0, 'reg_lambda': 1, 'scale_pos_weight': 1, 'subsample': 0.6, 'tree_method': 'exact', 'validate_parameters': 1, 'verbosity': None, 'lambda': 1}"
      ],
      "text/plain": [
       "<IPython.core.display.Markdown object>"
      ]
     },
     "metadata": {},
     "output_type": "display_data"
    },
    {
     "name": "stdout",
     "output_type": "stream",
     "text": [
      "\n",
      "\n",
      "--- Saving model ---\n",
      "--- xgb model saved to model_dump/xgb_house_grid_reg:squarederror_True_-0.01715_06-02-2022_15:54:01.pkl---\n",
      "--- Grid search results saved to grid_search/Grid_xgb_house_06-02-2022_15:54:01.csv---\n",
      "CPU times: user 24.3 s, sys: 2.45 s, total: 26.8 s\n",
      "Wall time: 48min 26s\n"
     ]
    }
   ],
   "source": [
    "%%time\n",
    "# --- --- --- XGBOOST GRID SEARCH --- --- ---\n",
    "if toFitXGB:\n",
    "    kind = \"grid\"\n",
    "\n",
    "    search = fit_grid_model(\n",
    "        train_xgb,\n",
    "        data=[(X_train, y_train), (X_validation, y_validation)],\n",
    "        grid_params=xgb_params,\n",
    "        grid_search_kwargs=grid_search_kwargs,\n",
    "        pass_val=True,\n",
    "        params=params,\n",
    "        verbose=True,\n",
    "    )\n",
    "\n",
    "    # REFIT TO GET TRAINING ERROR AT EACH STEP ------\n",
    "\n",
    "    model = refit_with_params(\n",
    "        train_xgb,\n",
    "        search.best_estimator_.get_xgb_params(),\n",
    "        data=[(X_train, y_train), (X_validation, y_validation)],\n",
    "        pass_val=True,\n",
    "    )\n",
    "    # Score model ---\n",
    "    scores_df = get_results(model, data_splits)\n",
    "    # Save model ---\n",
    "    model_path = save_model(\n",
    "        model=model, kind=kind, best_score=best_score, scores=scores_df, **saver_params\n",
    "    )\n",
    "    # Save grid search results ---\n",
    "    save_grid(model_path=model_path, search=search, **saver_grid_params)\n",
    "    # boost.get_booster().feature_names= important_cols"
   ]
  },
  {
   "cell_type": "markdown",
   "id": "01c0b82c-7cb2-4898-baab-f916b1766e6d",
   "metadata": {
    "papermill": {
     "duration": 0.03387,
     "end_time": "2022-02-06T16:42:37.265450",
     "exception": false,
     "start_time": "2022-02-06T16:42:37.231580",
     "status": "completed"
    },
    "tags": []
   },
   "source": [
    "### Refit on feature selection "
   ]
  },
  {
   "cell_type": "code",
   "execution_count": 1,
   "id": "c9486b96-a180-47ca-8e50-54bfae922f10",
   "metadata": {
    "papermill": {
     "duration": 2872.636663,
     "end_time": "2022-02-06T17:30:29.936485",
     "exception": false,
     "start_time": "2022-02-06T16:42:37.299822",
     "status": "completed"
    },
    "tags": []
   },
   "outputs": [
    {
     "ename": "NameError",
     "evalue": "name 'refit_with_selection' is not defined",
     "output_type": "error",
     "traceback": [
      "\u001b[0;31m---------------------------------------------------------------------------\u001b[0m",
      "\u001b[0;31mNameError\u001b[0m                                 Traceback (most recent call last)",
      "Input \u001b[0;32mIn [1]\u001b[0m, in \u001b[0;36m<module>\u001b[0;34m\u001b[0m\n\u001b[0;32m----> 1\u001b[0m model, important_cols \u001b[38;5;241m=\u001b[39m \u001b[43mrefit_with_selection\u001b[49m(\n\u001b[1;32m      2\u001b[0m     train_xgb,\n\u001b[1;32m      3\u001b[0m     [(X_train, y_train), (X_validation, y_validation)],\n\u001b[1;32m      4\u001b[0m     model_with_importances\u001b[38;5;241m=\u001b[39mmodel,\n\u001b[1;32m      5\u001b[0m     all_cols\u001b[38;5;241m=\u001b[39mall_cols,\n\u001b[1;32m      6\u001b[0m     grid_params\u001b[38;5;241m=\u001b[39mxgb_params,\n\u001b[1;32m      7\u001b[0m     grid_search_kwargs\u001b[38;5;241m=\u001b[39mgrid_search_kwargs,\n\u001b[1;32m      8\u001b[0m     pass_val\u001b[38;5;241m=\u001b[39m\u001b[38;5;28;01mTrue\u001b[39;00m,\n\u001b[1;32m      9\u001b[0m     params\u001b[38;5;241m=\u001b[39mparams,\n\u001b[1;32m     10\u001b[0m     best_params\u001b[38;5;241m=\u001b[39msearch\u001b[38;5;241m.\u001b[39mbest_estimator_\u001b[38;5;241m.\u001b[39mget_xgb_params(),\n\u001b[1;32m     11\u001b[0m     th\u001b[38;5;241m=\u001b[39m\u001b[38;5;241m0.001\u001b[39m,\n\u001b[1;32m     12\u001b[0m     verbose\u001b[38;5;241m=\u001b[39m\u001b[38;5;28;01mFalse\u001b[39;00m,\n\u001b[1;32m     13\u001b[0m )\n\u001b[1;32m     15\u001b[0m model\u001b[38;5;241m.\u001b[39mget_booster()\u001b[38;5;241m.\u001b[39mfeature_names \u001b[38;5;241m=\u001b[39m important_cols\n\u001b[1;32m     17\u001b[0m scores_df \u001b[38;5;241m=\u001b[39m get_results(model, data_splits)\n",
      "\u001b[0;31mNameError\u001b[0m: name 'refit_with_selection' is not defined"
     ]
    }
   ],
   "source": [
    "model, important_cols = refit_with_selection(\n",
    "    train_xgb,\n",
    "    [(X_train, y_train), (X_validation, y_validation)],\n",
    "    model_with_importances=model,\n",
    "    all_cols=all_cols,\n",
    "    grid_params=xgb_params,\n",
    "    grid_search_kwargs=grid_search_kwargs,\n",
    "    pass_val=True,\n",
    "    params=params,\n",
    "    best_params=search.best_estimator_.get_xgb_params(),\n",
    "    th=0.001,\n",
    "    verbose=False,\n",
    ")\n",
    "\n",
    "model.get_booster().feature_names = important_cols\n",
    "\n",
    "scores_df = get_results(model, data_splits)\n",
    "# Save model ---\n",
    "kind = \"refit\"\n",
    "model_path = save_model(\n",
    "    model=model, kind=kind, best_score=best_score, scores=scores_df, **saver_params\n",
    ")\n",
    "# Save grid search results ---\n",
    "save_grid(model_path=model_path, search=search, **saver_grid_params)"
   ]
  },
  {
   "cell_type": "markdown",
   "id": "b92dc3d7-6238-447e-81e5-44d0863987f7",
   "metadata": {
    "papermill": {
     "duration": 0.03385,
     "end_time": "2022-02-06T17:30:30.010076",
     "exception": false,
     "start_time": "2022-02-06T17:30:29.976226",
     "status": "completed"
    },
    "tags": []
   },
   "source": [
    "## RF "
   ]
  },
  {
   "cell_type": "code",
   "execution_count": 29,
   "id": "3c4c47ec-7d1d-40be-ba9d-00db2bf58dc2",
   "metadata": {
    "execution": {
     "iopub.execute_input": "2022-02-06T17:30:30.085903Z",
     "iopub.status.busy": "2022-02-06T17:30:30.085378Z",
     "iopub.status.idle": "2022-02-06T17:30:30.555861Z",
     "shell.execute_reply": "2022-02-06T17:30:30.555418Z"
    },
    "papermill": {
     "duration": 0.509968,
     "end_time": "2022-02-06T17:30:30.555981",
     "exception": false,
     "start_time": "2022-02-06T17:30:30.046013",
     "status": "completed"
    },
    "tags": []
   },
   "outputs": [
    {
     "name": "stdout",
     "output_type": "stream",
     "text": [
      "--- Column Transformation. Scaling:True , OneHotEncoder : True, Imputer : knnImputer  ---\n"
     ]
    }
   ],
   "source": [
    "# * Split for learning ---\n",
    "# train test\n",
    "if toFitRF or toFitMLP or toFitSVM:\n",
    "\n",
    "    X_train, XHold_test, y_train, yHold_test = train_test_split(\n",
    "        data_subset.values, y, test_size=0.15, random_state=rstate\n",
    "    )\n",
    "    # train validation\n",
    "    X_train, X_validation, y_train, y_validation = train_test_split(\n",
    "        X_train, y_train, test_size=0.15, random_state=rstate\n",
    "    )\n",
    "\n",
    "    knnI = KNNImputer()\n",
    "    #\n",
    "    if toScale or categorical:\n",
    "        print(\n",
    "            f\"--- Column Transformation. Scaling:{toScale} , OneHotEncoder : {categorical}, Imputer : knnImputer  ---\"\n",
    "        )\n",
    "        Preprocess = ColumnTransformer(\n",
    "            transformations, n_jobs=cpus_to_use, remainder=\"passthrough\"\n",
    "        )\n",
    "\n",
    "        Preprocess = Pipeline([(\"col_trans\", Preprocess), (\"imputer\", knnI)])\n",
    "    else:\n",
    "        Preprocess = Pipeline([(\"imputer\", knnI)])\n",
    "\n",
    "    # fit ---\n",
    "    Preprocess.fit(X_train)\n",
    "    X_train = Preprocess.transform(X_train)\n",
    "    X_validation = Preprocess.transform(X_validation)\n",
    "    XHold_test = Preprocess.transform(XHold_test)\n",
    "\n",
    "    # get names ---\n",
    "    if toScale or categorical:\n",
    "\n",
    "        all_cols = Preprocess[0].get_feature_names_out()\n",
    "\n",
    "    # dump to reuse\n",
    "    preprocessing_name = f\"scale_dump/ColumnTransformer__rf_{init_time}.pkl\"\n",
    "    dump(Preprocess, open(preprocessing_name, \"wb\"))\n",
    "\n",
    "# TRAIN VAL TEST SPLIT ------\n",
    "data_splits = [\n",
    "    (X_train, y_train),\n",
    "    (X_validation, y_validation),\n",
    "    (XHold_test, yHold_test),\n",
    "]"
   ]
  },
  {
   "cell_type": "markdown",
   "id": "d4a48298-3ca5-4168-bc0a-d9fceda01119",
   "metadata": {
    "jp-MarkdownHeadingCollapsed": true,
    "papermill": {
     "duration": 0.035499,
     "end_time": "2022-02-06T17:30:30.653528",
     "exception": false,
     "start_time": "2022-02-06T17:30:30.618029",
     "status": "completed"
    },
    "tags": []
   },
   "source": [
    "### BASIC MODEL (NO HPT)"
   ]
  },
  {
   "cell_type": "code",
   "execution_count": 30,
   "id": "6fa7e26e-bda0-4988-b044-ff6a03618153",
   "metadata": {
    "execution": {
     "iopub.execute_input": "2022-02-06T17:30:30.727923Z",
     "iopub.status.busy": "2022-02-06T17:30:30.727215Z",
     "iopub.status.idle": "2022-02-06T17:30:32.135317Z",
     "shell.execute_reply": "2022-02-06T17:30:32.134687Z"
    },
    "papermill": {
     "duration": 1.446606,
     "end_time": "2022-02-06T17:30:32.135461",
     "exception": false,
     "start_time": "2022-02-06T17:30:30.688855",
     "status": "completed"
    },
    "tags": []
   },
   "outputs": [
    {
     "name": "stdout",
     "output_type": "stream",
     "text": [
      "---- BEST SCORES ---\n",
      "                train             val            test       difference\n",
      "rmsle        -0.00451        -0.01984        -0.01581          0.01533\n",
      "rmse  166080288.30646 775803946.38967 891110682.44038 -609723658.08321\n",
      "mae        6873.51919     17854.86888     18023.69425     -10981.34968\n"
     ]
    },
    {
     "data": {
      "text/markdown": [
       "Paramètres du modèle: {'bootstrap': True, 'ccp_alpha': 0.0, 'criterion': 'squared_error', 'max_depth': None, 'max_features': 'auto', 'max_leaf_nodes': None, 'max_samples': None, 'min_impurity_decrease': 0.0, 'min_samples_leaf': 1, 'min_samples_split': 2, 'min_weight_fraction_leaf': 0.0, 'n_estimators': 100, 'n_jobs': None, 'oob_score': False, 'random_state': None, 'verbose': 0, 'warm_start': False}"
      ],
      "text/plain": [
       "<IPython.core.display.Markdown object>"
      ]
     },
     "metadata": {},
     "output_type": "display_data"
    },
    {
     "name": "stdout",
     "output_type": "stream",
     "text": [
      "\n",
      "\n",
      "--- Saving model ---\n",
      "--- rf model saved to model_dump/rf_house_baseline_squared_error_True_-0.01984_06-02-2022_15:54:01.pkl---\n",
      "CPU times: user 1.39 s, sys: 13 ms, total: 1.41 s\n",
      "Wall time: 1.41 s\n"
     ]
    }
   ],
   "source": [
    "%%time\n",
    "\n",
    "saver_params = dict(\n",
    "    dataset=dataset,\n",
    "    model_name=\"rf\",\n",
    "    objective=\"squared_error\",\n",
    "    toScale=toScale,\n",
    "    init_time=init_time,\n",
    "    columns_used=all_cols,\n",
    "    Preprocess=Preprocess,\n",
    "    preprocessing_path=scaler_name,\n",
    "    categorical=categorical,\n",
    ")\n",
    "# --- --- --- BASELINE RF --- --- ---\n",
    "if toFitRF:\n",
    "    model, kind, best_score = fit_baseline_model(\n",
    "        train_rf,\n",
    "        data=[(X_train, y_train), (X_validation, y_validation)],\n",
    "        pass_val=False,\n",
    "        params=None,\n",
    "    )\n",
    "\n",
    "    scores_df = get_results(model, data_splits)\n",
    "    # SAVE RESULTS ------\n",
    "    save_model(\n",
    "        model=model, kind=kind, best_score=best_score, scores=scores_df, **saver_params\n",
    "    )"
   ]
  },
  {
   "cell_type": "markdown",
   "id": "433b924e-9efc-4b18-b162-3b48458cd99b",
   "metadata": {
    "jp-MarkdownHeadingCollapsed": true,
    "papermill": {
     "duration": 0.035854,
     "end_time": "2022-02-06T17:30:32.211896",
     "exception": false,
     "start_time": "2022-02-06T17:30:32.176042",
     "status": "completed"
    },
    "tags": []
   },
   "source": [
    "### Grid search"
   ]
  },
  {
   "cell_type": "code",
   "execution_count": 31,
   "id": "b5305496-c1c7-4ee3-8428-aed5ea0528f7",
   "metadata": {
    "execution": {
     "iopub.execute_input": "2022-02-06T17:30:32.288835Z",
     "iopub.status.busy": "2022-02-06T17:30:32.288497Z",
     "iopub.status.idle": "2022-02-06T17:35:39.658865Z",
     "shell.execute_reply": "2022-02-06T17:35:39.658290Z"
    },
    "papermill": {
     "duration": 307.411286,
     "end_time": "2022-02-06T17:35:39.659046",
     "exception": false,
     "start_time": "2022-02-06T17:30:32.247760",
     "status": "completed"
    },
    "tags": []
   },
   "outputs": [
    {
     "name": "stdout",
     "output_type": "stream",
     "text": [
      "Fitting 3 folds for each of 912 candidates, totalling 2736 fits\n"
     ]
    },
    {
     "data": {
      "text/markdown": [
       "Le meilleur score obtenu par notre grid search (à savoir, le score est le RMSLE): -0.02375901230860873"
      ],
      "text/plain": [
       "<IPython.core.display.Markdown object>"
      ]
     },
     "metadata": {},
     "output_type": "display_data"
    },
    {
     "data": {
      "text/markdown": [
       "Le meilleurs paramètres: {'max_depth': 17, 'max_leaf_nodes': 185}"
      ],
      "text/plain": [
       "<IPython.core.display.Markdown object>"
      ]
     },
     "metadata": {},
     "output_type": "display_data"
    },
    {
     "name": "stdout",
     "output_type": "stream",
     "text": [
      "Setting best parameters: {'max_depth': 17, 'max_leaf_nodes': 185}\n",
      "---- BEST SCORES ---\n",
      "                train             val            test       difference\n",
      "rmsle        -0.00510        -0.02049        -0.01647          0.01539\n",
      "rmse  171015745.19744 803078724.45459 927782230.50872 -632062979.25715\n",
      "mae        7859.59967     18214.29470     18415.54059     -10354.69503\n"
     ]
    },
    {
     "data": {
      "text/markdown": [
       "Paramètres du modèle: {'bootstrap': True, 'ccp_alpha': 0.0, 'criterion': 'squared_error', 'max_depth': 17, 'max_features': 'auto', 'max_leaf_nodes': 185, 'max_samples': None, 'min_impurity_decrease': 0.0, 'min_samples_leaf': 1, 'min_samples_split': 2, 'min_weight_fraction_leaf': 0.0, 'n_estimators': 100, 'n_jobs': None, 'oob_score': False, 'random_state': None, 'verbose': 0, 'warm_start': False}"
      ],
      "text/plain": [
       "<IPython.core.display.Markdown object>"
      ]
     },
     "metadata": {},
     "output_type": "display_data"
    },
    {
     "name": "stdout",
     "output_type": "stream",
     "text": [
      "\n",
      "\n",
      "--- Saving model ---\n",
      "--- rf model saved to model_dump/rf_house_grid_squared_error_True_-0.01984_06-02-2022_15:54:01.pkl---\n",
      "--- Grid search results saved to grid_search/Grid_xgb_house_06-02-2022_15:54:01.csv---\n",
      "CPU times: user 5.76 s, sys: 274 ms, total: 6.03 s\n",
      "Wall time: 5min 7s\n"
     ]
    }
   ],
   "source": [
    "%%time\n",
    "# --- --- --- RF GRID SEARCH --- --- ---\n",
    "if toFitRF:\n",
    "    kind = \"grid\"\n",
    "\n",
    "    search = fit_grid_model(\n",
    "        train_rf,\n",
    "        data=[(X_train, y_train), (X_validation, y_validation)],\n",
    "        grid_params=rf_params,\n",
    "        grid_search_kwargs=grid_search_kwargs,\n",
    "        pass_val=False,\n",
    "        params=None,\n",
    "        verbose=True,\n",
    "    )\n",
    "\n",
    "    # REFIT TO GET TRAINING ERROR AT EACH STEP ------\n",
    "\n",
    "    model = refit_with_params(\n",
    "        train_rf,\n",
    "        search.best_params_,\n",
    "        data=[(X_train, y_train), (X_validation, y_validation)],\n",
    "        pass_val=False,\n",
    "    )\n",
    "    # Score model ---\n",
    "    scores_df = get_results(model, data_splits)\n",
    "    # Save model ---\n",
    "    model_path = save_model(\n",
    "        model=model, kind=kind, best_score=best_score, scores=scores_df, **saver_params\n",
    "    )\n",
    "    # Save grid search results ---\n",
    "    save_grid(model_path=model_path, search=search, **saver_grid_params)\n",
    "    # boost.get_booster().feature_names= important_cols"
   ]
  },
  {
   "cell_type": "markdown",
   "id": "5de5fa8a-f551-4a9e-bfe3-18270ce751e8",
   "metadata": {
    "jp-MarkdownHeadingCollapsed": true,
    "papermill": {
     "duration": 0.038811,
     "end_time": "2022-02-06T17:35:39.738054",
     "exception": false,
     "start_time": "2022-02-06T17:35:39.699243",
     "status": "completed"
    },
    "tags": []
   },
   "source": [
    "### REFIT on subsample of cols"
   ]
  },
  {
   "cell_type": "code",
   "execution_count": 32,
   "id": "864224a8-aa00-41d0-af17-605eefc1fcf4",
   "metadata": {
    "execution": {
     "iopub.execute_input": "2022-02-06T17:35:39.824043Z",
     "iopub.status.busy": "2022-02-06T17:35:39.823593Z",
     "iopub.status.idle": "2022-02-06T17:40:45.669585Z",
     "shell.execute_reply": "2022-02-06T17:40:45.669021Z"
    },
    "papermill": {
     "duration": 305.892895,
     "end_time": "2022-02-06T17:40:45.669766",
     "exception": false,
     "start_time": "2022-02-06T17:35:39.776871",
     "status": "completed"
    },
    "tags": []
   },
   "outputs": [
    {
     "name": "stdout",
     "output_type": "stream",
     "text": [
      "Fitting 3 folds for each of 912 candidates, totalling 2736 fits\n",
      "Setting best parameters: {'max_depth': 17, 'max_leaf_nodes': 185}\n",
      "---- BEST SCORES ---\n",
      "                train             val            test       difference\n",
      "rmsle        -0.00509        -0.02120        -0.01627          0.01612\n",
      "rmse  165062865.62750 795374645.22130 897738551.51453 -630311779.59380\n",
      "mae        7880.94119     18568.97906     18103.44264     -10688.03787\n"
     ]
    },
    {
     "data": {
      "text/markdown": [
       "Paramètres du modèle: {'bootstrap': True, 'ccp_alpha': 0.0, 'criterion': 'squared_error', 'max_depth': 17, 'max_features': 'auto', 'max_leaf_nodes': 185, 'max_samples': None, 'min_impurity_decrease': 0.0, 'min_samples_leaf': 1, 'min_samples_split': 2, 'min_weight_fraction_leaf': 0.0, 'n_estimators': 100, 'n_jobs': None, 'oob_score': False, 'random_state': None, 'verbose': 0, 'warm_start': False}"
      ],
      "text/plain": [
       "<IPython.core.display.Markdown object>"
      ]
     },
     "metadata": {},
     "output_type": "display_data"
    },
    {
     "name": "stdout",
     "output_type": "stream",
     "text": [
      "\n",
      "\n",
      "--- Saving model ---\n",
      "--- rf model saved to model_dump/rf_house_refit_squared_error_True_-0.01984_06-02-2022_15:54:01.pkl---\n",
      "--- Grid search results saved to grid_search/Grid_xgb_house_06-02-2022_15:54:01.csv---\n"
     ]
    }
   ],
   "source": [
    "if toFitRF:\n",
    "    model, important_cols = refit_with_selection(\n",
    "        train_rf,\n",
    "        [(X_train, y_train), (X_validation, y_validation)],\n",
    "        model_with_importances=model,\n",
    "        all_cols=all_cols,\n",
    "        grid_params=rf_params,\n",
    "        grid_search_kwargs=grid_search_kwargs,\n",
    "        pass_val=False,\n",
    "        params=None,\n",
    "        best_params=search.best_params_,\n",
    "        th=0.001,\n",
    "        verbose=False,\n",
    "    )\n",
    "\n",
    "    scores_df = get_results(model, data_splits)\n",
    "    # Save model ---\n",
    "    kind = \"refit\"\n",
    "    model_path = save_model(\n",
    "        model=model, kind=kind, best_score=best_score, scores=scores_df, **saver_params\n",
    "    )\n",
    "    # Save grid search results ---\n",
    "    save_grid(model_path=model_path, search=search, **saver_grid_params)"
   ]
  },
  {
   "cell_type": "markdown",
   "id": "5064110c-cb60-4d11-bd26-af84038d9aba",
   "metadata": {
    "papermill": {
     "duration": 0.039321,
     "end_time": "2022-02-06T17:40:45.752758",
     "exception": false,
     "start_time": "2022-02-06T17:40:45.713437",
     "status": "completed"
    },
    "tags": []
   },
   "source": [
    "## SVM "
   ]
  },
  {
   "cell_type": "markdown",
   "id": "db58ca93-29a5-4e9a-88d0-732c8a9b8d95",
   "metadata": {
    "jp-MarkdownHeadingCollapsed": true,
    "papermill": {
     "duration": 0.038769,
     "end_time": "2022-02-06T17:40:45.831186",
     "exception": false,
     "start_time": "2022-02-06T17:40:45.792417",
     "status": "completed"
    },
    "tags": []
   },
   "source": [
    "### BASELINE SVM "
   ]
  },
  {
   "cell_type": "code",
   "execution_count": 33,
   "id": "1d7ebe1e-12b5-4dd8-aec0-49a892bcdefb",
   "metadata": {
    "execution": {
     "iopub.execute_input": "2022-02-06T17:40:45.914780Z",
     "iopub.status.busy": "2022-02-06T17:40:45.914286Z",
     "iopub.status.idle": "2022-02-06T17:40:46.520243Z",
     "shell.execute_reply": "2022-02-06T17:40:46.519798Z"
    },
    "papermill": {
     "duration": 0.649313,
     "end_time": "2022-02-06T17:40:46.520392",
     "exception": false,
     "start_time": "2022-02-06T17:40:45.871079",
     "status": "completed"
    },
    "tags": []
   },
   "outputs": [
    {
     "name": "stdout",
     "output_type": "stream",
     "text": [
      "---- BEST SCORES ---\n",
      "                 train              val             test      difference\n",
      "rmsle         -0.16485         -0.15029         -0.15105        -0.01456\n",
      "rmse  6624506684.40239 6161421733.51428 7773400638.54916 463084950.88811\n",
      "mae        55380.74418      54364.36456      57251.63174      1016.37962\n"
     ]
    },
    {
     "data": {
      "text/markdown": [
       "Paramètres du modèle: {'C': 1.0, 'cache_size': 200, 'coef0': 0.0, 'degree': 3, 'epsilon': 0.1, 'gamma': 'scale', 'kernel': 'rbf', 'max_iter': -1, 'shrinking': True, 'tol': 0.001, 'verbose': False}"
      ],
      "text/plain": [
       "<IPython.core.display.Markdown object>"
      ]
     },
     "metadata": {},
     "output_type": "display_data"
    },
    {
     "name": "stdout",
     "output_type": "stream",
     "text": [
      "\n",
      "\n",
      "--- Saving model ---\n",
      "--- svm model saved to model_dump/svm_house_baseline_misclassification_True_-0.15029_06-02-2022_15:54:01.pkl---\n",
      "CPU times: user 596 ms, sys: 6.7 ms, total: 603 ms\n",
      "Wall time: 603 ms\n"
     ]
    }
   ],
   "source": [
    "%%time\n",
    "\n",
    "saver_params = dict(\n",
    "    dataset=dataset,\n",
    "    model_name=\"svm\",\n",
    "    objective=\"misclassification\",\n",
    "    toScale=toScale,\n",
    "    init_time=init_time,\n",
    "    columns_used=all_cols,\n",
    "    Preprocess=Preprocess,\n",
    "    preprocessing_path=scaler_name,\n",
    "    categorical=categorical,\n",
    ")\n",
    "\n",
    "# --- --- --- BASELINE RF --- --- ---\n",
    "if toFitSVM:\n",
    "    model, kind, best_score = fit_baseline_model(\n",
    "        train_svr,\n",
    "        data=[(X_train, y_train), (X_validation, y_validation)],\n",
    "        pass_val=False,\n",
    "        params=None,\n",
    "    )\n",
    "\n",
    "    scores_df = get_results(model, data_splits)\n",
    "    # SAVE RESULTS ------\n",
    "    save_model(\n",
    "        model=model, kind=kind, best_score=best_score, scores=scores_df, **saver_params\n",
    "    )"
   ]
  },
  {
   "cell_type": "markdown",
   "id": "720fc626-861a-4983-8799-7a52a503670a",
   "metadata": {
    "jp-MarkdownHeadingCollapsed": true,
    "papermill": {
     "duration": 0.040125,
     "end_time": "2022-02-06T17:40:46.601387",
     "exception": false,
     "start_time": "2022-02-06T17:40:46.561262",
     "status": "completed"
    },
    "tags": []
   },
   "source": [
    "### GRID SEARCH"
   ]
  },
  {
   "cell_type": "code",
   "execution_count": 34,
   "id": "9d4e53fb-2e8c-43a3-b886-f455cadf3fbe",
   "metadata": {
    "execution": {
     "iopub.execute_input": "2022-02-06T17:40:46.686476Z",
     "iopub.status.busy": "2022-02-06T17:40:46.686121Z",
     "iopub.status.idle": "2022-02-06T17:40:47.869642Z",
     "shell.execute_reply": "2022-02-06T17:40:47.869064Z"
    },
    "papermill": {
     "duration": 1.228237,
     "end_time": "2022-02-06T17:40:47.869815",
     "exception": false,
     "start_time": "2022-02-06T17:40:46.641578",
     "status": "completed"
    },
    "tags": []
   },
   "outputs": [
    {
     "name": "stdout",
     "output_type": "stream",
     "text": [
      "Fitting 3 folds for each of 28 candidates, totalling 84 fits\n"
     ]
    },
    {
     "data": {
      "text/markdown": [
       "Le meilleur score obtenu par notre grid search (à savoir, le score est le RMSLE): -0.027296117779411783"
      ],
      "text/plain": [
       "<IPython.core.display.Markdown object>"
      ]
     },
     "metadata": {},
     "output_type": "display_data"
    },
    {
     "data": {
      "text/markdown": [
       "Le meilleurs paramètres: {'C': 40.0, 'kernel': 'linear'}"
      ],
      "text/plain": [
       "<IPython.core.display.Markdown object>"
      ]
     },
     "metadata": {},
     "output_type": "display_data"
    },
    {
     "name": "stdout",
     "output_type": "stream",
     "text": [
      "---- BEST SCORES ---\n",
      "                 train              val             test      difference\n",
      "rmsle         -0.02342         -0.02073         -0.01962        -0.00270\n",
      "rmse  1491789546.39246 1111604938.02168 1644565232.13381 380184608.37078\n",
      "mae        19943.51327      19647.04892      20318.08239       296.46435\n"
     ]
    },
    {
     "data": {
      "text/markdown": [
       "Paramètres du modèle: {'C': 40.0, 'cache_size': 200, 'coef0': 0.0, 'degree': 3, 'epsilon': 0.1, 'gamma': 'scale', 'kernel': 'linear', 'max_iter': -1, 'shrinking': True, 'tol': 0.001, 'verbose': False}"
      ],
      "text/plain": [
       "<IPython.core.display.Markdown object>"
      ]
     },
     "metadata": {},
     "output_type": "display_data"
    },
    {
     "name": "stdout",
     "output_type": "stream",
     "text": [
      "\n",
      "\n",
      "--- Saving model ---\n",
      "--- svm model saved to model_dump/svm_house_grid_misclassification_True_-0.15029_06-02-2022_15:54:01.pkl---\n",
      "--- Grid search results saved to grid_search/Grid_xgb_house_06-02-2022_15:54:01.csv---\n",
      "CPU times: user 349 ms, sys: 7.06 ms, total: 356 ms\n",
      "Wall time: 1.18 s\n"
     ]
    }
   ],
   "source": [
    "%%time\n",
    "# --- --- --- SVM GRID SEARCH --- --- ---\n",
    "if toFitSVM:\n",
    "    kind = \"grid\"\n",
    "\n",
    "    search = fit_grid_model(\n",
    "        train_svr,\n",
    "        data=[(X_train, y_train), (X_validation, y_validation)],\n",
    "        grid_params=svm_params,\n",
    "        grid_search_kwargs=grid_search_kwargs,\n",
    "        pass_val=False,\n",
    "        params=None,\n",
    "        verbose=True,\n",
    "    )\n",
    "\n",
    "    # REFIT TO GET TRAINING ERROR AT EACH STEP ------\n",
    "\n",
    "    model = search.best_estimator_\n",
    "    # Score model ---\n",
    "    scores_df = get_results(model, data_splits)\n",
    "    # Save model ---\n",
    "    model_path = save_model(\n",
    "        model=model, kind=kind, best_score=best_score, scores=scores_df, **saver_params\n",
    "    )\n",
    "    # Save grid search results ---\n",
    "    save_grid(model_path=model_path, search=search, **saver_grid_params)"
   ]
  },
  {
   "cell_type": "markdown",
   "id": "53356a01-d3c8-459e-80e7-a2b7c3eec8f2",
   "metadata": {
    "papermill": {
     "duration": 0.042142,
     "end_time": "2022-02-06T17:40:47.954399",
     "exception": false,
     "start_time": "2022-02-06T17:40:47.912257",
     "status": "completed"
    },
    "tags": []
   },
   "source": [
    "## MLP"
   ]
  },
  {
   "cell_type": "markdown",
   "id": "0159fd90-d2c3-4f60-9c80-c7b8fd667149",
   "metadata": {
    "papermill": {
     "duration": 0.041226,
     "end_time": "2022-02-06T17:40:48.037909",
     "exception": false,
     "start_time": "2022-02-06T17:40:47.996683",
     "status": "completed"
    },
    "tags": []
   },
   "source": [
    "### BASELINE MLP"
   ]
  },
  {
   "cell_type": "code",
   "execution_count": 35,
   "id": "1f7bf43b-5d3a-4624-8b19-f7fd6a459d0f",
   "metadata": {
    "execution": {
     "iopub.execute_input": "2022-02-06T17:40:48.124460Z",
     "iopub.status.busy": "2022-02-06T17:40:48.123798Z",
     "iopub.status.idle": "2022-02-06T17:40:48.125578Z",
     "shell.execute_reply": "2022-02-06T17:40:48.125834Z"
    },
    "papermill": {
     "duration": 0.046564,
     "end_time": "2022-02-06T17:40:48.125943",
     "exception": false,
     "start_time": "2022-02-06T17:40:48.079379",
     "status": "completed"
    },
    "tags": []
   },
   "outputs": [],
   "source": [
    "grid_search_kwargs = dict(\n",
    "    scoring=\"neg_mean_absolute_error\", n_jobs=cpus_to_use, refit=True, cv=skf, verbose=1\n",
    ")"
   ]
  },
  {
   "cell_type": "code",
   "execution_count": 36,
   "id": "19ac80fa-5401-4541-a2ba-2870ee955369",
   "metadata": {
    "execution": {
     "iopub.execute_input": "2022-02-06T17:40:48.222939Z",
     "iopub.status.busy": "2022-02-06T17:40:48.222097Z",
     "iopub.status.idle": "2022-02-06T17:40:57.143702Z",
     "shell.execute_reply": "2022-02-06T17:40:57.144135Z"
    },
    "papermill": {
     "duration": 8.968272,
     "end_time": "2022-02-06T17:40:57.144287",
     "exception": false,
     "start_time": "2022-02-06T17:40:48.176015",
     "status": "completed"
    },
    "tags": []
   },
   "outputs": [
    {
     "name": "stdout",
     "output_type": "stream",
     "text": [
      "---- BEST SCORES ---\n",
      "                 train              val             test      difference\n",
      "rmsle         -0.02963         -0.02529         -0.02637        -0.00434\n",
      "rmse  1555905603.55713 1102918932.48757 1615256525.82421 452986671.06956\n",
      "mae        23099.52474      21793.05089      23183.18012      1306.47384\n"
     ]
    },
    {
     "data": {
      "text/markdown": [
       "Paramètres du modèle: {'activation': 'relu', 'alpha': 0.0001, 'batch_size': 'auto', 'beta_1': 0.9, 'beta_2': 0.999, 'early_stopping': True, 'epsilon': 1e-08, 'hidden_layer_sizes': (100,), 'learning_rate': 'constant', 'learning_rate_init': 0.001, 'max_fun': 15000, 'max_iter': 3000, 'momentum': 0.9, 'n_iter_no_change': 10, 'nesterovs_momentum': True, 'power_t': 0.5, 'random_state': 123, 'shuffle': True, 'solver': 'adam', 'tol': 0.0001, 'validation_fraction': 0.1, 'verbose': False, 'warm_start': False}"
      ],
      "text/plain": [
       "<IPython.core.display.Markdown object>"
      ]
     },
     "metadata": {},
     "output_type": "display_data"
    },
    {
     "name": "stdout",
     "output_type": "stream",
     "text": [
      "\n",
      "\n",
      "--- Saving model ---\n",
      "--- mlp model saved to model_dump/mlp_house_baseline_mae_True_-0.02529_06-02-2022_15:54:01.pkl---\n",
      "CPU times: user 34.7 s, sys: 1min 2s, total: 1min 37s\n",
      "Wall time: 8.9 s\n"
     ]
    }
   ],
   "source": [
    "%%time\n",
    "\n",
    "saver_params = dict(\n",
    "    dataset=dataset,\n",
    "    model_name=\"mlp\",\n",
    "    objective=\"mae\",\n",
    "    toScale=toScale,\n",
    "    init_time=init_time,\n",
    "    columns_used=all_cols,\n",
    "    Preprocess=Preprocess,\n",
    "    preprocessing_path=scaler_name,\n",
    "    categorical=categorical,\n",
    ")\n",
    "\n",
    "# --- --- --- BASELINE MLP --- --- ---\n",
    "if toFitMLP:\n",
    "    model, kind, best_score = fit_baseline_model(\n",
    "        train_mlp,\n",
    "        data=[(X_train, y_train), (X_validation, y_validation)],\n",
    "        pass_val=False,\n",
    "        params=None,\n",
    "    )\n",
    "\n",
    "    scores_df = get_results(model, data_splits)\n",
    "    # SAVE RESULTS ------\n",
    "    save_model(\n",
    "        model=model, kind=kind, best_score=best_score, scores=scores_df, **saver_params\n",
    "    )"
   ]
  },
  {
   "cell_type": "markdown",
   "id": "cd3a44aa-bbd7-4245-9315-48b81c607cc6",
   "metadata": {
    "papermill": {
     "duration": 0.042923,
     "end_time": "2022-02-06T17:40:57.275161",
     "exception": false,
     "start_time": "2022-02-06T17:40:57.232238",
     "status": "completed"
    },
    "tags": []
   },
   "source": [
    "### GRID SEARCH"
   ]
  },
  {
   "cell_type": "code",
   "execution_count": 37,
   "id": "e9b06762-141c-48f6-abb2-7d89fc1e96ef",
   "metadata": {
    "execution": {
     "iopub.execute_input": "2022-02-06T17:40:57.365394Z",
     "iopub.status.busy": "2022-02-06T17:40:57.364976Z",
     "iopub.status.idle": "2022-02-06T17:41:29.966293Z",
     "shell.execute_reply": "2022-02-06T17:41:29.964311Z"
    },
    "papermill": {
     "duration": 32.647968,
     "end_time": "2022-02-06T17:41:29.966403",
     "exception": false,
     "start_time": "2022-02-06T17:40:57.318435",
     "status": "completed"
    },
    "tags": []
   },
   "outputs": [
    {
     "name": "stdout",
     "output_type": "stream",
     "text": [
      "Fitting 3 folds for each of 48 candidates, totalling 144 fits\n"
     ]
    },
    {
     "name": "stderr",
     "output_type": "stream",
     "text": [
      "/opt/conda/lib/python3.9/site-packages/sklearn/utils/extmath.py:153: RuntimeWarning: overflow encountered in matmul\n",
      "  ret = a @ b\n",
      "/opt/conda/lib/python3.9/site-packages/sklearn/utils/extmath.py:153: RuntimeWarning: overflow encountered in matmul\n",
      "  ret = a @ b\n",
      "/opt/conda/lib/python3.9/site-packages/sklearn/utils/extmath.py:153: RuntimeWarning: invalid value encountered in matmul\n",
      "  ret = a @ b\n",
      "/opt/conda/lib/python3.9/site-packages/sklearn/metrics/_regression.py:805: RuntimeWarning: overflow encountered in square\n",
      "  numerator = (weight * (y_true - y_pred) ** 2).sum(axis=0, dtype=np.float64)\n",
      "/opt/conda/lib/python3.9/site-packages/sklearn/utils/extmath.py:153: RuntimeWarning: overflow encountered in matmul\n",
      "  ret = a @ b\n",
      "/opt/conda/lib/python3.9/site-packages/sklearn/neural_network/_base.py:174: RuntimeWarning: overflow encountered in square\n",
      "  return ((y_true - y_pred) ** 2).mean() / 2\n",
      "/opt/conda/lib/python3.9/site-packages/sklearn/utils/extmath.py:153: RuntimeWarning: invalid value encountered in matmul\n",
      "  ret = a @ b\n",
      "/opt/conda/lib/python3.9/site-packages/sklearn/utils/extmath.py:153: RuntimeWarning: overflow encountered in matmul\n",
      "  ret = a @ b\n",
      "/opt/conda/lib/python3.9/site-packages/sklearn/metrics/_regression.py:805: RuntimeWarning: overflow encountered in square\n",
      "  numerator = (weight * (y_true - y_pred) ** 2).sum(axis=0, dtype=np.float64)\n",
      "/opt/conda/lib/python3.9/site-packages/sklearn/utils/extmath.py:153: RuntimeWarning: overflow encountered in matmul\n",
      "  ret = a @ b\n",
      "/opt/conda/lib/python3.9/site-packages/sklearn/neural_network/_base.py:174: RuntimeWarning: overflow encountered in square\n",
      "  return ((y_true - y_pred) ** 2).mean() / 2\n",
      "/opt/conda/lib/python3.9/site-packages/sklearn/utils/extmath.py:153: RuntimeWarning: invalid value encountered in matmul\n",
      "  ret = a @ b\n",
      "/opt/conda/lib/python3.9/site-packages/sklearn/utils/extmath.py:153: RuntimeWarning: overflow encountered in matmul\n",
      "  ret = a @ b\n",
      "/opt/conda/lib/python3.9/site-packages/sklearn/utils/extmath.py:153: RuntimeWarning: invalid value encountered in matmul\n",
      "  ret = a @ b\n",
      "/opt/conda/lib/python3.9/site-packages/sklearn/metrics/_regression.py:805: RuntimeWarning: overflow encountered in square\n",
      "  numerator = (weight * (y_true - y_pred) ** 2).sum(axis=0, dtype=np.float64)\n",
      "/opt/conda/lib/python3.9/site-packages/sklearn/neural_network/_base.py:174: RuntimeWarning: overflow encountered in square\n",
      "  return ((y_true - y_pred) ** 2).mean() / 2\n",
      "/opt/conda/lib/python3.9/site-packages/sklearn/utils/extmath.py:153: RuntimeWarning: overflow encountered in matmul\n",
      "  ret = a @ b\n",
      "/opt/conda/lib/python3.9/site-packages/sklearn/utils/extmath.py:153: RuntimeWarning: invalid value encountered in matmul\n",
      "  ret = a @ b\n",
      "/opt/conda/lib/python3.9/site-packages/sklearn/neural_network/_base.py:174: RuntimeWarning: overflow encountered in square\n",
      "  return ((y_true - y_pred) ** 2).mean() / 2\n",
      "/opt/conda/lib/python3.9/site-packages/sklearn/utils/extmath.py:153: RuntimeWarning: overflow encountered in matmul\n",
      "  ret = a @ b\n",
      "/opt/conda/lib/python3.9/site-packages/sklearn/neural_network/_base.py:174: RuntimeWarning: overflow encountered in square\n",
      "  return ((y_true - y_pred) ** 2).mean() / 2\n",
      "/opt/conda/lib/python3.9/site-packages/sklearn/utils/extmath.py:153: RuntimeWarning: overflow encountered in matmul\n",
      "  ret = a @ b\n",
      "/opt/conda/lib/python3.9/site-packages/sklearn/metrics/_regression.py:805: RuntimeWarning: overflow encountered in square\n",
      "  numerator = (weight * (y_true - y_pred) ** 2).sum(axis=0, dtype=np.float64)\n",
      "/opt/conda/lib/python3.9/site-packages/sklearn/neural_network/_base.py:174: RuntimeWarning: overflow encountered in square\n",
      "  return ((y_true - y_pred) ** 2).mean() / 2\n",
      "/opt/conda/lib/python3.9/site-packages/sklearn/utils/extmath.py:153: RuntimeWarning: overflow encountered in matmul\n",
      "  ret = a @ b\n",
      "/opt/conda/lib/python3.9/site-packages/sklearn/utils/extmath.py:153: RuntimeWarning: invalid value encountered in matmul\n",
      "  ret = a @ b\n",
      "/opt/conda/lib/python3.9/site-packages/sklearn/neural_network/_base.py:174: RuntimeWarning: overflow encountered in square\n",
      "  return ((y_true - y_pred) ** 2).mean() / 2\n",
      "/opt/conda/lib/python3.9/site-packages/sklearn/utils/extmath.py:153: RuntimeWarning: overflow encountered in matmul\n",
      "  ret = a @ b\n",
      "/opt/conda/lib/python3.9/site-packages/sklearn/neural_network/_base.py:174: RuntimeWarning: overflow encountered in square\n",
      "  return ((y_true - y_pred) ** 2).mean() / 2\n",
      "/opt/conda/lib/python3.9/site-packages/sklearn/utils/extmath.py:153: RuntimeWarning: overflow encountered in matmul\n",
      "  ret = a @ b\n",
      "/opt/conda/lib/python3.9/site-packages/sklearn/metrics/_regression.py:805: RuntimeWarning: overflow encountered in square\n",
      "  numerator = (weight * (y_true - y_pred) ** 2).sum(axis=0, dtype=np.float64)\n",
      "/opt/conda/lib/python3.9/site-packages/sklearn/neural_network/_base.py:174: RuntimeWarning: overflow encountered in square\n",
      "  return ((y_true - y_pred) ** 2).mean() / 2\n",
      "/opt/conda/lib/python3.9/site-packages/sklearn/utils/extmath.py:153: RuntimeWarning: overflow encountered in matmul\n",
      "  ret = a @ b\n",
      "/opt/conda/lib/python3.9/site-packages/sklearn/utils/extmath.py:153: RuntimeWarning: invalid value encountered in matmul\n",
      "  ret = a @ b\n",
      "/opt/conda/lib/python3.9/site-packages/sklearn/utils/extmath.py:153: RuntimeWarning: overflow encountered in matmul\n",
      "  ret = a @ b\n",
      "/opt/conda/lib/python3.9/site-packages/sklearn/utils/extmath.py:153: RuntimeWarning: invalid value encountered in matmul\n",
      "  ret = a @ b\n",
      "/opt/conda/lib/python3.9/site-packages/sklearn/utils/extmath.py:153: RuntimeWarning: overflow encountered in matmul\n",
      "  ret = a @ b\n",
      "/opt/conda/lib/python3.9/site-packages/sklearn/utils/extmath.py:153: RuntimeWarning: invalid value encountered in matmul\n",
      "  ret = a @ b\n",
      "/opt/conda/lib/python3.9/site-packages/sklearn/utils/extmath.py:153: RuntimeWarning: overflow encountered in matmul\n",
      "  ret = a @ b\n",
      "/opt/conda/lib/python3.9/site-packages/sklearn/metrics/_regression.py:805: RuntimeWarning: overflow encountered in square\n",
      "  numerator = (weight * (y_true - y_pred) ** 2).sum(axis=0, dtype=np.float64)\n",
      "/opt/conda/lib/python3.9/site-packages/sklearn/utils/extmath.py:153: RuntimeWarning: overflow encountered in matmul\n",
      "  ret = a @ b\n",
      "/opt/conda/lib/python3.9/site-packages/sklearn/neural_network/_base.py:174: RuntimeWarning: overflow encountered in square\n",
      "  return ((y_true - y_pred) ** 2).mean() / 2\n",
      "/opt/conda/lib/python3.9/site-packages/sklearn/utils/extmath.py:153: RuntimeWarning: invalid value encountered in matmul\n",
      "  ret = a @ b\n",
      "/opt/conda/lib/python3.9/site-packages/sklearn/utils/extmath.py:153: RuntimeWarning: overflow encountered in matmul\n",
      "  ret = a @ b\n",
      "/opt/conda/lib/python3.9/site-packages/sklearn/utils/extmath.py:153: RuntimeWarning: invalid value encountered in matmul\n",
      "  ret = a @ b\n",
      "/opt/conda/lib/python3.9/site-packages/sklearn/metrics/_regression.py:805: RuntimeWarning: overflow encountered in square\n",
      "  numerator = (weight * (y_true - y_pred) ** 2).sum(axis=0, dtype=np.float64)\n",
      "/opt/conda/lib/python3.9/site-packages/sklearn/neural_network/_base.py:174: RuntimeWarning: overflow encountered in square\n",
      "  return ((y_true - y_pred) ** 2).mean() / 2\n",
      "/opt/conda/lib/python3.9/site-packages/sklearn/utils/extmath.py:153: RuntimeWarning: overflow encountered in matmul\n",
      "  ret = a @ b\n",
      "/opt/conda/lib/python3.9/site-packages/sklearn/utils/extmath.py:153: RuntimeWarning: invalid value encountered in matmul\n",
      "  ret = a @ b\n",
      "/opt/conda/lib/python3.9/site-packages/sklearn/utils/extmath.py:153: RuntimeWarning: overflow encountered in matmul\n",
      "  ret = a @ b\n",
      "/opt/conda/lib/python3.9/site-packages/sklearn/metrics/_regression.py:805: RuntimeWarning: overflow encountered in square\n",
      "  numerator = (weight * (y_true - y_pred) ** 2).sum(axis=0, dtype=np.float64)\n",
      "/opt/conda/lib/python3.9/site-packages/sklearn/utils/extmath.py:153: RuntimeWarning: overflow encountered in matmul\n",
      "  ret = a @ b\n",
      "/opt/conda/lib/python3.9/site-packages/sklearn/neural_network/_base.py:174: RuntimeWarning: overflow encountered in square\n",
      "  return ((y_true - y_pred) ** 2).mean() / 2\n",
      "/opt/conda/lib/python3.9/site-packages/sklearn/utils/extmath.py:153: RuntimeWarning: invalid value encountered in matmul\n",
      "  ret = a @ b\n",
      "/opt/conda/lib/python3.9/site-packages/sklearn/utils/extmath.py:153: RuntimeWarning: overflow encountered in matmul\n",
      "  ret = a @ b\n",
      "/opt/conda/lib/python3.9/site-packages/sklearn/utils/extmath.py:153: RuntimeWarning: invalid value encountered in matmul\n",
      "  ret = a @ b\n",
      "/opt/conda/lib/python3.9/site-packages/sklearn/metrics/_regression.py:805: RuntimeWarning: overflow encountered in square\n",
      "  numerator = (weight * (y_true - y_pred) ** 2).sum(axis=0, dtype=np.float64)\n",
      "/opt/conda/lib/python3.9/site-packages/sklearn/neural_network/_base.py:174: RuntimeWarning: overflow encountered in square\n",
      "  return ((y_true - y_pred) ** 2).mean() / 2\n",
      "/opt/conda/lib/python3.9/site-packages/sklearn/utils/extmath.py:153: RuntimeWarning: overflow encountered in matmul\n",
      "  ret = a @ b\n",
      "/opt/conda/lib/python3.9/site-packages/sklearn/utils/extmath.py:153: RuntimeWarning: invalid value encountered in matmul\n",
      "  ret = a @ b\n",
      "/opt/conda/lib/python3.9/site-packages/sklearn/neural_network/_base.py:174: RuntimeWarning: overflow encountered in square\n",
      "  return ((y_true - y_pred) ** 2).mean() / 2\n",
      "/opt/conda/lib/python3.9/site-packages/sklearn/utils/extmath.py:153: RuntimeWarning: overflow encountered in matmul\n",
      "  ret = a @ b\n",
      "/opt/conda/lib/python3.9/site-packages/sklearn/neural_network/_base.py:174: RuntimeWarning: overflow encountered in square\n",
      "  return ((y_true - y_pred) ** 2).mean() / 2\n",
      "/opt/conda/lib/python3.9/site-packages/sklearn/utils/extmath.py:153: RuntimeWarning: overflow encountered in matmul\n",
      "  ret = a @ b\n",
      "/opt/conda/lib/python3.9/site-packages/sklearn/metrics/_regression.py:805: RuntimeWarning: overflow encountered in square\n",
      "  numerator = (weight * (y_true - y_pred) ** 2).sum(axis=0, dtype=np.float64)\n",
      "/opt/conda/lib/python3.9/site-packages/sklearn/neural_network/_base.py:174: RuntimeWarning: overflow encountered in square\n",
      "  return ((y_true - y_pred) ** 2).mean() / 2\n",
      "/opt/conda/lib/python3.9/site-packages/sklearn/utils/extmath.py:153: RuntimeWarning: overflow encountered in matmul\n",
      "  ret = a @ b\n",
      "/opt/conda/lib/python3.9/site-packages/sklearn/utils/extmath.py:153: RuntimeWarning: invalid value encountered in matmul\n",
      "  ret = a @ b\n",
      "/opt/conda/lib/python3.9/site-packages/sklearn/neural_network/_base.py:174: RuntimeWarning: overflow encountered in square\n",
      "  return ((y_true - y_pred) ** 2).mean() / 2\n",
      "/opt/conda/lib/python3.9/site-packages/sklearn/utils/extmath.py:153: RuntimeWarning: overflow encountered in matmul\n",
      "  ret = a @ b\n",
      "/opt/conda/lib/python3.9/site-packages/sklearn/neural_network/_base.py:174: RuntimeWarning: overflow encountered in square\n",
      "  return ((y_true - y_pred) ** 2).mean() / 2\n",
      "/opt/conda/lib/python3.9/site-packages/sklearn/utils/extmath.py:153: RuntimeWarning: overflow encountered in matmul\n",
      "  ret = a @ b\n",
      "/opt/conda/lib/python3.9/site-packages/sklearn/metrics/_regression.py:805: RuntimeWarning: overflow encountered in square\n",
      "  numerator = (weight * (y_true - y_pred) ** 2).sum(axis=0, dtype=np.float64)\n",
      "/opt/conda/lib/python3.9/site-packages/sklearn/neural_network/_base.py:174: RuntimeWarning: overflow encountered in square\n",
      "  return ((y_true - y_pred) ** 2).mean() / 2\n",
      "/opt/conda/lib/python3.9/site-packages/sklearn/utils/extmath.py:153: RuntimeWarning: overflow encountered in matmul\n",
      "  ret = a @ b\n",
      "/opt/conda/lib/python3.9/site-packages/sklearn/utils/extmath.py:153: RuntimeWarning: invalid value encountered in matmul\n",
      "  ret = a @ b\n",
      "/opt/conda/lib/python3.9/site-packages/sklearn/utils/extmath.py:153: RuntimeWarning: overflow encountered in matmul\n",
      "  ret = a @ b\n",
      "/opt/conda/lib/python3.9/site-packages/sklearn/utils/extmath.py:153: RuntimeWarning: invalid value encountered in matmul\n",
      "  ret = a @ b\n",
      "/opt/conda/lib/python3.9/site-packages/sklearn/metrics/_regression.py:805: RuntimeWarning: overflow encountered in square\n",
      "  numerator = (weight * (y_true - y_pred) ** 2).sum(axis=0, dtype=np.float64)\n",
      "/opt/conda/lib/python3.9/site-packages/sklearn/neural_network/_base.py:174: RuntimeWarning: overflow encountered in square\n",
      "  return ((y_true - y_pred) ** 2).mean() / 2\n",
      "/opt/conda/lib/python3.9/site-packages/sklearn/utils/extmath.py:153: RuntimeWarning: overflow encountered in matmul\n",
      "  ret = a @ b\n",
      "/opt/conda/lib/python3.9/site-packages/sklearn/utils/extmath.py:153: RuntimeWarning: invalid value encountered in matmul\n",
      "  ret = a @ b\n",
      "/opt/conda/lib/python3.9/site-packages/sklearn/utils/extmath.py:153: RuntimeWarning: overflow encountered in matmul\n",
      "  ret = a @ b\n",
      "/opt/conda/lib/python3.9/site-packages/sklearn/utils/extmath.py:153: RuntimeWarning: invalid value encountered in matmul\n",
      "  ret = a @ b\n"
     ]
    },
    {
     "data": {
      "text/markdown": [
       "Le meilleur score obtenu par notre grid search (à savoir, le score est le RMSLE): -20974.85992553656"
      ],
      "text/plain": [
       "<IPython.core.display.Markdown object>"
      ]
     },
     "metadata": {},
     "output_type": "display_data"
    },
    {
     "data": {
      "text/markdown": [
       "Le meilleurs paramètres: {'activation': 'relu', 'alpha': 0.05, 'hidden_layer_sizes': (50, 100, 50), 'learning_rate': 'constant', 'solver': 'adam'}"
      ],
      "text/plain": [
       "<IPython.core.display.Markdown object>"
      ]
     },
     "metadata": {},
     "output_type": "display_data"
    },
    {
     "name": "stdout",
     "output_type": "stream",
     "text": [
      "---- BEST SCORES ---\n",
      "                train             val            test      difference\n",
      "rmsle        -0.01869        -0.01877        -0.01519         0.00008\n",
      "rmse  901200253.24243 647193210.62299 919145955.84050 254007042.61944\n",
      "mae       16701.94440     17191.27016     17383.04589      -489.32576\n"
     ]
    },
    {
     "data": {
      "text/markdown": [
       "Paramètres du modèle: {'activation': 'relu', 'alpha': 0.05, 'batch_size': 'auto', 'beta_1': 0.9, 'beta_2': 0.999, 'early_stopping': True, 'epsilon': 1e-08, 'hidden_layer_sizes': (50, 100, 50), 'learning_rate': 'constant', 'learning_rate_init': 0.001, 'max_fun': 15000, 'max_iter': 3000, 'momentum': 0.9, 'n_iter_no_change': 10, 'nesterovs_momentum': True, 'power_t': 0.5, 'random_state': 123, 'shuffle': True, 'solver': 'adam', 'tol': 0.0001, 'validation_fraction': 0.1, 'verbose': False, 'warm_start': False}"
      ],
      "text/plain": [
       "<IPython.core.display.Markdown object>"
      ]
     },
     "metadata": {},
     "output_type": "display_data"
    },
    {
     "name": "stdout",
     "output_type": "stream",
     "text": [
      "\n",
      "\n",
      "--- Saving model ---\n",
      "--- mlp model saved to model_dump/mlp_house_grid_mae_True_-0.02529_06-02-2022_15:54:01.pkl---\n",
      "--- Grid search results saved to grid_search/Grid_xgb_house_06-02-2022_15:54:01.csv---\n",
      "CPU times: user 7.7 s, sys: 16.9 s, total: 24.6 s\n",
      "Wall time: 32.6 s\n"
     ]
    }
   ],
   "source": [
    "%%time\n",
    "# --- --- --- SVM GRID SEARCH --- --- ---\n",
    "if toFitMLP:\n",
    "    kind = \"grid\"\n",
    "\n",
    "    search = fit_grid_model(\n",
    "        train_mlp,\n",
    "        data=[(X_train, y_train), (X_validation, y_validation)],\n",
    "        grid_params=mlp_params,\n",
    "        grid_search_kwargs=grid_search_kwargs,\n",
    "        pass_val=False,\n",
    "        params=None,\n",
    "        verbose=True,\n",
    "    )\n",
    "\n",
    "    # REFIT TO GET TRAINING ERROR AT EACH STEP ------\n",
    "    model = search.best_estimator_\n",
    "    # Score model ---\n",
    "    scores_df = get_results(model, data_splits)\n",
    "    # Save model ---\n",
    "    model_path = save_model(\n",
    "        model=model, kind=kind, best_score=best_score, scores=scores_df, **saver_params\n",
    "    )\n",
    "    # Save grid search results ---\n",
    "    save_grid(model_path=model_path, search=search, **saver_grid_params)"
   ]
  },
  {
   "cell_type": "markdown",
   "id": "ee426434-3f7c-4088-81dd-861643127a0b",
   "metadata": {
    "papermill": {
     "duration": 0.04815,
     "end_time": "2022-02-06T17:41:30.071572",
     "exception": false,
     "start_time": "2022-02-06T17:41:30.023422",
     "status": "completed"
    },
    "tags": []
   },
   "source": [
    "## END "
   ]
  },
  {
   "cell_type": "code",
   "execution_count": 38,
   "id": "0f22c09b-4b50-4819-9dad-ffc200e71b7d",
   "metadata": {
    "execution": {
     "iopub.execute_input": "2022-02-06T17:41:30.168682Z",
     "iopub.status.busy": "2022-02-06T17:41:30.168359Z",
     "iopub.status.idle": "2022-02-06T17:41:30.170651Z",
     "shell.execute_reply": "2022-02-06T17:41:30.170380Z"
    },
    "papermill": {
     "duration": 0.052034,
     "end_time": "2022-02-06T17:41:30.170738",
     "exception": false,
     "start_time": "2022-02-06T17:41:30.118704",
     "status": "completed"
    },
    "tags": []
   },
   "outputs": [
    {
     "name": "stdout",
     "output_type": "stream",
     "text": [
      "------ EXECUTION TIME ------\n",
      "days: 0 hours: 1 minutes: 47\n"
     ]
    }
   ],
   "source": [
    "# PRINT EXECUTION TIME ------\n",
    "e = datetime.now()  # end time\n",
    "delta = e - s  # timedelta\n",
    "# extract ---\n",
    "days = delta.days\n",
    "seconds = delta.seconds\n",
    "# calcultate hours, minutes\n",
    "hours = seconds // 3600\n",
    "minutes = (seconds // 60) % 60\n",
    "print(\"------ EXECUTION TIME ------\")\n",
    "print(\"days:\", days, \"hours:\", hours, \"minutes:\", minutes)"
   ]
  }
 ],
 "metadata": {
  "kernelspec": {
   "display_name": "Python 3 (ipykernel)",
   "language": "python",
   "name": "python3"
  },
  "language_info": {
   "codemirror_mode": {
    "name": "ipython",
    "version": 3
   },
   "file_extension": ".py",
   "mimetype": "text/x-python",
   "name": "python",
   "nbconvert_exporter": "python",
   "pygments_lexer": "ipython3",
   "version": "3.9.7"
  },
  "papermill": {
   "default_parameters": {},
   "duration": 6450.6035,
   "end_time": "2022-02-06T17:41:30.539436",
   "environment_variables": {},
   "exception": null,
   "input_path": "/home/jovyan/work/TP3_TP4/trainers/house_trainer.ipynb",
   "output_path": "/home/jovyan/work/TP3_TP4/Jupyter Outputs/house_trained.ipynb",
   "parameters": {
    "dataset": "house",
    "dependent": "SalePrice",
    "training_data_path": "house_train"
   },
   "start_time": "2022-02-06T15:53:59.935936",
   "version": "2.3.4"
  }
 },
 "nbformat": 4,
 "nbformat_minor": 5
}
