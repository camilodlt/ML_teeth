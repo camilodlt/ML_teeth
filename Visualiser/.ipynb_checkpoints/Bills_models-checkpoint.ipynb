{
 "cells": [
  {
   "cell_type": "markdown",
   "id": "269394ff-89b4-427f-963d-d097ec9d1650",
   "metadata": {},
   "source": [
    "### IMPORTS "
   ]
  },
  {
   "cell_type": "code",
   "execution_count": 11,
   "id": "b0c0ab1b-f0ab-4233-b61d-331d80a53de0",
   "metadata": {},
   "outputs": [],
   "source": [
    "# LIRBARIES ------\n",
    "import warnings\n",
    "\n",
    "warnings.filterwarnings(\"ignore\")\n",
    "\n",
    "import multiprocessing\n",
    "\n",
    "# Misc\n",
    "import os\n",
    "import shutil\n",
    "from datetime import datetime\n",
    "\n",
    "# Combinatorics\n",
    "from itertools import product\n",
    "from pickle import dump, load\n",
    "\n",
    "# Matrices\n",
    "import numpy as np\n",
    "\n",
    "# DF\n",
    "import pandas as pd\n",
    "\n",
    "# Boosting machine\n",
    "import xgboost as xgb\n",
    "from IPython.display import Markdown as md\n",
    "from IPython.display import display as printmd\n",
    "from sklearn.compose import ColumnTransformer\n",
    "from sklearn.ensemble import RandomForestRegressor\n",
    "from sklearn.impute import KNNImputer\n",
    "\n",
    "# metrics\n",
    "from sklearn.metrics import (\n",
    "    make_scorer,\n",
    "    mean_absolute_error,\n",
    "    mean_squared_error,\n",
    "    mean_squared_log_error,\n",
    ")\n",
    "from sklearn.model_selection import GridSearchCV, KFold, train_test_split\n",
    "from sklearn.neural_network import MLPRegressor\n",
    "from sklearn.pipeline import Pipeline\n",
    "from sklearn.preprocessing import OneHotEncoder, StandardScaler\n",
    "from sklearn.svm import SVR\n",
    "\n",
    "# regression\n",
    "\n",
    "\n",
    "# utils\n",
    "base_path = \"/home/jovyan/work/TP3_TP4\"  # laptop : /home/jovyan/work/CM_ML/TP3_TP4 other tower: /home/jovyan/work/TP3_TP4\n",
    "os.chdir(base_path)\n",
    "\n",
    "import sys\n",
    "\n",
    "# sys.path.append(os.path.join(base_path,\"utils\"))\n",
    "sys.path.append(base_path)\n",
    "\n",
    "import matplotlib.pyplot as plt\n",
    "import plotly.express as px\n",
    "import plotly.io as pio\n",
    "\n",
    "# Plots\n",
    "import seaborn as sns\n",
    "from plotly import graph_objects as go\n",
    "from sklearn.tree import plot_tree\n",
    "from utils.utils import rmsle_scorer\n",
    "\n",
    "# pio.renderers.default='notebook'\n",
    "\n",
    "dataset = \"bill\"\n",
    "pd.set_option(\"display.float_format\", lambda x: \"%.5f\" % x)"
   ]
  },
  {
   "cell_type": "markdown",
   "id": "bf1f564c-57aa-4c25-88f0-26c4638edd27",
   "metadata": {
    "tags": []
   },
   "source": [
    "### PATHS TO FOLDERS "
   ]
  },
  {
   "cell_type": "code",
   "execution_count": 12,
   "id": "8a7db141-f9a1-47d2-9199-3009fd8fb144",
   "metadata": {},
   "outputs": [],
   "source": [
    "# FOLDERS TO STORE ------\n",
    "paths_to_create = [\n",
    "    os.path.join(base_path, \"scale_dump\"),\n",
    "    os.path.join(base_path, \"model_dump\"),\n",
    "    os.path.join(base_path, \"grid_search\"),\n",
    "    os.path.join(base_path, \"Old_\"),\n",
    "]"
   ]
  },
  {
   "cell_type": "markdown",
   "id": "0b2f8f54-4a15-475a-b6aa-d2d0d9db8f24",
   "metadata": {
    "tags": []
   },
   "source": [
    "### PATH TO FILES "
   ]
  },
  {
   "cell_type": "code",
   "execution_count": 13,
   "id": "6cc973ec-3406-4c57-bbe7-dc0606f313ba",
   "metadata": {},
   "outputs": [],
   "source": [
    "# --- --- --- FOLDERS AND FILES --- --- ---\n",
    "# * Data path ---\n",
    "data_path = os.path.join(base_path, \"data\")\n",
    "\n",
    "# * House dataset paths ---\n",
    "house_train = os.path.join(data_path, \"house\", \"train.csv\")\n",
    "\n",
    "# * Bills dataset paths ---\n",
    "bill_train = os.path.join(data_path, \"bills\",\"bill_authentication.csv\")\n",
    "\n",
    "# * Wine dataset paths ---\n",
    "wine_train = os.path.join(data_path, \"wine\",\"winequality-red.csv\")"
   ]
  },
  {
   "cell_type": "markdown",
   "id": "1782f88b-83b6-4975-866a-55318277a958",
   "metadata": {},
   "source": [
    "### IMPORT DATA "
   ]
  },
  {
   "cell_type": "code",
   "execution_count": 14,
   "id": "daae9260-65ef-424c-86f2-00cde5c713d9",
   "metadata": {},
   "outputs": [],
   "source": [
    "# --- --- --- DATA --- --- ---\n",
    "# * Load house data ---\n",
    "bill = pd.read_csv(bill_train, sep=\";\")"
   ]
  },
  {
   "cell_type": "markdown",
   "id": "744aa7d9-fd13-42da-a623-e676c241c479",
   "metadata": {
    "tags": []
   },
   "source": [
    "### HELPER FUNCTIONS "
   ]
  },
  {
   "cell_type": "code",
   "execution_count": 15,
   "id": "996b968a-e795-4185-8c9d-283ff07170b5",
   "metadata": {},
   "outputs": [],
   "source": [
    "def preprocess_data_as_model(data, dependent, categorical):\n",
    "    # * Divide X,y ---\n",
    "    data_subset = data.drop(dependent, axis=1)\n",
    "    y = data[dependent].values\n",
    "\n",
    "    # handle categorical variables ---\n",
    "    cols_beginning = data_subset.columns.values\n",
    "\n",
    "    all_cols = cols_beginning\n",
    "    numeric_cols = data_subset.select_dtypes([\"number\"]).columns\n",
    "    numeric_cols_index = np.in1d(all_cols, numeric_cols)\n",
    "\n",
    "    categorical_cols = data_subset.select_dtypes([\"object\"]).columns\n",
    "    categorical_cols_index = np.in1d(all_cols, categorical_cols)\n",
    "\n",
    "    # Transformations ---\n",
    "    transformations = []\n",
    "\n",
    "    if categorical:\n",
    "        pass  # todo\n",
    "    else:\n",
    "        # Training cols ---\n",
    "        data_subset = data_subset.select_dtypes([\"number\"])  # drop categorical\n",
    "        all_cols = cols_beginning[numeric_cols_index]  # only numerical cols ....\n",
    "        numeric_cols_index = (\n",
    "            data_subset.columns.values != None\n",
    "        )  # apply transformation to all columns\n",
    "    return (data_subset, y, all_cols)\n",
    "\n",
    "\n",
    "def load_scores(base_path, models):\n",
    "    score_list = []\n",
    "    loaded_models = {}\n",
    "    for model in models:\n",
    "        with open(os.path.join(base_path, model), \"rb\") as trained_model:\n",
    "            loaded = load(trained_model)\n",
    "            loaded_models[model]=loaded\n",
    "        try:\n",
    "            scores = loaded[\"scores\"]\n",
    "            meta = model.split(\"_\")\n",
    "\n",
    "            scores[\"raw_path\"] = model\n",
    "            scores[\"model\"] = meta[0]\n",
    "            scores[\"dataset\"] = meta[1]\n",
    "            scores[\"kind\"] = meta[2]\n",
    "\n",
    "            score_list.append(scores)\n",
    "        except:\n",
    "            print(\"model without scores\")\n",
    "    return score_list, loaded_models"
   ]
  },
  {
   "cell_type": "markdown",
   "id": "9bc1e50a-bd0e-47be-bbc3-4541f8d4ad40",
   "metadata": {},
   "source": [
    "### IMPORT ALL MODELS "
   ]
  },
  {
   "cell_type": "code",
   "execution_count": 16,
   "id": "7d149de8-dc8d-4236-ad9b-a19116add6e2",
   "metadata": {},
   "outputs": [
    {
     "name": "stdout",
     "output_type": "stream",
     "text": [
      "--- --- LOADING ALL MODELS --- ---\n",
      "Number of model : 31\n",
      "--- --- SCORES TO DF --- ---\n"
     ]
    },
    {
     "data": {
      "text/html": [
       "<div>\n",
       "<style scoped>\n",
       "    .dataframe tbody tr th:only-of-type {\n",
       "        vertical-align: middle;\n",
       "    }\n",
       "\n",
       "    .dataframe tbody tr th {\n",
       "        vertical-align: top;\n",
       "    }\n",
       "\n",
       "    .dataframe thead th {\n",
       "        text-align: right;\n",
       "    }\n",
       "</style>\n",
       "<table border=\"1\" class=\"dataframe\">\n",
       "  <thead>\n",
       "    <tr style=\"text-align: right;\">\n",
       "      <th></th>\n",
       "      <th>metric</th>\n",
       "      <th>raw_path</th>\n",
       "      <th>model</th>\n",
       "      <th>dataset</th>\n",
       "      <th>kind</th>\n",
       "      <th>difference</th>\n",
       "      <th>data_split</th>\n",
       "      <th>score</th>\n",
       "    </tr>\n",
       "  </thead>\n",
       "  <tbody>\n",
       "    <tr>\n",
       "      <th>0</th>\n",
       "      <td>accuracy</td>\n",
       "      <td>rf_bill_grid_squared_error_True_-0.00582_06-02...</td>\n",
       "      <td>rf</td>\n",
       "      <td>bill</td>\n",
       "      <td>grid</td>\n",
       "      <td>0.00471</td>\n",
       "      <td>train</td>\n",
       "      <td>0.99899</td>\n",
       "    </tr>\n",
       "    <tr>\n",
       "      <th>1</th>\n",
       "      <td>f1</td>\n",
       "      <td>rf_bill_grid_squared_error_True_-0.00582_06-02...</td>\n",
       "      <td>rf</td>\n",
       "      <td>bill</td>\n",
       "      <td>grid</td>\n",
       "      <td>0.00492</td>\n",
       "      <td>train</td>\n",
       "      <td>0.99885</td>\n",
       "    </tr>\n",
       "    <tr>\n",
       "      <th>8</th>\n",
       "      <td>accuracy</td>\n",
       "      <td>rf_bill_baseline_squared_error_True_-0.00275_0...</td>\n",
       "      <td>rf</td>\n",
       "      <td>bill</td>\n",
       "      <td>baseline</td>\n",
       "      <td>0.00571</td>\n",
       "      <td>train</td>\n",
       "      <td>1.00000</td>\n",
       "    </tr>\n",
       "    <tr>\n",
       "      <th>9</th>\n",
       "      <td>f1</td>\n",
       "      <td>rf_bill_baseline_squared_error_True_-0.00275_0...</td>\n",
       "      <td>rf</td>\n",
       "      <td>bill</td>\n",
       "      <td>baseline</td>\n",
       "      <td>0.00606</td>\n",
       "      <td>train</td>\n",
       "      <td>1.00000</td>\n",
       "    </tr>\n",
       "    <tr>\n",
       "      <th>13</th>\n",
       "      <td>accuracy</td>\n",
       "      <td>svm_bill_grid_misclassification_True_0.0_06-02...</td>\n",
       "      <td>svm</td>\n",
       "      <td>bill</td>\n",
       "      <td>grid</td>\n",
       "      <td>0.00000</td>\n",
       "      <td>train</td>\n",
       "      <td>1.00000</td>\n",
       "    </tr>\n",
       "  </tbody>\n",
       "</table>\n",
       "</div>"
      ],
      "text/plain": [
       "      metric                                           raw_path model dataset  \\\n",
       "0   accuracy  rf_bill_grid_squared_error_True_-0.00582_06-02...    rf    bill   \n",
       "1         f1  rf_bill_grid_squared_error_True_-0.00582_06-02...    rf    bill   \n",
       "8   accuracy  rf_bill_baseline_squared_error_True_-0.00275_0...    rf    bill   \n",
       "9         f1  rf_bill_baseline_squared_error_True_-0.00275_0...    rf    bill   \n",
       "13  accuracy  svm_bill_grid_misclassification_True_0.0_06-02...   svm    bill   \n",
       "\n",
       "        kind  difference data_split   score  \n",
       "0       grid     0.00471      train 0.99899  \n",
       "1       grid     0.00492      train 0.99885  \n",
       "8   baseline     0.00571      train 1.00000  \n",
       "9   baseline     0.00606      train 1.00000  \n",
       "13      grid     0.00000      train 1.00000  "
      ]
     },
     "execution_count": 16,
     "metadata": {},
     "output_type": "execute_result"
    }
   ],
   "source": [
    "# list all models ---\n",
    "models = list(os.walk(paths_to_create[1]))[0][2]\n",
    "\n",
    "print(\"--- --- LOADING ALL MODELS --- ---\")\n",
    "score_list, loaded_models = load_scores(paths_to_create[1], models)\n",
    "print(f\"Number of model : {len(loaded_models)}\")\n",
    "\n",
    "print(\"--- --- SCORES TO DF --- ---\")\n",
    "scores = pd.concat(score_list)\n",
    "scores.reset_index(inplace=True)\n",
    "scores.rename(columns={\"index\": \"metric\"}, inplace=True)\n",
    "scores = scores.melt(\n",
    "    id_vars=[\"metric\", \"raw_path\", \"model\", \"dataset\", \"kind\", \"difference\"],\n",
    "    var_name=\"data_split\",\n",
    "    value_name=\"score\",\n",
    ")\n",
    "\n",
    "scores = scores.query(\"dataset == @dataset\")\n",
    "\n",
    "scores.head()"
   ]
  },
  {
   "cell_type": "markdown",
   "id": "33202862-1917-4a8d-9e90-1cdec21cd329",
   "metadata": {},
   "source": [
    "### VISUALISATION DE LA PERFORMACE DES MODÈLES"
   ]
  },
  {
   "cell_type": "markdown",
   "id": "90319f22-5ecc-448f-88bf-bb327fb2b199",
   "metadata": {},
   "source": [
    "Nous voulons visualiser la performance des modèles. \n",
    "\n",
    "Nous avons calculé 3 métriques par modèle: \n",
    "- RMSLE (la métrique utilisée par kaggle pour la compétition des prix des maisons)\n",
    "- MAE\n",
    "- RMSE"
   ]
  },
  {
   "cell_type": "markdown",
   "id": "18124d00-9de1-408d-8379-1451d9d90038",
   "metadata": {},
   "source": [
    "Chaque modèle a été entraîner au minimum deux fois: \n",
    "- baseline (sans hyperparamètres)\n",
    "- Grid search \n",
    "\n",
    "Les modèles avec *feature importances* (*Random Forest* et *XGB*) possèdent un troisième *fit* effectué uniquement sur les attributs significatifs. Ce dernier fit utilise aussi un grid search.\n",
    "- refit"
   ]
  },
  {
   "cell_type": "markdown",
   "id": "83a3f19c-d548-4c43-a7ff-ad76651606a9",
   "metadata": {},
   "source": [
    "Les trois métriques mentionnées ont été calculées pour les 3 échantillons de données (*train*, *validation*, *test*).\n",
    "Aucun modèle n'a jamais vu les données de test (même pas pour du *early stopping*)."
   ]
  },
  {
   "cell_type": "code",
   "execution_count": 18,
   "id": "c71fb8c7-979a-44a0-be80-3086ac54237d",
   "metadata": {},
   "outputs": [
    {
     "data": {
      "application/vnd.plotly.v1+json": {
       "config": {
        "plotlyServerURL": "https://plot.ly"
       },
       "data": [
        {
         "hovertemplate": "train error - val accuracy: %{x} <br> SCORE: %{y} </br> MODEL :%{text}",
         "marker": {
          "color": "rgb(127, 60, 141)",
          "line": {
           "width": 1.5
          },
          "opacity": 0.8,
          "size": 14,
          "symbol": "circle"
         },
         "mode": "markers",
         "name": "train_grid",
         "text": [
          "rf_grid",
          "svm_grid",
          "xgb_grid",
          "mlp_grid"
         ],
         "type": "scatter",
         "x": [
          0.00470520397866514,
          0,
          0.005714285714285672,
          -0.004036326942482349
         ],
         "y": [
          0.9989909182643795,
          1,
          1,
          0.9959636730575177
         ]
        },
        {
         "mode": "text",
         "showlegend": false,
         "text": [
          "rf_grid",
          "svm_grid",
          "xgb_grid",
          "mlp_grid"
         ],
         "textposition": "bottom center",
         "type": "scatter",
         "x": [
          0.00470520397866514,
          0,
          0.005714285714285672,
          -0.004036326942482349
         ],
         "y": [
          0.9789909182643795,
          0.98,
          0.98,
          0.9759636730575176
         ]
        },
        {
         "hovertemplate": "train error - val accuracy: %{x} <br> SCORE: %{y} </br> MODEL :%{text}",
         "marker": {
          "color": "rgb(17, 165, 121)",
          "line": {
           "width": 1.5
          },
          "opacity": 0.8,
          "size": 14,
          "symbol": "circle"
         },
         "mode": "markers",
         "name": "train_baseline",
         "text": [
          "rf_baseline",
          "mlp_baseline",
          "xgb_baseline",
          "xgb_baseline",
          "svm_baseline"
         ],
         "type": "scatter",
         "x": [
          0.005714285714285672,
          -0.019524290038921643,
          0.011428571428571455,
          0.011428571428571455,
          0
         ],
         "y": [
          1,
          0.9576185671039354,
          1,
          1,
          1
         ]
        },
        {
         "mode": "text",
         "showlegend": false,
         "text": [
          "rf_baseline",
          "mlp_baseline",
          "xgb_baseline",
          "xgb_baseline",
          "svm_baseline"
         ],
         "textposition": "bottom center",
         "type": "scatter",
         "x": [
          0.005714285714285672,
          -0.019524290038921643,
          0.011428571428571455,
          0.011428571428571455,
          0
         ],
         "y": [
          0.98,
          0.9376185671039354,
          0.98,
          0.98,
          0.98
         ]
        },
        {
         "hovertemplate": "train error - val accuracy: %{x} <br> SCORE: %{y} </br> MODEL :%{text}",
         "marker": {
          "color": "rgb(57, 105, 172)",
          "line": {
           "width": 1.5
          },
          "opacity": 0.8,
          "size": 14,
          "symbol": "circle"
         },
         "mode": "markers",
         "name": "train_refit",
         "text": [
          "xgb_refit",
          "rf_refit"
         ],
         "type": "scatter",
         "x": [
          0.005714285714285672,
          0.00470520397866514
         ],
         "y": [
          1,
          0.9989909182643795
         ]
        },
        {
         "mode": "text",
         "showlegend": false,
         "text": [
          "xgb_refit",
          "rf_refit"
         ],
         "textposition": "bottom center",
         "type": "scatter",
         "x": [
          0.005714285714285672,
          0.00470520397866514
         ],
         "y": [
          0.98,
          0.9789909182643795
         ]
        },
        {
         "hovertemplate": "train error - val accuracy: %{x} <br> SCORE: %{y} </br> MODEL :%{text}",
         "marker": {
          "color": "rgb(127, 60, 141)",
          "line": {
           "width": 1.5
          },
          "opacity": 0.8,
          "size": 14,
          "symbol": "circle-open-dot"
         },
         "mode": "markers",
         "name": "val_grid",
         "text": [
          "rf_grid",
          "svm_grid",
          "xgb_grid",
          "mlp_grid"
         ],
         "type": "scatter",
         "x": [
          0.00470520397866514,
          0,
          0.005714285714285672,
          -0.004036326942482349
         ],
         "y": [
          0.9942857142857143,
          1,
          0.9942857142857143,
          1
         ]
        },
        {
         "hovertemplate": "train error - val accuracy: %{x} <br> SCORE: %{y} </br> MODEL :%{text}",
         "marker": {
          "color": "rgb(17, 165, 121)",
          "line": {
           "width": 1.5
          },
          "opacity": 0.8,
          "size": 14,
          "symbol": "circle-open-dot"
         },
         "mode": "markers",
         "name": "val_baseline",
         "text": [
          "rf_baseline",
          "mlp_baseline",
          "xgb_baseline",
          "xgb_baseline",
          "svm_baseline"
         ],
         "type": "scatter",
         "x": [
          0.005714285714285672,
          -0.019524290038921643,
          0.011428571428571455,
          0.011428571428571455,
          0
         ],
         "y": [
          0.9942857142857143,
          0.9771428571428571,
          0.9885714285714285,
          0.9885714285714285,
          1
         ]
        },
        {
         "hovertemplate": "train error - val accuracy: %{x} <br> SCORE: %{y} </br> MODEL :%{text}",
         "marker": {
          "color": "rgb(57, 105, 172)",
          "line": {
           "width": 1.5
          },
          "opacity": 0.8,
          "size": 14,
          "symbol": "circle-open-dot"
         },
         "mode": "markers",
         "name": "val_refit",
         "text": [
          "xgb_refit",
          "rf_refit"
         ],
         "type": "scatter",
         "x": [
          0.005714285714285672,
          0.00470520397866514
         ],
         "y": [
          0.9942857142857143,
          0.9942857142857143
         ]
        },
        {
         "hovertemplate": "train error - val accuracy: %{x} <br> SCORE: %{y} </br> MODEL :%{text}",
         "marker": {
          "color": "rgb(127, 60, 141)",
          "line": {
           "width": 1.5
          },
          "opacity": 0.8,
          "size": 14,
          "symbol": "star"
         },
         "mode": "markers",
         "name": "test_grid",
         "text": [
          "rf_grid",
          "svm_grid",
          "xgb_grid",
          "mlp_grid"
         ],
         "type": "scatter",
         "x": [
          0.00470520397866514,
          0,
          0.005714285714285672,
          -0.004036326942482349
         ],
         "y": [
          1,
          1,
          1,
          0.9951456310679612
         ]
        },
        {
         "hovertemplate": "train error - val accuracy: %{x} <br> SCORE: %{y} </br> MODEL :%{text}",
         "marker": {
          "color": "rgb(17, 165, 121)",
          "line": {
           "width": 1.5
          },
          "opacity": 0.8,
          "size": 14,
          "symbol": "star"
         },
         "mode": "markers",
         "name": "test_baseline",
         "text": [
          "rf_baseline",
          "mlp_baseline",
          "xgb_baseline",
          "xgb_baseline",
          "svm_baseline"
         ],
         "type": "scatter",
         "x": [
          0.005714285714285672,
          -0.019524290038921643,
          0.011428571428571455,
          0.011428571428571455,
          0
         ],
         "y": [
          1,
          0.9854368932038835,
          0.9902912621359223,
          0.9902912621359223,
          1
         ]
        },
        {
         "hovertemplate": "train error - val accuracy: %{x} <br> SCORE: %{y} </br> MODEL :%{text}",
         "marker": {
          "color": "rgb(57, 105, 172)",
          "line": {
           "width": 1.5
          },
          "opacity": 0.8,
          "size": 14,
          "symbol": "star"
         },
         "mode": "markers",
         "name": "test_refit",
         "text": [
          "xgb_refit",
          "rf_refit"
         ],
         "type": "scatter",
         "x": [
          0.005714285714285672,
          0.00470520397866514
         ],
         "y": [
          1,
          1
         ]
        }
       ],
       "layout": {
        "annotations": [
         {
          "arrowhead": 1,
          "showarrow": true,
          "text": "Meilleur test score 1.0",
          "x": -0.019524290038921643,
          "y": 1
         }
        ],
        "autosize": true,
        "font": {
         "family": "Courier New, monospace",
         "size": 12
        },
        "legend": {
         "title": {
          "text": "Model and fit type"
         }
        },
        "shapes": [
         {
          "line": {
           "color": "Purple"
          },
          "type": "line",
          "x0": -0.019524290038921643,
          "x1": 0.011428571428571455,
          "xref": "x",
          "y0": 1,
          "y1": 1,
          "yref": "y"
         }
        ],
        "template": {
         "data": {
          "bar": [
           {
            "error_x": {
             "color": "#2a3f5f"
            },
            "error_y": {
             "color": "#2a3f5f"
            },
            "marker": {
             "line": {
              "color": "#E5ECF6",
              "width": 0.5
             },
             "pattern": {
              "fillmode": "overlay",
              "size": 10,
              "solidity": 0.2
             }
            },
            "type": "bar"
           }
          ],
          "barpolar": [
           {
            "marker": {
             "line": {
              "color": "#E5ECF6",
              "width": 0.5
             },
             "pattern": {
              "fillmode": "overlay",
              "size": 10,
              "solidity": 0.2
             }
            },
            "type": "barpolar"
           }
          ],
          "carpet": [
           {
            "aaxis": {
             "endlinecolor": "#2a3f5f",
             "gridcolor": "white",
             "linecolor": "white",
             "minorgridcolor": "white",
             "startlinecolor": "#2a3f5f"
            },
            "baxis": {
             "endlinecolor": "#2a3f5f",
             "gridcolor": "white",
             "linecolor": "white",
             "minorgridcolor": "white",
             "startlinecolor": "#2a3f5f"
            },
            "type": "carpet"
           }
          ],
          "choropleth": [
           {
            "colorbar": {
             "outlinewidth": 0,
             "ticks": ""
            },
            "type": "choropleth"
           }
          ],
          "contour": [
           {
            "colorbar": {
             "outlinewidth": 0,
             "ticks": ""
            },
            "colorscale": [
             [
              0,
              "#0d0887"
             ],
             [
              0.1111111111111111,
              "#46039f"
             ],
             [
              0.2222222222222222,
              "#7201a8"
             ],
             [
              0.3333333333333333,
              "#9c179e"
             ],
             [
              0.4444444444444444,
              "#bd3786"
             ],
             [
              0.5555555555555556,
              "#d8576b"
             ],
             [
              0.6666666666666666,
              "#ed7953"
             ],
             [
              0.7777777777777778,
              "#fb9f3a"
             ],
             [
              0.8888888888888888,
              "#fdca26"
             ],
             [
              1,
              "#f0f921"
             ]
            ],
            "type": "contour"
           }
          ],
          "contourcarpet": [
           {
            "colorbar": {
             "outlinewidth": 0,
             "ticks": ""
            },
            "type": "contourcarpet"
           }
          ],
          "heatmap": [
           {
            "colorbar": {
             "outlinewidth": 0,
             "ticks": ""
            },
            "colorscale": [
             [
              0,
              "#0d0887"
             ],
             [
              0.1111111111111111,
              "#46039f"
             ],
             [
              0.2222222222222222,
              "#7201a8"
             ],
             [
              0.3333333333333333,
              "#9c179e"
             ],
             [
              0.4444444444444444,
              "#bd3786"
             ],
             [
              0.5555555555555556,
              "#d8576b"
             ],
             [
              0.6666666666666666,
              "#ed7953"
             ],
             [
              0.7777777777777778,
              "#fb9f3a"
             ],
             [
              0.8888888888888888,
              "#fdca26"
             ],
             [
              1,
              "#f0f921"
             ]
            ],
            "type": "heatmap"
           }
          ],
          "heatmapgl": [
           {
            "colorbar": {
             "outlinewidth": 0,
             "ticks": ""
            },
            "colorscale": [
             [
              0,
              "#0d0887"
             ],
             [
              0.1111111111111111,
              "#46039f"
             ],
             [
              0.2222222222222222,
              "#7201a8"
             ],
             [
              0.3333333333333333,
              "#9c179e"
             ],
             [
              0.4444444444444444,
              "#bd3786"
             ],
             [
              0.5555555555555556,
              "#d8576b"
             ],
             [
              0.6666666666666666,
              "#ed7953"
             ],
             [
              0.7777777777777778,
              "#fb9f3a"
             ],
             [
              0.8888888888888888,
              "#fdca26"
             ],
             [
              1,
              "#f0f921"
             ]
            ],
            "type": "heatmapgl"
           }
          ],
          "histogram": [
           {
            "marker": {
             "pattern": {
              "fillmode": "overlay",
              "size": 10,
              "solidity": 0.2
             }
            },
            "type": "histogram"
           }
          ],
          "histogram2d": [
           {
            "colorbar": {
             "outlinewidth": 0,
             "ticks": ""
            },
            "colorscale": [
             [
              0,
              "#0d0887"
             ],
             [
              0.1111111111111111,
              "#46039f"
             ],
             [
              0.2222222222222222,
              "#7201a8"
             ],
             [
              0.3333333333333333,
              "#9c179e"
             ],
             [
              0.4444444444444444,
              "#bd3786"
             ],
             [
              0.5555555555555556,
              "#d8576b"
             ],
             [
              0.6666666666666666,
              "#ed7953"
             ],
             [
              0.7777777777777778,
              "#fb9f3a"
             ],
             [
              0.8888888888888888,
              "#fdca26"
             ],
             [
              1,
              "#f0f921"
             ]
            ],
            "type": "histogram2d"
           }
          ],
          "histogram2dcontour": [
           {
            "colorbar": {
             "outlinewidth": 0,
             "ticks": ""
            },
            "colorscale": [
             [
              0,
              "#0d0887"
             ],
             [
              0.1111111111111111,
              "#46039f"
             ],
             [
              0.2222222222222222,
              "#7201a8"
             ],
             [
              0.3333333333333333,
              "#9c179e"
             ],
             [
              0.4444444444444444,
              "#bd3786"
             ],
             [
              0.5555555555555556,
              "#d8576b"
             ],
             [
              0.6666666666666666,
              "#ed7953"
             ],
             [
              0.7777777777777778,
              "#fb9f3a"
             ],
             [
              0.8888888888888888,
              "#fdca26"
             ],
             [
              1,
              "#f0f921"
             ]
            ],
            "type": "histogram2dcontour"
           }
          ],
          "mesh3d": [
           {
            "colorbar": {
             "outlinewidth": 0,
             "ticks": ""
            },
            "type": "mesh3d"
           }
          ],
          "parcoords": [
           {
            "line": {
             "colorbar": {
              "outlinewidth": 0,
              "ticks": ""
             }
            },
            "type": "parcoords"
           }
          ],
          "pie": [
           {
            "automargin": true,
            "type": "pie"
           }
          ],
          "scatter": [
           {
            "marker": {
             "colorbar": {
              "outlinewidth": 0,
              "ticks": ""
             }
            },
            "type": "scatter"
           }
          ],
          "scatter3d": [
           {
            "line": {
             "colorbar": {
              "outlinewidth": 0,
              "ticks": ""
             }
            },
            "marker": {
             "colorbar": {
              "outlinewidth": 0,
              "ticks": ""
             }
            },
            "type": "scatter3d"
           }
          ],
          "scattercarpet": [
           {
            "marker": {
             "colorbar": {
              "outlinewidth": 0,
              "ticks": ""
             }
            },
            "type": "scattercarpet"
           }
          ],
          "scattergeo": [
           {
            "marker": {
             "colorbar": {
              "outlinewidth": 0,
              "ticks": ""
             }
            },
            "type": "scattergeo"
           }
          ],
          "scattergl": [
           {
            "marker": {
             "colorbar": {
              "outlinewidth": 0,
              "ticks": ""
             }
            },
            "type": "scattergl"
           }
          ],
          "scattermapbox": [
           {
            "marker": {
             "colorbar": {
              "outlinewidth": 0,
              "ticks": ""
             }
            },
            "type": "scattermapbox"
           }
          ],
          "scatterpolar": [
           {
            "marker": {
             "colorbar": {
              "outlinewidth": 0,
              "ticks": ""
             }
            },
            "type": "scatterpolar"
           }
          ],
          "scatterpolargl": [
           {
            "marker": {
             "colorbar": {
              "outlinewidth": 0,
              "ticks": ""
             }
            },
            "type": "scatterpolargl"
           }
          ],
          "scatterternary": [
           {
            "marker": {
             "colorbar": {
              "outlinewidth": 0,
              "ticks": ""
             }
            },
            "type": "scatterternary"
           }
          ],
          "surface": [
           {
            "colorbar": {
             "outlinewidth": 0,
             "ticks": ""
            },
            "colorscale": [
             [
              0,
              "#0d0887"
             ],
             [
              0.1111111111111111,
              "#46039f"
             ],
             [
              0.2222222222222222,
              "#7201a8"
             ],
             [
              0.3333333333333333,
              "#9c179e"
             ],
             [
              0.4444444444444444,
              "#bd3786"
             ],
             [
              0.5555555555555556,
              "#d8576b"
             ],
             [
              0.6666666666666666,
              "#ed7953"
             ],
             [
              0.7777777777777778,
              "#fb9f3a"
             ],
             [
              0.8888888888888888,
              "#fdca26"
             ],
             [
              1,
              "#f0f921"
             ]
            ],
            "type": "surface"
           }
          ],
          "table": [
           {
            "cells": {
             "fill": {
              "color": "#EBF0F8"
             },
             "line": {
              "color": "white"
             }
            },
            "header": {
             "fill": {
              "color": "#C8D4E3"
             },
             "line": {
              "color": "white"
             }
            },
            "type": "table"
           }
          ]
         },
         "layout": {
          "annotationdefaults": {
           "arrowcolor": "#2a3f5f",
           "arrowhead": 0,
           "arrowwidth": 1
          },
          "autotypenumbers": "strict",
          "coloraxis": {
           "colorbar": {
            "outlinewidth": 0,
            "ticks": ""
           }
          },
          "colorscale": {
           "diverging": [
            [
             0,
             "#8e0152"
            ],
            [
             0.1,
             "#c51b7d"
            ],
            [
             0.2,
             "#de77ae"
            ],
            [
             0.3,
             "#f1b6da"
            ],
            [
             0.4,
             "#fde0ef"
            ],
            [
             0.5,
             "#f7f7f7"
            ],
            [
             0.6,
             "#e6f5d0"
            ],
            [
             0.7,
             "#b8e186"
            ],
            [
             0.8,
             "#7fbc41"
            ],
            [
             0.9,
             "#4d9221"
            ],
            [
             1,
             "#276419"
            ]
           ],
           "sequential": [
            [
             0,
             "#0d0887"
            ],
            [
             0.1111111111111111,
             "#46039f"
            ],
            [
             0.2222222222222222,
             "#7201a8"
            ],
            [
             0.3333333333333333,
             "#9c179e"
            ],
            [
             0.4444444444444444,
             "#bd3786"
            ],
            [
             0.5555555555555556,
             "#d8576b"
            ],
            [
             0.6666666666666666,
             "#ed7953"
            ],
            [
             0.7777777777777778,
             "#fb9f3a"
            ],
            [
             0.8888888888888888,
             "#fdca26"
            ],
            [
             1,
             "#f0f921"
            ]
           ],
           "sequentialminus": [
            [
             0,
             "#0d0887"
            ],
            [
             0.1111111111111111,
             "#46039f"
            ],
            [
             0.2222222222222222,
             "#7201a8"
            ],
            [
             0.3333333333333333,
             "#9c179e"
            ],
            [
             0.4444444444444444,
             "#bd3786"
            ],
            [
             0.5555555555555556,
             "#d8576b"
            ],
            [
             0.6666666666666666,
             "#ed7953"
            ],
            [
             0.7777777777777778,
             "#fb9f3a"
            ],
            [
             0.8888888888888888,
             "#fdca26"
            ],
            [
             1,
             "#f0f921"
            ]
           ]
          },
          "colorway": [
           "#636efa",
           "#EF553B",
           "#00cc96",
           "#ab63fa",
           "#FFA15A",
           "#19d3f3",
           "#FF6692",
           "#B6E880",
           "#FF97FF",
           "#FECB52"
          ],
          "font": {
           "color": "#2a3f5f"
          },
          "geo": {
           "bgcolor": "white",
           "lakecolor": "white",
           "landcolor": "#E5ECF6",
           "showlakes": true,
           "showland": true,
           "subunitcolor": "white"
          },
          "hoverlabel": {
           "align": "left"
          },
          "hovermode": "closest",
          "mapbox": {
           "style": "light"
          },
          "paper_bgcolor": "white",
          "plot_bgcolor": "#E5ECF6",
          "polar": {
           "angularaxis": {
            "gridcolor": "white",
            "linecolor": "white",
            "ticks": ""
           },
           "bgcolor": "#E5ECF6",
           "radialaxis": {
            "gridcolor": "white",
            "linecolor": "white",
            "ticks": ""
           }
          },
          "scene": {
           "xaxis": {
            "backgroundcolor": "#E5ECF6",
            "gridcolor": "white",
            "gridwidth": 2,
            "linecolor": "white",
            "showbackground": true,
            "ticks": "",
            "zerolinecolor": "white"
           },
           "yaxis": {
            "backgroundcolor": "#E5ECF6",
            "gridcolor": "white",
            "gridwidth": 2,
            "linecolor": "white",
            "showbackground": true,
            "ticks": "",
            "zerolinecolor": "white"
           },
           "zaxis": {
            "backgroundcolor": "#E5ECF6",
            "gridcolor": "white",
            "gridwidth": 2,
            "linecolor": "white",
            "showbackground": true,
            "ticks": "",
            "zerolinecolor": "white"
           }
          },
          "shapedefaults": {
           "line": {
            "color": "#2a3f5f"
           }
          },
          "ternary": {
           "aaxis": {
            "gridcolor": "white",
            "linecolor": "white",
            "ticks": ""
           },
           "baxis": {
            "gridcolor": "white",
            "linecolor": "white",
            "ticks": ""
           },
           "bgcolor": "#E5ECF6",
           "caxis": {
            "gridcolor": "white",
            "linecolor": "white",
            "ticks": ""
           }
          },
          "title": {
           "x": 0.05
          },
          "xaxis": {
           "automargin": true,
           "gridcolor": "white",
           "linecolor": "white",
           "ticks": "",
           "title": {
            "standoff": 15
           },
           "zerolinecolor": "white",
           "zerolinewidth": 2
          },
          "yaxis": {
           "automargin": true,
           "gridcolor": "white",
           "linecolor": "white",
           "ticks": "",
           "title": {
            "standoff": 15
           },
           "zerolinecolor": "white",
           "zerolinewidth": 2
          }
         }
        },
        "title": {
         "text": "ML performance by model on bill data. Metric : accuracy <br>ligne: meilleur test score </br>"
        },
        "xaxis": {
         "autorange": true,
         "range": [
          -0.02396921792589846,
          0.01372947527594769
         ],
         "title": {
          "text": "Train error - validation error"
         },
         "type": "linear"
        },
        "yaxis": {
         "autorange": true,
         "range": [
          0.9333652875882946,
          1.01843087790111
         ],
         "title": {
          "text": "Validation accuracy"
         },
         "type": "linear"
        }
       }
      },
      "image/png": "[encoded data removed]",
      "text/html": [
       "<div>                            <div id=\"0f4622f2-1187-47eb-b45b-2d3ae0e88dde\" class=\"plotly-graph-div\" style=\"height:525px; width:100%;\"></div>            <script type=\"text/javascript\">                require([\"plotly\"], function(Plotly) {                    window.PLOTLYENV=window.PLOTLYENV || {};                                    if (document.getElementById(\"0f4622f2-1187-47eb-b45b-2d3ae0e88dde\")) {                    Plotly.newPlot(                        \"0f4622f2-1187-47eb-b45b-2d3ae0e88dde\",                        [{\"hovertemplate\":\"train error - val accuracy: %{x} <br> SCORE: %{y} </br> MODEL :%{text}\",\"marker\":{\"color\":\"rgb(127, 60, 141)\",\"line\":{\"width\":1.5},\"opacity\":0.8,\"size\":14,\"symbol\":\"circle\"},\"mode\":\"markers\",\"name\":\"train_grid\",\"text\":[\"rf_grid\",\"svm_grid\",\"xgb_grid\",\"mlp_grid\"],\"x\":[0.00470520397866514,0.0,0.005714285714285672,-0.004036326942482349],\"y\":[0.9989909182643795,1.0,1.0,0.9959636730575177],\"type\":\"scatter\"},{\"mode\":\"text\",\"showlegend\":false,\"text\":[\"rf_grid\",\"svm_grid\",\"xgb_grid\",\"mlp_grid\"],\"textposition\":\"bottom center\",\"x\":[0.00470520397866514,0.0,0.005714285714285672,-0.004036326942482349],\"y\":[0.9789909182643795,0.98,0.98,0.9759636730575176],\"type\":\"scatter\"},{\"hovertemplate\":\"train error - val accuracy: %{x} <br> SCORE: %{y} </br> MODEL :%{text}\",\"marker\":{\"color\":\"rgb(17, 165, 121)\",\"line\":{\"width\":1.5},\"opacity\":0.8,\"size\":14,\"symbol\":\"circle\"},\"mode\":\"markers\",\"name\":\"train_baseline\",\"text\":[\"rf_baseline\",\"mlp_baseline\",\"xgb_baseline\",\"xgb_baseline\",\"svm_baseline\"],\"x\":[0.005714285714285672,-0.019524290038921643,0.011428571428571455,0.011428571428571455,0.0],\"y\":[1.0,0.9576185671039354,1.0,1.0,1.0],\"type\":\"scatter\"},{\"mode\":\"text\",\"showlegend\":false,\"text\":[\"rf_baseline\",\"mlp_baseline\",\"xgb_baseline\",\"xgb_baseline\",\"svm_baseline\"],\"textposition\":\"bottom center\",\"x\":[0.005714285714285672,-0.019524290038921643,0.011428571428571455,0.011428571428571455,0.0],\"y\":[0.98,0.9376185671039354,0.98,0.98,0.98],\"type\":\"scatter\"},{\"hovertemplate\":\"train error - val accuracy: %{x} <br> SCORE: %{y} </br> MODEL :%{text}\",\"marker\":{\"color\":\"rgb(57, 105, 172)\",\"line\":{\"width\":1.5},\"opacity\":0.8,\"size\":14,\"symbol\":\"circle\"},\"mode\":\"markers\",\"name\":\"train_refit\",\"text\":[\"xgb_refit\",\"rf_refit\"],\"x\":[0.005714285714285672,0.00470520397866514],\"y\":[1.0,0.9989909182643795],\"type\":\"scatter\"},{\"mode\":\"text\",\"showlegend\":false,\"text\":[\"xgb_refit\",\"rf_refit\"],\"textposition\":\"bottom center\",\"x\":[0.005714285714285672,0.00470520397866514],\"y\":[0.98,0.9789909182643795],\"type\":\"scatter\"},{\"hovertemplate\":\"train error - val accuracy: %{x} <br> SCORE: %{y} </br> MODEL :%{text}\",\"marker\":{\"color\":\"rgb(127, 60, 141)\",\"line\":{\"width\":1.5},\"opacity\":0.8,\"size\":14,\"symbol\":\"circle-open-dot\"},\"mode\":\"markers\",\"name\":\"val_grid\",\"text\":[\"rf_grid\",\"svm_grid\",\"xgb_grid\",\"mlp_grid\"],\"x\":[0.00470520397866514,0.0,0.005714285714285672,-0.004036326942482349],\"y\":[0.9942857142857143,1.0,0.9942857142857143,1.0],\"type\":\"scatter\"},{\"hovertemplate\":\"train error - val accuracy: %{x} <br> SCORE: %{y} </br> MODEL :%{text}\",\"marker\":{\"color\":\"rgb(17, 165, 121)\",\"line\":{\"width\":1.5},\"opacity\":0.8,\"size\":14,\"symbol\":\"circle-open-dot\"},\"mode\":\"markers\",\"name\":\"val_baseline\",\"text\":[\"rf_baseline\",\"mlp_baseline\",\"xgb_baseline\",\"xgb_baseline\",\"svm_baseline\"],\"x\":[0.005714285714285672,-0.019524290038921643,0.011428571428571455,0.011428571428571455,0.0],\"y\":[0.9942857142857143,0.9771428571428571,0.9885714285714285,0.9885714285714285,1.0],\"type\":\"scatter\"},{\"hovertemplate\":\"train error - val accuracy: %{x} <br> SCORE: %{y} </br> MODEL :%{text}\",\"marker\":{\"color\":\"rgb(57, 105, 172)\",\"line\":{\"width\":1.5},\"opacity\":0.8,\"size\":14,\"symbol\":\"circle-open-dot\"},\"mode\":\"markers\",\"name\":\"val_refit\",\"text\":[\"xgb_refit\",\"rf_refit\"],\"x\":[0.005714285714285672,0.00470520397866514],\"y\":[0.9942857142857143,0.9942857142857143],\"type\":\"scatter\"},{\"hovertemplate\":\"train error - val accuracy: %{x} <br> SCORE: %{y} </br> MODEL :%{text}\",\"marker\":{\"color\":\"rgb(127, 60, 141)\",\"line\":{\"width\":1.5},\"opacity\":0.8,\"size\":14,\"symbol\":\"star\"},\"mode\":\"markers\",\"name\":\"test_grid\",\"text\":[\"rf_grid\",\"svm_grid\",\"xgb_grid\",\"mlp_grid\"],\"x\":[0.00470520397866514,0.0,0.005714285714285672,-0.004036326942482349],\"y\":[1.0,1.0,1.0,0.9951456310679612],\"type\":\"scatter\"},{\"hovertemplate\":\"train error - val accuracy: %{x} <br> SCORE: %{y} </br> MODEL :%{text}\",\"marker\":{\"color\":\"rgb(17, 165, 121)\",\"line\":{\"width\":1.5},\"opacity\":0.8,\"size\":14,\"symbol\":\"star\"},\"mode\":\"markers\",\"name\":\"test_baseline\",\"text\":[\"rf_baseline\",\"mlp_baseline\",\"xgb_baseline\",\"xgb_baseline\",\"svm_baseline\"],\"x\":[0.005714285714285672,-0.019524290038921643,0.011428571428571455,0.011428571428571455,0.0],\"y\":[1.0,0.9854368932038835,0.9902912621359223,0.9902912621359223,1.0],\"type\":\"scatter\"},{\"hovertemplate\":\"train error - val accuracy: %{x} <br> SCORE: %{y} </br> MODEL :%{text}\",\"marker\":{\"color\":\"rgb(57, 105, 172)\",\"line\":{\"width\":1.5},\"opacity\":0.8,\"size\":14,\"symbol\":\"star\"},\"mode\":\"markers\",\"name\":\"test_refit\",\"text\":[\"xgb_refit\",\"rf_refit\"],\"x\":[0.005714285714285672,0.00470520397866514],\"y\":[1.0,1.0],\"type\":\"scatter\"}],                        {\"template\":{\"data\":{\"bar\":[{\"error_x\":{\"color\":\"#2a3f5f\"},\"error_y\":{\"color\":\"#2a3f5f\"},\"marker\":{\"line\":{\"color\":\"#E5ECF6\",\"width\":0.5},\"pattern\":{\"fillmode\":\"overlay\",\"size\":10,\"solidity\":0.2}},\"type\":\"bar\"}],\"barpolar\":[{\"marker\":{\"line\":{\"color\":\"#E5ECF6\",\"width\":0.5},\"pattern\":{\"fillmode\":\"overlay\",\"size\":10,\"solidity\":0.2}},\"type\":\"barpolar\"}],\"carpet\":[{\"aaxis\":{\"endlinecolor\":\"#2a3f5f\",\"gridcolor\":\"white\",\"linecolor\":\"white\",\"minorgridcolor\":\"white\",\"startlinecolor\":\"#2a3f5f\"},\"baxis\":{\"endlinecolor\":\"#2a3f5f\",\"gridcolor\":\"white\",\"linecolor\":\"white\",\"minorgridcolor\":\"white\",\"startlinecolor\":\"#2a3f5f\"},\"type\":\"carpet\"}],\"choropleth\":[{\"colorbar\":{\"outlinewidth\":0,\"ticks\":\"\"},\"type\":\"choropleth\"}],\"contour\":[{\"colorbar\":{\"outlinewidth\":0,\"ticks\":\"\"},\"colorscale\":[[0.0,\"#0d0887\"],[0.1111111111111111,\"#46039f\"],[0.2222222222222222,\"#7201a8\"],[0.3333333333333333,\"#9c179e\"],[0.4444444444444444,\"#bd3786\"],[0.5555555555555556,\"#d8576b\"],[0.6666666666666666,\"#ed7953\"],[0.7777777777777778,\"#fb9f3a\"],[0.8888888888888888,\"#fdca26\"],[1.0,\"#f0f921\"]],\"type\":\"contour\"}],\"contourcarpet\":[{\"colorbar\":{\"outlinewidth\":0,\"ticks\":\"\"},\"type\":\"contourcarpet\"}],\"heatmap\":[{\"colorbar\":{\"outlinewidth\":0,\"ticks\":\"\"},\"colorscale\":[[0.0,\"#0d0887\"],[0.1111111111111111,\"#46039f\"],[0.2222222222222222,\"#7201a8\"],[0.3333333333333333,\"#9c179e\"],[0.4444444444444444,\"#bd3786\"],[0.5555555555555556,\"#d8576b\"],[0.6666666666666666,\"#ed7953\"],[0.7777777777777778,\"#fb9f3a\"],[0.8888888888888888,\"#fdca26\"],[1.0,\"#f0f921\"]],\"type\":\"heatmap\"}],\"heatmapgl\":[{\"colorbar\":{\"outlinewidth\":0,\"ticks\":\"\"},\"colorscale\":[[0.0,\"#0d0887\"],[0.1111111111111111,\"#46039f\"],[0.2222222222222222,\"#7201a8\"],[0.3333333333333333,\"#9c179e\"],[0.4444444444444444,\"#bd3786\"],[0.5555555555555556,\"#d8576b\"],[0.6666666666666666,\"#ed7953\"],[0.7777777777777778,\"#fb9f3a\"],[0.8888888888888888,\"#fdca26\"],[1.0,\"#f0f921\"]],\"type\":\"heatmapgl\"}],\"histogram\":[{\"marker\":{\"pattern\":{\"fillmode\":\"overlay\",\"size\":10,\"solidity\":0.2}},\"type\":\"histogram\"}],\"histogram2d\":[{\"colorbar\":{\"outlinewidth\":0,\"ticks\":\"\"},\"colorscale\":[[0.0,\"#0d0887\"],[0.1111111111111111,\"#46039f\"],[0.2222222222222222,\"#7201a8\"],[0.3333333333333333,\"#9c179e\"],[0.4444444444444444,\"#bd3786\"],[0.5555555555555556,\"#d8576b\"],[0.6666666666666666,\"#ed7953\"],[0.7777777777777778,\"#fb9f3a\"],[0.8888888888888888,\"#fdca26\"],[1.0,\"#f0f921\"]],\"type\":\"histogram2d\"}],\"histogram2dcontour\":[{\"colorbar\":{\"outlinewidth\":0,\"ticks\":\"\"},\"colorscale\":[[0.0,\"#0d0887\"],[0.1111111111111111,\"#46039f\"],[0.2222222222222222,\"#7201a8\"],[0.3333333333333333,\"#9c179e\"],[0.4444444444444444,\"#bd3786\"],[0.5555555555555556,\"#d8576b\"],[0.6666666666666666,\"#ed7953\"],[0.7777777777777778,\"#fb9f3a\"],[0.8888888888888888,\"#fdca26\"],[1.0,\"#f0f921\"]],\"type\":\"histogram2dcontour\"}],\"mesh3d\":[{\"colorbar\":{\"outlinewidth\":0,\"ticks\":\"\"},\"type\":\"mesh3d\"}],\"parcoords\":[{\"line\":{\"colorbar\":{\"outlinewidth\":0,\"ticks\":\"\"}},\"type\":\"parcoords\"}],\"pie\":[{\"automargin\":true,\"type\":\"pie\"}],\"scatter\":[{\"marker\":{\"colorbar\":{\"outlinewidth\":0,\"ticks\":\"\"}},\"type\":\"scatter\"}],\"scatter3d\":[{\"line\":{\"colorbar\":{\"outlinewidth\":0,\"ticks\":\"\"}},\"marker\":{\"colorbar\":{\"outlinewidth\":0,\"ticks\":\"\"}},\"type\":\"scatter3d\"}],\"scattercarpet\":[{\"marker\":{\"colorbar\":{\"outlinewidth\":0,\"ticks\":\"\"}},\"type\":\"scattercarpet\"}],\"scattergeo\":[{\"marker\":{\"colorbar\":{\"outlinewidth\":0,\"ticks\":\"\"}},\"type\":\"scattergeo\"}],\"scattergl\":[{\"marker\":{\"colorbar\":{\"outlinewidth\":0,\"ticks\":\"\"}},\"type\":\"scattergl\"}],\"scattermapbox\":[{\"marker\":{\"colorbar\":{\"outlinewidth\":0,\"ticks\":\"\"}},\"type\":\"scattermapbox\"}],\"scatterpolar\":[{\"marker\":{\"colorbar\":{\"outlinewidth\":0,\"ticks\":\"\"}},\"type\":\"scatterpolar\"}],\"scatterpolargl\":[{\"marker\":{\"colorbar\":{\"outlinewidth\":0,\"ticks\":\"\"}},\"type\":\"scatterpolargl\"}],\"scatterternary\":[{\"marker\":{\"colorbar\":{\"outlinewidth\":0,\"ticks\":\"\"}},\"type\":\"scatterternary\"}],\"surface\":[{\"colorbar\":{\"outlinewidth\":0,\"ticks\":\"\"},\"colorscale\":[[0.0,\"#0d0887\"],[0.1111111111111111,\"#46039f\"],[0.2222222222222222,\"#7201a8\"],[0.3333333333333333,\"#9c179e\"],[0.4444444444444444,\"#bd3786\"],[0.5555555555555556,\"#d8576b\"],[0.6666666666666666,\"#ed7953\"],[0.7777777777777778,\"#fb9f3a\"],[0.8888888888888888,\"#fdca26\"],[1.0,\"#f0f921\"]],\"type\":\"surface\"}],\"table\":[{\"cells\":{\"fill\":{\"color\":\"#EBF0F8\"},\"line\":{\"color\":\"white\"}},\"header\":{\"fill\":{\"color\":\"#C8D4E3\"},\"line\":{\"color\":\"white\"}},\"type\":\"table\"}]},\"layout\":{\"annotationdefaults\":{\"arrowcolor\":\"#2a3f5f\",\"arrowhead\":0,\"arrowwidth\":1},\"autotypenumbers\":\"strict\",\"coloraxis\":{\"colorbar\":{\"outlinewidth\":0,\"ticks\":\"\"}},\"colorscale\":{\"diverging\":[[0,\"#8e0152\"],[0.1,\"#c51b7d\"],[0.2,\"#de77ae\"],[0.3,\"#f1b6da\"],[0.4,\"#fde0ef\"],[0.5,\"#f7f7f7\"],[0.6,\"#e6f5d0\"],[0.7,\"#b8e186\"],[0.8,\"#7fbc41\"],[0.9,\"#4d9221\"],[1,\"#276419\"]],\"sequential\":[[0.0,\"#0d0887\"],[0.1111111111111111,\"#46039f\"],[0.2222222222222222,\"#7201a8\"],[0.3333333333333333,\"#9c179e\"],[0.4444444444444444,\"#bd3786\"],[0.5555555555555556,\"#d8576b\"],[0.6666666666666666,\"#ed7953\"],[0.7777777777777778,\"#fb9f3a\"],[0.8888888888888888,\"#fdca26\"],[1.0,\"#f0f921\"]],\"sequentialminus\":[[0.0,\"#0d0887\"],[0.1111111111111111,\"#46039f\"],[0.2222222222222222,\"#7201a8\"],[0.3333333333333333,\"#9c179e\"],[0.4444444444444444,\"#bd3786\"],[0.5555555555555556,\"#d8576b\"],[0.6666666666666666,\"#ed7953\"],[0.7777777777777778,\"#fb9f3a\"],[0.8888888888888888,\"#fdca26\"],[1.0,\"#f0f921\"]]},\"colorway\":[\"#636efa\",\"#EF553B\",\"#00cc96\",\"#ab63fa\",\"#FFA15A\",\"#19d3f3\",\"#FF6692\",\"#B6E880\",\"#FF97FF\",\"#FECB52\"],\"font\":{\"color\":\"#2a3f5f\"},\"geo\":{\"bgcolor\":\"white\",\"lakecolor\":\"white\",\"landcolor\":\"#E5ECF6\",\"showlakes\":true,\"showland\":true,\"subunitcolor\":\"white\"},\"hoverlabel\":{\"align\":\"left\"},\"hovermode\":\"closest\",\"mapbox\":{\"style\":\"light\"},\"paper_bgcolor\":\"white\",\"plot_bgcolor\":\"#E5ECF6\",\"polar\":{\"angularaxis\":{\"gridcolor\":\"white\",\"linecolor\":\"white\",\"ticks\":\"\"},\"bgcolor\":\"#E5ECF6\",\"radialaxis\":{\"gridcolor\":\"white\",\"linecolor\":\"white\",\"ticks\":\"\"}},\"scene\":{\"xaxis\":{\"backgroundcolor\":\"#E5ECF6\",\"gridcolor\":\"white\",\"gridwidth\":2,\"linecolor\":\"white\",\"showbackground\":true,\"ticks\":\"\",\"zerolinecolor\":\"white\"},\"yaxis\":{\"backgroundcolor\":\"#E5ECF6\",\"gridcolor\":\"white\",\"gridwidth\":2,\"linecolor\":\"white\",\"showbackground\":true,\"ticks\":\"\",\"zerolinecolor\":\"white\"},\"zaxis\":{\"backgroundcolor\":\"#E5ECF6\",\"gridcolor\":\"white\",\"gridwidth\":2,\"linecolor\":\"white\",\"showbackground\":true,\"ticks\":\"\",\"zerolinecolor\":\"white\"}},\"shapedefaults\":{\"line\":{\"color\":\"#2a3f5f\"}},\"ternary\":{\"aaxis\":{\"gridcolor\":\"white\",\"linecolor\":\"white\",\"ticks\":\"\"},\"baxis\":{\"gridcolor\":\"white\",\"linecolor\":\"white\",\"ticks\":\"\"},\"bgcolor\":\"#E5ECF6\",\"caxis\":{\"gridcolor\":\"white\",\"linecolor\":\"white\",\"ticks\":\"\"}},\"title\":{\"x\":0.05},\"xaxis\":{\"automargin\":true,\"gridcolor\":\"white\",\"linecolor\":\"white\",\"ticks\":\"\",\"title\":{\"standoff\":15},\"zerolinecolor\":\"white\",\"zerolinewidth\":2},\"yaxis\":{\"automargin\":true,\"gridcolor\":\"white\",\"linecolor\":\"white\",\"ticks\":\"\",\"title\":{\"standoff\":15},\"zerolinecolor\":\"white\",\"zerolinewidth\":2}}},\"shapes\":[{\"line\":{\"color\":\"Purple\"},\"type\":\"line\",\"x0\":-0.019524290038921643,\"x1\":0.011428571428571455,\"xref\":\"x\",\"y0\":1.0,\"y1\":1.0,\"yref\":\"y\"}],\"annotations\":[{\"arrowhead\":1,\"showarrow\":true,\"text\":\"Meilleur test score 1.0\",\"x\":-0.019524290038921643,\"y\":1.0}],\"font\":{\"family\":\"Courier New, monospace\",\"size\":12},\"title\":{\"text\":\"ML performance by model on bill data. Metric : accuracy <br>ligne: meilleur test score </br>\"},\"xaxis\":{\"title\":{\"text\":\"Train error - validation error\"}},\"yaxis\":{\"title\":{\"text\":\"Validation accuracy\"}},\"legend\":{\"title\":{\"text\":\"Model and fit type\"}}},                        {\"responsive\": true}                    ).then(function(){\n",
       "                            \n",
       "var gd = document.getElementById('0f4622f2-1187-47eb-b45b-2d3ae0e88dde');\n",
       "var x = new MutationObserver(function (mutations, observer) {{\n",
       "        var display = window.getComputedStyle(gd).display;\n",
       "        if (!display || display === 'none') {{\n",
       "            console.log([gd, 'removed!']);\n",
       "            Plotly.purge(gd);\n",
       "            observer.disconnect();\n",
       "        }}\n",
       "}});\n",
       "\n",
       "// Listen for the removal of the full notebook cells\n",
       "var notebookContainer = gd.closest('#notebook-container');\n",
       "if (notebookContainer) {{\n",
       "    x.observe(notebookContainer, {childList: true});\n",
       "}}\n",
       "\n",
       "// Listen for the clearing of the current output cell\n",
       "var outputEl = gd.closest('.output');\n",
       "if (outputEl) {{\n",
       "    x.observe(outputEl, {childList: true});\n",
       "}}\n",
       "\n",
       "                        })                };                });            </script>        </div>"
      ]
     },
     "metadata": {},
     "output_type": "display_data"
    }
   ],
   "source": [
    "subset = scores.query(\"metric=='accuracy'\")\n",
    "fig = go.Figure()\n",
    "symbols = [\"circle\", \"circle-open-dot\", \"star\"]\n",
    "colors = [\"#EF553B\", \"#FECB52\", \"#00CC96\"]\n",
    "colors = px.colors.qualitative.Bold\n",
    "\n",
    "# Add traces\n",
    "show_anot = 0\n",
    "for ith, split in enumerate([\"train\", \"val\", \"test\"]):\n",
    "    temp = subset.query(\"data_split==@split\")\n",
    "\n",
    "    for i, kind in enumerate(temp[\"kind\"].unique()):\n",
    "        color = colors[i]\n",
    "        models = temp[temp[\"kind\"] == kind][\"model\"].values\n",
    "        fig.add_trace(\n",
    "            go.Scatter(\n",
    "                x=temp[temp[\"kind\"] == kind][\"difference\"],\n",
    "                y=temp[temp[\"kind\"] == kind][\"score\"],\n",
    "                mode=\"markers\",\n",
    "                name=split + \"_\" + kind,\n",
    "                marker=dict(\n",
    "                    size=14,\n",
    "                    symbol=symbols[ith],\n",
    "                    color=color,\n",
    "                    opacity=0.8,\n",
    "                    line=dict(width=1.5),\n",
    "                ),\n",
    "                text=models + \"_\" + kind,\n",
    "                hovertemplate=\"train error - val accuracy: %{x} <br> SCORE: %{y} </br> MODEL :%{text}\",\n",
    "            )\n",
    "        )\n",
    "\n",
    "        if show_anot == 0:\n",
    "            fig.add_trace(\n",
    "                go.Scatter(\n",
    "                    x=temp[temp[\"kind\"] == kind][\"difference\"],\n",
    "                    y=temp[temp[\"kind\"] == kind][\"score\"] - 0.02,\n",
    "                    mode=\"text\",\n",
    "                    text=models + \"_\" + kind,\n",
    "                    textposition=\"bottom center\",\n",
    "                    showlegend=False,\n",
    "                )\n",
    "            )\n",
    "    show_anot += 1\n",
    "    \n",
    "fig.add_shape(type='line',\n",
    "                x0=np.min(subset['difference']),\n",
    "                y0=np.max(subset.query(\"data_split=='test'\")['score']),\n",
    "                y1=np.max(subset.query(\"data_split=='test'\")['score']),\n",
    "                x1=np.max(subset['difference']),\n",
    "                line=dict(color='Purple',),\n",
    "                xref='x',\n",
    "                yref='y'\n",
    "                \n",
    ")\n",
    "\n",
    "best_score= np.max(subset.query(\"data_split=='test'\")['score'])\n",
    "fig.add_annotation(text= f\"Meilleur test score {np.round(best_score,6)}\",\n",
    "                  x=np.min(subset['difference']), y=best_score, showarrow=True,arrowhead=1)\n",
    "\n",
    "fig.update_layout(\n",
    "    title=f\"ML performance by model on {dataset} data. Metric : accuracy <br>ligne: meilleur test score </br>\",\n",
    "    xaxis_title=\"Train error - validation error\",\n",
    "    yaxis_title=\"Validation accuracy\",\n",
    "    legend_title=\"Model and fit type\",\n",
    "    font=dict(family=\"Courier New, monospace\", size=12),\n",
    ")\n",
    "\n",
    "fig.show()"
   ]
  },
  {
   "cell_type": "markdown",
   "id": "ae46e260-fbc0-4bf9-9871-d3492eb3ada6",
   "metadata": {},
   "source": [
    "Tous les modèles avec *hyperparameter tuning* obtiennent des résultats près de 1 ou de 1. \n",
    "\n",
    "Les modèles qui obtiennent une accuracy de 1 sont: \n",
    "- Les SVM\n",
    "- XGB tuned, refit\n",
    "- RF tuned, refit, baseline\n",
    "\n",
    "Le seul modèle qui est loin (relativement) du meilleur score est le MLP baseline. \n",
    "\n",
    "Nous pouvons essayer de comprendre pourquoi en regardant ses paramètres."
   ]
  },
  {
   "cell_type": "code",
   "execution_count": 23,
   "id": "691e618f-4eeb-461d-a176-edc58f5c6076",
   "metadata": {},
   "outputs": [],
   "source": [
    "scores[\"abs_difference\"]= np.abs(scores[\"difference\"])\n",
    "scores.sort_values(\"abs_difference\", inplace=True)\n",
    "worst_models= scores.query(\"data_split=='test'\")[\"raw_path\"][-1:]"
   ]
  },
  {
   "cell_type": "code",
   "execution_count": 26,
   "id": "6ae11850-4a4e-460e-b805-56d84948738f",
   "metadata": {},
   "outputs": [
    {
     "name": "stdout",
     "output_type": "stream",
     "text": [
      "--- Worst models ---\n"
     ]
    },
    {
     "data": {
      "text/plain": [
       "180    mlp_bill_baseline_mae_True_-0.01098_06-02-2022...\n",
       "Name: raw_path, dtype: object"
      ]
     },
     "execution_count": 26,
     "metadata": {},
     "output_type": "execute_result"
    }
   ],
   "source": [
    "print(\"--- Worst models ---\")\n",
    "\n",
    "worst_models"
   ]
  },
  {
   "cell_type": "markdown",
   "id": "4e50e738-5417-4fa5-8731-766902028dbd",
   "metadata": {},
   "source": [
    "Voici les parametres de chaque modèle "
   ]
  },
  {
   "cell_type": "code",
   "execution_count": 27,
   "id": "2483220b-c765-4eb9-b95e-da2492de1496",
   "metadata": {},
   "outputs": [
    {
     "name": "stdout",
     "output_type": "stream",
     "text": [
      "mlp_bill_baseline_mae_True_-0.01098_06-02-2022_21:11:43.pkl\n",
      "{'activation': 'relu', 'alpha': 0.0001, 'batch_size': 'auto', 'beta_1': 0.9, 'beta_2': 0.999, 'early_stopping': True, 'epsilon': 1e-08, 'hidden_layer_sizes': (100,), 'learning_rate': 'constant', 'learning_rate_init': 0.001, 'max_fun': 15000, 'max_iter': 3000, 'momentum': 0.9, 'n_iter_no_change': 10, 'nesterovs_momentum': True, 'power_t': 0.5, 'random_state': 123, 'shuffle': True, 'solver': 'adam', 'tol': 0.0001, 'validation_fraction': 0.1, 'verbose': False, 'warm_start': False}\n",
      "\n",
      "\n"
     ]
    }
   ],
   "source": [
    "for model_to_query in worst_models:\n",
    "    print(model_to_query)\n",
    "    print(loaded_models.get(model_to_query).get(\"model\").get_params())\n",
    "    print(\"\\n\")"
   ]
  },
  {
   "cell_type": "markdown",
   "id": "5dd99f53-896e-4173-9e4f-3a2b3baf4c88",
   "metadata": {},
   "source": [
    "La régularisation est très faible et il y une seule couche intermédiaire."
   ]
  },
  {
   "cell_type": "markdown",
   "id": "6a210c11-5444-4bf0-bee8-c47faf85b9b4",
   "metadata": {},
   "source": [
    "Les meilleurs modèles:\n"
   ]
  },
  {
   "cell_type": "code",
   "execution_count": 42,
   "id": "fecd3466-224c-4153-abe4-f4e6799492f5",
   "metadata": {},
   "outputs": [
    {
     "name": "stdout",
     "output_type": "stream",
     "text": [
      "206    svm_bill_baseline_misclassification_True_-0.0_...\n",
      "177    svm_bill_grid_misclassification_True_0.0_06-02...\n",
      "223    mlp_bill_grid_mae_True_-0.01616_06-02-2022_21:...\n",
      "164    rf_bill_grid_squared_error_True_-0.00582_06-02...\n",
      "196    rf_bill_refit_squared_error_True_-0.00582_06-0...\n",
      "192    xgb_bill_refit_reg:squarederror_True_-0.00097_...\n",
      "Name: raw_path, dtype: object\n"
     ]
    }
   ],
   "source": [
    "scores[\"abs_difference\"]= np.abs(scores[\"difference\"])\n",
    "scores.sort_values(\"abs_difference\", inplace=True)\n",
    "best_models= scores.query(\"data_split=='test' & metric == 'accuracy'\")[\"raw_path\"][:6]\n",
    "print(best_models)"
   ]
  },
  {
   "cell_type": "markdown",
   "id": "86cfebd7-2238-49ca-a777-0ad08b5c6ad3",
   "metadata": {},
   "source": [
    "L'algorithme SVM semble être très pertinent pour ce dataset (il obtient de très bons résultats même sans *tuning*).\n",
    "\n",
    "Le MLP rejoint la liste grâce à la recherche de paramètres. De même pour les Random Forests. "
   ]
  },
  {
   "cell_type": "markdown",
   "id": "2783c10f-4732-4986-8d32-549989008e92",
   "metadata": {},
   "source": [
    "### GRID SEARCH PARAMS "
   ]
  },
  {
   "cell_type": "markdown",
   "id": "ae5061ab-294e-4ad0-a234-4d746f996483",
   "metadata": {},
   "source": [
    "Nous pouvons visualiser la recherche de paramètres pour le MLP:"
   ]
  },
  {
   "cell_type": "code",
   "execution_count": 37,
   "id": "5af1ca50-ffd3-4227-b6e9-35b08d2fa9c0",
   "metadata": {},
   "outputs": [],
   "source": [
    "grids = list(os.walk(paths_to_create[2]))[0][2]\n",
    "\n",
    "import re \n",
    "grids=[i for i in grids if re.search(\"bill\",i)]\n",
    "\n",
    "grid=pd.read_csv(os.path.join(paths_to_create[2],grids[0]))\n"
   ]
  },
  {
   "cell_type": "code",
   "execution_count": 40,
   "id": "24909f66-d176-410a-803e-33b4125e9f31",
   "metadata": {},
   "outputs": [
    {
     "data": {
      "application/vnd.plotly.v1+json": {
       "config": {
        "plotlyServerURL": "https://plot.ly"
       },
       "data": [
        {
         "hovertemplate": "param_hidden_layer_sizes=(50, 50, 50)<br>param_alpha=0.0001<br>param_learning_rate=%{x}<br>mean_test_score=%{y}<extra></extra>",
         "legendgroup": "(50, 50, 50), 0.0001",
         "marker": {
          "color": "#636efa",
          "line": {
           "color": "#9f9f9f",
           "width": 1.5
          },
          "size": 8,
          "symbol": "circle"
         },
         "mode": "markers",
         "name": "(50, 50, 50), 0.0001",
         "orientation": "v",
         "showlegend": true,
         "type": "scatter",
         "x": [
          "constant",
          "constant",
          "adaptive",
          "adaptive",
          "constant",
          "constant",
          "adaptive",
          "adaptive"
         ],
         "xaxis": "x",
         "y": [
          -0.176596783545424,
          -0.0403765754218926,
          -0.174576581525222,
          -0.0403765754218926,
          -0.5600415026396899,
          -0.0252494735878421,
          -0.2644023314718178,
          -0.0252494735878421
         ],
         "yaxis": "y"
        },
        {
         "hovertemplate": "param_hidden_layer_sizes=(50, 50, 50)<br>param_alpha=0.05<br>param_learning_rate=%{x}<br>mean_test_score=%{y}<extra></extra>",
         "legendgroup": "(50, 50, 50), 0.05",
         "marker": {
          "color": "#636efa",
          "size": 8,
          "symbol": "circle-open"
         },
         "mode": "markers",
         "name": "(50, 50, 50), 0.05",
         "orientation": "v",
         "showlegend": true,
         "type": "scatter",
         "x": [
          "constant",
          "constant",
          "adaptive",
          "adaptive",
          "constant",
          "constant",
          "adaptive",
          "adaptive"
         ],
         "xaxis": "x",
         "y": [
          -0.176596783545424,
          -0.0403765754218926,
          -0.174576581525222,
          -0.0403765754218926,
          -0.5600415026396899,
          -0.0262595745979431,
          -0.2644023314718178,
          -0.0262595745979431
         ],
         "yaxis": "y"
        },
        {
         "hovertemplate": "param_hidden_layer_sizes=(50, 100, 50)<br>param_alpha=0.0001<br>param_learning_rate=%{x}<br>mean_test_score=%{y}<extra></extra>",
         "legendgroup": "(50, 100, 50), 0.0001",
         "marker": {
          "color": "#EF553B",
          "size": 8,
          "symbol": "circle"
         },
         "mode": "markers",
         "name": "(50, 100, 50), 0.0001",
         "orientation": "v",
         "showlegend": true,
         "type": "scatter",
         "x": [
          "constant",
          "constant",
          "adaptive",
          "adaptive",
          "constant",
          "constant",
          "adaptive",
          "adaptive"
         ],
         "xaxis": "x",
         "y": [
          -0.2200036619976197,
          -0.0171595105129848,
          -0.2079190698526045,
          -0.0171595105129848,
          -0.2735207055448747,
          -0.016158564496933,
          -0.264442003112698,
          -0.016158564496933
         ],
         "yaxis": "y"
        },
        {
         "hovertemplate": "param_hidden_layer_sizes=(50, 100, 50)<br>param_alpha=0.05<br>param_learning_rate=%{x}<br>mean_test_score=%{y}<extra></extra>",
         "legendgroup": "(50, 100, 50), 0.05",
         "marker": {
          "color": "#EF553B",
          "size": 8,
          "symbol": "circle-open"
         },
         "mode": "markers",
         "name": "(50, 100, 50), 0.05",
         "orientation": "v",
         "showlegend": true,
         "type": "scatter",
         "x": [
          "constant",
          "constant",
          "adaptive",
          "adaptive",
          "constant",
          "constant",
          "adaptive",
          "adaptive"
         ],
         "xaxis": "x",
         "y": [
          -0.2200036619976197,
          -0.0181696115230858,
          -0.2079190698526045,
          -0.0181696115230858,
          -0.2735207055448747,
          -0.0201989685373371,
          -0.264442003112698,
          -0.0201989685373371
         ],
         "yaxis": "y"
        },
        {
         "hovertemplate": "param_hidden_layer_sizes=(100,)<br>param_alpha=0.0001<br>param_learning_rate=%{x}<br>mean_test_score=%{y}<extra></extra>",
         "legendgroup": "(100,), 0.0001",
         "marker": {
          "color": "#00cc96",
          "size": 8,
          "symbol": "circle"
         },
         "mode": "markers",
         "name": "(100,), 0.0001",
         "orientation": "v",
         "showlegend": true,
         "type": "scatter",
         "x": [
          "constant",
          "constant",
          "adaptive",
          "adaptive",
          "constant",
          "constant",
          "adaptive",
          "adaptive"
         ],
         "xaxis": "x",
         "y": [
          -0.1140223992187738,
          -0.0534895785651072,
          -0.1099819951783698,
          -0.0534895785651072,
          -0.1463120632304922,
          -0.0504684305288534,
          -0.1453019622203912,
          -0.0504684305288534
         ],
         "yaxis": "y"
        },
        {
         "hovertemplate": "param_hidden_layer_sizes=(100,)<br>param_alpha=0.05<br>param_learning_rate=%{x}<br>mean_test_score=%{y}<extra></extra>",
         "legendgroup": "(100,), 0.05",
         "marker": {
          "color": "#00cc96",
          "size": 8,
          "symbol": "circle-open"
         },
         "mode": "markers",
         "name": "(100,), 0.05",
         "orientation": "v",
         "showlegend": true,
         "type": "scatter",
         "x": [
          "constant",
          "constant",
          "adaptive",
          "adaptive",
          "constant",
          "constant",
          "adaptive",
          "adaptive"
         ],
         "xaxis": "x",
         "y": [
          -0.1140223992187738,
          -0.0534895785651072,
          -0.1099819951783698,
          -0.0534895785651072,
          -0.1463120632304922,
          -0.0585278769568799,
          -0.1453019622203912,
          -0.0585278769568799
         ],
         "yaxis": "y"
        }
       ],
       "layout": {
        "autosize": true,
        "coloraxis": {
         "colorbar": {
          "ticks": "outside",
          "x": -0.2,
          "y": 1,
          "yanchor": "top"
         }
        },
        "legend": {
         "title": {
          "text": "param_hidden_layer_sizes, param_alpha"
         },
         "tracegroupgap": 0
        },
        "template": {
         "data": {
          "bar": [
           {
            "error_x": {
             "color": "#2a3f5f"
            },
            "error_y": {
             "color": "#2a3f5f"
            },
            "marker": {
             "line": {
              "color": "#E5ECF6",
              "width": 0.5
             },
             "pattern": {
              "fillmode": "overlay",
              "size": 10,
              "solidity": 0.2
             }
            },
            "type": "bar"
           }
          ],
          "barpolar": [
           {
            "marker": {
             "line": {
              "color": "#E5ECF6",
              "width": 0.5
             },
             "pattern": {
              "fillmode": "overlay",
              "size": 10,
              "solidity": 0.2
             }
            },
            "type": "barpolar"
           }
          ],
          "carpet": [
           {
            "aaxis": {
             "endlinecolor": "#2a3f5f",
             "gridcolor": "white",
             "linecolor": "white",
             "minorgridcolor": "white",
             "startlinecolor": "#2a3f5f"
            },
            "baxis": {
             "endlinecolor": "#2a3f5f",
             "gridcolor": "white",
             "linecolor": "white",
             "minorgridcolor": "white",
             "startlinecolor": "#2a3f5f"
            },
            "type": "carpet"
           }
          ],
          "choropleth": [
           {
            "colorbar": {
             "outlinewidth": 0,
             "ticks": ""
            },
            "type": "choropleth"
           }
          ],
          "contour": [
           {
            "colorbar": {
             "outlinewidth": 0,
             "ticks": ""
            },
            "colorscale": [
             [
              0,
              "#0d0887"
             ],
             [
              0.1111111111111111,
              "#46039f"
             ],
             [
              0.2222222222222222,
              "#7201a8"
             ],
             [
              0.3333333333333333,
              "#9c179e"
             ],
             [
              0.4444444444444444,
              "#bd3786"
             ],
             [
              0.5555555555555556,
              "#d8576b"
             ],
             [
              0.6666666666666666,
              "#ed7953"
             ],
             [
              0.7777777777777778,
              "#fb9f3a"
             ],
             [
              0.8888888888888888,
              "#fdca26"
             ],
             [
              1,
              "#f0f921"
             ]
            ],
            "type": "contour"
           }
          ],
          "contourcarpet": [
           {
            "colorbar": {
             "outlinewidth": 0,
             "ticks": ""
            },
            "type": "contourcarpet"
           }
          ],
          "heatmap": [
           {
            "colorbar": {
             "outlinewidth": 0,
             "ticks": ""
            },
            "colorscale": [
             [
              0,
              "#0d0887"
             ],
             [
              0.1111111111111111,
              "#46039f"
             ],
             [
              0.2222222222222222,
              "#7201a8"
             ],
             [
              0.3333333333333333,
              "#9c179e"
             ],
             [
              0.4444444444444444,
              "#bd3786"
             ],
             [
              0.5555555555555556,
              "#d8576b"
             ],
             [
              0.6666666666666666,
              "#ed7953"
             ],
             [
              0.7777777777777778,
              "#fb9f3a"
             ],
             [
              0.8888888888888888,
              "#fdca26"
             ],
             [
              1,
              "#f0f921"
             ]
            ],
            "type": "heatmap"
           }
          ],
          "heatmapgl": [
           {
            "colorbar": {
             "outlinewidth": 0,
             "ticks": ""
            },
            "colorscale": [
             [
              0,
              "#0d0887"
             ],
             [
              0.1111111111111111,
              "#46039f"
             ],
             [
              0.2222222222222222,
              "#7201a8"
             ],
             [
              0.3333333333333333,
              "#9c179e"
             ],
             [
              0.4444444444444444,
              "#bd3786"
             ],
             [
              0.5555555555555556,
              "#d8576b"
             ],
             [
              0.6666666666666666,
              "#ed7953"
             ],
             [
              0.7777777777777778,
              "#fb9f3a"
             ],
             [
              0.8888888888888888,
              "#fdca26"
             ],
             [
              1,
              "#f0f921"
             ]
            ],
            "type": "heatmapgl"
           }
          ],
          "histogram": [
           {
            "marker": {
             "pattern": {
              "fillmode": "overlay",
              "size": 10,
              "solidity": 0.2
             }
            },
            "type": "histogram"
           }
          ],
          "histogram2d": [
           {
            "colorbar": {
             "outlinewidth": 0,
             "ticks": ""
            },
            "colorscale": [
             [
              0,
              "#0d0887"
             ],
             [
              0.1111111111111111,
              "#46039f"
             ],
             [
              0.2222222222222222,
              "#7201a8"
             ],
             [
              0.3333333333333333,
              "#9c179e"
             ],
             [
              0.4444444444444444,
              "#bd3786"
             ],
             [
              0.5555555555555556,
              "#d8576b"
             ],
             [
              0.6666666666666666,
              "#ed7953"
             ],
             [
              0.7777777777777778,
              "#fb9f3a"
             ],
             [
              0.8888888888888888,
              "#fdca26"
             ],
             [
              1,
              "#f0f921"
             ]
            ],
            "type": "histogram2d"
           }
          ],
          "histogram2dcontour": [
           {
            "colorbar": {
             "outlinewidth": 0,
             "ticks": ""
            },
            "colorscale": [
             [
              0,
              "#0d0887"
             ],
             [
              0.1111111111111111,
              "#46039f"
             ],
             [
              0.2222222222222222,
              "#7201a8"
             ],
             [
              0.3333333333333333,
              "#9c179e"
             ],
             [
              0.4444444444444444,
              "#bd3786"
             ],
             [
              0.5555555555555556,
              "#d8576b"
             ],
             [
              0.6666666666666666,
              "#ed7953"
             ],
             [
              0.7777777777777778,
              "#fb9f3a"
             ],
             [
              0.8888888888888888,
              "#fdca26"
             ],
             [
              1,
              "#f0f921"
             ]
            ],
            "type": "histogram2dcontour"
           }
          ],
          "mesh3d": [
           {
            "colorbar": {
             "outlinewidth": 0,
             "ticks": ""
            },
            "type": "mesh3d"
           }
          ],
          "parcoords": [
           {
            "line": {
             "colorbar": {
              "outlinewidth": 0,
              "ticks": ""
             }
            },
            "type": "parcoords"
           }
          ],
          "pie": [
           {
            "automargin": true,
            "type": "pie"
           }
          ],
          "scatter": [
           {
            "marker": {
             "colorbar": {
              "outlinewidth": 0,
              "ticks": ""
             }
            },
            "type": "scatter"
           }
          ],
          "scatter3d": [
           {
            "line": {
             "colorbar": {
              "outlinewidth": 0,
              "ticks": ""
             }
            },
            "marker": {
             "colorbar": {
              "outlinewidth": 0,
              "ticks": ""
             }
            },
            "type": "scatter3d"
           }
          ],
          "scattercarpet": [
           {
            "marker": {
             "colorbar": {
              "outlinewidth": 0,
              "ticks": ""
             }
            },
            "type": "scattercarpet"
           }
          ],
          "scattergeo": [
           {
            "marker": {
             "colorbar": {
              "outlinewidth": 0,
              "ticks": ""
             }
            },
            "type": "scattergeo"
           }
          ],
          "scattergl": [
           {
            "marker": {
             "colorbar": {
              "outlinewidth": 0,
              "ticks": ""
             }
            },
            "type": "scattergl"
           }
          ],
          "scattermapbox": [
           {
            "marker": {
             "colorbar": {
              "outlinewidth": 0,
              "ticks": ""
             }
            },
            "type": "scattermapbox"
           }
          ],
          "scatterpolar": [
           {
            "marker": {
             "colorbar": {
              "outlinewidth": 0,
              "ticks": ""
             }
            },
            "type": "scatterpolar"
           }
          ],
          "scatterpolargl": [
           {
            "marker": {
             "colorbar": {
              "outlinewidth": 0,
              "ticks": ""
             }
            },
            "type": "scatterpolargl"
           }
          ],
          "scatterternary": [
           {
            "marker": {
             "colorbar": {
              "outlinewidth": 0,
              "ticks": ""
             }
            },
            "type": "scatterternary"
           }
          ],
          "surface": [
           {
            "colorbar": {
             "outlinewidth": 0,
             "ticks": ""
            },
            "colorscale": [
             [
              0,
              "#0d0887"
             ],
             [
              0.1111111111111111,
              "#46039f"
             ],
             [
              0.2222222222222222,
              "#7201a8"
             ],
             [
              0.3333333333333333,
              "#9c179e"
             ],
             [
              0.4444444444444444,
              "#bd3786"
             ],
             [
              0.5555555555555556,
              "#d8576b"
             ],
             [
              0.6666666666666666,
              "#ed7953"
             ],
             [
              0.7777777777777778,
              "#fb9f3a"
             ],
             [
              0.8888888888888888,
              "#fdca26"
             ],
             [
              1,
              "#f0f921"
             ]
            ],
            "type": "surface"
           }
          ],
          "table": [
           {
            "cells": {
             "fill": {
              "color": "#EBF0F8"
             },
             "line": {
              "color": "white"
             }
            },
            "header": {
             "fill": {
              "color": "#C8D4E3"
             },
             "line": {
              "color": "white"
             }
            },
            "type": "table"
           }
          ]
         },
         "layout": {
          "annotationdefaults": {
           "arrowcolor": "#2a3f5f",
           "arrowhead": 0,
           "arrowwidth": 1
          },
          "autotypenumbers": "strict",
          "coloraxis": {
           "colorbar": {
            "outlinewidth": 0,
            "ticks": ""
           }
          },
          "colorscale": {
           "diverging": [
            [
             0,
             "#8e0152"
            ],
            [
             0.1,
             "#c51b7d"
            ],
            [
             0.2,
             "#de77ae"
            ],
            [
             0.3,
             "#f1b6da"
            ],
            [
             0.4,
             "#fde0ef"
            ],
            [
             0.5,
             "#f7f7f7"
            ],
            [
             0.6,
             "#e6f5d0"
            ],
            [
             0.7,
             "#b8e186"
            ],
            [
             0.8,
             "#7fbc41"
            ],
            [
             0.9,
             "#4d9221"
            ],
            [
             1,
             "#276419"
            ]
           ],
           "sequential": [
            [
             0,
             "#0d0887"
            ],
            [
             0.1111111111111111,
             "#46039f"
            ],
            [
             0.2222222222222222,
             "#7201a8"
            ],
            [
             0.3333333333333333,
             "#9c179e"
            ],
            [
             0.4444444444444444,
             "#bd3786"
            ],
            [
             0.5555555555555556,
             "#d8576b"
            ],
            [
             0.6666666666666666,
             "#ed7953"
            ],
            [
             0.7777777777777778,
             "#fb9f3a"
            ],
            [
             0.8888888888888888,
             "#fdca26"
            ],
            [
             1,
             "#f0f921"
            ]
           ],
           "sequentialminus": [
            [
             0,
             "#0d0887"
            ],
            [
             0.1111111111111111,
             "#46039f"
            ],
            [
             0.2222222222222222,
             "#7201a8"
            ],
            [
             0.3333333333333333,
             "#9c179e"
            ],
            [
             0.4444444444444444,
             "#bd3786"
            ],
            [
             0.5555555555555556,
             "#d8576b"
            ],
            [
             0.6666666666666666,
             "#ed7953"
            ],
            [
             0.7777777777777778,
             "#fb9f3a"
            ],
            [
             0.8888888888888888,
             "#fdca26"
            ],
            [
             1,
             "#f0f921"
            ]
           ]
          },
          "colorway": [
           "#636efa",
           "#EF553B",
           "#00cc96",
           "#ab63fa",
           "#FFA15A",
           "#19d3f3",
           "#FF6692",
           "#B6E880",
           "#FF97FF",
           "#FECB52"
          ],
          "font": {
           "color": "#2a3f5f"
          },
          "geo": {
           "bgcolor": "white",
           "lakecolor": "white",
           "landcolor": "#E5ECF6",
           "showlakes": true,
           "showland": true,
           "subunitcolor": "white"
          },
          "hoverlabel": {
           "align": "left"
          },
          "hovermode": "closest",
          "mapbox": {
           "style": "light"
          },
          "paper_bgcolor": "white",
          "plot_bgcolor": "#E5ECF6",
          "polar": {
           "angularaxis": {
            "gridcolor": "white",
            "linecolor": "white",
            "ticks": ""
           },
           "bgcolor": "#E5ECF6",
           "radialaxis": {
            "gridcolor": "white",
            "linecolor": "white",
            "ticks": ""
           }
          },
          "scene": {
           "xaxis": {
            "backgroundcolor": "#E5ECF6",
            "gridcolor": "white",
            "gridwidth": 2,
            "linecolor": "white",
            "showbackground": true,
            "ticks": "",
            "zerolinecolor": "white"
           },
           "yaxis": {
            "backgroundcolor": "#E5ECF6",
            "gridcolor": "white",
            "gridwidth": 2,
            "linecolor": "white",
            "showbackground": true,
            "ticks": "",
            "zerolinecolor": "white"
           },
           "zaxis": {
            "backgroundcolor": "#E5ECF6",
            "gridcolor": "white",
            "gridwidth": 2,
            "linecolor": "white",
            "showbackground": true,
            "ticks": "",
            "zerolinecolor": "white"
           }
          },
          "shapedefaults": {
           "line": {
            "color": "#2a3f5f"
           }
          },
          "ternary": {
           "aaxis": {
            "gridcolor": "white",
            "linecolor": "white",
            "ticks": ""
           },
           "baxis": {
            "gridcolor": "white",
            "linecolor": "white",
            "ticks": ""
           },
           "bgcolor": "#E5ECF6",
           "caxis": {
            "gridcolor": "white",
            "linecolor": "white",
            "ticks": ""
           }
          },
          "title": {
           "x": 0.05
          },
          "xaxis": {
           "automargin": true,
           "gridcolor": "white",
           "linecolor": "white",
           "ticks": "",
           "title": {
            "standoff": 15
           },
           "zerolinecolor": "white",
           "zerolinewidth": 2
          },
          "yaxis": {
           "automargin": true,
           "gridcolor": "white",
           "linecolor": "white",
           "ticks": "",
           "title": {
            "standoff": 15
           },
           "zerolinecolor": "white",
           "zerolinewidth": 2
          }
         }
        },
        "title": {
         "text": "CV GRID SEARCH RESULTS ON BILLS MLP <br> MAE"
        },
        "xaxis": {
         "anchor": "y",
         "autorange": true,
         "domain": [
          0,
          1
         ],
         "range": [
          -0.06515727618389217,
          1.065157276183892
         ],
         "title": {
          "text": "param_learning_rate"
         },
         "type": "category"
        },
        "yaxis": {
         "anchor": "x",
         "autorange": true,
         "domain": [
          0,
          1
         ],
         "range": [
          -0.598468014573689,
          0.022267947437066133
         ],
         "title": {
          "text": "mean_test_score"
         },
         "type": "linear"
        }
       }
      },
      "image/png": "[encoded data removed]",
      "text/html": [
       "<div>                            <div id=\"d69eb44c-0a40-4316-af27-0e38fd131b51\" class=\"plotly-graph-div\" style=\"height:600px; width:100%;\"></div>            <script type=\"text/javascript\">                require([\"plotly\"], function(Plotly) {                    window.PLOTLYENV=window.PLOTLYENV || {};                                    if (document.getElementById(\"d69eb44c-0a40-4316-af27-0e38fd131b51\")) {                    Plotly.newPlot(                        \"d69eb44c-0a40-4316-af27-0e38fd131b51\",                        [{\"hovertemplate\":\"param_hidden_layer_sizes=(50, 50, 50)<br>param_alpha=0.0001<br>param_learning_rate=%{x}<br>mean_test_score=%{y}<extra></extra>\",\"legendgroup\":\"(50, 50, 50), 0.0001\",\"marker\":{\"color\":\"#636efa\",\"symbol\":\"circle\",\"size\":8,\"line\":{\"color\":\"#9f9f9f\",\"width\":1.5}},\"mode\":\"markers\",\"name\":\"(50, 50, 50), 0.0001\",\"orientation\":\"v\",\"showlegend\":true,\"x\":[\"constant\",\"constant\",\"adaptive\",\"adaptive\",\"constant\",\"constant\",\"adaptive\",\"adaptive\"],\"xaxis\":\"x\",\"y\":[-0.176596783545424,-0.0403765754218926,-0.174576581525222,-0.0403765754218926,-0.5600415026396899,-0.0252494735878421,-0.2644023314718178,-0.0252494735878421],\"yaxis\":\"y\",\"type\":\"scatter\"},{\"hovertemplate\":\"param_hidden_layer_sizes=(50, 50, 50)<br>param_alpha=0.05<br>param_learning_rate=%{x}<br>mean_test_score=%{y}<extra></extra>\",\"legendgroup\":\"(50, 50, 50), 0.05\",\"marker\":{\"color\":\"#636efa\",\"symbol\":\"circle-open\",\"size\":8},\"mode\":\"markers\",\"name\":\"(50, 50, 50), 0.05\",\"orientation\":\"v\",\"showlegend\":true,\"x\":[\"constant\",\"constant\",\"adaptive\",\"adaptive\",\"constant\",\"constant\",\"adaptive\",\"adaptive\"],\"xaxis\":\"x\",\"y\":[-0.176596783545424,-0.0403765754218926,-0.174576581525222,-0.0403765754218926,-0.5600415026396899,-0.0262595745979431,-0.2644023314718178,-0.0262595745979431],\"yaxis\":\"y\",\"type\":\"scatter\"},{\"hovertemplate\":\"param_hidden_layer_sizes=(50, 100, 50)<br>param_alpha=0.0001<br>param_learning_rate=%{x}<br>mean_test_score=%{y}<extra></extra>\",\"legendgroup\":\"(50, 100, 50), 0.0001\",\"marker\":{\"color\":\"#EF553B\",\"symbol\":\"circle\",\"size\":8},\"mode\":\"markers\",\"name\":\"(50, 100, 50), 0.0001\",\"orientation\":\"v\",\"showlegend\":true,\"x\":[\"constant\",\"constant\",\"adaptive\",\"adaptive\",\"constant\",\"constant\",\"adaptive\",\"adaptive\"],\"xaxis\":\"x\",\"y\":[-0.2200036619976197,-0.0171595105129848,-0.2079190698526045,-0.0171595105129848,-0.2735207055448747,-0.016158564496933,-0.264442003112698,-0.016158564496933],\"yaxis\":\"y\",\"type\":\"scatter\"},{\"hovertemplate\":\"param_hidden_layer_sizes=(50, 100, 50)<br>param_alpha=0.05<br>param_learning_rate=%{x}<br>mean_test_score=%{y}<extra></extra>\",\"legendgroup\":\"(50, 100, 50), 0.05\",\"marker\":{\"color\":\"#EF553B\",\"symbol\":\"circle-open\",\"size\":8},\"mode\":\"markers\",\"name\":\"(50, 100, 50), 0.05\",\"orientation\":\"v\",\"showlegend\":true,\"x\":[\"constant\",\"constant\",\"adaptive\",\"adaptive\",\"constant\",\"constant\",\"adaptive\",\"adaptive\"],\"xaxis\":\"x\",\"y\":[-0.2200036619976197,-0.0181696115230858,-0.2079190698526045,-0.0181696115230858,-0.2735207055448747,-0.0201989685373371,-0.264442003112698,-0.0201989685373371],\"yaxis\":\"y\",\"type\":\"scatter\"},{\"hovertemplate\":\"param_hidden_layer_sizes=(100,)<br>param_alpha=0.0001<br>param_learning_rate=%{x}<br>mean_test_score=%{y}<extra></extra>\",\"legendgroup\":\"(100,), 0.0001\",\"marker\":{\"color\":\"#00cc96\",\"symbol\":\"circle\",\"size\":8},\"mode\":\"markers\",\"name\":\"(100,), 0.0001\",\"orientation\":\"v\",\"showlegend\":true,\"x\":[\"constant\",\"constant\",\"adaptive\",\"adaptive\",\"constant\",\"constant\",\"adaptive\",\"adaptive\"],\"xaxis\":\"x\",\"y\":[-0.1140223992187738,-0.0534895785651072,-0.1099819951783698,-0.0534895785651072,-0.1463120632304922,-0.0504684305288534,-0.1453019622203912,-0.0504684305288534],\"yaxis\":\"y\",\"type\":\"scatter\"},{\"hovertemplate\":\"param_hidden_layer_sizes=(100,)<br>param_alpha=0.05<br>param_learning_rate=%{x}<br>mean_test_score=%{y}<extra></extra>\",\"legendgroup\":\"(100,), 0.05\",\"marker\":{\"color\":\"#00cc96\",\"symbol\":\"circle-open\",\"size\":8},\"mode\":\"markers\",\"name\":\"(100,), 0.05\",\"orientation\":\"v\",\"showlegend\":true,\"x\":[\"constant\",\"constant\",\"adaptive\",\"adaptive\",\"constant\",\"constant\",\"adaptive\",\"adaptive\"],\"xaxis\":\"x\",\"y\":[-0.1140223992187738,-0.0534895785651072,-0.1099819951783698,-0.0534895785651072,-0.1463120632304922,-0.0585278769568799,-0.1453019622203912,-0.0585278769568799],\"yaxis\":\"y\",\"type\":\"scatter\"}],                        {\"template\":{\"data\":{\"bar\":[{\"error_x\":{\"color\":\"#2a3f5f\"},\"error_y\":{\"color\":\"#2a3f5f\"},\"marker\":{\"line\":{\"color\":\"#E5ECF6\",\"width\":0.5},\"pattern\":{\"fillmode\":\"overlay\",\"size\":10,\"solidity\":0.2}},\"type\":\"bar\"}],\"barpolar\":[{\"marker\":{\"line\":{\"color\":\"#E5ECF6\",\"width\":0.5},\"pattern\":{\"fillmode\":\"overlay\",\"size\":10,\"solidity\":0.2}},\"type\":\"barpolar\"}],\"carpet\":[{\"aaxis\":{\"endlinecolor\":\"#2a3f5f\",\"gridcolor\":\"white\",\"linecolor\":\"white\",\"minorgridcolor\":\"white\",\"startlinecolor\":\"#2a3f5f\"},\"baxis\":{\"endlinecolor\":\"#2a3f5f\",\"gridcolor\":\"white\",\"linecolor\":\"white\",\"minorgridcolor\":\"white\",\"startlinecolor\":\"#2a3f5f\"},\"type\":\"carpet\"}],\"choropleth\":[{\"colorbar\":{\"outlinewidth\":0,\"ticks\":\"\"},\"type\":\"choropleth\"}],\"contour\":[{\"colorbar\":{\"outlinewidth\":0,\"ticks\":\"\"},\"colorscale\":[[0.0,\"#0d0887\"],[0.1111111111111111,\"#46039f\"],[0.2222222222222222,\"#7201a8\"],[0.3333333333333333,\"#9c179e\"],[0.4444444444444444,\"#bd3786\"],[0.5555555555555556,\"#d8576b\"],[0.6666666666666666,\"#ed7953\"],[0.7777777777777778,\"#fb9f3a\"],[0.8888888888888888,\"#fdca26\"],[1.0,\"#f0f921\"]],\"type\":\"contour\"}],\"contourcarpet\":[{\"colorbar\":{\"outlinewidth\":0,\"ticks\":\"\"},\"type\":\"contourcarpet\"}],\"heatmap\":[{\"colorbar\":{\"outlinewidth\":0,\"ticks\":\"\"},\"colorscale\":[[0.0,\"#0d0887\"],[0.1111111111111111,\"#46039f\"],[0.2222222222222222,\"#7201a8\"],[0.3333333333333333,\"#9c179e\"],[0.4444444444444444,\"#bd3786\"],[0.5555555555555556,\"#d8576b\"],[0.6666666666666666,\"#ed7953\"],[0.7777777777777778,\"#fb9f3a\"],[0.8888888888888888,\"#fdca26\"],[1.0,\"#f0f921\"]],\"type\":\"heatmap\"}],\"heatmapgl\":[{\"colorbar\":{\"outlinewidth\":0,\"ticks\":\"\"},\"colorscale\":[[0.0,\"#0d0887\"],[0.1111111111111111,\"#46039f\"],[0.2222222222222222,\"#7201a8\"],[0.3333333333333333,\"#9c179e\"],[0.4444444444444444,\"#bd3786\"],[0.5555555555555556,\"#d8576b\"],[0.6666666666666666,\"#ed7953\"],[0.7777777777777778,\"#fb9f3a\"],[0.8888888888888888,\"#fdca26\"],[1.0,\"#f0f921\"]],\"type\":\"heatmapgl\"}],\"histogram\":[{\"marker\":{\"pattern\":{\"fillmode\":\"overlay\",\"size\":10,\"solidity\":0.2}},\"type\":\"histogram\"}],\"histogram2d\":[{\"colorbar\":{\"outlinewidth\":0,\"ticks\":\"\"},\"colorscale\":[[0.0,\"#0d0887\"],[0.1111111111111111,\"#46039f\"],[0.2222222222222222,\"#7201a8\"],[0.3333333333333333,\"#9c179e\"],[0.4444444444444444,\"#bd3786\"],[0.5555555555555556,\"#d8576b\"],[0.6666666666666666,\"#ed7953\"],[0.7777777777777778,\"#fb9f3a\"],[0.8888888888888888,\"#fdca26\"],[1.0,\"#f0f921\"]],\"type\":\"histogram2d\"}],\"histogram2dcontour\":[{\"colorbar\":{\"outlinewidth\":0,\"ticks\":\"\"},\"colorscale\":[[0.0,\"#0d0887\"],[0.1111111111111111,\"#46039f\"],[0.2222222222222222,\"#7201a8\"],[0.3333333333333333,\"#9c179e\"],[0.4444444444444444,\"#bd3786\"],[0.5555555555555556,\"#d8576b\"],[0.6666666666666666,\"#ed7953\"],[0.7777777777777778,\"#fb9f3a\"],[0.8888888888888888,\"#fdca26\"],[1.0,\"#f0f921\"]],\"type\":\"histogram2dcontour\"}],\"mesh3d\":[{\"colorbar\":{\"outlinewidth\":0,\"ticks\":\"\"},\"type\":\"mesh3d\"}],\"parcoords\":[{\"line\":{\"colorbar\":{\"outlinewidth\":0,\"ticks\":\"\"}},\"type\":\"parcoords\"}],\"pie\":[{\"automargin\":true,\"type\":\"pie\"}],\"scatter\":[{\"marker\":{\"colorbar\":{\"outlinewidth\":0,\"ticks\":\"\"}},\"type\":\"scatter\"}],\"scatter3d\":[{\"line\":{\"colorbar\":{\"outlinewidth\":0,\"ticks\":\"\"}},\"marker\":{\"colorbar\":{\"outlinewidth\":0,\"ticks\":\"\"}},\"type\":\"scatter3d\"}],\"scattercarpet\":[{\"marker\":{\"colorbar\":{\"outlinewidth\":0,\"ticks\":\"\"}},\"type\":\"scattercarpet\"}],\"scattergeo\":[{\"marker\":{\"colorbar\":{\"outlinewidth\":0,\"ticks\":\"\"}},\"type\":\"scattergeo\"}],\"scattergl\":[{\"marker\":{\"colorbar\":{\"outlinewidth\":0,\"ticks\":\"\"}},\"type\":\"scattergl\"}],\"scattermapbox\":[{\"marker\":{\"colorbar\":{\"outlinewidth\":0,\"ticks\":\"\"}},\"type\":\"scattermapbox\"}],\"scatterpolar\":[{\"marker\":{\"colorbar\":{\"outlinewidth\":0,\"ticks\":\"\"}},\"type\":\"scatterpolar\"}],\"scatterpolargl\":[{\"marker\":{\"colorbar\":{\"outlinewidth\":0,\"ticks\":\"\"}},\"type\":\"scatterpolargl\"}],\"scatterternary\":[{\"marker\":{\"colorbar\":{\"outlinewidth\":0,\"ticks\":\"\"}},\"type\":\"scatterternary\"}],\"surface\":[{\"colorbar\":{\"outlinewidth\":0,\"ticks\":\"\"},\"colorscale\":[[0.0,\"#0d0887\"],[0.1111111111111111,\"#46039f\"],[0.2222222222222222,\"#7201a8\"],[0.3333333333333333,\"#9c179e\"],[0.4444444444444444,\"#bd3786\"],[0.5555555555555556,\"#d8576b\"],[0.6666666666666666,\"#ed7953\"],[0.7777777777777778,\"#fb9f3a\"],[0.8888888888888888,\"#fdca26\"],[1.0,\"#f0f921\"]],\"type\":\"surface\"}],\"table\":[{\"cells\":{\"fill\":{\"color\":\"#EBF0F8\"},\"line\":{\"color\":\"white\"}},\"header\":{\"fill\":{\"color\":\"#C8D4E3\"},\"line\":{\"color\":\"white\"}},\"type\":\"table\"}]},\"layout\":{\"annotationdefaults\":{\"arrowcolor\":\"#2a3f5f\",\"arrowhead\":0,\"arrowwidth\":1},\"autotypenumbers\":\"strict\",\"coloraxis\":{\"colorbar\":{\"outlinewidth\":0,\"ticks\":\"\"}},\"colorscale\":{\"diverging\":[[0,\"#8e0152\"],[0.1,\"#c51b7d\"],[0.2,\"#de77ae\"],[0.3,\"#f1b6da\"],[0.4,\"#fde0ef\"],[0.5,\"#f7f7f7\"],[0.6,\"#e6f5d0\"],[0.7,\"#b8e186\"],[0.8,\"#7fbc41\"],[0.9,\"#4d9221\"],[1,\"#276419\"]],\"sequential\":[[0.0,\"#0d0887\"],[0.1111111111111111,\"#46039f\"],[0.2222222222222222,\"#7201a8\"],[0.3333333333333333,\"#9c179e\"],[0.4444444444444444,\"#bd3786\"],[0.5555555555555556,\"#d8576b\"],[0.6666666666666666,\"#ed7953\"],[0.7777777777777778,\"#fb9f3a\"],[0.8888888888888888,\"#fdca26\"],[1.0,\"#f0f921\"]],\"sequentialminus\":[[0.0,\"#0d0887\"],[0.1111111111111111,\"#46039f\"],[0.2222222222222222,\"#7201a8\"],[0.3333333333333333,\"#9c179e\"],[0.4444444444444444,\"#bd3786\"],[0.5555555555555556,\"#d8576b\"],[0.6666666666666666,\"#ed7953\"],[0.7777777777777778,\"#fb9f3a\"],[0.8888888888888888,\"#fdca26\"],[1.0,\"#f0f921\"]]},\"colorway\":[\"#636efa\",\"#EF553B\",\"#00cc96\",\"#ab63fa\",\"#FFA15A\",\"#19d3f3\",\"#FF6692\",\"#B6E880\",\"#FF97FF\",\"#FECB52\"],\"font\":{\"color\":\"#2a3f5f\"},\"geo\":{\"bgcolor\":\"white\",\"lakecolor\":\"white\",\"landcolor\":\"#E5ECF6\",\"showlakes\":true,\"showland\":true,\"subunitcolor\":\"white\"},\"hoverlabel\":{\"align\":\"left\"},\"hovermode\":\"closest\",\"mapbox\":{\"style\":\"light\"},\"paper_bgcolor\":\"white\",\"plot_bgcolor\":\"#E5ECF6\",\"polar\":{\"angularaxis\":{\"gridcolor\":\"white\",\"linecolor\":\"white\",\"ticks\":\"\"},\"bgcolor\":\"#E5ECF6\",\"radialaxis\":{\"gridcolor\":\"white\",\"linecolor\":\"white\",\"ticks\":\"\"}},\"scene\":{\"xaxis\":{\"backgroundcolor\":\"#E5ECF6\",\"gridcolor\":\"white\",\"gridwidth\":2,\"linecolor\":\"white\",\"showbackground\":true,\"ticks\":\"\",\"zerolinecolor\":\"white\"},\"yaxis\":{\"backgroundcolor\":\"#E5ECF6\",\"gridcolor\":\"white\",\"gridwidth\":2,\"linecolor\":\"white\",\"showbackground\":true,\"ticks\":\"\",\"zerolinecolor\":\"white\"},\"zaxis\":{\"backgroundcolor\":\"#E5ECF6\",\"gridcolor\":\"white\",\"gridwidth\":2,\"linecolor\":\"white\",\"showbackground\":true,\"ticks\":\"\",\"zerolinecolor\":\"white\"}},\"shapedefaults\":{\"line\":{\"color\":\"#2a3f5f\"}},\"ternary\":{\"aaxis\":{\"gridcolor\":\"white\",\"linecolor\":\"white\",\"ticks\":\"\"},\"baxis\":{\"gridcolor\":\"white\",\"linecolor\":\"white\",\"ticks\":\"\"},\"bgcolor\":\"#E5ECF6\",\"caxis\":{\"gridcolor\":\"white\",\"linecolor\":\"white\",\"ticks\":\"\"}},\"title\":{\"x\":0.05},\"xaxis\":{\"automargin\":true,\"gridcolor\":\"white\",\"linecolor\":\"white\",\"ticks\":\"\",\"title\":{\"standoff\":15},\"zerolinecolor\":\"white\",\"zerolinewidth\":2},\"yaxis\":{\"automargin\":true,\"gridcolor\":\"white\",\"linecolor\":\"white\",\"ticks\":\"\",\"title\":{\"standoff\":15},\"zerolinecolor\":\"white\",\"zerolinewidth\":2}}},\"xaxis\":{\"anchor\":\"y\",\"domain\":[0.0,1.0],\"title\":{\"text\":\"param_learning_rate\"}},\"yaxis\":{\"anchor\":\"x\",\"domain\":[0.0,1.0],\"title\":{\"text\":\"mean_test_score\"}},\"legend\":{\"title\":{\"text\":\"param_hidden_layer_sizes, param_alpha\"},\"tracegroupgap\":0},\"title\":{\"text\":\"CV GRID SEARCH RESULTS ON BILLS MLP <br> MAE\"},\"height\":600,\"coloraxis\":{\"colorbar\":{\"yanchor\":\"top\",\"y\":1,\"x\":-0.2,\"ticks\":\"outside\"}}},                        {\"responsive\": true}                    ).then(function(){\n",
       "                            \n",
       "var gd = document.getElementById('d69eb44c-0a40-4316-af27-0e38fd131b51');\n",
       "var x = new MutationObserver(function (mutations, observer) {{\n",
       "        var display = window.getComputedStyle(gd).display;\n",
       "        if (!display || display === 'none') {{\n",
       "            console.log([gd, 'removed!']);\n",
       "            Plotly.purge(gd);\n",
       "            observer.disconnect();\n",
       "        }}\n",
       "}});\n",
       "\n",
       "// Listen for the removal of the full notebook cells\n",
       "var notebookContainer = gd.closest('#notebook-container');\n",
       "if (notebookContainer) {{\n",
       "    x.observe(notebookContainer, {childList: true});\n",
       "}}\n",
       "\n",
       "// Listen for the clearing of the current output cell\n",
       "var outputEl = gd.closest('.output');\n",
       "if (outputEl) {{\n",
       "    x.observe(outputEl, {childList: true});\n",
       "}}\n",
       "\n",
       "                        })                };                });            </script>        </div>"
      ]
     },
     "metadata": {},
     "output_type": "display_data"
    }
   ],
   "source": [
    "# VIZ RESULTS ------ \n",
    "res=pd.DataFrame(grid);\n",
    "\n",
    "fig=px.scatter(res,x=\"param_learning_rate\", y =\"mean_test_score\", color= \"param_hidden_layer_sizes\", symbol= \"param_alpha\", \n",
    "               symbol_sequence=[\"circle\",\"circle-open\"],\n",
    "               title= \"CV GRID SEARCH RESULTS ON BILLS MLP <br> MAE\")\n",
    "fig.update_traces(marker={'size': 8})\n",
    "fig.update_layout(height=600)\n",
    "fig.update_layout(coloraxis_colorbar=dict(yanchor=\"top\", y=1, x=-0.2,\n",
    "                                          ticks=\"outside\"))\n",
    "\n",
    "fig[\"data\"][0][\"marker\"][\"line\"]={\"color\":\"#9f9f9f\", \"width\":1.5}\n",
    "fig"
   ]
  },
  {
   "cell_type": "markdown",
   "id": "71880cce-b3de-4343-aab8-203cdb0f70a2",
   "metadata": {},
   "source": [
    "Parmi les meilleurs combinaisons (rouge en haut), il semblerait que ajouter des couches intermédiares augemente l'accuracy du modèle (en test). Les autres variations sont du aux autres paramètres de la recherche (*solver* et *activation function*)"
   ]
  },
  {
   "cell_type": "markdown",
   "id": "eb5c28c4-666a-4200-bbec-da5190865d3d",
   "metadata": {},
   "source": [
    "### XGBOOST PERFORMANCE "
   ]
  },
  {
   "cell_type": "code",
   "execution_count": 51,
   "id": "0ab2b3a2-608f-45b4-99f4-0cee040bcfa0",
   "metadata": {},
   "outputs": [
    {
     "data": {
      "text/markdown": [
       "Nous voyons que le early stopping a fonctionné. En effet, le booster a été initialisé avec 600 pas (steps), mais en réalité il en a effectué que 470.<br> Ce qui veut dire que la meilleure itération n'est pas la dernière: l'erreur minimale avec les données de validation a été obtenue à l'itération 459"
      ],
      "text/plain": [
       "<IPython.core.display.Markdown object>"
      ]
     },
     "execution_count": 51,
     "metadata": {},
     "output_type": "execute_result"
    }
   ],
   "source": [
    "xgboost_grid= loaded_models.get(best_models.tolist()[5]).get(\"model\")\n",
    "val_metrics= xgboost_grid.evals_result()['validation_0'][\"rmsle\"]\n",
    "nboosted=len(val_metrics)\n",
    "best_iter=xgboost_grid.best_iteration\n",
    "best_score = xgboost_grid.best_score\n",
    "md(f\"Nous voyons que le early stopping a fonctionné. En effet, le booster a été initialisé avec 600 pas (steps), mais en réalité il en a effectué que {nboosted}.<br> \\\n",
    "Ce qui veut dire que la meilleure itération n'est pas la dernière: l'erreur minimale avec les données de validation a été obtenue à l'itération {best_iter}\")"
   ]
  },
  {
   "cell_type": "code",
   "execution_count": 52,
   "id": "d0a6b99e-cd6b-4047-8a3b-5aafa84cab16",
   "metadata": {},
   "outputs": [
    {
     "data": {
      "application/vnd.plotly.v1+json": {
       "config": {
        "plotlyServerURL": "https://plot.ly"
       },
       "data": [
        {
         "mode": "lines",
         "name": "train",
         "type": "scatter",
         "y": [
          0.492137,
          0.486423,
          0.480604,
          0.474754,
          0.467243,
          0.459763,
          0.452372,
          0.446655,
          0.43975,
          0.432485,
          0.425682,
          0.418462,
          0.41136,
          0.404821,
          0.398325,
          0.391692,
          0.385573,
          0.379644,
          0.375227,
          0.369293,
          0.363634,
          0.359247,
          0.353609,
          0.348122,
          0.343966,
          0.337951,
          0.332758,
          0.327873,
          0.32415,
          0.319193,
          0.313748,
          0.30902,
          0.304299,
          0.299297,
          0.294784,
          0.290356,
          0.286992,
          0.282778,
          0.277809,
          0.274712,
          0.270435,
          0.265688,
          0.261819,
          0.257079,
          0.254284,
          0.251469,
          0.247968,
          0.245155,
          0.242583,
          0.23981,
          0.235845,
          0.231874,
          0.228589,
          0.224491,
          0.22086,
          0.217108,
          0.213344,
          0.21023,
          0.206378,
          0.202923,
          0.199977,
          0.19721,
          0.194456,
          0.192328,
          0.189582,
          0.186931,
          0.184365,
          0.181853,
          0.179868,
          0.177793,
          0.175893,
          0.173449,
          0.170421,
          0.168454,
          0.16618,
          0.164467,
          0.162062,
          0.159775,
          0.156997,
          0.154845,
          0.152304,
          0.150098,
          0.14858,
          0.146553,
          0.144617,
          0.14306,
          0.141563,
          0.139697,
          0.13781,
          0.136559,
          0.13414,
          0.131847,
          0.129671,
          0.127469,
          0.125424,
          0.123745,
          0.12165,
          0.120194,
          0.11866,
          0.116667,
          0.114715,
          0.11316,
          0.111743,
          0.110095,
          0.109026,
          0.107492,
          0.106059,
          0.105,
          0.103382,
          0.102131,
          0.101097,
          0.09994,
          0.098945,
          0.097745,
          0.096539,
          0.095488,
          0.094752,
          0.093575,
          0.092411,
          0.091271,
          0.090083,
          0.088989,
          0.088145,
          0.087443,
          0.086424,
          0.085082,
          0.084248,
          0.082959,
          0.082045,
          0.080827,
          0.079947,
          0.079356,
          0.078442,
          0.077317,
          0.076401,
          0.075627,
          0.074883,
          0.073711,
          0.07285,
          0.072096,
          0.071375,
          0.070324,
          0.069268,
          0.068515,
          0.067966,
          0.066927,
          0.066234,
          0.065341,
          0.06475,
          0.064201,
          0.063707,
          0.062942,
          0.062335,
          0.061932,
          0.061398,
          0.060642,
          0.059861,
          0.059411,
          0.059007,
          0.058674,
          0.058353,
          0.058034,
          0.057665,
          0.057174,
          0.056854,
          0.056525,
          0.056118,
          0.055786,
          0.055469,
          0.055202,
          0.054988,
          0.054757,
          0.054324,
          0.054102,
          0.053569,
          0.053315,
          0.05278,
          0.052446,
          0.052113,
          0.051755,
          0.051579,
          0.05137,
          0.051074,
          0.050851,
          0.050516,
          0.050172,
          0.049854,
          0.049567,
          0.049375,
          0.04909,
          0.048921,
          0.048604,
          0.048365,
          0.048094,
          0.047854,
          0.047678,
          0.047571,
          0.0473,
          0.047119,
          0.046891,
          0.04678,
          0.0467,
          0.046601,
          0.046345,
          0.046034,
          0.045843,
          0.045625,
          0.045562,
          0.045493,
          0.045329,
          0.045132,
          0.044955,
          0.044887,
          0.044765,
          0.044598,
          0.04448,
          0.044393,
          0.044249,
          0.044092,
          0.043851,
          0.043739,
          0.043586,
          0.043482,
          0.04329,
          0.043175,
          0.04302,
          0.042861,
          0.042783,
          0.042723,
          0.042644,
          0.042571,
          0.042465,
          0.042375,
          0.042276,
          0.042236,
          0.042103,
          0.042088,
          0.042017,
          0.041835,
          0.041705,
          0.041607,
          0.041462,
          0.041394,
          0.041319,
          0.041298,
          0.041156,
          0.041116,
          0.041053,
          0.040951,
          0.040861,
          0.040764,
          0.04072,
          0.040658,
          0.040574,
          0.040556,
          0.040497,
          0.040449,
          0.040399,
          0.040323,
          0.040269,
          0.040178,
          0.040111,
          0.040006,
          0.039941,
          0.039836,
          0.039819,
          0.039741,
          0.03967,
          0.039643,
          0.039565,
          0.039483,
          0.039424,
          0.039348,
          0.039339,
          0.039322,
          0.039273,
          0.039234,
          0.039149,
          0.039099,
          0.039078,
          0.039035,
          0.038965,
          0.038917,
          0.038873,
          0.038805,
          0.038709,
          0.038683,
          0.038628,
          0.038569,
          0.038514,
          0.038432,
          0.038405,
          0.038315,
          0.038287,
          0.038262,
          0.038246,
          0.03819,
          0.038156,
          0.038068,
          0.038002,
          0.037925,
          0.037864,
          0.03785,
          0.037825,
          0.037721,
          0.037693,
          0.037627,
          0.037589,
          0.037516,
          0.037483,
          0.037442,
          0.03742,
          0.03737,
          0.037337,
          0.037313,
          0.03729,
          0.037234,
          0.037207,
          0.037146,
          0.03713,
          0.037077,
          0.037063,
          0.037046,
          0.037029,
          0.037,
          0.036942,
          0.036884,
          0.036829,
          0.036796,
          0.036778,
          0.036726,
          0.036693,
          0.036674,
          0.036648,
          0.036631,
          0.036617,
          0.036591,
          0.036552,
          0.036498,
          0.036471,
          0.036402,
          0.036343,
          0.036309,
          0.036289,
          0.036271,
          0.036259,
          0.036204,
          0.036184,
          0.036144,
          0.036124,
          0.036097,
          0.036095,
          0.036069,
          0.036018,
          0.035988,
          0.035936,
          0.03592,
          0.035908,
          0.035877,
          0.035864,
          0.035803,
          0.035775,
          0.035765,
          0.035689,
          0.035603,
          0.035569,
          0.035528,
          0.035492,
          0.035468,
          0.035456,
          0.035413,
          0.035409,
          0.035374,
          0.03536,
          0.035291,
          0.035239,
          0.035174,
          0.035107,
          0.035094,
          0.035044,
          0.034997,
          0.034991,
          0.034965,
          0.034947,
          0.034866,
          0.034864,
          0.034857,
          0.034846,
          0.034823,
          0.034831,
          0.034808,
          0.034783,
          0.034735,
          0.034711,
          0.034681,
          0.034662,
          0.034607,
          0.034549,
          0.034519,
          0.034494,
          0.034476,
          0.034431,
          0.034358,
          0.034351,
          0.034287,
          0.034265,
          0.03425,
          0.034197,
          0.034153,
          0.034137,
          0.034143,
          0.034125,
          0.034102,
          0.034083,
          0.034069,
          0.03402,
          0.033971,
          0.033948,
          0.033934,
          0.033896,
          0.033886,
          0.033833,
          0.033791,
          0.033787,
          0.033751,
          0.033678,
          0.033667,
          0.033626,
          0.033616,
          0.033594,
          0.033574,
          0.033523,
          0.033529,
          0.033498,
          0.033471,
          0.03343,
          0.033406,
          0.033409,
          0.033383,
          0.033311,
          0.033265,
          0.03325,
          0.033199,
          0.033209,
          0.033194,
          0.033161,
          0.033144,
          0.033113,
          0.033079,
          0.033036,
          0.033022,
          0.032984,
          0.032978,
          0.032962,
          0.03294,
          0.032892,
          0.032886,
          0.032835,
          0.032821,
          0.032783,
          0.032766,
          0.032749,
          0.032688,
          0.032667,
          0.032642,
          0.032644,
          0.032623,
          0.032588,
          0.032573,
          0.032545
         ]
        },
        {
         "mode": "lines",
         "name": "validation",
         "type": "scatter",
         "y": [
          0.492113,
          0.486623,
          0.48117,
          0.475785,
          0.46858,
          0.460722,
          0.453107,
          0.447947,
          0.441436,
          0.433961,
          0.42737,
          0.420101,
          0.413013,
          0.406322,
          0.39993,
          0.393511,
          0.387457,
          0.381216,
          0.377084,
          0.370944,
          0.365499,
          0.361397,
          0.355989,
          0.35062,
          0.346844,
          0.340758,
          0.33553,
          0.330984,
          0.327381,
          0.322448,
          0.316992,
          0.312299,
          0.30782,
          0.302736,
          0.298364,
          0.293914,
          0.290666,
          0.286286,
          0.281117,
          0.278104,
          0.273979,
          0.269312,
          0.26541,
          0.260752,
          0.258178,
          0.255491,
          0.251774,
          0.249007,
          0.246402,
          0.243943,
          0.240397,
          0.236221,
          0.232946,
          0.228757,
          0.225453,
          0.221788,
          0.217949,
          0.215059,
          0.211275,
          0.207879,
          0.204778,
          0.202026,
          0.199306,
          0.197427,
          0.194519,
          0.192068,
          0.189244,
          0.187018,
          0.185212,
          0.183217,
          0.181403,
          0.179019,
          0.176058,
          0.174159,
          0.171759,
          0.170235,
          0.1678,
          0.16557,
          0.162786,
          0.160816,
          0.158497,
          0.156411,
          0.154964,
          0.152979,
          0.15116,
          0.149726,
          0.148383,
          0.14648,
          0.14468,
          0.143644,
          0.141358,
          0.138969,
          0.136873,
          0.134658,
          0.132559,
          0.13126,
          0.129194,
          0.127669,
          0.126196,
          0.124321,
          0.12236,
          0.120861,
          0.119543,
          0.117932,
          0.11694,
          0.115475,
          0.113996,
          0.11312,
          0.111467,
          0.110169,
          0.109242,
          0.108189,
          0.107227,
          0.106109,
          0.104927,
          0.103869,
          0.103222,
          0.102167,
          0.100965,
          0.09996,
          0.098748,
          0.097695,
          0.0969,
          0.096402,
          0.095607,
          0.094297,
          0.09346,
          0.092119,
          0.091154,
          0.08998,
          0.089104,
          0.088648,
          0.087861,
          0.086851,
          0.08585,
          0.085051,
          0.084387,
          0.083284,
          0.082632,
          0.081971,
          0.081262,
          0.080282,
          0.079276,
          0.078583,
          0.0781,
          0.077085,
          0.076511,
          0.075819,
          0.07533,
          0.074799,
          0.074336,
          0.073721,
          0.07314,
          0.072935,
          0.072337,
          0.071628,
          0.070888,
          0.070443,
          0.070136,
          0.069829,
          0.069606,
          0.069271,
          0.068953,
          0.068496,
          0.068185,
          0.067891,
          0.06746,
          0.067093,
          0.066803,
          0.066562,
          0.066436,
          0.066223,
          0.065747,
          0.065578,
          0.065054,
          0.064847,
          0.064372,
          0.064086,
          0.063704,
          0.063489,
          0.063334,
          0.063159,
          0.062907,
          0.06274,
          0.062456,
          0.062167,
          0.061896,
          0.06153,
          0.061443,
          0.061135,
          0.061031,
          0.060657,
          0.060499,
          0.060257,
          0.060006,
          0.059845,
          0.059745,
          0.059508,
          0.0594,
          0.059191,
          0.059192,
          0.059106,
          0.058966,
          0.058807,
          0.058474,
          0.058252,
          0.058008,
          0.057973,
          0.057943,
          0.057811,
          0.057686,
          0.057476,
          0.057378,
          0.057223,
          0.057061,
          0.056971,
          0.056921,
          0.056819,
          0.056632,
          0.056396,
          0.056295,
          0.056187,
          0.056118,
          0.056029,
          0.055964,
          0.055773,
          0.055701,
          0.055634,
          0.05562,
          0.055576,
          0.055539,
          0.055463,
          0.055395,
          0.055344,
          0.055268,
          0.055154,
          0.055116,
          0.055013,
          0.054832,
          0.054668,
          0.054558,
          0.054406,
          0.054349,
          0.054266,
          0.054184,
          0.054002,
          0.053976,
          0.053864,
          0.05382,
          0.053694,
          0.053629,
          0.053628,
          0.053589,
          0.053493,
          0.053417,
          0.053369,
          0.053419,
          0.053398,
          0.053272,
          0.053203,
          0.053106,
          0.053041,
          0.052953,
          0.052931,
          0.052822,
          0.052819,
          0.052733,
          0.052683,
          0.052653,
          0.052514,
          0.052419,
          0.052324,
          0.052275,
          0.052277,
          0.052285,
          0.052258,
          0.052192,
          0.052117,
          0.052047,
          0.052003,
          0.051947,
          0.051824,
          0.051804,
          0.051765,
          0.051744,
          0.051719,
          0.051701,
          0.051652,
          0.051597,
          0.051562,
          0.051474,
          0.051463,
          0.051389,
          0.051378,
          0.05133,
          0.051329,
          0.051259,
          0.051168,
          0.051161,
          0.051113,
          0.051066,
          0.051087,
          0.051083,
          0.051048,
          0.050978,
          0.050963,
          0.050861,
          0.050832,
          0.050788,
          0.050795,
          0.050746,
          0.05076,
          0.050685,
          0.050674,
          0.050707,
          0.050729,
          0.050602,
          0.050587,
          0.050517,
          0.050507,
          0.050483,
          0.05047,
          0.050449,
          0.050443,
          0.050383,
          0.050331,
          0.050293,
          0.05029,
          0.050259,
          0.050235,
          0.050177,
          0.050154,
          0.050116,
          0.050128,
          0.050103,
          0.050094,
          0.050043,
          0.050108,
          0.050082,
          0.050031,
          0.049905,
          0.049857,
          0.049837,
          0.049808,
          0.049783,
          0.049767,
          0.049745,
          0.04973,
          0.049677,
          0.049677,
          0.049642,
          0.04961,
          0.049597,
          0.049513,
          0.049473,
          0.049394,
          0.049358,
          0.049332,
          0.049295,
          0.049281,
          0.049217,
          0.049181,
          0.049182,
          0.049126,
          0.049051,
          0.049034,
          0.049061,
          0.049024,
          0.048995,
          0.048992,
          0.04891,
          0.0489,
          0.048883,
          0.04887,
          0.048861,
          0.048783,
          0.048713,
          0.048671,
          0.048672,
          0.048648,
          0.048629,
          0.048619,
          0.048591,
          0.04857,
          0.048527,
          0.048496,
          0.048508,
          0.048489,
          0.048518,
          0.048487,
          0.048472,
          0.048458,
          0.048419,
          0.048395,
          0.048366,
          0.048341,
          0.048316,
          0.048263,
          0.048211,
          0.048187,
          0.048181,
          0.048152,
          0.04805,
          0.048052,
          0.048025,
          0.047997,
          0.047974,
          0.047972,
          0.047954,
          0.047932,
          0.04794,
          0.047903,
          0.047904,
          0.047903,
          0.047866,
          0.047898,
          0.047849,
          0.047837,
          0.047826,
          0.047818,
          0.047826,
          0.047738,
          0.047738,
          0.047742,
          0.047713,
          0.047674,
          0.047676,
          0.047598,
          0.047575,
          0.047527,
          0.047479,
          0.047447,
          0.047451,
          0.047413,
          0.047363,
          0.047294,
          0.047248,
          0.047233,
          0.047259,
          0.047243,
          0.047201,
          0.047206,
          0.047194,
          0.047214,
          0.047219,
          0.047181,
          0.047175,
          0.047168,
          0.047132,
          0.047098,
          0.047085,
          0.04708,
          0.047081,
          0.047082,
          0.047088,
          0.047042,
          0.047049,
          0.047078,
          0.047093,
          0.046998,
          0.047008,
          0.047054,
          0.047029,
          0.047038,
          0.047021,
          0.04704,
          0.047046,
          0.047031,
          0.046999,
          0.046986
         ]
        }
       ],
       "layout": {
        "annotations": [
         {
          "arrowhead": 1,
          "ax": -60,
          "ay": -30,
          "showarrow": true,
          "text": "Last best iteration",
          "x": 459,
          "y": 1.060922
         }
        ],
        "autosize": true,
        "font": {
         "family": "Courier New, monospace",
         "size": 12
        },
        "legend": {
         "title": {
          "text": "Data split "
         }
        },
        "shapes": [
         {
          "line": {
           "color": "green",
           "dash": "dash",
           "width": 3
          },
          "type": "line",
          "x0": 459,
          "x1": 459,
          "xref": "x",
          "y0": 0,
          "y1": 1,
          "yref": "y domain"
         }
        ],
        "template": {
         "data": {
          "bar": [
           {
            "error_x": {
             "color": "#2a3f5f"
            },
            "error_y": {
             "color": "#2a3f5f"
            },
            "marker": {
             "line": {
              "color": "#E5ECF6",
              "width": 0.5
             },
             "pattern": {
              "fillmode": "overlay",
              "size": 10,
              "solidity": 0.2
             }
            },
            "type": "bar"
           }
          ],
          "barpolar": [
           {
            "marker": {
             "line": {
              "color": "#E5ECF6",
              "width": 0.5
             },
             "pattern": {
              "fillmode": "overlay",
              "size": 10,
              "solidity": 0.2
             }
            },
            "type": "barpolar"
           }
          ],
          "carpet": [
           {
            "aaxis": {
             "endlinecolor": "#2a3f5f",
             "gridcolor": "white",
             "linecolor": "white",
             "minorgridcolor": "white",
             "startlinecolor": "#2a3f5f"
            },
            "baxis": {
             "endlinecolor": "#2a3f5f",
             "gridcolor": "white",
             "linecolor": "white",
             "minorgridcolor": "white",
             "startlinecolor": "#2a3f5f"
            },
            "type": "carpet"
           }
          ],
          "choropleth": [
           {
            "colorbar": {
             "outlinewidth": 0,
             "ticks": ""
            },
            "type": "choropleth"
           }
          ],
          "contour": [
           {
            "colorbar": {
             "outlinewidth": 0,
             "ticks": ""
            },
            "colorscale": [
             [
              0,
              "#0d0887"
             ],
             [
              0.1111111111111111,
              "#46039f"
             ],
             [
              0.2222222222222222,
              "#7201a8"
             ],
             [
              0.3333333333333333,
              "#9c179e"
             ],
             [
              0.4444444444444444,
              "#bd3786"
             ],
             [
              0.5555555555555556,
              "#d8576b"
             ],
             [
              0.6666666666666666,
              "#ed7953"
             ],
             [
              0.7777777777777778,
              "#fb9f3a"
             ],
             [
              0.8888888888888888,
              "#fdca26"
             ],
             [
              1,
              "#f0f921"
             ]
            ],
            "type": "contour"
           }
          ],
          "contourcarpet": [
           {
            "colorbar": {
             "outlinewidth": 0,
             "ticks": ""
            },
            "type": "contourcarpet"
           }
          ],
          "heatmap": [
           {
            "colorbar": {
             "outlinewidth": 0,
             "ticks": ""
            },
            "colorscale": [
             [
              0,
              "#0d0887"
             ],
             [
              0.1111111111111111,
              "#46039f"
             ],
             [
              0.2222222222222222,
              "#7201a8"
             ],
             [
              0.3333333333333333,
              "#9c179e"
             ],
             [
              0.4444444444444444,
              "#bd3786"
             ],
             [
              0.5555555555555556,
              "#d8576b"
             ],
             [
              0.6666666666666666,
              "#ed7953"
             ],
             [
              0.7777777777777778,
              "#fb9f3a"
             ],
             [
              0.8888888888888888,
              "#fdca26"
             ],
             [
              1,
              "#f0f921"
             ]
            ],
            "type": "heatmap"
           }
          ],
          "heatmapgl": [
           {
            "colorbar": {
             "outlinewidth": 0,
             "ticks": ""
            },
            "colorscale": [
             [
              0,
              "#0d0887"
             ],
             [
              0.1111111111111111,
              "#46039f"
             ],
             [
              0.2222222222222222,
              "#7201a8"
             ],
             [
              0.3333333333333333,
              "#9c179e"
             ],
             [
              0.4444444444444444,
              "#bd3786"
             ],
             [
              0.5555555555555556,
              "#d8576b"
             ],
             [
              0.6666666666666666,
              "#ed7953"
             ],
             [
              0.7777777777777778,
              "#fb9f3a"
             ],
             [
              0.8888888888888888,
              "#fdca26"
             ],
             [
              1,
              "#f0f921"
             ]
            ],
            "type": "heatmapgl"
           }
          ],
          "histogram": [
           {
            "marker": {
             "pattern": {
              "fillmode": "overlay",
              "size": 10,
              "solidity": 0.2
             }
            },
            "type": "histogram"
           }
          ],
          "histogram2d": [
           {
            "colorbar": {
             "outlinewidth": 0,
             "ticks": ""
            },
            "colorscale": [
             [
              0,
              "#0d0887"
             ],
             [
              0.1111111111111111,
              "#46039f"
             ],
             [
              0.2222222222222222,
              "#7201a8"
             ],
             [
              0.3333333333333333,
              "#9c179e"
             ],
             [
              0.4444444444444444,
              "#bd3786"
             ],
             [
              0.5555555555555556,
              "#d8576b"
             ],
             [
              0.6666666666666666,
              "#ed7953"
             ],
             [
              0.7777777777777778,
              "#fb9f3a"
             ],
             [
              0.8888888888888888,
              "#fdca26"
             ],
             [
              1,
              "#f0f921"
             ]
            ],
            "type": "histogram2d"
           }
          ],
          "histogram2dcontour": [
           {
            "colorbar": {
             "outlinewidth": 0,
             "ticks": ""
            },
            "colorscale": [
             [
              0,
              "#0d0887"
             ],
             [
              0.1111111111111111,
              "#46039f"
             ],
             [
              0.2222222222222222,
              "#7201a8"
             ],
             [
              0.3333333333333333,
              "#9c179e"
             ],
             [
              0.4444444444444444,
              "#bd3786"
             ],
             [
              0.5555555555555556,
              "#d8576b"
             ],
             [
              0.6666666666666666,
              "#ed7953"
             ],
             [
              0.7777777777777778,
              "#fb9f3a"
             ],
             [
              0.8888888888888888,
              "#fdca26"
             ],
             [
              1,
              "#f0f921"
             ]
            ],
            "type": "histogram2dcontour"
           }
          ],
          "mesh3d": [
           {
            "colorbar": {
             "outlinewidth": 0,
             "ticks": ""
            },
            "type": "mesh3d"
           }
          ],
          "parcoords": [
           {
            "line": {
             "colorbar": {
              "outlinewidth": 0,
              "ticks": ""
             }
            },
            "type": "parcoords"
           }
          ],
          "pie": [
           {
            "automargin": true,
            "type": "pie"
           }
          ],
          "scatter": [
           {
            "marker": {
             "colorbar": {
              "outlinewidth": 0,
              "ticks": ""
             }
            },
            "type": "scatter"
           }
          ],
          "scatter3d": [
           {
            "line": {
             "colorbar": {
              "outlinewidth": 0,
              "ticks": ""
             }
            },
            "marker": {
             "colorbar": {
              "outlinewidth": 0,
              "ticks": ""
             }
            },
            "type": "scatter3d"
           }
          ],
          "scattercarpet": [
           {
            "marker": {
             "colorbar": {
              "outlinewidth": 0,
              "ticks": ""
             }
            },
            "type": "scattercarpet"
           }
          ],
          "scattergeo": [
           {
            "marker": {
             "colorbar": {
              "outlinewidth": 0,
              "ticks": ""
             }
            },
            "type": "scattergeo"
           }
          ],
          "scattergl": [
           {
            "marker": {
             "colorbar": {
              "outlinewidth": 0,
              "ticks": ""
             }
            },
            "type": "scattergl"
           }
          ],
          "scattermapbox": [
           {
            "marker": {
             "colorbar": {
              "outlinewidth": 0,
              "ticks": ""
             }
            },
            "type": "scattermapbox"
           }
          ],
          "scatterpolar": [
           {
            "marker": {
             "colorbar": {
              "outlinewidth": 0,
              "ticks": ""
             }
            },
            "type": "scatterpolar"
           }
          ],
          "scatterpolargl": [
           {
            "marker": {
             "colorbar": {
              "outlinewidth": 0,
              "ticks": ""
             }
            },
            "type": "scatterpolargl"
           }
          ],
          "scatterternary": [
           {
            "marker": {
             "colorbar": {
              "outlinewidth": 0,
              "ticks": ""
             }
            },
            "type": "scatterternary"
           }
          ],
          "surface": [
           {
            "colorbar": {
             "outlinewidth": 0,
             "ticks": ""
            },
            "colorscale": [
             [
              0,
              "#0d0887"
             ],
             [
              0.1111111111111111,
              "#46039f"
             ],
             [
              0.2222222222222222,
              "#7201a8"
             ],
             [
              0.3333333333333333,
              "#9c179e"
             ],
             [
              0.4444444444444444,
              "#bd3786"
             ],
             [
              0.5555555555555556,
              "#d8576b"
             ],
             [
              0.6666666666666666,
              "#ed7953"
             ],
             [
              0.7777777777777778,
              "#fb9f3a"
             ],
             [
              0.8888888888888888,
              "#fdca26"
             ],
             [
              1,
              "#f0f921"
             ]
            ],
            "type": "surface"
           }
          ],
          "table": [
           {
            "cells": {
             "fill": {
              "color": "#EBF0F8"
             },
             "line": {
              "color": "white"
             }
            },
            "header": {
             "fill": {
              "color": "#C8D4E3"
             },
             "line": {
              "color": "white"
             }
            },
            "type": "table"
           }
          ]
         },
         "layout": {
          "annotationdefaults": {
           "arrowcolor": "#2a3f5f",
           "arrowhead": 0,
           "arrowwidth": 1
          },
          "autotypenumbers": "strict",
          "coloraxis": {
           "colorbar": {
            "outlinewidth": 0,
            "ticks": ""
           }
          },
          "colorscale": {
           "diverging": [
            [
             0,
             "#8e0152"
            ],
            [
             0.1,
             "#c51b7d"
            ],
            [
             0.2,
             "#de77ae"
            ],
            [
             0.3,
             "#f1b6da"
            ],
            [
             0.4,
             "#fde0ef"
            ],
            [
             0.5,
             "#f7f7f7"
            ],
            [
             0.6,
             "#e6f5d0"
            ],
            [
             0.7,
             "#b8e186"
            ],
            [
             0.8,
             "#7fbc41"
            ],
            [
             0.9,
             "#4d9221"
            ],
            [
             1,
             "#276419"
            ]
           ],
           "sequential": [
            [
             0,
             "#0d0887"
            ],
            [
             0.1111111111111111,
             "#46039f"
            ],
            [
             0.2222222222222222,
             "#7201a8"
            ],
            [
             0.3333333333333333,
             "#9c179e"
            ],
            [
             0.4444444444444444,
             "#bd3786"
            ],
            [
             0.5555555555555556,
             "#d8576b"
            ],
            [
             0.6666666666666666,
             "#ed7953"
            ],
            [
             0.7777777777777778,
             "#fb9f3a"
            ],
            [
             0.8888888888888888,
             "#fdca26"
            ],
            [
             1,
             "#f0f921"
            ]
           ],
           "sequentialminus": [
            [
             0,
             "#0d0887"
            ],
            [
             0.1111111111111111,
             "#46039f"
            ],
            [
             0.2222222222222222,
             "#7201a8"
            ],
            [
             0.3333333333333333,
             "#9c179e"
            ],
            [
             0.4444444444444444,
             "#bd3786"
            ],
            [
             0.5555555555555556,
             "#d8576b"
            ],
            [
             0.6666666666666666,
             "#ed7953"
            ],
            [
             0.7777777777777778,
             "#fb9f3a"
            ],
            [
             0.8888888888888888,
             "#fdca26"
            ],
            [
             1,
             "#f0f921"
            ]
           ]
          },
          "colorway": [
           "#636efa",
           "#EF553B",
           "#00cc96",
           "#ab63fa",
           "#FFA15A",
           "#19d3f3",
           "#FF6692",
           "#B6E880",
           "#FF97FF",
           "#FECB52"
          ],
          "font": {
           "color": "#2a3f5f"
          },
          "geo": {
           "bgcolor": "white",
           "lakecolor": "white",
           "landcolor": "#E5ECF6",
           "showlakes": true,
           "showland": true,
           "subunitcolor": "white"
          },
          "hoverlabel": {
           "align": "left"
          },
          "hovermode": "closest",
          "mapbox": {
           "style": "light"
          },
          "paper_bgcolor": "white",
          "plot_bgcolor": "#E5ECF6",
          "polar": {
           "angularaxis": {
            "gridcolor": "white",
            "linecolor": "white",
            "ticks": ""
           },
           "bgcolor": "#E5ECF6",
           "radialaxis": {
            "gridcolor": "white",
            "linecolor": "white",
            "ticks": ""
           }
          },
          "scene": {
           "xaxis": {
            "backgroundcolor": "#E5ECF6",
            "gridcolor": "white",
            "gridwidth": 2,
            "linecolor": "white",
            "showbackground": true,
            "ticks": "",
            "zerolinecolor": "white"
           },
           "yaxis": {
            "backgroundcolor": "#E5ECF6",
            "gridcolor": "white",
            "gridwidth": 2,
            "linecolor": "white",
            "showbackground": true,
            "ticks": "",
            "zerolinecolor": "white"
           },
           "zaxis": {
            "backgroundcolor": "#E5ECF6",
            "gridcolor": "white",
            "gridwidth": 2,
            "linecolor": "white",
            "showbackground": true,
            "ticks": "",
            "zerolinecolor": "white"
           }
          },
          "shapedefaults": {
           "line": {
            "color": "#2a3f5f"
           }
          },
          "ternary": {
           "aaxis": {
            "gridcolor": "white",
            "linecolor": "white",
            "ticks": ""
           },
           "baxis": {
            "gridcolor": "white",
            "linecolor": "white",
            "ticks": ""
           },
           "bgcolor": "#E5ECF6",
           "caxis": {
            "gridcolor": "white",
            "linecolor": "white",
            "ticks": ""
           }
          },
          "title": {
           "x": 0.05
          },
          "xaxis": {
           "automargin": true,
           "gridcolor": "white",
           "linecolor": "white",
           "ticks": "",
           "title": {
            "standoff": 15
           },
           "zerolinecolor": "white",
           "zerolinewidth": 2
          },
          "yaxis": {
           "automargin": true,
           "gridcolor": "white",
           "linecolor": "white",
           "ticks": "",
           "title": {
            "standoff": 15
           },
           "zerolinecolor": "white",
           "zerolinewidth": 2
          }
         }
        },
        "title": {
         "text": "MAE by step XGBoost grid tuned and refitted on subset"
        },
        "xaxis": {
         "autorange": true,
         "range": [
          0,
          469
         ],
         "title": {
          "text": "Iteration"
         }
        },
        "yaxis": {
         "autorange": true,
         "range": [
          -0.037571613636363625,
          1.364760659090909
         ],
         "title": {
          "text": "MAE"
         },
         "type": "linear"
        }
       }
      },
      "image/png": "[encoded data removed]",
      "text/html": [
       "<div>                            <div id=\"f15de303-4c5d-42ce-80b1-d8b8168aadc3\" class=\"plotly-graph-div\" style=\"height:525px; width:100%;\"></div>            <script type=\"text/javascript\">                require([\"plotly\"], function(Plotly) {                    window.PLOTLYENV=window.PLOTLYENV || {};                                    if (document.getElementById(\"f15de303-4c5d-42ce-80b1-d8b8168aadc3\")) {                    Plotly.newPlot(                        \"f15de303-4c5d-42ce-80b1-d8b8168aadc3\",                        [{\"mode\":\"lines\",\"name\":\"train\",\"y\":[0.492137,0.486423,0.480604,0.474754,0.467243,0.459763,0.452372,0.446655,0.43975,0.432485,0.425682,0.418462,0.41136,0.404821,0.398325,0.391692,0.385573,0.379644,0.375227,0.369293,0.363634,0.359247,0.353609,0.348122,0.343966,0.337951,0.332758,0.327873,0.32415,0.319193,0.313748,0.30902,0.304299,0.299297,0.294784,0.290356,0.286992,0.282778,0.277809,0.274712,0.270435,0.265688,0.261819,0.257079,0.254284,0.251469,0.247968,0.245155,0.242583,0.23981,0.235845,0.231874,0.228589,0.224491,0.22086,0.217108,0.213344,0.21023,0.206378,0.202923,0.199977,0.19721,0.194456,0.192328,0.189582,0.186931,0.184365,0.181853,0.179868,0.177793,0.175893,0.173449,0.170421,0.168454,0.16618,0.164467,0.162062,0.159775,0.156997,0.154845,0.152304,0.150098,0.14858,0.146553,0.144617,0.14306,0.141563,0.139697,0.13781,0.136559,0.13414,0.131847,0.129671,0.127469,0.125424,0.123745,0.12165,0.120194,0.11866,0.116667,0.114715,0.11316,0.111743,0.110095,0.109026,0.107492,0.106059,0.105,0.103382,0.102131,0.101097,0.09994,0.098945,0.097745,0.096539,0.095488,0.094752,0.093575,0.092411,0.091271,0.090083,0.088989,0.088145,0.087443,0.086424,0.085082,0.084248,0.082959,0.082045,0.080827,0.079947,0.079356,0.078442,0.077317,0.076401,0.075627,0.074883,0.073711,0.07285,0.072096,0.071375,0.070324,0.069268,0.068515,0.067966,0.066927,0.066234,0.065341,0.06475,0.064201,0.063707,0.062942,0.062335,0.061932,0.061398,0.060642,0.059861,0.059411,0.059007,0.058674,0.058353,0.058034,0.057665,0.057174,0.056854,0.056525,0.056118,0.055786,0.055469,0.055202,0.054988,0.054757,0.054324,0.054102,0.053569,0.053315,0.05278,0.052446,0.052113,0.051755,0.051579,0.05137,0.051074,0.050851,0.050516,0.050172,0.049854,0.049567,0.049375,0.04909,0.048921,0.048604,0.048365,0.048094,0.047854,0.047678,0.047571,0.0473,0.047119,0.046891,0.04678,0.0467,0.046601,0.046345,0.046034,0.045843,0.045625,0.045562,0.045493,0.045329,0.045132,0.044955,0.044887,0.044765,0.044598,0.04448,0.044393,0.044249,0.044092,0.043851,0.043739,0.043586,0.043482,0.04329,0.043175,0.04302,0.042861,0.042783,0.042723,0.042644,0.042571,0.042465,0.042375,0.042276,0.042236,0.042103,0.042088,0.042017,0.041835,0.041705,0.041607,0.041462,0.041394,0.041319,0.041298,0.041156,0.041116,0.041053,0.040951,0.040861,0.040764,0.04072,0.040658,0.040574,0.040556,0.040497,0.040449,0.040399,0.040323,0.040269,0.040178,0.040111,0.040006,0.039941,0.039836,0.039819,0.039741,0.03967,0.039643,0.039565,0.039483,0.039424,0.039348,0.039339,0.039322,0.039273,0.039234,0.039149,0.039099,0.039078,0.039035,0.038965,0.038917,0.038873,0.038805,0.038709,0.038683,0.038628,0.038569,0.038514,0.038432,0.038405,0.038315,0.038287,0.038262,0.038246,0.03819,0.038156,0.038068,0.038002,0.037925,0.037864,0.03785,0.037825,0.037721,0.037693,0.037627,0.037589,0.037516,0.037483,0.037442,0.03742,0.03737,0.037337,0.037313,0.03729,0.037234,0.037207,0.037146,0.03713,0.037077,0.037063,0.037046,0.037029,0.037,0.036942,0.036884,0.036829,0.036796,0.036778,0.036726,0.036693,0.036674,0.036648,0.036631,0.036617,0.036591,0.036552,0.036498,0.036471,0.036402,0.036343,0.036309,0.036289,0.036271,0.036259,0.036204,0.036184,0.036144,0.036124,0.036097,0.036095,0.036069,0.036018,0.035988,0.035936,0.03592,0.035908,0.035877,0.035864,0.035803,0.035775,0.035765,0.035689,0.035603,0.035569,0.035528,0.035492,0.035468,0.035456,0.035413,0.035409,0.035374,0.03536,0.035291,0.035239,0.035174,0.035107,0.035094,0.035044,0.034997,0.034991,0.034965,0.034947,0.034866,0.034864,0.034857,0.034846,0.034823,0.034831,0.034808,0.034783,0.034735,0.034711,0.034681,0.034662,0.034607,0.034549,0.034519,0.034494,0.034476,0.034431,0.034358,0.034351,0.034287,0.034265,0.03425,0.034197,0.034153,0.034137,0.034143,0.034125,0.034102,0.034083,0.034069,0.03402,0.033971,0.033948,0.033934,0.033896,0.033886,0.033833,0.033791,0.033787,0.033751,0.033678,0.033667,0.033626,0.033616,0.033594,0.033574,0.033523,0.033529,0.033498,0.033471,0.03343,0.033406,0.033409,0.033383,0.033311,0.033265,0.03325,0.033199,0.033209,0.033194,0.033161,0.033144,0.033113,0.033079,0.033036,0.033022,0.032984,0.032978,0.032962,0.03294,0.032892,0.032886,0.032835,0.032821,0.032783,0.032766,0.032749,0.032688,0.032667,0.032642,0.032644,0.032623,0.032588,0.032573,0.032545],\"type\":\"scatter\"},{\"mode\":\"lines\",\"name\":\"validation\",\"y\":[0.492113,0.486623,0.48117,0.475785,0.46858,0.460722,0.453107,0.447947,0.441436,0.433961,0.42737,0.420101,0.413013,0.406322,0.39993,0.393511,0.387457,0.381216,0.377084,0.370944,0.365499,0.361397,0.355989,0.35062,0.346844,0.340758,0.33553,0.330984,0.327381,0.322448,0.316992,0.312299,0.30782,0.302736,0.298364,0.293914,0.290666,0.286286,0.281117,0.278104,0.273979,0.269312,0.26541,0.260752,0.258178,0.255491,0.251774,0.249007,0.246402,0.243943,0.240397,0.236221,0.232946,0.228757,0.225453,0.221788,0.217949,0.215059,0.211275,0.207879,0.204778,0.202026,0.199306,0.197427,0.194519,0.192068,0.189244,0.187018,0.185212,0.183217,0.181403,0.179019,0.176058,0.174159,0.171759,0.170235,0.1678,0.16557,0.162786,0.160816,0.158497,0.156411,0.154964,0.152979,0.15116,0.149726,0.148383,0.14648,0.14468,0.143644,0.141358,0.138969,0.136873,0.134658,0.132559,0.13126,0.129194,0.127669,0.126196,0.124321,0.12236,0.120861,0.119543,0.117932,0.11694,0.115475,0.113996,0.11312,0.111467,0.110169,0.109242,0.108189,0.107227,0.106109,0.104927,0.103869,0.103222,0.102167,0.100965,0.09996,0.098748,0.097695,0.0969,0.096402,0.095607,0.094297,0.09346,0.092119,0.091154,0.08998,0.089104,0.088648,0.087861,0.086851,0.08585,0.085051,0.084387,0.083284,0.082632,0.081971,0.081262,0.080282,0.079276,0.078583,0.0781,0.077085,0.076511,0.075819,0.07533,0.074799,0.074336,0.073721,0.07314,0.072935,0.072337,0.071628,0.070888,0.070443,0.070136,0.069829,0.069606,0.069271,0.068953,0.068496,0.068185,0.067891,0.06746,0.067093,0.066803,0.066562,0.066436,0.066223,0.065747,0.065578,0.065054,0.064847,0.064372,0.064086,0.063704,0.063489,0.063334,0.063159,0.062907,0.06274,0.062456,0.062167,0.061896,0.06153,0.061443,0.061135,0.061031,0.060657,0.060499,0.060257,0.060006,0.059845,0.059745,0.059508,0.0594,0.059191,0.059192,0.059106,0.058966,0.058807,0.058474,0.058252,0.058008,0.057973,0.057943,0.057811,0.057686,0.057476,0.057378,0.057223,0.057061,0.056971,0.056921,0.056819,0.056632,0.056396,0.056295,0.056187,0.056118,0.056029,0.055964,0.055773,0.055701,0.055634,0.05562,0.055576,0.055539,0.055463,0.055395,0.055344,0.055268,0.055154,0.055116,0.055013,0.054832,0.054668,0.054558,0.054406,0.054349,0.054266,0.054184,0.054002,0.053976,0.053864,0.05382,0.053694,0.053629,0.053628,0.053589,0.053493,0.053417,0.053369,0.053419,0.053398,0.053272,0.053203,0.053106,0.053041,0.052953,0.052931,0.052822,0.052819,0.052733,0.052683,0.052653,0.052514,0.052419,0.052324,0.052275,0.052277,0.052285,0.052258,0.052192,0.052117,0.052047,0.052003,0.051947,0.051824,0.051804,0.051765,0.051744,0.051719,0.051701,0.051652,0.051597,0.051562,0.051474,0.051463,0.051389,0.051378,0.05133,0.051329,0.051259,0.051168,0.051161,0.051113,0.051066,0.051087,0.051083,0.051048,0.050978,0.050963,0.050861,0.050832,0.050788,0.050795,0.050746,0.05076,0.050685,0.050674,0.050707,0.050729,0.050602,0.050587,0.050517,0.050507,0.050483,0.05047,0.050449,0.050443,0.050383,0.050331,0.050293,0.05029,0.050259,0.050235,0.050177,0.050154,0.050116,0.050128,0.050103,0.050094,0.050043,0.050108,0.050082,0.050031,0.049905,0.049857,0.049837,0.049808,0.049783,0.049767,0.049745,0.04973,0.049677,0.049677,0.049642,0.04961,0.049597,0.049513,0.049473,0.049394,0.049358,0.049332,0.049295,0.049281,0.049217,0.049181,0.049182,0.049126,0.049051,0.049034,0.049061,0.049024,0.048995,0.048992,0.04891,0.0489,0.048883,0.04887,0.048861,0.048783,0.048713,0.048671,0.048672,0.048648,0.048629,0.048619,0.048591,0.04857,0.048527,0.048496,0.048508,0.048489,0.048518,0.048487,0.048472,0.048458,0.048419,0.048395,0.048366,0.048341,0.048316,0.048263,0.048211,0.048187,0.048181,0.048152,0.04805,0.048052,0.048025,0.047997,0.047974,0.047972,0.047954,0.047932,0.04794,0.047903,0.047904,0.047903,0.047866,0.047898,0.047849,0.047837,0.047826,0.047818,0.047826,0.047738,0.047738,0.047742,0.047713,0.047674,0.047676,0.047598,0.047575,0.047527,0.047479,0.047447,0.047451,0.047413,0.047363,0.047294,0.047248,0.047233,0.047259,0.047243,0.047201,0.047206,0.047194,0.047214,0.047219,0.047181,0.047175,0.047168,0.047132,0.047098,0.047085,0.04708,0.047081,0.047082,0.047088,0.047042,0.047049,0.047078,0.047093,0.046998,0.047008,0.047054,0.047029,0.047038,0.047021,0.04704,0.047046,0.047031,0.046999,0.046986],\"type\":\"scatter\"}],                        {\"template\":{\"data\":{\"bar\":[{\"error_x\":{\"color\":\"#2a3f5f\"},\"error_y\":{\"color\":\"#2a3f5f\"},\"marker\":{\"line\":{\"color\":\"#E5ECF6\",\"width\":0.5},\"pattern\":{\"fillmode\":\"overlay\",\"size\":10,\"solidity\":0.2}},\"type\":\"bar\"}],\"barpolar\":[{\"marker\":{\"line\":{\"color\":\"#E5ECF6\",\"width\":0.5},\"pattern\":{\"fillmode\":\"overlay\",\"size\":10,\"solidity\":0.2}},\"type\":\"barpolar\"}],\"carpet\":[{\"aaxis\":{\"endlinecolor\":\"#2a3f5f\",\"gridcolor\":\"white\",\"linecolor\":\"white\",\"minorgridcolor\":\"white\",\"startlinecolor\":\"#2a3f5f\"},\"baxis\":{\"endlinecolor\":\"#2a3f5f\",\"gridcolor\":\"white\",\"linecolor\":\"white\",\"minorgridcolor\":\"white\",\"startlinecolor\":\"#2a3f5f\"},\"type\":\"carpet\"}],\"choropleth\":[{\"colorbar\":{\"outlinewidth\":0,\"ticks\":\"\"},\"type\":\"choropleth\"}],\"contour\":[{\"colorbar\":{\"outlinewidth\":0,\"ticks\":\"\"},\"colorscale\":[[0.0,\"#0d0887\"],[0.1111111111111111,\"#46039f\"],[0.2222222222222222,\"#7201a8\"],[0.3333333333333333,\"#9c179e\"],[0.4444444444444444,\"#bd3786\"],[0.5555555555555556,\"#d8576b\"],[0.6666666666666666,\"#ed7953\"],[0.7777777777777778,\"#fb9f3a\"],[0.8888888888888888,\"#fdca26\"],[1.0,\"#f0f921\"]],\"type\":\"contour\"}],\"contourcarpet\":[{\"colorbar\":{\"outlinewidth\":0,\"ticks\":\"\"},\"type\":\"contourcarpet\"}],\"heatmap\":[{\"colorbar\":{\"outlinewidth\":0,\"ticks\":\"\"},\"colorscale\":[[0.0,\"#0d0887\"],[0.1111111111111111,\"#46039f\"],[0.2222222222222222,\"#7201a8\"],[0.3333333333333333,\"#9c179e\"],[0.4444444444444444,\"#bd3786\"],[0.5555555555555556,\"#d8576b\"],[0.6666666666666666,\"#ed7953\"],[0.7777777777777778,\"#fb9f3a\"],[0.8888888888888888,\"#fdca26\"],[1.0,\"#f0f921\"]],\"type\":\"heatmap\"}],\"heatmapgl\":[{\"colorbar\":{\"outlinewidth\":0,\"ticks\":\"\"},\"colorscale\":[[0.0,\"#0d0887\"],[0.1111111111111111,\"#46039f\"],[0.2222222222222222,\"#7201a8\"],[0.3333333333333333,\"#9c179e\"],[0.4444444444444444,\"#bd3786\"],[0.5555555555555556,\"#d8576b\"],[0.6666666666666666,\"#ed7953\"],[0.7777777777777778,\"#fb9f3a\"],[0.8888888888888888,\"#fdca26\"],[1.0,\"#f0f921\"]],\"type\":\"heatmapgl\"}],\"histogram\":[{\"marker\":{\"pattern\":{\"fillmode\":\"overlay\",\"size\":10,\"solidity\":0.2}},\"type\":\"histogram\"}],\"histogram2d\":[{\"colorbar\":{\"outlinewidth\":0,\"ticks\":\"\"},\"colorscale\":[[0.0,\"#0d0887\"],[0.1111111111111111,\"#46039f\"],[0.2222222222222222,\"#7201a8\"],[0.3333333333333333,\"#9c179e\"],[0.4444444444444444,\"#bd3786\"],[0.5555555555555556,\"#d8576b\"],[0.6666666666666666,\"#ed7953\"],[0.7777777777777778,\"#fb9f3a\"],[0.8888888888888888,\"#fdca26\"],[1.0,\"#f0f921\"]],\"type\":\"histogram2d\"}],\"histogram2dcontour\":[{\"colorbar\":{\"outlinewidth\":0,\"ticks\":\"\"},\"colorscale\":[[0.0,\"#0d0887\"],[0.1111111111111111,\"#46039f\"],[0.2222222222222222,\"#7201a8\"],[0.3333333333333333,\"#9c179e\"],[0.4444444444444444,\"#bd3786\"],[0.5555555555555556,\"#d8576b\"],[0.6666666666666666,\"#ed7953\"],[0.7777777777777778,\"#fb9f3a\"],[0.8888888888888888,\"#fdca26\"],[1.0,\"#f0f921\"]],\"type\":\"histogram2dcontour\"}],\"mesh3d\":[{\"colorbar\":{\"outlinewidth\":0,\"ticks\":\"\"},\"type\":\"mesh3d\"}],\"parcoords\":[{\"line\":{\"colorbar\":{\"outlinewidth\":0,\"ticks\":\"\"}},\"type\":\"parcoords\"}],\"pie\":[{\"automargin\":true,\"type\":\"pie\"}],\"scatter\":[{\"marker\":{\"colorbar\":{\"outlinewidth\":0,\"ticks\":\"\"}},\"type\":\"scatter\"}],\"scatter3d\":[{\"line\":{\"colorbar\":{\"outlinewidth\":0,\"ticks\":\"\"}},\"marker\":{\"colorbar\":{\"outlinewidth\":0,\"ticks\":\"\"}},\"type\":\"scatter3d\"}],\"scattercarpet\":[{\"marker\":{\"colorbar\":{\"outlinewidth\":0,\"ticks\":\"\"}},\"type\":\"scattercarpet\"}],\"scattergeo\":[{\"marker\":{\"colorbar\":{\"outlinewidth\":0,\"ticks\":\"\"}},\"type\":\"scattergeo\"}],\"scattergl\":[{\"marker\":{\"colorbar\":{\"outlinewidth\":0,\"ticks\":\"\"}},\"type\":\"scattergl\"}],\"scattermapbox\":[{\"marker\":{\"colorbar\":{\"outlinewidth\":0,\"ticks\":\"\"}},\"type\":\"scattermapbox\"}],\"scatterpolar\":[{\"marker\":{\"colorbar\":{\"outlinewidth\":0,\"ticks\":\"\"}},\"type\":\"scatterpolar\"}],\"scatterpolargl\":[{\"marker\":{\"colorbar\":{\"outlinewidth\":0,\"ticks\":\"\"}},\"type\":\"scatterpolargl\"}],\"scatterternary\":[{\"marker\":{\"colorbar\":{\"outlinewidth\":0,\"ticks\":\"\"}},\"type\":\"scatterternary\"}],\"surface\":[{\"colorbar\":{\"outlinewidth\":0,\"ticks\":\"\"},\"colorscale\":[[0.0,\"#0d0887\"],[0.1111111111111111,\"#46039f\"],[0.2222222222222222,\"#7201a8\"],[0.3333333333333333,\"#9c179e\"],[0.4444444444444444,\"#bd3786\"],[0.5555555555555556,\"#d8576b\"],[0.6666666666666666,\"#ed7953\"],[0.7777777777777778,\"#fb9f3a\"],[0.8888888888888888,\"#fdca26\"],[1.0,\"#f0f921\"]],\"type\":\"surface\"}],\"table\":[{\"cells\":{\"fill\":{\"color\":\"#EBF0F8\"},\"line\":{\"color\":\"white\"}},\"header\":{\"fill\":{\"color\":\"#C8D4E3\"},\"line\":{\"color\":\"white\"}},\"type\":\"table\"}]},\"layout\":{\"annotationdefaults\":{\"arrowcolor\":\"#2a3f5f\",\"arrowhead\":0,\"arrowwidth\":1},\"autotypenumbers\":\"strict\",\"coloraxis\":{\"colorbar\":{\"outlinewidth\":0,\"ticks\":\"\"}},\"colorscale\":{\"diverging\":[[0,\"#8e0152\"],[0.1,\"#c51b7d\"],[0.2,\"#de77ae\"],[0.3,\"#f1b6da\"],[0.4,\"#fde0ef\"],[0.5,\"#f7f7f7\"],[0.6,\"#e6f5d0\"],[0.7,\"#b8e186\"],[0.8,\"#7fbc41\"],[0.9,\"#4d9221\"],[1,\"#276419\"]],\"sequential\":[[0.0,\"#0d0887\"],[0.1111111111111111,\"#46039f\"],[0.2222222222222222,\"#7201a8\"],[0.3333333333333333,\"#9c179e\"],[0.4444444444444444,\"#bd3786\"],[0.5555555555555556,\"#d8576b\"],[0.6666666666666666,\"#ed7953\"],[0.7777777777777778,\"#fb9f3a\"],[0.8888888888888888,\"#fdca26\"],[1.0,\"#f0f921\"]],\"sequentialminus\":[[0.0,\"#0d0887\"],[0.1111111111111111,\"#46039f\"],[0.2222222222222222,\"#7201a8\"],[0.3333333333333333,\"#9c179e\"],[0.4444444444444444,\"#bd3786\"],[0.5555555555555556,\"#d8576b\"],[0.6666666666666666,\"#ed7953\"],[0.7777777777777778,\"#fb9f3a\"],[0.8888888888888888,\"#fdca26\"],[1.0,\"#f0f921\"]]},\"colorway\":[\"#636efa\",\"#EF553B\",\"#00cc96\",\"#ab63fa\",\"#FFA15A\",\"#19d3f3\",\"#FF6692\",\"#B6E880\",\"#FF97FF\",\"#FECB52\"],\"font\":{\"color\":\"#2a3f5f\"},\"geo\":{\"bgcolor\":\"white\",\"lakecolor\":\"white\",\"landcolor\":\"#E5ECF6\",\"showlakes\":true,\"showland\":true,\"subunitcolor\":\"white\"},\"hoverlabel\":{\"align\":\"left\"},\"hovermode\":\"closest\",\"mapbox\":{\"style\":\"light\"},\"paper_bgcolor\":\"white\",\"plot_bgcolor\":\"#E5ECF6\",\"polar\":{\"angularaxis\":{\"gridcolor\":\"white\",\"linecolor\":\"white\",\"ticks\":\"\"},\"bgcolor\":\"#E5ECF6\",\"radialaxis\":{\"gridcolor\":\"white\",\"linecolor\":\"white\",\"ticks\":\"\"}},\"scene\":{\"xaxis\":{\"backgroundcolor\":\"#E5ECF6\",\"gridcolor\":\"white\",\"gridwidth\":2,\"linecolor\":\"white\",\"showbackground\":true,\"ticks\":\"\",\"zerolinecolor\":\"white\"},\"yaxis\":{\"backgroundcolor\":\"#E5ECF6\",\"gridcolor\":\"white\",\"gridwidth\":2,\"linecolor\":\"white\",\"showbackground\":true,\"ticks\":\"\",\"zerolinecolor\":\"white\"},\"zaxis\":{\"backgroundcolor\":\"#E5ECF6\",\"gridcolor\":\"white\",\"gridwidth\":2,\"linecolor\":\"white\",\"showbackground\":true,\"ticks\":\"\",\"zerolinecolor\":\"white\"}},\"shapedefaults\":{\"line\":{\"color\":\"#2a3f5f\"}},\"ternary\":{\"aaxis\":{\"gridcolor\":\"white\",\"linecolor\":\"white\",\"ticks\":\"\"},\"baxis\":{\"gridcolor\":\"white\",\"linecolor\":\"white\",\"ticks\":\"\"},\"bgcolor\":\"#E5ECF6\",\"caxis\":{\"gridcolor\":\"white\",\"linecolor\":\"white\",\"ticks\":\"\"}},\"title\":{\"x\":0.05},\"xaxis\":{\"automargin\":true,\"gridcolor\":\"white\",\"linecolor\":\"white\",\"ticks\":\"\",\"title\":{\"standoff\":15},\"zerolinecolor\":\"white\",\"zerolinewidth\":2},\"yaxis\":{\"automargin\":true,\"gridcolor\":\"white\",\"linecolor\":\"white\",\"ticks\":\"\",\"title\":{\"standoff\":15},\"zerolinecolor\":\"white\",\"zerolinewidth\":2}}},\"annotations\":[{\"arrowhead\":1,\"ax\":-60,\"showarrow\":true,\"text\":\"Last best iteration\",\"x\":459,\"y\":1.060922}],\"font\":{\"family\":\"Courier New, monospace\",\"size\":12},\"title\":{\"text\":\"MAE by step XGBoost grid tuned and refitted on subset\"},\"xaxis\":{\"title\":{\"text\":\"Iteration\"}},\"yaxis\":{\"title\":{\"text\":\"MAE\"}},\"legend\":{\"title\":{\"text\":\"Data split \"}},\"shapes\":[{\"line\":{\"color\":\"green\",\"dash\":\"dash\",\"width\":3},\"type\":\"line\",\"x0\":459,\"x1\":459,\"xref\":\"x\",\"y0\":0,\"y1\":1,\"yref\":\"y domain\"}]},                        {\"responsive\": true}                    ).then(function(){\n",
       "                            \n",
       "var gd = document.getElementById('f15de303-4c5d-42ce-80b1-d8b8168aadc3');\n",
       "var x = new MutationObserver(function (mutations, observer) {{\n",
       "        var display = window.getComputedStyle(gd).display;\n",
       "        if (!display || display === 'none') {{\n",
       "            console.log([gd, 'removed!']);\n",
       "            Plotly.purge(gd);\n",
       "            observer.disconnect();\n",
       "        }}\n",
       "}});\n",
       "\n",
       "// Listen for the removal of the full notebook cells\n",
       "var notebookContainer = gd.closest('#notebook-container');\n",
       "if (notebookContainer) {{\n",
       "    x.observe(notebookContainer, {childList: true});\n",
       "}}\n",
       "\n",
       "// Listen for the clearing of the current output cell\n",
       "var outputEl = gd.closest('.output');\n",
       "if (outputEl) {{\n",
       "    x.observe(outputEl, {childList: true});\n",
       "}}\n",
       "\n",
       "                        })                };                });            </script>        </div>"
      ]
     },
     "metadata": {},
     "output_type": "display_data"
    }
   ],
   "source": [
    "fig = go.Figure()\n",
    "keys= ['validation_0','validation_1']\n",
    "# Add traces\n",
    "step_data=[]\n",
    "for i, data_split in enumerate(['train','validation']):\n",
    "    data_split_= keys[i]\n",
    "    color = colors[i]\n",
    "    step_score=xgboost_grid.evals_result()[data_split_][\"mae\"]\n",
    "    fig.add_trace(\n",
    "        go.Scatter(\n",
    "            y= step_score,\n",
    "            mode=\"lines\",\n",
    "            name= data_split,\n",
    "        )\n",
    "    )\n",
    "    step_data.append(step_score)\n",
    "    \n",
    "fig.add_annotation(x=best_iter, y=best_score+1, ax=-60,\n",
    "        text=\"Last best iteration\",\n",
    "        showarrow=True,\n",
    "        arrowhead=1)\n",
    "    \n",
    "fig.update_layout(\n",
    "    title=f\"MAE by step XGBoost grid tuned and refitted on subset\",\n",
    "    xaxis_title=\"Iteration\",\n",
    "    yaxis_title=\"MAE\",\n",
    "    legend_title=\"Data split \",\n",
    "    font=dict(family=\"Courier New, monospace\", size=12),\n",
    ")\n",
    "fig.add_vline(\n",
    "    x=best_iter, line_width=3, line_dash=\"dash\", \n",
    "    line_color=\"green\")\n",
    "\n",
    "fig.show()"
   ]
  },
  {
   "cell_type": "markdown",
   "id": "166db399-767c-4da3-9ade-e452ea2510a0",
   "metadata": {},
   "source": [
    "L'apprentissage est rapide, 150 itérations sont nécessaires pour obtenir un taux d'erreur très bas (il diminue très longtement après). "
   ]
  },
  {
   "cell_type": "code",
   "execution_count": null,
   "id": "cfe6cbb2-2034-42f7-b857-043a3274a74e",
   "metadata": {},
   "outputs": [],
   "source": []
  }
 ],
 "metadata": {
  "kernelspec": {
   "display_name": "Python 3 (ipykernel)",
   "language": "python",
   "name": "python3"
  },
  "language_info": {
   "codemirror_mode": {
    "name": "ipython",
    "version": 3
   },
   "file_extension": ".py",
   "mimetype": "text/x-python",
   "name": "python",
   "nbconvert_exporter": "python",
   "pygments_lexer": "ipython3",
   "version": "3.9.7"
  }
 },
 "nbformat": 4,
 "nbformat_minor": 5
}
