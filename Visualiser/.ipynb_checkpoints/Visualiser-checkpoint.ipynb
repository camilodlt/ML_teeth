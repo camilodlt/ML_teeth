{
 "cells": [
  {
   "cell_type": "code",
   "execution_count": null,
   "id": "50821c45-9a8a-4cf5-8b2b-a8804973ed98",
   "metadata": {},
   "outputs": [],
   "source": [
    "# LIRBARIES ------\n",
    "import warnings\n",
    "warnings.filterwarnings(\"ignore\")\n",
    "\n",
    "# Misc\n",
    "import os\n",
    "from IPython.display import Markdown as md\n",
    "from pickle import dump\n",
    "from datetime import datetime\n",
    "import multiprocessing\n",
    "\n",
    "# DF \n",
    "import pandas as pd\n",
    "# Matrices \n",
    "import numpy as np\n",
    "\n",
    "# Boosting machine \n",
    "import xgboost as xgb\n",
    "\n",
    "# metrics\n",
    "from sklearn.metrics import mean_absolute_error\n",
    "from sklearn.metrics import mean_squared_error\n",
    "from sklearn.metrics import make_scorer,mean_squared_log_error\n",
    "\n",
    "from sklearn.preprocessing import StandardScaler\n",
    "from sklearn.model_selection import train_test_split\n",
    "from sklearn.model_selection import KFold\n",
    "from sklearn.model_selection import GridSearchCV\n",
    "\n",
    "# Plots \n",
    "import seaborn as sns\n",
    "import plotly.graph_objects as go\n",
    "import plotly.express as px\n",
    "from sklearn.tree import plot_tree\n",
    "import matplotlib.pyplot as plt\n",
    "import plotly.io as pio\n",
    "#pio.renderers.default='notebook'\n",
    "pio.renderers.default='jupyterlab'\n"
   ]
  },
  {
   "cell_type": "code",
   "execution_count": null,
   "id": "3aa3b1f1-7f60-4f7a-9f6f-d4acb4eb8a77",
   "metadata": {},
   "outputs": [],
   "source": [
    "# LOAD MODEL ------\n",
    "boost=xgb.XGBRegressor()\n",
    "boost.load_model(xgb_name)"
   ]
  },
  {
   "cell_type": "code",
   "execution_count": null,
   "id": "5dc51298-b0e7-48af-bc12-73f2dcb7768a",
   "metadata": {},
   "outputs": [],
   "source": [
    "if toFit:\n",
    "    best_score=search.best_score_\n",
    "    md(\"Le meilleur score obtenu par notre grid search (à savoir, le score est le RMSLE): best_score\")"
   ]
  },
  {
   "cell_type": "code",
   "execution_count": null,
   "id": "a23cb7ad-c1c9-412c-9ba8-1fb27aa4fdf0",
   "metadata": {},
   "outputs": [],
   "source": [
    "if toFit:\n",
    "    best_params=search.best_params_\n",
    "    md(\"Le meilleur score obtenu par notre grid search (à savoir, le score est le RMSLE): best_score\")"
   ]
  },
  {
   "cell_type": "code",
   "execution_count": null,
   "id": "c0111de3-c90a-4ff1-b24a-13e0fb006115",
   "metadata": {},
   "outputs": [],
   "source": [
    "Nous voyons que le early stopping a fonctionné. En effet, le booster a été initialisé avec 600 pas mais en réalité il en a effectué que 268 "
   ]
  },
  {
   "cell_type": "code",
   "execution_count": null,
   "id": "3ddc9ba3-b143-49b9-8725-b8eb85727b5c",
   "metadata": {},
   "outputs": [],
   "source": [
    "val_metrics= boost.evals_result()['validation_0'][\"rmsle\"]\n",
    "nboosted=len(val_metrics)\n",
    "best_iter=boost.best_iteration\n",
    "best_score = boost.best_score\n",
    "md(f\"Nous voyons que le early stopping a fonctionné. En effet, le booster a été initialisé avec 600 pas (steps), mais en réalité il en a effectué que {nboosted}.<br> \\\n",
    "Ce qui veut dire que la meilleure itération n'est pas la dernière: l'erreur minimale avec les données de validation a été obtenue à l'itération {best_iter}\")"
   ]
  },
  {
   "cell_type": "code",
   "execution_count": null,
   "id": "15932507-ddfc-4633-9202-443b5a4bf0e3",
   "metadata": {},
   "outputs": [],
   "source": [
    "#* Plot validation score ------\n",
    "fig=px.line(y=val_metrics, title=\"Validation score at each iteration\")\n",
    "fig.add_vline(\n",
    "    x=best_iter, line_width=3, line_dash=\"dash\", \n",
    "    line_color=\"green\")\n",
    "\n",
    "fig.add_annotation(x=best_iter, y=best_score+1, ax=-60,\n",
    "            text=\"Last best iteration\",\n",
    "            showarrow=True,\n",
    "            arrowhead=1)\n",
    "\n",
    "fig.update_layout(xaxis_title='Iteration',\n",
    "                   yaxis_title='Root Means Square log error')\n",
    "fig"
   ]
  },
  {
   "cell_type": "code",
   "execution_count": null,
   "id": "681e0538-9f71-4646-a71f-5d91289c1b58",
   "metadata": {},
   "outputs": [],
   "source": [
    "md(f\"Nous voyons qu'à partir de {best_iter} itérations, le score ne diminue plus.\")"
   ]
  },
  {
   "cell_type": "code",
   "execution_count": null,
   "id": "f7c4bb63-0245-4da7-a865-be7b3f057cc5",
   "metadata": {},
   "outputs": [],
   "source": [
    "Je propose donc de refit ce modèle avec le nombre d'itérations qui minimise l'erreur. \n",
    "\n",
    "Cette fois-ci, nous allons évaluer la performance du modèle à chaque itération que ce soit pour les données de training ou de validation. \n",
    "\n"
   ]
  },
  {
   "cell_type": "code",
   "execution_count": null,
   "id": "91e670f1-f0ca-4d65-a727-03d614d6c167",
   "metadata": {},
   "outputs": [],
   "source": [
    "# REFIT BEST MODEL, SAVE ALL METRICS ------\n",
    "#boost.n_estimators= best_iter+1 # modify the number of iteration. Min val error, do not overfit further\n",
    "boost.load_model(\"grid_xgb.json\")\n",
    "best_params=boost.get_xgb_params()\n",
    "boost=xgb.XGBRegressor()\n",
    "boost.set_params(**best_params)\n",
    "boost.objective=\"reg:squarederror\"\n",
    "boost.n_estimators=1000\n",
    "boost.fit(Xhouse_train, yhouse_train,\n",
    "           eval_set=[(Xhouse_train,yhouse_train),(Xhouse_test,yhouse_test)],\n",
    "           early_stopping_rounds=10,\n",
    "           eval_metric=[\"rmse\",\"rmsle\"],\n",
    "          verbose=0)"
   ]
  },
  {
   "cell_type": "code",
   "execution_count": null,
   "id": "99717ff6-0ea5-4ab1-8c11-d4b7123da8cd",
   "metadata": {},
   "outputs": [],
   "source": [
    "# FITTING INFO ---\n",
    "best_iter = boost.best_iteration\n",
    "best_score = boost.best_score"
   ]
  },
  {
   "cell_type": "code",
   "execution_count": null,
   "id": "06156924-451e-4ebb-970e-b367bc886d4d",
   "metadata": {},
   "outputs": [],
   "source": [
    "md(f\"Nous pouvons voir qu'il n-y a pas eu d'early stopping. Le nombre d'itération est celui que nous avons précisé: {best_iter}. <br> \\\n",
    "   Le meilleur score (root means squared log error) est de {best_score}\")"
   ]
  },
  {
   "cell_type": "code",
   "execution_count": null,
   "id": "3472d297-e070-4096-88e9-88960b955d24",
   "metadata": {},
   "outputs": [],
   "source": [
    "train_scores = boost.evals_result()[\"validation_0\"][\"rmsle\"]\n",
    "test_scores = boost.evals_result()[\"validation_1\"][\"rmsle\"]\n",
    "\n",
    "toExp= False \n",
    "if toExp:\n",
    "    train_scores= np.exp(train_scores)\n",
    "    test_scores= np.exp(test_scores)"
   ]
  },
  {
   "cell_type": "code",
   "execution_count": null,
   "id": "0c0b98cd-7017-4d6e-b7b6-0ca2980d45d1",
   "metadata": {},
   "outputs": [],
   "source": [
    "results=pd.DataFrame([train_scores,test_scores]).T\n",
    "results.reset_index(inplace=True)\n",
    "results.columns=[\"iteration\",\"train_score\",\"test_score\"]\n",
    "results=results.melt(id_vars= \"iteration\")"
   ]
  },
  {
   "cell_type": "code",
   "execution_count": null,
   "id": "170353d7-3745-4522-91ed-1476cccc14b1",
   "metadata": {},
   "outputs": [],
   "source": [
    "#* Plot validation score ------\n",
    "fig=px.line(results,x=\"iteration\", y=\"value\", color= \"variable\", title=\"Train and Validation score at each iteration\")\n",
    "\n",
    "fig"
   ]
  },
  {
   "cell_type": "code",
   "execution_count": null,
   "id": "9277c219-8472-45b7-9520-e83067ef91b9",
   "metadata": {},
   "outputs": [],
   "source": [
    "train_scores = boost.evals_result()[\"validation_0\"][\"rmse\"]\n",
    "test_scores = boost.evals_result()[\"validation_1\"][\"rmse\"]\n",
    "\n",
    "results=pd.DataFrame([train_scores,test_scores]).T\n",
    "results.reset_index(inplace=True)\n",
    "results.columns=[\"iteration\",\"train_score\",\"test_score\"]\n",
    "results=results.melt(id_vars= \"iteration\")\n",
    "\n",
    "#* Plot validation score ------\n",
    "fig=px.line(results,x=\"iteration\", y=\"value\", color= \"variable\", title=\"Train and Validation score at each iteration\")\n",
    "\n",
    "fig"
   ]
  },
  {
   "cell_type": "code",
   "execution_count": null,
   "id": "1e8eee5a-7eb2-4d20-b756-812946bec292",
   "metadata": {},
   "outputs": [],
   "source": []
  }
 ],
 "metadata": {
  "kernelspec": {
   "display_name": "Python 3 (ipykernel)",
   "language": "python",
   "name": "python3"
  },
  "language_info": {
   "codemirror_mode": {
    "name": "ipython",
    "version": 3
   },
   "file_extension": ".py",
   "mimetype": "text/x-python",
   "name": "python",
   "nbconvert_exporter": "python",
   "pygments_lexer": "ipython3",
   "version": "3.9.7"
  }
 },
 "nbformat": 4,
 "nbformat_minor": 5
}
