{
 "cells": [
  {
   "cell_type": "markdown",
   "id": "269394ff-89b4-427f-963d-d097ec9d1650",
   "metadata": {},
   "source": [
    "### IMPORTS "
   ]
  },
  {
   "cell_type": "code",
   "execution_count": 44,
   "id": "b0c0ab1b-f0ab-4233-b61d-331d80a53de0",
   "metadata": {},
   "outputs": [],
   "source": [
    "# LIRBARIES ------\n",
    "import warnings\n",
    "\n",
    "warnings.filterwarnings(\"ignore\")\n",
    "\n",
    "import multiprocessing\n",
    "\n",
    "# Misc\n",
    "import os\n",
    "import shutil\n",
    "from datetime import datetime\n",
    "\n",
    "# Combinatorics\n",
    "from itertools import product\n",
    "from pickle import dump, load\n",
    "\n",
    "# Matrices\n",
    "import numpy as np\n",
    "\n",
    "# DF\n",
    "import pandas as pd\n",
    "\n",
    "# Boosting machine\n",
    "import xgboost as xgb\n",
    "from IPython.display import Markdown as md\n",
    "from IPython.display import display as printmd\n",
    "from sklearn.compose import ColumnTransformer\n",
    "from sklearn.ensemble import RandomForestRegressor\n",
    "from sklearn.impute import KNNImputer\n",
    "\n",
    "# metrics\n",
    "from sklearn.metrics import (\n",
    "    make_scorer,\n",
    "    mean_absolute_error,\n",
    "    mean_squared_error,\n",
    "    mean_squared_log_error,\n",
    ")\n",
    "from sklearn.model_selection import GridSearchCV, KFold, train_test_split\n",
    "from sklearn.neural_network import MLPRegressor\n",
    "from sklearn.pipeline import Pipeline\n",
    "from sklearn.preprocessing import OneHotEncoder, StandardScaler\n",
    "from sklearn.svm import SVR\n",
    "\n",
    "# regression\n",
    "\n",
    "\n",
    "# utils\n",
    "base_path = \"/home/jovyan/work/TP3_TP4\"  # laptop : /home/jovyan/work/CM_ML/TP3_TP4 other tower: /home/jovyan/work/TP3_TP4\n",
    "os.chdir(base_path)\n",
    "\n",
    "import sys\n",
    "\n",
    "# sys.path.append(os.path.join(base_path,\"utils\"))\n",
    "sys.path.append(base_path)\n",
    "\n",
    "import matplotlib.pyplot as plt\n",
    "import plotly.express as px\n",
    "import plotly.io as pio\n",
    "\n",
    "# Plots\n",
    "import seaborn as sns\n",
    "from plotly import graph_objects as go\n",
    "from sklearn.tree import plot_tree\n",
    "from utils.utils import rmsle_scorer\n",
    "\n",
    "# pio.renderers.default='notebook'\n",
    "\n",
    "dataset = \"wine\"\n",
    "pd.set_option(\"display.float_format\", lambda x: \"%.5f\" % x)"
   ]
  },
  {
   "cell_type": "markdown",
   "id": "bf1f564c-57aa-4c25-88f0-26c4638edd27",
   "metadata": {
    "tags": []
   },
   "source": [
    "### PATHS TO FOLDERS "
   ]
  },
  {
   "cell_type": "code",
   "execution_count": 45,
   "id": "8a7db141-f9a1-47d2-9199-3009fd8fb144",
   "metadata": {},
   "outputs": [],
   "source": [
    "# FOLDERS TO STORE ------\n",
    "paths_to_create = [\n",
    "    os.path.join(base_path, \"scale_dump\"),\n",
    "    os.path.join(base_path, \"model_dump\"),\n",
    "    os.path.join(base_path, \"grid_search\"),\n",
    "    os.path.join(base_path, \"Old_\"),\n",
    "]"
   ]
  },
  {
   "cell_type": "markdown",
   "id": "0b2f8f54-4a15-475a-b6aa-d2d0d9db8f24",
   "metadata": {
    "tags": []
   },
   "source": [
    "### PATH TO FILES "
   ]
  },
  {
   "cell_type": "code",
   "execution_count": 46,
   "id": "6cc973ec-3406-4c57-bbe7-dc0606f313ba",
   "metadata": {},
   "outputs": [],
   "source": [
    "# --- --- --- FOLDERS AND FILES --- --- ---\n",
    "# * Data path ---\n",
    "data_path = os.path.join(base_path, \"data\")\n",
    "\n",
    "# * House dataset paths ---\n",
    "house_train = os.path.join(data_path, \"house\", \"train.csv\")\n",
    "\n",
    "# * Bills dataset paths ---\n",
    "bill_train = os.path.join(data_path, \"bills\",\"bill_authentication.csv\")\n",
    "\n",
    "# * Wine dataset paths ---\n",
    "wine_train = os.path.join(data_path, \"wine\",\"winequality-red.csv\")"
   ]
  },
  {
   "cell_type": "markdown",
   "id": "1782f88b-83b6-4975-866a-55318277a958",
   "metadata": {},
   "source": [
    "### IMPORT DATA "
   ]
  },
  {
   "cell_type": "code",
   "execution_count": 47,
   "id": "daae9260-65ef-424c-86f2-00cde5c713d9",
   "metadata": {},
   "outputs": [],
   "source": [
    "# --- --- --- DATA --- --- ---\n",
    "# * Load house data ---\n",
    "wine = pd.read_csv(wine_train, sep=\",\")"
   ]
  },
  {
   "cell_type": "markdown",
   "id": "744aa7d9-fd13-42da-a623-e676c241c479",
   "metadata": {
    "tags": []
   },
   "source": [
    "### HELPER FUNCTIONS "
   ]
  },
  {
   "cell_type": "code",
   "execution_count": 48,
   "id": "996b968a-e795-4185-8c9d-283ff07170b5",
   "metadata": {},
   "outputs": [],
   "source": [
    "def preprocess_data_as_model(data, dependent, categorical):\n",
    "    # * Divide X,y ---\n",
    "    data_subset = data.drop(dependent, axis=1)\n",
    "    y = data[dependent].values\n",
    "\n",
    "    # handle categorical variables ---\n",
    "    cols_beginning = data_subset.columns.values\n",
    "\n",
    "    all_cols = cols_beginning\n",
    "    numeric_cols = data_subset.select_dtypes([\"number\"]).columns\n",
    "    numeric_cols_index = np.in1d(all_cols, numeric_cols)\n",
    "\n",
    "    categorical_cols = data_subset.select_dtypes([\"object\"]).columns\n",
    "    categorical_cols_index = np.in1d(all_cols, categorical_cols)\n",
    "\n",
    "    # Transformations ---\n",
    "    transformations = []\n",
    "\n",
    "    if categorical:\n",
    "        pass  # todo\n",
    "    else:\n",
    "        # Training cols ---\n",
    "        data_subset = data_subset.select_dtypes([\"number\"])  # drop categorical\n",
    "        all_cols = cols_beginning[numeric_cols_index]  # only numerical cols ....\n",
    "        numeric_cols_index = (\n",
    "            data_subset.columns.values != None\n",
    "        )  # apply transformation to all columns\n",
    "    return (data_subset, y, all_cols)\n",
    "\n",
    "\n",
    "def load_scores(base_path, models):\n",
    "    score_list = []\n",
    "    loaded_models = {}\n",
    "    for model in models:\n",
    "        with open(os.path.join(base_path, model), \"rb\") as trained_model:\n",
    "            loaded = load(trained_model)\n",
    "            loaded_models[model]=loaded\n",
    "        try:\n",
    "            scores = loaded[\"scores\"]\n",
    "            meta = model.split(\"_\")\n",
    "\n",
    "            scores[\"raw_path\"] = model\n",
    "            scores[\"model\"] = meta[0]\n",
    "            scores[\"dataset\"] = meta[1]\n",
    "            scores[\"kind\"] = meta[2]\n",
    "\n",
    "            score_list.append(scores)\n",
    "        except:\n",
    "            print(\"model without scores\")\n",
    "    return score_list, loaded_models"
   ]
  },
  {
   "cell_type": "markdown",
   "id": "9bc1e50a-bd0e-47be-bbc3-4541f8d4ad40",
   "metadata": {},
   "source": [
    "### IMPORT ALL MODELS "
   ]
  },
  {
   "cell_type": "code",
   "execution_count": 49,
   "id": "7d149de8-dc8d-4236-ad9b-a19116add6e2",
   "metadata": {},
   "outputs": [
    {
     "name": "stdout",
     "output_type": "stream",
     "text": [
      "--- --- LOADING ALL MODELS --- ---\n",
      "Number of model : 31\n",
      "--- --- SCORES TO DF --- ---\n"
     ]
    },
    {
     "data": {
      "text/html": [
       "<div>\n",
       "<style scoped>\n",
       "    .dataframe tbody tr th:only-of-type {\n",
       "        vertical-align: middle;\n",
       "    }\n",
       "\n",
       "    .dataframe tbody tr th {\n",
       "        vertical-align: top;\n",
       "    }\n",
       "\n",
       "    .dataframe thead th {\n",
       "        text-align: right;\n",
       "    }\n",
       "</style>\n",
       "<table border=\"1\" class=\"dataframe\">\n",
       "  <thead>\n",
       "    <tr style=\"text-align: right;\">\n",
       "      <th></th>\n",
       "      <th>metric</th>\n",
       "      <th>raw_path</th>\n",
       "      <th>model</th>\n",
       "      <th>dataset</th>\n",
       "      <th>kind</th>\n",
       "      <th>difference</th>\n",
       "      <th>data_split</th>\n",
       "      <th>score</th>\n",
       "    </tr>\n",
       "  </thead>\n",
       "  <tbody>\n",
       "    <tr>\n",
       "      <th>5</th>\n",
       "      <td>rmsle</td>\n",
       "      <td>mlp_wine_grid_mae_True_-0.01541_06-02-2022_16_...</td>\n",
       "      <td>mlp</td>\n",
       "      <td>wine</td>\n",
       "      <td>grid</td>\n",
       "      <td>0.00259</td>\n",
       "      <td>train</td>\n",
       "      <td>-0.00957</td>\n",
       "    </tr>\n",
       "    <tr>\n",
       "      <th>6</th>\n",
       "      <td>rmse</td>\n",
       "      <td>mlp_wine_grid_mae_True_-0.01541_06-02-2022_16_...</td>\n",
       "      <td>mlp</td>\n",
       "      <td>wine</td>\n",
       "      <td>grid</td>\n",
       "      <td>-0.11415</td>\n",
       "      <td>train</td>\n",
       "      <td>0.40432</td>\n",
       "    </tr>\n",
       "    <tr>\n",
       "      <th>7</th>\n",
       "      <td>mae</td>\n",
       "      <td>mlp_wine_grid_mae_True_-0.01541_06-02-2022_16_...</td>\n",
       "      <td>mlp</td>\n",
       "      <td>wine</td>\n",
       "      <td>grid</td>\n",
       "      <td>-0.06111</td>\n",
       "      <td>train</td>\n",
       "      <td>0.49621</td>\n",
       "    </tr>\n",
       "    <tr>\n",
       "      <th>10</th>\n",
       "      <td>rmsle</td>\n",
       "      <td>svm_wine_grid_misclassification_True_-0.0119_0...</td>\n",
       "      <td>svm</td>\n",
       "      <td>wine</td>\n",
       "      <td>grid</td>\n",
       "      <td>0.00426</td>\n",
       "      <td>train</td>\n",
       "      <td>-0.00767</td>\n",
       "    </tr>\n",
       "    <tr>\n",
       "      <th>11</th>\n",
       "      <td>rmse</td>\n",
       "      <td>svm_wine_grid_misclassification_True_-0.0119_0...</td>\n",
       "      <td>svm</td>\n",
       "      <td>wine</td>\n",
       "      <td>grid</td>\n",
       "      <td>-0.18444</td>\n",
       "      <td>train</td>\n",
       "      <td>0.32153</td>\n",
       "    </tr>\n",
       "  </tbody>\n",
       "</table>\n",
       "</div>"
      ],
      "text/plain": [
       "   metric                                           raw_path model dataset  \\\n",
       "5   rmsle  mlp_wine_grid_mae_True_-0.01541_06-02-2022_16_...   mlp    wine   \n",
       "6    rmse  mlp_wine_grid_mae_True_-0.01541_06-02-2022_16_...   mlp    wine   \n",
       "7     mae  mlp_wine_grid_mae_True_-0.01541_06-02-2022_16_...   mlp    wine   \n",
       "10  rmsle  svm_wine_grid_misclassification_True_-0.0119_0...   svm    wine   \n",
       "11   rmse  svm_wine_grid_misclassification_True_-0.0119_0...   svm    wine   \n",
       "\n",
       "    kind  difference data_split    score  \n",
       "5   grid     0.00259      train -0.00957  \n",
       "6   grid    -0.11415      train  0.40432  \n",
       "7   grid    -0.06111      train  0.49621  \n",
       "10  grid     0.00426      train -0.00767  \n",
       "11  grid    -0.18444      train  0.32153  "
      ]
     },
     "execution_count": 49,
     "metadata": {},
     "output_type": "execute_result"
    }
   ],
   "source": [
    "# list all models ---\n",
    "models = list(os.walk(paths_to_create[1]))[0][2]\n",
    "\n",
    "print(\"--- --- LOADING ALL MODELS --- ---\")\n",
    "score_list, loaded_models = load_scores(paths_to_create[1], models)\n",
    "print(f\"Number of model : {len(loaded_models)}\")\n",
    "\n",
    "print(\"--- --- SCORES TO DF --- ---\")\n",
    "scores = pd.concat(score_list)\n",
    "scores.reset_index(inplace=True)\n",
    "scores.rename(columns={\"index\": \"metric\"}, inplace=True)\n",
    "scores = scores.melt(\n",
    "    id_vars=[\"metric\", \"raw_path\", \"model\", \"dataset\", \"kind\", \"difference\"],\n",
    "    var_name=\"data_split\",\n",
    "    value_name=\"score\",\n",
    ")\n",
    "\n",
    "scores = scores.query(\"dataset == @dataset\")\n",
    "\n",
    "scores.head()"
   ]
  },
  {
   "cell_type": "markdown",
   "id": "33202862-1917-4a8d-9e90-1cdec21cd329",
   "metadata": {},
   "source": [
    "### VISUALISATION DE LA PERFORMACE DES MODÈLES"
   ]
  },
  {
   "cell_type": "markdown",
   "id": "90319f22-5ecc-448f-88bf-bb327fb2b199",
   "metadata": {},
   "source": [
    "Nous voulons visualiser la performance des modèles. \n",
    "\n",
    "Nous avons calculé 3 métriques par modèle: \n",
    "- RMSLE (la métrique utilisée par kaggle pour la compétition des prix des maisons)\n",
    "- MAE\n",
    "- RMSE"
   ]
  },
  {
   "cell_type": "markdown",
   "id": "18124d00-9de1-408d-8379-1451d9d90038",
   "metadata": {},
   "source": [
    "Chaque modèle a été entraîner au minimum deux fois: \n",
    "- baseline (sans hyperparamètres)\n",
    "- Grid search \n",
    "\n",
    "Les modèles avec *feature importances* (*Random Forest* et *XGB*) possèdent un troisième *fit* effectué uniquement sur les attributs significatifs. Ce dernier fit utilise aussi un grid search.\n",
    "- refit"
   ]
  },
  {
   "cell_type": "markdown",
   "id": "83a3f19c-d548-4c43-a7ff-ad76651606a9",
   "metadata": {},
   "source": [
    "Les trois métriques mentionnées ont été calculées pour les 3 échantillons de données (*train*, *validation*, *test*).\n",
    "Aucun modèle n'a jamais vu les données de test (même pas pour du *early stopping*)."
   ]
  },
  {
   "cell_type": "code",
   "execution_count": 50,
   "id": "c71fb8c7-979a-44a0-be80-3086ac54237d",
   "metadata": {},
   "outputs": [
    {
     "data": {
      "application/vnd.plotly.v1+json": {
       "config": {
        "plotlyServerURL": "https://plot.ly"
       },
       "data": [
        {
         "hovertemplate": "train error - val error: %{x} <br>SCORE: %{y} </br> MODEL :%{text}",
         "marker": {
          "color": "rgb(127, 60, 141)",
          "line": {
           "width": 1.5
          },
          "opacity": 0.8,
          "size": 14,
          "symbol": "circle"
         },
         "mode": "markers",
         "name": "train_grid",
         "text": [
          "mlp_grid",
          "svm_grid",
          "rf_grid",
          "xgb_grid"
         ],
         "type": "scatter",
         "x": [
          0.0025872403974520272,
          0.004261132965609589,
          0.009464689400707101,
          0.008424142352562697
         ],
         "y": [
          -0.009566607384171671,
          -0.007673575168891202,
          -0.001466780609141885,
          -0.002618292467169416
         ]
        },
        {
         "mode": "text",
         "showlegend": false,
         "text": [
          "mlp_grid",
          "svm_grid",
          "rf_grid",
          "xgb_grid"
         ],
         "textposition": "bottom center",
         "type": "scatter",
         "x": [
          0.0025872403974520272,
          0.004261132965609589,
          0.009464689400707101,
          0.008424142352562697
         ],
         "y": [
          -0.029566607384171672,
          -0.027673575168891202,
          -0.021466780609141884,
          -0.022618292467169416
         ]
        },
        {
         "hovertemplate": "train error - val error: %{x} <br>SCORE: %{y} </br> MODEL :%{text}",
         "marker": {
          "color": "rgb(17, 165, 121)",
          "line": {
           "width": 1.5
          },
          "opacity": 0.8,
          "size": 14,
          "symbol": "circle"
         },
         "mode": "markers",
         "name": "train_refit",
         "text": [
          "xgb_refit",
          "xgb_refit"
         ],
         "type": "scatter",
         "x": [
          0.009410210120260339,
          0.009038744235406468
         ],
         "y": [
          -0.0012130451030563916,
          -0.002211403767910503
         ]
        },
        {
         "mode": "text",
         "showlegend": false,
         "text": [
          "xgb_refit",
          "xgb_refit"
         ],
         "textposition": "bottom center",
         "type": "scatter",
         "x": [
          0.009410210120260339,
          0.009038744235406468
         ],
         "y": [
          -0.021213045103056393,
          -0.022211403767910504
         ]
        },
        {
         "hovertemplate": "train error - val error: %{x} <br>SCORE: %{y} </br> MODEL :%{text}",
         "marker": {
          "color": "rgb(57, 105, 172)",
          "line": {
           "width": 1.5
          },
          "opacity": 0.8,
          "size": 14,
          "symbol": "circle"
         },
         "mode": "markers",
         "name": "train_baseline",
         "text": [
          "mlp_baseline",
          "svm_baseline",
          "rf_baseline",
          "xgb_baseline"
         ],
         "type": "scatter",
         "x": [
          0.004953240617499013,
          0.005050531481748564,
          0.009400763751492498,
          0.009038744235406468
         ],
         "y": [
          -0.010452448370349815,
          -0.006845865338260847,
          -0.0012105904273160245,
          -0.002211403767910503
         ]
        },
        {
         "mode": "text",
         "showlegend": false,
         "text": [
          "mlp_baseline",
          "svm_baseline",
          "rf_baseline",
          "xgb_baseline"
         ],
         "textposition": "bottom center",
         "type": "scatter",
         "x": [
          0.004953240617499013,
          0.005050531481748564,
          0.009400763751492498,
          0.009038744235406468
         ],
         "y": [
          -0.030452448370349813,
          -0.026845865338260846,
          -0.021210590427316024,
          -0.022211403767910504
         ]
        },
        {
         "hovertemplate": "train error - val error: %{x} <br>SCORE: %{y} </br> MODEL :%{text}",
         "marker": {
          "color": "rgb(127, 60, 141)",
          "line": {
           "width": 1.5
          },
          "opacity": 0.8,
          "size": 14,
          "symbol": "circle-open-dot"
         },
         "mode": "markers",
         "name": "val_grid",
         "text": [
          "mlp_grid",
          "svm_grid",
          "rf_grid",
          "xgb_grid"
         ],
         "type": "scatter",
         "x": [
          0.0025872403974520272,
          0.004261132965609589,
          0.009464689400707101,
          0.008424142352562697
         ],
         "y": [
          -0.012153847781623699,
          -0.011934708134500791,
          -0.010931470009848987,
          -0.011042434819732112
         ]
        },
        {
         "hovertemplate": "train error - val error: %{x} <br>SCORE: %{y} </br> MODEL :%{text}",
         "marker": {
          "color": "rgb(17, 165, 121)",
          "line": {
           "width": 1.5
          },
          "opacity": 0.8,
          "size": 14,
          "symbol": "circle-open-dot"
         },
         "mode": "markers",
         "name": "val_refit",
         "text": [
          "xgb_refit",
          "xgb_refit"
         ],
         "type": "scatter",
         "x": [
          0.009410210120260339,
          0.009038744235406468
         ],
         "y": [
          -0.01062325522331673,
          -0.011250148003316971
         ]
        },
        {
         "hovertemplate": "train error - val error: %{x} <br>SCORE: %{y} </br> MODEL :%{text}",
         "marker": {
          "color": "rgb(57, 105, 172)",
          "line": {
           "width": 1.5
          },
          "opacity": 0.8,
          "size": 14,
          "symbol": "circle-open-dot"
         },
         "mode": "markers",
         "name": "val_baseline",
         "text": [
          "mlp_baseline",
          "svm_baseline",
          "rf_baseline",
          "xgb_baseline"
         ],
         "type": "scatter",
         "x": [
          0.004953240617499013,
          0.005050531481748564,
          0.009400763751492498,
          0.009038744235406468
         ],
         "y": [
          -0.015405688987848828,
          -0.011896396820009411,
          -0.010611354178808522,
          -0.011250148003316971
         ]
        },
        {
         "hovertemplate": "train error - val error: %{x} <br>SCORE: %{y} </br> MODEL :%{text}",
         "marker": {
          "color": "rgb(127, 60, 141)",
          "line": {
           "width": 1.5
          },
          "opacity": 0.8,
          "size": 14,
          "symbol": "star"
         },
         "mode": "markers",
         "name": "test_grid",
         "text": [
          "mlp_grid",
          "svm_grid",
          "rf_grid",
          "xgb_grid"
         ],
         "type": "scatter",
         "x": [
          0.0025872403974520272,
          0.004261132965609589,
          0.009464689400707101,
          0.008424142352562697
         ],
         "y": [
          -0.010524710735626204,
          -0.008356153875896862,
          -0.00815803999845671,
          -0.008231047600541245
         ]
        },
        {
         "hovertemplate": "train error - val error: %{x} <br>SCORE: %{y} </br> MODEL :%{text}",
         "marker": {
          "color": "rgb(17, 165, 121)",
          "line": {
           "width": 1.5
          },
          "opacity": 0.8,
          "size": 14,
          "symbol": "star"
         },
         "mode": "markers",
         "name": "test_refit",
         "text": [
          "xgb_refit",
          "xgb_refit"
         ],
         "type": "scatter",
         "x": [
          0.009410210120260339,
          0.009038744235406468
         ],
         "y": [
          -0.00816885465771985,
          -0.008444835872069746
         ]
        },
        {
         "hovertemplate": "train error - val error: %{x} <br>SCORE: %{y} </br> MODEL :%{text}",
         "marker": {
          "color": "rgb(57, 105, 172)",
          "line": {
           "width": 1.5
          },
          "opacity": 0.8,
          "size": 14,
          "symbol": "star"
         },
         "mode": "markers",
         "name": "test_baseline",
         "text": [
          "mlp_baseline",
          "svm_baseline",
          "rf_baseline",
          "xgb_baseline"
         ],
         "type": "scatter",
         "x": [
          0.004953240617499013,
          0.005050531481748564,
          0.009400763751492498,
          0.009038744235406468
         ],
         "y": [
          -0.011239043963510102,
          -0.008223155756875747,
          -0.007951077717154035,
          -0.008444835872069746
         ]
        }
       ],
       "layout": {
        "annotations": [
         {
          "arrowhead": 1,
          "showarrow": true,
          "text": "Meilleur test score -0.007951",
          "x": 0.0025872403974520272,
          "y": -0.007951077717154035
         }
        ],
        "autosize": true,
        "font": {
         "family": "Courier New, monospace",
         "size": 12
        },
        "legend": {
         "title": {
          "text": "Model and fit type"
         }
        },
        "shapes": [
         {
          "line": {
           "color": "Purple"
          },
          "type": "line",
          "x0": 0.0025872403974520272,
          "x1": 0.009464689400707101,
          "xref": "x",
          "y0": -0.007951077717154035,
          "y1": -0.007951077717154035,
          "yref": "y"
         }
        ],
        "template": {
         "data": {
          "bar": [
           {
            "error_x": {
             "color": "#2a3f5f"
            },
            "error_y": {
             "color": "#2a3f5f"
            },
            "marker": {
             "line": {
              "color": "#E5ECF6",
              "width": 0.5
             },
             "pattern": {
              "fillmode": "overlay",
              "size": 10,
              "solidity": 0.2
             }
            },
            "type": "bar"
           }
          ],
          "barpolar": [
           {
            "marker": {
             "line": {
              "color": "#E5ECF6",
              "width": 0.5
             },
             "pattern": {
              "fillmode": "overlay",
              "size": 10,
              "solidity": 0.2
             }
            },
            "type": "barpolar"
           }
          ],
          "carpet": [
           {
            "aaxis": {
             "endlinecolor": "#2a3f5f",
             "gridcolor": "white",
             "linecolor": "white",
             "minorgridcolor": "white",
             "startlinecolor": "#2a3f5f"
            },
            "baxis": {
             "endlinecolor": "#2a3f5f",
             "gridcolor": "white",
             "linecolor": "white",
             "minorgridcolor": "white",
             "startlinecolor": "#2a3f5f"
            },
            "type": "carpet"
           }
          ],
          "choropleth": [
           {
            "colorbar": {
             "outlinewidth": 0,
             "ticks": ""
            },
            "type": "choropleth"
           }
          ],
          "contour": [
           {
            "colorbar": {
             "outlinewidth": 0,
             "ticks": ""
            },
            "colorscale": [
             [
              0,
              "#0d0887"
             ],
             [
              0.1111111111111111,
              "#46039f"
             ],
             [
              0.2222222222222222,
              "#7201a8"
             ],
             [
              0.3333333333333333,
              "#9c179e"
             ],
             [
              0.4444444444444444,
              "#bd3786"
             ],
             [
              0.5555555555555556,
              "#d8576b"
             ],
             [
              0.6666666666666666,
              "#ed7953"
             ],
             [
              0.7777777777777778,
              "#fb9f3a"
             ],
             [
              0.8888888888888888,
              "#fdca26"
             ],
             [
              1,
              "#f0f921"
             ]
            ],
            "type": "contour"
           }
          ],
          "contourcarpet": [
           {
            "colorbar": {
             "outlinewidth": 0,
             "ticks": ""
            },
            "type": "contourcarpet"
           }
          ],
          "heatmap": [
           {
            "colorbar": {
             "outlinewidth": 0,
             "ticks": ""
            },
            "colorscale": [
             [
              0,
              "#0d0887"
             ],
             [
              0.1111111111111111,
              "#46039f"
             ],
             [
              0.2222222222222222,
              "#7201a8"
             ],
             [
              0.3333333333333333,
              "#9c179e"
             ],
             [
              0.4444444444444444,
              "#bd3786"
             ],
             [
              0.5555555555555556,
              "#d8576b"
             ],
             [
              0.6666666666666666,
              "#ed7953"
             ],
             [
              0.7777777777777778,
              "#fb9f3a"
             ],
             [
              0.8888888888888888,
              "#fdca26"
             ],
             [
              1,
              "#f0f921"
             ]
            ],
            "type": "heatmap"
           }
          ],
          "heatmapgl": [
           {
            "colorbar": {
             "outlinewidth": 0,
             "ticks": ""
            },
            "colorscale": [
             [
              0,
              "#0d0887"
             ],
             [
              0.1111111111111111,
              "#46039f"
             ],
             [
              0.2222222222222222,
              "#7201a8"
             ],
             [
              0.3333333333333333,
              "#9c179e"
             ],
             [
              0.4444444444444444,
              "#bd3786"
             ],
             [
              0.5555555555555556,
              "#d8576b"
             ],
             [
              0.6666666666666666,
              "#ed7953"
             ],
             [
              0.7777777777777778,
              "#fb9f3a"
             ],
             [
              0.8888888888888888,
              "#fdca26"
             ],
             [
              1,
              "#f0f921"
             ]
            ],
            "type": "heatmapgl"
           }
          ],
          "histogram": [
           {
            "marker": {
             "pattern": {
              "fillmode": "overlay",
              "size": 10,
              "solidity": 0.2
             }
            },
            "type": "histogram"
           }
          ],
          "histogram2d": [
           {
            "colorbar": {
             "outlinewidth": 0,
             "ticks": ""
            },
            "colorscale": [
             [
              0,
              "#0d0887"
             ],
             [
              0.1111111111111111,
              "#46039f"
             ],
             [
              0.2222222222222222,
              "#7201a8"
             ],
             [
              0.3333333333333333,
              "#9c179e"
             ],
             [
              0.4444444444444444,
              "#bd3786"
             ],
             [
              0.5555555555555556,
              "#d8576b"
             ],
             [
              0.6666666666666666,
              "#ed7953"
             ],
             [
              0.7777777777777778,
              "#fb9f3a"
             ],
             [
              0.8888888888888888,
              "#fdca26"
             ],
             [
              1,
              "#f0f921"
             ]
            ],
            "type": "histogram2d"
           }
          ],
          "histogram2dcontour": [
           {
            "colorbar": {
             "outlinewidth": 0,
             "ticks": ""
            },
            "colorscale": [
             [
              0,
              "#0d0887"
             ],
             [
              0.1111111111111111,
              "#46039f"
             ],
             [
              0.2222222222222222,
              "#7201a8"
             ],
             [
              0.3333333333333333,
              "#9c179e"
             ],
             [
              0.4444444444444444,
              "#bd3786"
             ],
             [
              0.5555555555555556,
              "#d8576b"
             ],
             [
              0.6666666666666666,
              "#ed7953"
             ],
             [
              0.7777777777777778,
              "#fb9f3a"
             ],
             [
              0.8888888888888888,
              "#fdca26"
             ],
             [
              1,
              "#f0f921"
             ]
            ],
            "type": "histogram2dcontour"
           }
          ],
          "mesh3d": [
           {
            "colorbar": {
             "outlinewidth": 0,
             "ticks": ""
            },
            "type": "mesh3d"
           }
          ],
          "parcoords": [
           {
            "line": {
             "colorbar": {
              "outlinewidth": 0,
              "ticks": ""
             }
            },
            "type": "parcoords"
           }
          ],
          "pie": [
           {
            "automargin": true,
            "type": "pie"
           }
          ],
          "scatter": [
           {
            "marker": {
             "colorbar": {
              "outlinewidth": 0,
              "ticks": ""
             }
            },
            "type": "scatter"
           }
          ],
          "scatter3d": [
           {
            "line": {
             "colorbar": {
              "outlinewidth": 0,
              "ticks": ""
             }
            },
            "marker": {
             "colorbar": {
              "outlinewidth": 0,
              "ticks": ""
             }
            },
            "type": "scatter3d"
           }
          ],
          "scattercarpet": [
           {
            "marker": {
             "colorbar": {
              "outlinewidth": 0,
              "ticks": ""
             }
            },
            "type": "scattercarpet"
           }
          ],
          "scattergeo": [
           {
            "marker": {
             "colorbar": {
              "outlinewidth": 0,
              "ticks": ""
             }
            },
            "type": "scattergeo"
           }
          ],
          "scattergl": [
           {
            "marker": {
             "colorbar": {
              "outlinewidth": 0,
              "ticks": ""
             }
            },
            "type": "scattergl"
           }
          ],
          "scattermapbox": [
           {
            "marker": {
             "colorbar": {
              "outlinewidth": 0,
              "ticks": ""
             }
            },
            "type": "scattermapbox"
           }
          ],
          "scatterpolar": [
           {
            "marker": {
             "colorbar": {
              "outlinewidth": 0,
              "ticks": ""
             }
            },
            "type": "scatterpolar"
           }
          ],
          "scatterpolargl": [
           {
            "marker": {
             "colorbar": {
              "outlinewidth": 0,
              "ticks": ""
             }
            },
            "type": "scatterpolargl"
           }
          ],
          "scatterternary": [
           {
            "marker": {
             "colorbar": {
              "outlinewidth": 0,
              "ticks": ""
             }
            },
            "type": "scatterternary"
           }
          ],
          "surface": [
           {
            "colorbar": {
             "outlinewidth": 0,
             "ticks": ""
            },
            "colorscale": [
             [
              0,
              "#0d0887"
             ],
             [
              0.1111111111111111,
              "#46039f"
             ],
             [
              0.2222222222222222,
              "#7201a8"
             ],
             [
              0.3333333333333333,
              "#9c179e"
             ],
             [
              0.4444444444444444,
              "#bd3786"
             ],
             [
              0.5555555555555556,
              "#d8576b"
             ],
             [
              0.6666666666666666,
              "#ed7953"
             ],
             [
              0.7777777777777778,
              "#fb9f3a"
             ],
             [
              0.8888888888888888,
              "#fdca26"
             ],
             [
              1,
              "#f0f921"
             ]
            ],
            "type": "surface"
           }
          ],
          "table": [
           {
            "cells": {
             "fill": {
              "color": "#EBF0F8"
             },
             "line": {
              "color": "white"
             }
            },
            "header": {
             "fill": {
              "color": "#C8D4E3"
             },
             "line": {
              "color": "white"
             }
            },
            "type": "table"
           }
          ]
         },
         "layout": {
          "annotationdefaults": {
           "arrowcolor": "#2a3f5f",
           "arrowhead": 0,
           "arrowwidth": 1
          },
          "autotypenumbers": "strict",
          "coloraxis": {
           "colorbar": {
            "outlinewidth": 0,
            "ticks": ""
           }
          },
          "colorscale": {
           "diverging": [
            [
             0,
             "#8e0152"
            ],
            [
             0.1,
             "#c51b7d"
            ],
            [
             0.2,
             "#de77ae"
            ],
            [
             0.3,
             "#f1b6da"
            ],
            [
             0.4,
             "#fde0ef"
            ],
            [
             0.5,
             "#f7f7f7"
            ],
            [
             0.6,
             "#e6f5d0"
            ],
            [
             0.7,
             "#b8e186"
            ],
            [
             0.8,
             "#7fbc41"
            ],
            [
             0.9,
             "#4d9221"
            ],
            [
             1,
             "#276419"
            ]
           ],
           "sequential": [
            [
             0,
             "#0d0887"
            ],
            [
             0.1111111111111111,
             "#46039f"
            ],
            [
             0.2222222222222222,
             "#7201a8"
            ],
            [
             0.3333333333333333,
             "#9c179e"
            ],
            [
             0.4444444444444444,
             "#bd3786"
            ],
            [
             0.5555555555555556,
             "#d8576b"
            ],
            [
             0.6666666666666666,
             "#ed7953"
            ],
            [
             0.7777777777777778,
             "#fb9f3a"
            ],
            [
             0.8888888888888888,
             "#fdca26"
            ],
            [
             1,
             "#f0f921"
            ]
           ],
           "sequentialminus": [
            [
             0,
             "#0d0887"
            ],
            [
             0.1111111111111111,
             "#46039f"
            ],
            [
             0.2222222222222222,
             "#7201a8"
            ],
            [
             0.3333333333333333,
             "#9c179e"
            ],
            [
             0.4444444444444444,
             "#bd3786"
            ],
            [
             0.5555555555555556,
             "#d8576b"
            ],
            [
             0.6666666666666666,
             "#ed7953"
            ],
            [
             0.7777777777777778,
             "#fb9f3a"
            ],
            [
             0.8888888888888888,
             "#fdca26"
            ],
            [
             1,
             "#f0f921"
            ]
           ]
          },
          "colorway": [
           "#636efa",
           "#EF553B",
           "#00cc96",
           "#ab63fa",
           "#FFA15A",
           "#19d3f3",
           "#FF6692",
           "#B6E880",
           "#FF97FF",
           "#FECB52"
          ],
          "font": {
           "color": "#2a3f5f"
          },
          "geo": {
           "bgcolor": "white",
           "lakecolor": "white",
           "landcolor": "#E5ECF6",
           "showlakes": true,
           "showland": true,
           "subunitcolor": "white"
          },
          "hoverlabel": {
           "align": "left"
          },
          "hovermode": "closest",
          "mapbox": {
           "style": "light"
          },
          "paper_bgcolor": "white",
          "plot_bgcolor": "#E5ECF6",
          "polar": {
           "angularaxis": {
            "gridcolor": "white",
            "linecolor": "white",
            "ticks": ""
           },
           "bgcolor": "#E5ECF6",
           "radialaxis": {
            "gridcolor": "white",
            "linecolor": "white",
            "ticks": ""
           }
          },
          "scene": {
           "xaxis": {
            "backgroundcolor": "#E5ECF6",
            "gridcolor": "white",
            "gridwidth": 2,
            "linecolor": "white",
            "showbackground": true,
            "ticks": "",
            "zerolinecolor": "white"
           },
           "yaxis": {
            "backgroundcolor": "#E5ECF6",
            "gridcolor": "white",
            "gridwidth": 2,
            "linecolor": "white",
            "showbackground": true,
            "ticks": "",
            "zerolinecolor": "white"
           },
           "zaxis": {
            "backgroundcolor": "#E5ECF6",
            "gridcolor": "white",
            "gridwidth": 2,
            "linecolor": "white",
            "showbackground": true,
            "ticks": "",
            "zerolinecolor": "white"
           }
          },
          "shapedefaults": {
           "line": {
            "color": "#2a3f5f"
           }
          },
          "ternary": {
           "aaxis": {
            "gridcolor": "white",
            "linecolor": "white",
            "ticks": ""
           },
           "baxis": {
            "gridcolor": "white",
            "linecolor": "white",
            "ticks": ""
           },
           "bgcolor": "#E5ECF6",
           "caxis": {
            "gridcolor": "white",
            "linecolor": "white",
            "ticks": ""
           }
          },
          "title": {
           "x": 0.05
          },
          "xaxis": {
           "automargin": true,
           "gridcolor": "white",
           "linecolor": "white",
           "ticks": "",
           "title": {
            "standoff": 15
           },
           "zerolinecolor": "white",
           "zerolinewidth": 2
          },
          "yaxis": {
           "automargin": true,
           "gridcolor": "white",
           "linecolor": "white",
           "ticks": "",
           "title": {
            "standoff": 15
           },
           "zerolinecolor": "white",
           "zerolinewidth": 2
          }
         }
        },
        "title": {
         "text": "ML performance by model on wine data. Metric : RMSLE <br>ligne: meilleur test score </br>"
        },
        "xaxis": {
         "autorange": true,
         "range": [
          0.0013310354492717007,
          0.00999338783107169
         ],
         "title": {
          "text": "Train error - validation error"
         },
         "type": "linear"
        },
        "yaxis": {
         "autorange": true,
         "range": [
          -0.03216975161007121,
          0.0021763131843567313
         ],
         "title": {
          "text": "Validation RMSLE"
         },
         "type": "linear"
        }
       }
      },
      "image/png": "[encoded data removed]",
      "text/html": [
       "<div>                            <div id=\"fce48438-b49a-4dc1-a794-50bb36117990\" class=\"plotly-graph-div\" style=\"height:525px; width:100%;\"></div>            <script type=\"text/javascript\">                require([\"plotly\"], function(Plotly) {                    window.PLOTLYENV=window.PLOTLYENV || {};                                    if (document.getElementById(\"fce48438-b49a-4dc1-a794-50bb36117990\")) {                    Plotly.newPlot(                        \"fce48438-b49a-4dc1-a794-50bb36117990\",                        [{\"hovertemplate\":\"train error - val error: %{x} <br>SCORE: %{y} </br> MODEL :%{text}\",\"marker\":{\"color\":\"rgb(127, 60, 141)\",\"line\":{\"width\":1.5},\"opacity\":0.8,\"size\":14,\"symbol\":\"circle\"},\"mode\":\"markers\",\"name\":\"train_grid\",\"text\":[\"mlp_grid\",\"svm_grid\",\"rf_grid\",\"xgb_grid\"],\"x\":[0.0025872403974520272,0.004261132965609589,0.009464689400707101,0.008424142352562697],\"y\":[-0.009566607384171671,-0.007673575168891202,-0.001466780609141885,-0.002618292467169416],\"type\":\"scatter\"},{\"mode\":\"text\",\"showlegend\":false,\"text\":[\"mlp_grid\",\"svm_grid\",\"rf_grid\",\"xgb_grid\"],\"textposition\":\"bottom center\",\"x\":[0.0025872403974520272,0.004261132965609589,0.009464689400707101,0.008424142352562697],\"y\":[-0.029566607384171672,-0.027673575168891202,-0.021466780609141884,-0.022618292467169416],\"type\":\"scatter\"},{\"hovertemplate\":\"train error - val error: %{x} <br>SCORE: %{y} </br> MODEL :%{text}\",\"marker\":{\"color\":\"rgb(17, 165, 121)\",\"line\":{\"width\":1.5},\"opacity\":0.8,\"size\":14,\"symbol\":\"circle\"},\"mode\":\"markers\",\"name\":\"train_refit\",\"text\":[\"xgb_refit\",\"xgb_refit\"],\"x\":[0.009410210120260339,0.009038744235406468],\"y\":[-0.0012130451030563916,-0.002211403767910503],\"type\":\"scatter\"},{\"mode\":\"text\",\"showlegend\":false,\"text\":[\"xgb_refit\",\"xgb_refit\"],\"textposition\":\"bottom center\",\"x\":[0.009410210120260339,0.009038744235406468],\"y\":[-0.021213045103056393,-0.022211403767910504],\"type\":\"scatter\"},{\"hovertemplate\":\"train error - val error: %{x} <br>SCORE: %{y} </br> MODEL :%{text}\",\"marker\":{\"color\":\"rgb(57, 105, 172)\",\"line\":{\"width\":1.5},\"opacity\":0.8,\"size\":14,\"symbol\":\"circle\"},\"mode\":\"markers\",\"name\":\"train_baseline\",\"text\":[\"mlp_baseline\",\"svm_baseline\",\"rf_baseline\",\"xgb_baseline\"],\"x\":[0.004953240617499013,0.005050531481748564,0.009400763751492498,0.009038744235406468],\"y\":[-0.010452448370349815,-0.006845865338260847,-0.0012105904273160245,-0.002211403767910503],\"type\":\"scatter\"},{\"mode\":\"text\",\"showlegend\":false,\"text\":[\"mlp_baseline\",\"svm_baseline\",\"rf_baseline\",\"xgb_baseline\"],\"textposition\":\"bottom center\",\"x\":[0.004953240617499013,0.005050531481748564,0.009400763751492498,0.009038744235406468],\"y\":[-0.030452448370349813,-0.026845865338260846,-0.021210590427316024,-0.022211403767910504],\"type\":\"scatter\"},{\"hovertemplate\":\"train error - val error: %{x} <br>SCORE: %{y} </br> MODEL :%{text}\",\"marker\":{\"color\":\"rgb(127, 60, 141)\",\"line\":{\"width\":1.5},\"opacity\":0.8,\"size\":14,\"symbol\":\"circle-open-dot\"},\"mode\":\"markers\",\"name\":\"val_grid\",\"text\":[\"mlp_grid\",\"svm_grid\",\"rf_grid\",\"xgb_grid\"],\"x\":[0.0025872403974520272,0.004261132965609589,0.009464689400707101,0.008424142352562697],\"y\":[-0.012153847781623699,-0.011934708134500791,-0.010931470009848987,-0.011042434819732112],\"type\":\"scatter\"},{\"hovertemplate\":\"train error - val error: %{x} <br>SCORE: %{y} </br> MODEL :%{text}\",\"marker\":{\"color\":\"rgb(17, 165, 121)\",\"line\":{\"width\":1.5},\"opacity\":0.8,\"size\":14,\"symbol\":\"circle-open-dot\"},\"mode\":\"markers\",\"name\":\"val_refit\",\"text\":[\"xgb_refit\",\"xgb_refit\"],\"x\":[0.009410210120260339,0.009038744235406468],\"y\":[-0.01062325522331673,-0.011250148003316971],\"type\":\"scatter\"},{\"hovertemplate\":\"train error - val error: %{x} <br>SCORE: %{y} </br> MODEL :%{text}\",\"marker\":{\"color\":\"rgb(57, 105, 172)\",\"line\":{\"width\":1.5},\"opacity\":0.8,\"size\":14,\"symbol\":\"circle-open-dot\"},\"mode\":\"markers\",\"name\":\"val_baseline\",\"text\":[\"mlp_baseline\",\"svm_baseline\",\"rf_baseline\",\"xgb_baseline\"],\"x\":[0.004953240617499013,0.005050531481748564,0.009400763751492498,0.009038744235406468],\"y\":[-0.015405688987848828,-0.011896396820009411,-0.010611354178808522,-0.011250148003316971],\"type\":\"scatter\"},{\"hovertemplate\":\"train error - val error: %{x} <br>SCORE: %{y} </br> MODEL :%{text}\",\"marker\":{\"color\":\"rgb(127, 60, 141)\",\"line\":{\"width\":1.5},\"opacity\":0.8,\"size\":14,\"symbol\":\"star\"},\"mode\":\"markers\",\"name\":\"test_grid\",\"text\":[\"mlp_grid\",\"svm_grid\",\"rf_grid\",\"xgb_grid\"],\"x\":[0.0025872403974520272,0.004261132965609589,0.009464689400707101,0.008424142352562697],\"y\":[-0.010524710735626204,-0.008356153875896862,-0.00815803999845671,-0.008231047600541245],\"type\":\"scatter\"},{\"hovertemplate\":\"train error - val error: %{x} <br>SCORE: %{y} </br> MODEL :%{text}\",\"marker\":{\"color\":\"rgb(17, 165, 121)\",\"line\":{\"width\":1.5},\"opacity\":0.8,\"size\":14,\"symbol\":\"star\"},\"mode\":\"markers\",\"name\":\"test_refit\",\"text\":[\"xgb_refit\",\"xgb_refit\"],\"x\":[0.009410210120260339,0.009038744235406468],\"y\":[-0.00816885465771985,-0.008444835872069746],\"type\":\"scatter\"},{\"hovertemplate\":\"train error - val error: %{x} <br>SCORE: %{y} </br> MODEL :%{text}\",\"marker\":{\"color\":\"rgb(57, 105, 172)\",\"line\":{\"width\":1.5},\"opacity\":0.8,\"size\":14,\"symbol\":\"star\"},\"mode\":\"markers\",\"name\":\"test_baseline\",\"text\":[\"mlp_baseline\",\"svm_baseline\",\"rf_baseline\",\"xgb_baseline\"],\"x\":[0.004953240617499013,0.005050531481748564,0.009400763751492498,0.009038744235406468],\"y\":[-0.011239043963510102,-0.008223155756875747,-0.007951077717154035,-0.008444835872069746],\"type\":\"scatter\"}],                        {\"template\":{\"data\":{\"bar\":[{\"error_x\":{\"color\":\"#2a3f5f\"},\"error_y\":{\"color\":\"#2a3f5f\"},\"marker\":{\"line\":{\"color\":\"#E5ECF6\",\"width\":0.5},\"pattern\":{\"fillmode\":\"overlay\",\"size\":10,\"solidity\":0.2}},\"type\":\"bar\"}],\"barpolar\":[{\"marker\":{\"line\":{\"color\":\"#E5ECF6\",\"width\":0.5},\"pattern\":{\"fillmode\":\"overlay\",\"size\":10,\"solidity\":0.2}},\"type\":\"barpolar\"}],\"carpet\":[{\"aaxis\":{\"endlinecolor\":\"#2a3f5f\",\"gridcolor\":\"white\",\"linecolor\":\"white\",\"minorgridcolor\":\"white\",\"startlinecolor\":\"#2a3f5f\"},\"baxis\":{\"endlinecolor\":\"#2a3f5f\",\"gridcolor\":\"white\",\"linecolor\":\"white\",\"minorgridcolor\":\"white\",\"startlinecolor\":\"#2a3f5f\"},\"type\":\"carpet\"}],\"choropleth\":[{\"colorbar\":{\"outlinewidth\":0,\"ticks\":\"\"},\"type\":\"choropleth\"}],\"contour\":[{\"colorbar\":{\"outlinewidth\":0,\"ticks\":\"\"},\"colorscale\":[[0.0,\"#0d0887\"],[0.1111111111111111,\"#46039f\"],[0.2222222222222222,\"#7201a8\"],[0.3333333333333333,\"#9c179e\"],[0.4444444444444444,\"#bd3786\"],[0.5555555555555556,\"#d8576b\"],[0.6666666666666666,\"#ed7953\"],[0.7777777777777778,\"#fb9f3a\"],[0.8888888888888888,\"#fdca26\"],[1.0,\"#f0f921\"]],\"type\":\"contour\"}],\"contourcarpet\":[{\"colorbar\":{\"outlinewidth\":0,\"ticks\":\"\"},\"type\":\"contourcarpet\"}],\"heatmap\":[{\"colorbar\":{\"outlinewidth\":0,\"ticks\":\"\"},\"colorscale\":[[0.0,\"#0d0887\"],[0.1111111111111111,\"#46039f\"],[0.2222222222222222,\"#7201a8\"],[0.3333333333333333,\"#9c179e\"],[0.4444444444444444,\"#bd3786\"],[0.5555555555555556,\"#d8576b\"],[0.6666666666666666,\"#ed7953\"],[0.7777777777777778,\"#fb9f3a\"],[0.8888888888888888,\"#fdca26\"],[1.0,\"#f0f921\"]],\"type\":\"heatmap\"}],\"heatmapgl\":[{\"colorbar\":{\"outlinewidth\":0,\"ticks\":\"\"},\"colorscale\":[[0.0,\"#0d0887\"],[0.1111111111111111,\"#46039f\"],[0.2222222222222222,\"#7201a8\"],[0.3333333333333333,\"#9c179e\"],[0.4444444444444444,\"#bd3786\"],[0.5555555555555556,\"#d8576b\"],[0.6666666666666666,\"#ed7953\"],[0.7777777777777778,\"#fb9f3a\"],[0.8888888888888888,\"#fdca26\"],[1.0,\"#f0f921\"]],\"type\":\"heatmapgl\"}],\"histogram\":[{\"marker\":{\"pattern\":{\"fillmode\":\"overlay\",\"size\":10,\"solidity\":0.2}},\"type\":\"histogram\"}],\"histogram2d\":[{\"colorbar\":{\"outlinewidth\":0,\"ticks\":\"\"},\"colorscale\":[[0.0,\"#0d0887\"],[0.1111111111111111,\"#46039f\"],[0.2222222222222222,\"#7201a8\"],[0.3333333333333333,\"#9c179e\"],[0.4444444444444444,\"#bd3786\"],[0.5555555555555556,\"#d8576b\"],[0.6666666666666666,\"#ed7953\"],[0.7777777777777778,\"#fb9f3a\"],[0.8888888888888888,\"#fdca26\"],[1.0,\"#f0f921\"]],\"type\":\"histogram2d\"}],\"histogram2dcontour\":[{\"colorbar\":{\"outlinewidth\":0,\"ticks\":\"\"},\"colorscale\":[[0.0,\"#0d0887\"],[0.1111111111111111,\"#46039f\"],[0.2222222222222222,\"#7201a8\"],[0.3333333333333333,\"#9c179e\"],[0.4444444444444444,\"#bd3786\"],[0.5555555555555556,\"#d8576b\"],[0.6666666666666666,\"#ed7953\"],[0.7777777777777778,\"#fb9f3a\"],[0.8888888888888888,\"#fdca26\"],[1.0,\"#f0f921\"]],\"type\":\"histogram2dcontour\"}],\"mesh3d\":[{\"colorbar\":{\"outlinewidth\":0,\"ticks\":\"\"},\"type\":\"mesh3d\"}],\"parcoords\":[{\"line\":{\"colorbar\":{\"outlinewidth\":0,\"ticks\":\"\"}},\"type\":\"parcoords\"}],\"pie\":[{\"automargin\":true,\"type\":\"pie\"}],\"scatter\":[{\"marker\":{\"colorbar\":{\"outlinewidth\":0,\"ticks\":\"\"}},\"type\":\"scatter\"}],\"scatter3d\":[{\"line\":{\"colorbar\":{\"outlinewidth\":0,\"ticks\":\"\"}},\"marker\":{\"colorbar\":{\"outlinewidth\":0,\"ticks\":\"\"}},\"type\":\"scatter3d\"}],\"scattercarpet\":[{\"marker\":{\"colorbar\":{\"outlinewidth\":0,\"ticks\":\"\"}},\"type\":\"scattercarpet\"}],\"scattergeo\":[{\"marker\":{\"colorbar\":{\"outlinewidth\":0,\"ticks\":\"\"}},\"type\":\"scattergeo\"}],\"scattergl\":[{\"marker\":{\"colorbar\":{\"outlinewidth\":0,\"ticks\":\"\"}},\"type\":\"scattergl\"}],\"scattermapbox\":[{\"marker\":{\"colorbar\":{\"outlinewidth\":0,\"ticks\":\"\"}},\"type\":\"scattermapbox\"}],\"scatterpolar\":[{\"marker\":{\"colorbar\":{\"outlinewidth\":0,\"ticks\":\"\"}},\"type\":\"scatterpolar\"}],\"scatterpolargl\":[{\"marker\":{\"colorbar\":{\"outlinewidth\":0,\"ticks\":\"\"}},\"type\":\"scatterpolargl\"}],\"scatterternary\":[{\"marker\":{\"colorbar\":{\"outlinewidth\":0,\"ticks\":\"\"}},\"type\":\"scatterternary\"}],\"surface\":[{\"colorbar\":{\"outlinewidth\":0,\"ticks\":\"\"},\"colorscale\":[[0.0,\"#0d0887\"],[0.1111111111111111,\"#46039f\"],[0.2222222222222222,\"#7201a8\"],[0.3333333333333333,\"#9c179e\"],[0.4444444444444444,\"#bd3786\"],[0.5555555555555556,\"#d8576b\"],[0.6666666666666666,\"#ed7953\"],[0.7777777777777778,\"#fb9f3a\"],[0.8888888888888888,\"#fdca26\"],[1.0,\"#f0f921\"]],\"type\":\"surface\"}],\"table\":[{\"cells\":{\"fill\":{\"color\":\"#EBF0F8\"},\"line\":{\"color\":\"white\"}},\"header\":{\"fill\":{\"color\":\"#C8D4E3\"},\"line\":{\"color\":\"white\"}},\"type\":\"table\"}]},\"layout\":{\"annotationdefaults\":{\"arrowcolor\":\"#2a3f5f\",\"arrowhead\":0,\"arrowwidth\":1},\"autotypenumbers\":\"strict\",\"coloraxis\":{\"colorbar\":{\"outlinewidth\":0,\"ticks\":\"\"}},\"colorscale\":{\"diverging\":[[0,\"#8e0152\"],[0.1,\"#c51b7d\"],[0.2,\"#de77ae\"],[0.3,\"#f1b6da\"],[0.4,\"#fde0ef\"],[0.5,\"#f7f7f7\"],[0.6,\"#e6f5d0\"],[0.7,\"#b8e186\"],[0.8,\"#7fbc41\"],[0.9,\"#4d9221\"],[1,\"#276419\"]],\"sequential\":[[0.0,\"#0d0887\"],[0.1111111111111111,\"#46039f\"],[0.2222222222222222,\"#7201a8\"],[0.3333333333333333,\"#9c179e\"],[0.4444444444444444,\"#bd3786\"],[0.5555555555555556,\"#d8576b\"],[0.6666666666666666,\"#ed7953\"],[0.7777777777777778,\"#fb9f3a\"],[0.8888888888888888,\"#fdca26\"],[1.0,\"#f0f921\"]],\"sequentialminus\":[[0.0,\"#0d0887\"],[0.1111111111111111,\"#46039f\"],[0.2222222222222222,\"#7201a8\"],[0.3333333333333333,\"#9c179e\"],[0.4444444444444444,\"#bd3786\"],[0.5555555555555556,\"#d8576b\"],[0.6666666666666666,\"#ed7953\"],[0.7777777777777778,\"#fb9f3a\"],[0.8888888888888888,\"#fdca26\"],[1.0,\"#f0f921\"]]},\"colorway\":[\"#636efa\",\"#EF553B\",\"#00cc96\",\"#ab63fa\",\"#FFA15A\",\"#19d3f3\",\"#FF6692\",\"#B6E880\",\"#FF97FF\",\"#FECB52\"],\"font\":{\"color\":\"#2a3f5f\"},\"geo\":{\"bgcolor\":\"white\",\"lakecolor\":\"white\",\"landcolor\":\"#E5ECF6\",\"showlakes\":true,\"showland\":true,\"subunitcolor\":\"white\"},\"hoverlabel\":{\"align\":\"left\"},\"hovermode\":\"closest\",\"mapbox\":{\"style\":\"light\"},\"paper_bgcolor\":\"white\",\"plot_bgcolor\":\"#E5ECF6\",\"polar\":{\"angularaxis\":{\"gridcolor\":\"white\",\"linecolor\":\"white\",\"ticks\":\"\"},\"bgcolor\":\"#E5ECF6\",\"radialaxis\":{\"gridcolor\":\"white\",\"linecolor\":\"white\",\"ticks\":\"\"}},\"scene\":{\"xaxis\":{\"backgroundcolor\":\"#E5ECF6\",\"gridcolor\":\"white\",\"gridwidth\":2,\"linecolor\":\"white\",\"showbackground\":true,\"ticks\":\"\",\"zerolinecolor\":\"white\"},\"yaxis\":{\"backgroundcolor\":\"#E5ECF6\",\"gridcolor\":\"white\",\"gridwidth\":2,\"linecolor\":\"white\",\"showbackground\":true,\"ticks\":\"\",\"zerolinecolor\":\"white\"},\"zaxis\":{\"backgroundcolor\":\"#E5ECF6\",\"gridcolor\":\"white\",\"gridwidth\":2,\"linecolor\":\"white\",\"showbackground\":true,\"ticks\":\"\",\"zerolinecolor\":\"white\"}},\"shapedefaults\":{\"line\":{\"color\":\"#2a3f5f\"}},\"ternary\":{\"aaxis\":{\"gridcolor\":\"white\",\"linecolor\":\"white\",\"ticks\":\"\"},\"baxis\":{\"gridcolor\":\"white\",\"linecolor\":\"white\",\"ticks\":\"\"},\"bgcolor\":\"#E5ECF6\",\"caxis\":{\"gridcolor\":\"white\",\"linecolor\":\"white\",\"ticks\":\"\"}},\"title\":{\"x\":0.05},\"xaxis\":{\"automargin\":true,\"gridcolor\":\"white\",\"linecolor\":\"white\",\"ticks\":\"\",\"title\":{\"standoff\":15},\"zerolinecolor\":\"white\",\"zerolinewidth\":2},\"yaxis\":{\"automargin\":true,\"gridcolor\":\"white\",\"linecolor\":\"white\",\"ticks\":\"\",\"title\":{\"standoff\":15},\"zerolinecolor\":\"white\",\"zerolinewidth\":2}}},\"shapes\":[{\"line\":{\"color\":\"Purple\"},\"type\":\"line\",\"x0\":0.0025872403974520272,\"x1\":0.009464689400707101,\"xref\":\"x\",\"y0\":-0.007951077717154035,\"y1\":-0.007951077717154035,\"yref\":\"y\"}],\"annotations\":[{\"arrowhead\":1,\"showarrow\":true,\"text\":\"Meilleur test score -0.007951\",\"x\":0.0025872403974520272,\"y\":-0.007951077717154035}],\"font\":{\"family\":\"Courier New, monospace\",\"size\":12},\"title\":{\"text\":\"ML performance by model on wine data. Metric : RMSLE <br>ligne: meilleur test score </br>\"},\"xaxis\":{\"title\":{\"text\":\"Train error - validation error\"}},\"yaxis\":{\"title\":{\"text\":\"Validation RMSLE\"}},\"legend\":{\"title\":{\"text\":\"Model and fit type\"}}},                        {\"responsive\": true}                    ).then(function(){\n",
       "                            \n",
       "var gd = document.getElementById('fce48438-b49a-4dc1-a794-50bb36117990');\n",
       "var x = new MutationObserver(function (mutations, observer) {{\n",
       "        var display = window.getComputedStyle(gd).display;\n",
       "        if (!display || display === 'none') {{\n",
       "            console.log([gd, 'removed!']);\n",
       "            Plotly.purge(gd);\n",
       "            observer.disconnect();\n",
       "        }}\n",
       "}});\n",
       "\n",
       "// Listen for the removal of the full notebook cells\n",
       "var notebookContainer = gd.closest('#notebook-container');\n",
       "if (notebookContainer) {{\n",
       "    x.observe(notebookContainer, {childList: true});\n",
       "}}\n",
       "\n",
       "// Listen for the clearing of the current output cell\n",
       "var outputEl = gd.closest('.output');\n",
       "if (outputEl) {{\n",
       "    x.observe(outputEl, {childList: true});\n",
       "}}\n",
       "\n",
       "                        })                };                });            </script>        </div>"
      ]
     },
     "metadata": {},
     "output_type": "display_data"
    }
   ],
   "source": [
    "subset = scores.query(\"metric=='rmsle'\")\n",
    "fig = go.Figure()\n",
    "symbols = [\"circle\", \"circle-open-dot\", \"star\"]\n",
    "colors = [\"#EF553B\", \"#FECB52\", \"#00CC96\"]\n",
    "colors = px.colors.qualitative.Bold\n",
    "\n",
    "# Add traces\n",
    "show_anot = 0\n",
    "for ith, split in enumerate([\"train\", \"val\", \"test\"]):\n",
    "    temp = subset.query(\"data_split==@split\")\n",
    "\n",
    "    for i, kind in enumerate(temp[\"kind\"].unique()):\n",
    "        color = colors[i]\n",
    "        models = temp[temp[\"kind\"] == kind][\"model\"].values\n",
    "        fig.add_trace(\n",
    "            go.Scatter(\n",
    "                x=temp[temp[\"kind\"] == kind][\"difference\"],\n",
    "                y=temp[temp[\"kind\"] == kind][\"score\"],\n",
    "                mode=\"markers\",\n",
    "                name=split + \"_\" + kind,\n",
    "                marker=dict(\n",
    "                    size=14,\n",
    "                    symbol=symbols[ith],\n",
    "                    color=color,\n",
    "                    opacity=0.8,\n",
    "                    line=dict(width=1.5),\n",
    "                ),\n",
    "                text=models + \"_\" + kind,\n",
    "                hovertemplate=\"train error - val error: %{x} <br>SCORE: %{y} </br> MODEL :%{text}\",\n",
    "            )\n",
    "        )\n",
    "\n",
    "        if show_anot == 0:\n",
    "            fig.add_trace(\n",
    "                go.Scatter(\n",
    "                    x=temp[temp[\"kind\"] == kind][\"difference\"],\n",
    "                    y=temp[temp[\"kind\"] == kind][\"score\"] - 0.02,\n",
    "                    mode=\"text\",\n",
    "                    text=models + \"_\" + kind,\n",
    "                    textposition=\"bottom center\",\n",
    "                    showlegend=False,\n",
    "                )\n",
    "            )\n",
    "    show_anot += 1\n",
    "    \n",
    "fig.add_shape(type='line',\n",
    "                x0=np.min(subset['difference']),\n",
    "                y0=np.max(subset.query(\"data_split=='test'\")['score']),\n",
    "                y1=np.max(subset.query(\"data_split=='test'\")['score']),\n",
    "                x1=np.max(subset['difference']),\n",
    "                line=dict(color='Purple',),\n",
    "                xref='x',\n",
    "                yref='y'\n",
    "                \n",
    ")\n",
    "\n",
    "best_score= np.max(subset.query(\"data_split=='test'\")['score'])\n",
    "fig.add_annotation(text= f\"Meilleur test score {np.round(best_score,6)}\",\n",
    "                  x=np.min(subset['difference']), y=best_score, showarrow=True,arrowhead=1)\n",
    "\n",
    "fig.update_layout(\n",
    "    title=f\"ML performance by model on {dataset} data. Metric : RMSLE <br>ligne: meilleur test score </br>\",\n",
    "    xaxis_title=\"Train error - validation error\",\n",
    "    yaxis_title=\"Validation RMSLE\",\n",
    "    legend_title=\"Model and fit type\",\n",
    "    font=dict(family=\"Courier New, monospace\", size=12),\n",
    ")\n",
    "\n",
    "fig.show()"
   ]
  },
  {
   "cell_type": "markdown",
   "id": "ae46e260-fbc0-4bf9-9871-d3492eb3ada6",
   "metadata": {},
   "source": [
    "Pour ce graphique, les modèles qui se trouvent le plus à gauche ont le plus fort pouvoir de généralisation. \n",
    "\n",
    "Nous trouvons: \n",
    "- MLP et sans avec *tuning*\n",
    "- SVM avec et sans *tuning*\n",
    "\n",
    "À l'autre extrême, nous trouvons le XGB sans et avec  *tuning* et les RF (*tuned* et *baseline*) qui ont clairement sur-appris les données d'entraînement, toutefois, ils obtiennent des scores très élevés aussi avec les données de test. \n",
    "\n",
    "L'erreur est très proche de 0.\n",
    "\n",
    "Voyons si notre classement de modèles change lorsque nous choisissons une autre métrique : le *mean absolute error*:"
   ]
  },
  {
   "cell_type": "code",
   "execution_count": 51,
   "id": "e05fc81c-1767-496b-9cb6-4eacc3bda4f2",
   "metadata": {},
   "outputs": [
    {
     "data": {
      "application/vnd.plotly.v1+json": {
       "config": {
        "plotlyServerURL": "https://plot.ly"
       },
       "data": [
        {
         "hovertemplate": "train error - val error: %{x} <br>SCORE: %{y} </br> MODEL :%{text}",
         "marker": {
          "color": "rgb(127, 60, 141)",
          "line": {
           "width": 1.5
          },
          "opacity": 0.8,
          "size": 14,
          "symbol": "circle"
         },
         "mode": "markers",
         "name": "train_grid",
         "text": [
          "mlp_grid",
          "svm_grid",
          "rf_grid",
          "xgb_grid"
         ],
         "type": "scatter",
         "x": [
          -0.061105050074143075,
          -0.12303311783767595,
          -0.30815096154724275,
          -0.24925485680902892
         ],
         "y": [
          0.4962075095573794,
          0.4028456522533191,
          0.17138885781128033,
          0.2552725717618868
         ]
        },
        {
         "mode": "text",
         "showlegend": false,
         "text": [
          "mlp_grid",
          "svm_grid",
          "rf_grid",
          "xgb_grid"
         ],
         "textposition": "bottom center",
         "type": "scatter",
         "x": [
          -0.061105050074143075,
          -0.12303311783767595,
          -0.30815096154724275,
          -0.24925485680902892
         ],
         "y": [
          0.46620750955737944,
          0.3728456522533191,
          0.14138885781128033,
          0.22527257176188678
         ]
        },
        {
         "hovertemplate": "train error - val error: %{x} <br>SCORE: %{y} </br> MODEL :%{text}",
         "marker": {
          "color": "rgb(17, 165, 121)",
          "line": {
           "width": 1.5
          },
          "opacity": 0.8,
          "size": 14,
          "symbol": "circle"
         },
         "mode": "markers",
         "name": "train_refit",
         "text": [
          "xgb_refit",
          "xgb_refit"
         ],
         "type": "scatter",
         "x": [
          -0.31797886427298194,
          -0.26225265770551054
         ],
         "y": [
          0.15309956709956707,
          0.23523398973209
         ]
        },
        {
         "mode": "text",
         "showlegend": false,
         "text": [
          "xgb_refit",
          "xgb_refit"
         ],
         "textposition": "bottom center",
         "type": "scatter",
         "x": [
          -0.31797886427298194,
          -0.26225265770551054
         ],
         "y": [
          0.12309956709956707,
          0.20523398973209
         ]
        },
        {
         "hovertemplate": "train error - val error: %{x} <br>SCORE: %{y} </br> MODEL :%{text}",
         "marker": {
          "color": "rgb(57, 105, 172)",
          "line": {
           "width": 1.5
          },
          "opacity": 0.8,
          "size": 14,
          "symbol": "circle"
         },
         "mode": "markers",
         "name": "train_baseline",
         "text": [
          "mlp_baseline",
          "svm_baseline",
          "rf_baseline",
          "xgb_baseline"
         ],
         "type": "scatter",
         "x": [
          -0.11199707467029252,
          -0.14505624270485712,
          -0.3191223580341227,
          -0.26225265770551054
         ],
         "y": [
          0.5216597523146194,
          0.375115232651079,
          0.15455411255411253,
          0.23523398973209
         ]
        },
        {
         "mode": "text",
         "showlegend": false,
         "text": [
          "mlp_baseline",
          "svm_baseline",
          "rf_baseline",
          "xgb_baseline"
         ],
         "textposition": "bottom center",
         "type": "scatter",
         "x": [
          -0.11199707467029252,
          -0.14505624270485712,
          -0.3191223580341227,
          -0.26225265770551054
         ],
         "y": [
          0.49165975231461934,
          0.345115232651079,
          0.12455411255411253,
          0.20523398973209
         ]
        },
        {
         "hovertemplate": "train error - val error: %{x} <br>SCORE: %{y} </br> MODEL :%{text}",
         "marker": {
          "color": "rgb(127, 60, 141)",
          "line": {
           "width": 1.5
          },
          "opacity": 0.8,
          "size": 14,
          "symbol": "circle-open-dot"
         },
         "mode": "markers",
         "name": "val_grid",
         "text": [
          "mlp_grid",
          "svm_grid",
          "rf_grid",
          "xgb_grid"
         ],
         "type": "scatter",
         "x": [
          -0.061105050074143075,
          -0.12303311783767595,
          -0.30815096154724275,
          -0.24925485680902892
         ],
         "y": [
          0.5573125596315225,
          0.525878770090995,
          0.4795398193585231,
          0.5045274285709157
         ]
        },
        {
         "hovertemplate": "train error - val error: %{x} <br>SCORE: %{y} </br> MODEL :%{text}",
         "marker": {
          "color": "rgb(17, 165, 121)",
          "line": {
           "width": 1.5
          },
          "opacity": 0.8,
          "size": 14,
          "symbol": "circle-open-dot"
         },
         "mode": "markers",
         "name": "val_refit",
         "text": [
          "xgb_refit",
          "xgb_refit"
         ],
         "type": "scatter",
         "x": [
          -0.31797886427298194,
          -0.26225265770551054
         ],
         "y": [
          0.471078431372549,
          0.4974866474376005
         ]
        },
        {
         "hovertemplate": "train error - val error: %{x} <br>SCORE: %{y} </br> MODEL :%{text}",
         "marker": {
          "color": "rgb(57, 105, 172)",
          "line": {
           "width": 1.5
          },
          "opacity": 0.8,
          "size": 14,
          "symbol": "circle-open-dot"
         },
         "mode": "markers",
         "name": "val_baseline",
         "text": [
          "mlp_baseline",
          "svm_baseline",
          "rf_baseline",
          "xgb_baseline"
         ],
         "type": "scatter",
         "x": [
          -0.11199707467029252,
          -0.14505624270485712,
          -0.3191223580341227,
          -0.26225265770551054
         ],
         "y": [
          0.6336568269849119,
          0.5201714753559361,
          0.47367647058823525,
          0.4974866474376005
         ]
        },
        {
         "hovertemplate": "train error - val error: %{x} <br>SCORE: %{y} </br> MODEL :%{text}",
         "marker": {
          "color": "rgb(127, 60, 141)",
          "line": {
           "width": 1.5
          },
          "opacity": 0.8,
          "size": 14,
          "symbol": "star"
         },
         "mode": "markers",
         "name": "test_grid",
         "text": [
          "mlp_grid",
          "svm_grid",
          "rf_grid",
          "xgb_grid"
         ],
         "type": "scatter",
         "x": [
          -0.061105050074143075,
          -0.12303311783767595,
          -0.30815096154724275,
          -0.24925485680902892
         ],
         "y": [
          0.5278871367241431,
          0.4433116696002183,
          0.43223571609250944,
          0.44815141359965005
         ]
        },
        {
         "hovertemplate": "train error - val error: %{x} <br>SCORE: %{y} </br> MODEL :%{text}",
         "marker": {
          "color": "rgb(17, 165, 121)",
          "line": {
           "width": 1.5
          },
          "opacity": 0.8,
          "size": 14,
          "symbol": "star"
         },
         "mode": "markers",
         "name": "test_refit",
         "text": [
          "xgb_refit",
          "xgb_refit"
         ],
         "type": "scatter",
         "x": [
          -0.31797886427298194,
          -0.26225265770551054
         ],
         "y": [
          0.4332916666666666,
          0.4493744691212972
         ]
        },
        {
         "hovertemplate": "train error - val error: %{x} <br>SCORE: %{y} </br> MODEL :%{text}",
         "marker": {
          "color": "rgb(57, 105, 172)",
          "line": {
           "width": 1.5
          },
          "opacity": 0.8,
          "size": 14,
          "symbol": "star"
         },
         "mode": "markers",
         "name": "test_baseline",
         "text": [
          "mlp_baseline",
          "svm_baseline",
          "rf_baseline",
          "xgb_baseline"
         ],
         "type": "scatter",
         "x": [
          -0.11199707467029252,
          -0.14505624270485712,
          -0.3191223580341227,
          -0.26225265770551054
         ],
         "y": [
          0.5388485565272917,
          0.43460835131994846,
          0.42674999999999996,
          0.4493744691212972
         ]
        }
       ],
       "layout": {
        "annotations": [
         {
          "arrowhead": 1,
          "showarrow": true,
          "text": "Meilleur test score 0.42675",
          "x": -0.3191223580341227,
          "y": 0.42674999999999996
         }
        ],
        "autosize": true,
        "font": {
         "family": "Courier New, monospace",
         "size": 12
        },
        "legend": {
         "title": {
          "text": "Model and fit type"
         }
        },
        "shapes": [
         {
          "line": {
           "color": "Purple"
          },
          "type": "line",
          "x0": -0.3191223580341227,
          "x1": -0.061105050074143075,
          "xref": "x",
          "y0": 0.42674999999999996,
          "y1": 0.42674999999999996,
          "yref": "y"
         }
        ],
        "template": {
         "data": {
          "bar": [
           {
            "error_x": {
             "color": "#2a3f5f"
            },
            "error_y": {
             "color": "#2a3f5f"
            },
            "marker": {
             "line": {
              "color": "#E5ECF6",
              "width": 0.5
             },
             "pattern": {
              "fillmode": "overlay",
              "size": 10,
              "solidity": 0.2
             }
            },
            "type": "bar"
           }
          ],
          "barpolar": [
           {
            "marker": {
             "line": {
              "color": "#E5ECF6",
              "width": 0.5
             },
             "pattern": {
              "fillmode": "overlay",
              "size": 10,
              "solidity": 0.2
             }
            },
            "type": "barpolar"
           }
          ],
          "carpet": [
           {
            "aaxis": {
             "endlinecolor": "#2a3f5f",
             "gridcolor": "white",
             "linecolor": "white",
             "minorgridcolor": "white",
             "startlinecolor": "#2a3f5f"
            },
            "baxis": {
             "endlinecolor": "#2a3f5f",
             "gridcolor": "white",
             "linecolor": "white",
             "minorgridcolor": "white",
             "startlinecolor": "#2a3f5f"
            },
            "type": "carpet"
           }
          ],
          "choropleth": [
           {
            "colorbar": {
             "outlinewidth": 0,
             "ticks": ""
            },
            "type": "choropleth"
           }
          ],
          "contour": [
           {
            "colorbar": {
             "outlinewidth": 0,
             "ticks": ""
            },
            "colorscale": [
             [
              0,
              "#0d0887"
             ],
             [
              0.1111111111111111,
              "#46039f"
             ],
             [
              0.2222222222222222,
              "#7201a8"
             ],
             [
              0.3333333333333333,
              "#9c179e"
             ],
             [
              0.4444444444444444,
              "#bd3786"
             ],
             [
              0.5555555555555556,
              "#d8576b"
             ],
             [
              0.6666666666666666,
              "#ed7953"
             ],
             [
              0.7777777777777778,
              "#fb9f3a"
             ],
             [
              0.8888888888888888,
              "#fdca26"
             ],
             [
              1,
              "#f0f921"
             ]
            ],
            "type": "contour"
           }
          ],
          "contourcarpet": [
           {
            "colorbar": {
             "outlinewidth": 0,
             "ticks": ""
            },
            "type": "contourcarpet"
           }
          ],
          "heatmap": [
           {
            "colorbar": {
             "outlinewidth": 0,
             "ticks": ""
            },
            "colorscale": [
             [
              0,
              "#0d0887"
             ],
             [
              0.1111111111111111,
              "#46039f"
             ],
             [
              0.2222222222222222,
              "#7201a8"
             ],
             [
              0.3333333333333333,
              "#9c179e"
             ],
             [
              0.4444444444444444,
              "#bd3786"
             ],
             [
              0.5555555555555556,
              "#d8576b"
             ],
             [
              0.6666666666666666,
              "#ed7953"
             ],
             [
              0.7777777777777778,
              "#fb9f3a"
             ],
             [
              0.8888888888888888,
              "#fdca26"
             ],
             [
              1,
              "#f0f921"
             ]
            ],
            "type": "heatmap"
           }
          ],
          "heatmapgl": [
           {
            "colorbar": {
             "outlinewidth": 0,
             "ticks": ""
            },
            "colorscale": [
             [
              0,
              "#0d0887"
             ],
             [
              0.1111111111111111,
              "#46039f"
             ],
             [
              0.2222222222222222,
              "#7201a8"
             ],
             [
              0.3333333333333333,
              "#9c179e"
             ],
             [
              0.4444444444444444,
              "#bd3786"
             ],
             [
              0.5555555555555556,
              "#d8576b"
             ],
             [
              0.6666666666666666,
              "#ed7953"
             ],
             [
              0.7777777777777778,
              "#fb9f3a"
             ],
             [
              0.8888888888888888,
              "#fdca26"
             ],
             [
              1,
              "#f0f921"
             ]
            ],
            "type": "heatmapgl"
           }
          ],
          "histogram": [
           {
            "marker": {
             "pattern": {
              "fillmode": "overlay",
              "size": 10,
              "solidity": 0.2
             }
            },
            "type": "histogram"
           }
          ],
          "histogram2d": [
           {
            "colorbar": {
             "outlinewidth": 0,
             "ticks": ""
            },
            "colorscale": [
             [
              0,
              "#0d0887"
             ],
             [
              0.1111111111111111,
              "#46039f"
             ],
             [
              0.2222222222222222,
              "#7201a8"
             ],
             [
              0.3333333333333333,
              "#9c179e"
             ],
             [
              0.4444444444444444,
              "#bd3786"
             ],
             [
              0.5555555555555556,
              "#d8576b"
             ],
             [
              0.6666666666666666,
              "#ed7953"
             ],
             [
              0.7777777777777778,
              "#fb9f3a"
             ],
             [
              0.8888888888888888,
              "#fdca26"
             ],
             [
              1,
              "#f0f921"
             ]
            ],
            "type": "histogram2d"
           }
          ],
          "histogram2dcontour": [
           {
            "colorbar": {
             "outlinewidth": 0,
             "ticks": ""
            },
            "colorscale": [
             [
              0,
              "#0d0887"
             ],
             [
              0.1111111111111111,
              "#46039f"
             ],
             [
              0.2222222222222222,
              "#7201a8"
             ],
             [
              0.3333333333333333,
              "#9c179e"
             ],
             [
              0.4444444444444444,
              "#bd3786"
             ],
             [
              0.5555555555555556,
              "#d8576b"
             ],
             [
              0.6666666666666666,
              "#ed7953"
             ],
             [
              0.7777777777777778,
              "#fb9f3a"
             ],
             [
              0.8888888888888888,
              "#fdca26"
             ],
             [
              1,
              "#f0f921"
             ]
            ],
            "type": "histogram2dcontour"
           }
          ],
          "mesh3d": [
           {
            "colorbar": {
             "outlinewidth": 0,
             "ticks": ""
            },
            "type": "mesh3d"
           }
          ],
          "parcoords": [
           {
            "line": {
             "colorbar": {
              "outlinewidth": 0,
              "ticks": ""
             }
            },
            "type": "parcoords"
           }
          ],
          "pie": [
           {
            "automargin": true,
            "type": "pie"
           }
          ],
          "scatter": [
           {
            "marker": {
             "colorbar": {
              "outlinewidth": 0,
              "ticks": ""
             }
            },
            "type": "scatter"
           }
          ],
          "scatter3d": [
           {
            "line": {
             "colorbar": {
              "outlinewidth": 0,
              "ticks": ""
             }
            },
            "marker": {
             "colorbar": {
              "outlinewidth": 0,
              "ticks": ""
             }
            },
            "type": "scatter3d"
           }
          ],
          "scattercarpet": [
           {
            "marker": {
             "colorbar": {
              "outlinewidth": 0,
              "ticks": ""
             }
            },
            "type": "scattercarpet"
           }
          ],
          "scattergeo": [
           {
            "marker": {
             "colorbar": {
              "outlinewidth": 0,
              "ticks": ""
             }
            },
            "type": "scattergeo"
           }
          ],
          "scattergl": [
           {
            "marker": {
             "colorbar": {
              "outlinewidth": 0,
              "ticks": ""
             }
            },
            "type": "scattergl"
           }
          ],
          "scattermapbox": [
           {
            "marker": {
             "colorbar": {
              "outlinewidth": 0,
              "ticks": ""
             }
            },
            "type": "scattermapbox"
           }
          ],
          "scatterpolar": [
           {
            "marker": {
             "colorbar": {
              "outlinewidth": 0,
              "ticks": ""
             }
            },
            "type": "scatterpolar"
           }
          ],
          "scatterpolargl": [
           {
            "marker": {
             "colorbar": {
              "outlinewidth": 0,
              "ticks": ""
             }
            },
            "type": "scatterpolargl"
           }
          ],
          "scatterternary": [
           {
            "marker": {
             "colorbar": {
              "outlinewidth": 0,
              "ticks": ""
             }
            },
            "type": "scatterternary"
           }
          ],
          "surface": [
           {
            "colorbar": {
             "outlinewidth": 0,
             "ticks": ""
            },
            "colorscale": [
             [
              0,
              "#0d0887"
             ],
             [
              0.1111111111111111,
              "#46039f"
             ],
             [
              0.2222222222222222,
              "#7201a8"
             ],
             [
              0.3333333333333333,
              "#9c179e"
             ],
             [
              0.4444444444444444,
              "#bd3786"
             ],
             [
              0.5555555555555556,
              "#d8576b"
             ],
             [
              0.6666666666666666,
              "#ed7953"
             ],
             [
              0.7777777777777778,
              "#fb9f3a"
             ],
             [
              0.8888888888888888,
              "#fdca26"
             ],
             [
              1,
              "#f0f921"
             ]
            ],
            "type": "surface"
           }
          ],
          "table": [
           {
            "cells": {
             "fill": {
              "color": "#EBF0F8"
             },
             "line": {
              "color": "white"
             }
            },
            "header": {
             "fill": {
              "color": "#C8D4E3"
             },
             "line": {
              "color": "white"
             }
            },
            "type": "table"
           }
          ]
         },
         "layout": {
          "annotationdefaults": {
           "arrowcolor": "#2a3f5f",
           "arrowhead": 0,
           "arrowwidth": 1
          },
          "autotypenumbers": "strict",
          "coloraxis": {
           "colorbar": {
            "outlinewidth": 0,
            "ticks": ""
           }
          },
          "colorscale": {
           "diverging": [
            [
             0,
             "#8e0152"
            ],
            [
             0.1,
             "#c51b7d"
            ],
            [
             0.2,
             "#de77ae"
            ],
            [
             0.3,
             "#f1b6da"
            ],
            [
             0.4,
             "#fde0ef"
            ],
            [
             0.5,
             "#f7f7f7"
            ],
            [
             0.6,
             "#e6f5d0"
            ],
            [
             0.7,
             "#b8e186"
            ],
            [
             0.8,
             "#7fbc41"
            ],
            [
             0.9,
             "#4d9221"
            ],
            [
             1,
             "#276419"
            ]
           ],
           "sequential": [
            [
             0,
             "#0d0887"
            ],
            [
             0.1111111111111111,
             "#46039f"
            ],
            [
             0.2222222222222222,
             "#7201a8"
            ],
            [
             0.3333333333333333,
             "#9c179e"
            ],
            [
             0.4444444444444444,
             "#bd3786"
            ],
            [
             0.5555555555555556,
             "#d8576b"
            ],
            [
             0.6666666666666666,
             "#ed7953"
            ],
            [
             0.7777777777777778,
             "#fb9f3a"
            ],
            [
             0.8888888888888888,
             "#fdca26"
            ],
            [
             1,
             "#f0f921"
            ]
           ],
           "sequentialminus": [
            [
             0,
             "#0d0887"
            ],
            [
             0.1111111111111111,
             "#46039f"
            ],
            [
             0.2222222222222222,
             "#7201a8"
            ],
            [
             0.3333333333333333,
             "#9c179e"
            ],
            [
             0.4444444444444444,
             "#bd3786"
            ],
            [
             0.5555555555555556,
             "#d8576b"
            ],
            [
             0.6666666666666666,
             "#ed7953"
            ],
            [
             0.7777777777777778,
             "#fb9f3a"
            ],
            [
             0.8888888888888888,
             "#fdca26"
            ],
            [
             1,
             "#f0f921"
            ]
           ]
          },
          "colorway": [
           "#636efa",
           "#EF553B",
           "#00cc96",
           "#ab63fa",
           "#FFA15A",
           "#19d3f3",
           "#FF6692",
           "#B6E880",
           "#FF97FF",
           "#FECB52"
          ],
          "font": {
           "color": "#2a3f5f"
          },
          "geo": {
           "bgcolor": "white",
           "lakecolor": "white",
           "landcolor": "#E5ECF6",
           "showlakes": true,
           "showland": true,
           "subunitcolor": "white"
          },
          "hoverlabel": {
           "align": "left"
          },
          "hovermode": "closest",
          "mapbox": {
           "style": "light"
          },
          "paper_bgcolor": "white",
          "plot_bgcolor": "#E5ECF6",
          "polar": {
           "angularaxis": {
            "gridcolor": "white",
            "linecolor": "white",
            "ticks": ""
           },
           "bgcolor": "#E5ECF6",
           "radialaxis": {
            "gridcolor": "white",
            "linecolor": "white",
            "ticks": ""
           }
          },
          "scene": {
           "xaxis": {
            "backgroundcolor": "#E5ECF6",
            "gridcolor": "white",
            "gridwidth": 2,
            "linecolor": "white",
            "showbackground": true,
            "ticks": "",
            "zerolinecolor": "white"
           },
           "yaxis": {
            "backgroundcolor": "#E5ECF6",
            "gridcolor": "white",
            "gridwidth": 2,
            "linecolor": "white",
            "showbackground": true,
            "ticks": "",
            "zerolinecolor": "white"
           },
           "zaxis": {
            "backgroundcolor": "#E5ECF6",
            "gridcolor": "white",
            "gridwidth": 2,
            "linecolor": "white",
            "showbackground": true,
            "ticks": "",
            "zerolinecolor": "white"
           }
          },
          "shapedefaults": {
           "line": {
            "color": "#2a3f5f"
           }
          },
          "ternary": {
           "aaxis": {
            "gridcolor": "white",
            "linecolor": "white",
            "ticks": ""
           },
           "baxis": {
            "gridcolor": "white",
            "linecolor": "white",
            "ticks": ""
           },
           "bgcolor": "#E5ECF6",
           "caxis": {
            "gridcolor": "white",
            "linecolor": "white",
            "ticks": ""
           }
          },
          "title": {
           "x": 0.05
          },
          "xaxis": {
           "automargin": true,
           "gridcolor": "white",
           "linecolor": "white",
           "ticks": "",
           "title": {
            "standoff": 15
           },
           "zerolinecolor": "white",
           "zerolinewidth": 2
          },
          "yaxis": {
           "automargin": true,
           "gridcolor": "white",
           "linecolor": "white",
           "ticks": "",
           "title": {
            "standoff": 15
           },
           "zerolinecolor": "white",
           "zerolinewidth": 2
          }
         }
        },
        "title": {
         "text": "ML performance by model on wine data"
        },
        "xaxis": {
         "autorange": true,
         "range": [
          -0.36265847576398896,
          -0.04150367241716142
         ],
         "title": {
          "text": "Train error - validation error"
         },
         "type": "linear"
        },
        "yaxis": {
         "autorange": true,
         "range": [
          0.0931157802221243,
          0.6927915177709796
         ],
         "title": {
          "text": "Validation MAE"
         },
         "type": "linear"
        }
       }
      },
      "image/png": "[encoded data removed]",
      "text/html": [
       "<div>                            <div id=\"c558310d-76bf-4042-aaca-6f6ceb9ce9e9\" class=\"plotly-graph-div\" style=\"height:525px; width:100%;\"></div>            <script type=\"text/javascript\">                require([\"plotly\"], function(Plotly) {                    window.PLOTLYENV=window.PLOTLYENV || {};                                    if (document.getElementById(\"c558310d-76bf-4042-aaca-6f6ceb9ce9e9\")) {                    Plotly.newPlot(                        \"c558310d-76bf-4042-aaca-6f6ceb9ce9e9\",                        [{\"hovertemplate\":\"train error - val error: %{x} <br>SCORE: %{y} </br> MODEL :%{text}\",\"marker\":{\"color\":\"rgb(127, 60, 141)\",\"line\":{\"width\":1.5},\"opacity\":0.8,\"size\":14,\"symbol\":\"circle\"},\"mode\":\"markers\",\"name\":\"train_grid\",\"text\":[\"mlp_grid\",\"svm_grid\",\"rf_grid\",\"xgb_grid\"],\"x\":[-0.061105050074143075,-0.12303311783767595,-0.30815096154724275,-0.24925485680902892],\"y\":[0.4962075095573794,0.4028456522533191,0.17138885781128033,0.2552725717618868],\"type\":\"scatter\"},{\"mode\":\"text\",\"showlegend\":false,\"text\":[\"mlp_grid\",\"svm_grid\",\"rf_grid\",\"xgb_grid\"],\"textposition\":\"bottom center\",\"x\":[-0.061105050074143075,-0.12303311783767595,-0.30815096154724275,-0.24925485680902892],\"y\":[0.46620750955737944,0.3728456522533191,0.14138885781128033,0.22527257176188678],\"type\":\"scatter\"},{\"hovertemplate\":\"train error - val error: %{x} <br>SCORE: %{y} </br> MODEL :%{text}\",\"marker\":{\"color\":\"rgb(17, 165, 121)\",\"line\":{\"width\":1.5},\"opacity\":0.8,\"size\":14,\"symbol\":\"circle\"},\"mode\":\"markers\",\"name\":\"train_refit\",\"text\":[\"xgb_refit\",\"xgb_refit\"],\"x\":[-0.31797886427298194,-0.26225265770551054],\"y\":[0.15309956709956707,0.23523398973209],\"type\":\"scatter\"},{\"mode\":\"text\",\"showlegend\":false,\"text\":[\"xgb_refit\",\"xgb_refit\"],\"textposition\":\"bottom center\",\"x\":[-0.31797886427298194,-0.26225265770551054],\"y\":[0.12309956709956707,0.20523398973209],\"type\":\"scatter\"},{\"hovertemplate\":\"train error - val error: %{x} <br>SCORE: %{y} </br> MODEL :%{text}\",\"marker\":{\"color\":\"rgb(57, 105, 172)\",\"line\":{\"width\":1.5},\"opacity\":0.8,\"size\":14,\"symbol\":\"circle\"},\"mode\":\"markers\",\"name\":\"train_baseline\",\"text\":[\"mlp_baseline\",\"svm_baseline\",\"rf_baseline\",\"xgb_baseline\"],\"x\":[-0.11199707467029252,-0.14505624270485712,-0.3191223580341227,-0.26225265770551054],\"y\":[0.5216597523146194,0.375115232651079,0.15455411255411253,0.23523398973209],\"type\":\"scatter\"},{\"mode\":\"text\",\"showlegend\":false,\"text\":[\"mlp_baseline\",\"svm_baseline\",\"rf_baseline\",\"xgb_baseline\"],\"textposition\":\"bottom center\",\"x\":[-0.11199707467029252,-0.14505624270485712,-0.3191223580341227,-0.26225265770551054],\"y\":[0.49165975231461934,0.345115232651079,0.12455411255411253,0.20523398973209],\"type\":\"scatter\"},{\"hovertemplate\":\"train error - val error: %{x} <br>SCORE: %{y} </br> MODEL :%{text}\",\"marker\":{\"color\":\"rgb(127, 60, 141)\",\"line\":{\"width\":1.5},\"opacity\":0.8,\"size\":14,\"symbol\":\"circle-open-dot\"},\"mode\":\"markers\",\"name\":\"val_grid\",\"text\":[\"mlp_grid\",\"svm_grid\",\"rf_grid\",\"xgb_grid\"],\"x\":[-0.061105050074143075,-0.12303311783767595,-0.30815096154724275,-0.24925485680902892],\"y\":[0.5573125596315225,0.525878770090995,0.4795398193585231,0.5045274285709157],\"type\":\"scatter\"},{\"hovertemplate\":\"train error - val error: %{x} <br>SCORE: %{y} </br> MODEL :%{text}\",\"marker\":{\"color\":\"rgb(17, 165, 121)\",\"line\":{\"width\":1.5},\"opacity\":0.8,\"size\":14,\"symbol\":\"circle-open-dot\"},\"mode\":\"markers\",\"name\":\"val_refit\",\"text\":[\"xgb_refit\",\"xgb_refit\"],\"x\":[-0.31797886427298194,-0.26225265770551054],\"y\":[0.471078431372549,0.4974866474376005],\"type\":\"scatter\"},{\"hovertemplate\":\"train error - val error: %{x} <br>SCORE: %{y} </br> MODEL :%{text}\",\"marker\":{\"color\":\"rgb(57, 105, 172)\",\"line\":{\"width\":1.5},\"opacity\":0.8,\"size\":14,\"symbol\":\"circle-open-dot\"},\"mode\":\"markers\",\"name\":\"val_baseline\",\"text\":[\"mlp_baseline\",\"svm_baseline\",\"rf_baseline\",\"xgb_baseline\"],\"x\":[-0.11199707467029252,-0.14505624270485712,-0.3191223580341227,-0.26225265770551054],\"y\":[0.6336568269849119,0.5201714753559361,0.47367647058823525,0.4974866474376005],\"type\":\"scatter\"},{\"hovertemplate\":\"train error - val error: %{x} <br>SCORE: %{y} </br> MODEL :%{text}\",\"marker\":{\"color\":\"rgb(127, 60, 141)\",\"line\":{\"width\":1.5},\"opacity\":0.8,\"size\":14,\"symbol\":\"star\"},\"mode\":\"markers\",\"name\":\"test_grid\",\"text\":[\"mlp_grid\",\"svm_grid\",\"rf_grid\",\"xgb_grid\"],\"x\":[-0.061105050074143075,-0.12303311783767595,-0.30815096154724275,-0.24925485680902892],\"y\":[0.5278871367241431,0.4433116696002183,0.43223571609250944,0.44815141359965005],\"type\":\"scatter\"},{\"hovertemplate\":\"train error - val error: %{x} <br>SCORE: %{y} </br> MODEL :%{text}\",\"marker\":{\"color\":\"rgb(17, 165, 121)\",\"line\":{\"width\":1.5},\"opacity\":0.8,\"size\":14,\"symbol\":\"star\"},\"mode\":\"markers\",\"name\":\"test_refit\",\"text\":[\"xgb_refit\",\"xgb_refit\"],\"x\":[-0.31797886427298194,-0.26225265770551054],\"y\":[0.4332916666666666,0.4493744691212972],\"type\":\"scatter\"},{\"hovertemplate\":\"train error - val error: %{x} <br>SCORE: %{y} </br> MODEL :%{text}\",\"marker\":{\"color\":\"rgb(57, 105, 172)\",\"line\":{\"width\":1.5},\"opacity\":0.8,\"size\":14,\"symbol\":\"star\"},\"mode\":\"markers\",\"name\":\"test_baseline\",\"text\":[\"mlp_baseline\",\"svm_baseline\",\"rf_baseline\",\"xgb_baseline\"],\"x\":[-0.11199707467029252,-0.14505624270485712,-0.3191223580341227,-0.26225265770551054],\"y\":[0.5388485565272917,0.43460835131994846,0.42674999999999996,0.4493744691212972],\"type\":\"scatter\"}],                        {\"template\":{\"data\":{\"bar\":[{\"error_x\":{\"color\":\"#2a3f5f\"},\"error_y\":{\"color\":\"#2a3f5f\"},\"marker\":{\"line\":{\"color\":\"#E5ECF6\",\"width\":0.5},\"pattern\":{\"fillmode\":\"overlay\",\"size\":10,\"solidity\":0.2}},\"type\":\"bar\"}],\"barpolar\":[{\"marker\":{\"line\":{\"color\":\"#E5ECF6\",\"width\":0.5},\"pattern\":{\"fillmode\":\"overlay\",\"size\":10,\"solidity\":0.2}},\"type\":\"barpolar\"}],\"carpet\":[{\"aaxis\":{\"endlinecolor\":\"#2a3f5f\",\"gridcolor\":\"white\",\"linecolor\":\"white\",\"minorgridcolor\":\"white\",\"startlinecolor\":\"#2a3f5f\"},\"baxis\":{\"endlinecolor\":\"#2a3f5f\",\"gridcolor\":\"white\",\"linecolor\":\"white\",\"minorgridcolor\":\"white\",\"startlinecolor\":\"#2a3f5f\"},\"type\":\"carpet\"}],\"choropleth\":[{\"colorbar\":{\"outlinewidth\":0,\"ticks\":\"\"},\"type\":\"choropleth\"}],\"contour\":[{\"colorbar\":{\"outlinewidth\":0,\"ticks\":\"\"},\"colorscale\":[[0.0,\"#0d0887\"],[0.1111111111111111,\"#46039f\"],[0.2222222222222222,\"#7201a8\"],[0.3333333333333333,\"#9c179e\"],[0.4444444444444444,\"#bd3786\"],[0.5555555555555556,\"#d8576b\"],[0.6666666666666666,\"#ed7953\"],[0.7777777777777778,\"#fb9f3a\"],[0.8888888888888888,\"#fdca26\"],[1.0,\"#f0f921\"]],\"type\":\"contour\"}],\"contourcarpet\":[{\"colorbar\":{\"outlinewidth\":0,\"ticks\":\"\"},\"type\":\"contourcarpet\"}],\"heatmap\":[{\"colorbar\":{\"outlinewidth\":0,\"ticks\":\"\"},\"colorscale\":[[0.0,\"#0d0887\"],[0.1111111111111111,\"#46039f\"],[0.2222222222222222,\"#7201a8\"],[0.3333333333333333,\"#9c179e\"],[0.4444444444444444,\"#bd3786\"],[0.5555555555555556,\"#d8576b\"],[0.6666666666666666,\"#ed7953\"],[0.7777777777777778,\"#fb9f3a\"],[0.8888888888888888,\"#fdca26\"],[1.0,\"#f0f921\"]],\"type\":\"heatmap\"}],\"heatmapgl\":[{\"colorbar\":{\"outlinewidth\":0,\"ticks\":\"\"},\"colorscale\":[[0.0,\"#0d0887\"],[0.1111111111111111,\"#46039f\"],[0.2222222222222222,\"#7201a8\"],[0.3333333333333333,\"#9c179e\"],[0.4444444444444444,\"#bd3786\"],[0.5555555555555556,\"#d8576b\"],[0.6666666666666666,\"#ed7953\"],[0.7777777777777778,\"#fb9f3a\"],[0.8888888888888888,\"#fdca26\"],[1.0,\"#f0f921\"]],\"type\":\"heatmapgl\"}],\"histogram\":[{\"marker\":{\"pattern\":{\"fillmode\":\"overlay\",\"size\":10,\"solidity\":0.2}},\"type\":\"histogram\"}],\"histogram2d\":[{\"colorbar\":{\"outlinewidth\":0,\"ticks\":\"\"},\"colorscale\":[[0.0,\"#0d0887\"],[0.1111111111111111,\"#46039f\"],[0.2222222222222222,\"#7201a8\"],[0.3333333333333333,\"#9c179e\"],[0.4444444444444444,\"#bd3786\"],[0.5555555555555556,\"#d8576b\"],[0.6666666666666666,\"#ed7953\"],[0.7777777777777778,\"#fb9f3a\"],[0.8888888888888888,\"#fdca26\"],[1.0,\"#f0f921\"]],\"type\":\"histogram2d\"}],\"histogram2dcontour\":[{\"colorbar\":{\"outlinewidth\":0,\"ticks\":\"\"},\"colorscale\":[[0.0,\"#0d0887\"],[0.1111111111111111,\"#46039f\"],[0.2222222222222222,\"#7201a8\"],[0.3333333333333333,\"#9c179e\"],[0.4444444444444444,\"#bd3786\"],[0.5555555555555556,\"#d8576b\"],[0.6666666666666666,\"#ed7953\"],[0.7777777777777778,\"#fb9f3a\"],[0.8888888888888888,\"#fdca26\"],[1.0,\"#f0f921\"]],\"type\":\"histogram2dcontour\"}],\"mesh3d\":[{\"colorbar\":{\"outlinewidth\":0,\"ticks\":\"\"},\"type\":\"mesh3d\"}],\"parcoords\":[{\"line\":{\"colorbar\":{\"outlinewidth\":0,\"ticks\":\"\"}},\"type\":\"parcoords\"}],\"pie\":[{\"automargin\":true,\"type\":\"pie\"}],\"scatter\":[{\"marker\":{\"colorbar\":{\"outlinewidth\":0,\"ticks\":\"\"}},\"type\":\"scatter\"}],\"scatter3d\":[{\"line\":{\"colorbar\":{\"outlinewidth\":0,\"ticks\":\"\"}},\"marker\":{\"colorbar\":{\"outlinewidth\":0,\"ticks\":\"\"}},\"type\":\"scatter3d\"}],\"scattercarpet\":[{\"marker\":{\"colorbar\":{\"outlinewidth\":0,\"ticks\":\"\"}},\"type\":\"scattercarpet\"}],\"scattergeo\":[{\"marker\":{\"colorbar\":{\"outlinewidth\":0,\"ticks\":\"\"}},\"type\":\"scattergeo\"}],\"scattergl\":[{\"marker\":{\"colorbar\":{\"outlinewidth\":0,\"ticks\":\"\"}},\"type\":\"scattergl\"}],\"scattermapbox\":[{\"marker\":{\"colorbar\":{\"outlinewidth\":0,\"ticks\":\"\"}},\"type\":\"scattermapbox\"}],\"scatterpolar\":[{\"marker\":{\"colorbar\":{\"outlinewidth\":0,\"ticks\":\"\"}},\"type\":\"scatterpolar\"}],\"scatterpolargl\":[{\"marker\":{\"colorbar\":{\"outlinewidth\":0,\"ticks\":\"\"}},\"type\":\"scatterpolargl\"}],\"scatterternary\":[{\"marker\":{\"colorbar\":{\"outlinewidth\":0,\"ticks\":\"\"}},\"type\":\"scatterternary\"}],\"surface\":[{\"colorbar\":{\"outlinewidth\":0,\"ticks\":\"\"},\"colorscale\":[[0.0,\"#0d0887\"],[0.1111111111111111,\"#46039f\"],[0.2222222222222222,\"#7201a8\"],[0.3333333333333333,\"#9c179e\"],[0.4444444444444444,\"#bd3786\"],[0.5555555555555556,\"#d8576b\"],[0.6666666666666666,\"#ed7953\"],[0.7777777777777778,\"#fb9f3a\"],[0.8888888888888888,\"#fdca26\"],[1.0,\"#f0f921\"]],\"type\":\"surface\"}],\"table\":[{\"cells\":{\"fill\":{\"color\":\"#EBF0F8\"},\"line\":{\"color\":\"white\"}},\"header\":{\"fill\":{\"color\":\"#C8D4E3\"},\"line\":{\"color\":\"white\"}},\"type\":\"table\"}]},\"layout\":{\"annotationdefaults\":{\"arrowcolor\":\"#2a3f5f\",\"arrowhead\":0,\"arrowwidth\":1},\"autotypenumbers\":\"strict\",\"coloraxis\":{\"colorbar\":{\"outlinewidth\":0,\"ticks\":\"\"}},\"colorscale\":{\"diverging\":[[0,\"#8e0152\"],[0.1,\"#c51b7d\"],[0.2,\"#de77ae\"],[0.3,\"#f1b6da\"],[0.4,\"#fde0ef\"],[0.5,\"#f7f7f7\"],[0.6,\"#e6f5d0\"],[0.7,\"#b8e186\"],[0.8,\"#7fbc41\"],[0.9,\"#4d9221\"],[1,\"#276419\"]],\"sequential\":[[0.0,\"#0d0887\"],[0.1111111111111111,\"#46039f\"],[0.2222222222222222,\"#7201a8\"],[0.3333333333333333,\"#9c179e\"],[0.4444444444444444,\"#bd3786\"],[0.5555555555555556,\"#d8576b\"],[0.6666666666666666,\"#ed7953\"],[0.7777777777777778,\"#fb9f3a\"],[0.8888888888888888,\"#fdca26\"],[1.0,\"#f0f921\"]],\"sequentialminus\":[[0.0,\"#0d0887\"],[0.1111111111111111,\"#46039f\"],[0.2222222222222222,\"#7201a8\"],[0.3333333333333333,\"#9c179e\"],[0.4444444444444444,\"#bd3786\"],[0.5555555555555556,\"#d8576b\"],[0.6666666666666666,\"#ed7953\"],[0.7777777777777778,\"#fb9f3a\"],[0.8888888888888888,\"#fdca26\"],[1.0,\"#f0f921\"]]},\"colorway\":[\"#636efa\",\"#EF553B\",\"#00cc96\",\"#ab63fa\",\"#FFA15A\",\"#19d3f3\",\"#FF6692\",\"#B6E880\",\"#FF97FF\",\"#FECB52\"],\"font\":{\"color\":\"#2a3f5f\"},\"geo\":{\"bgcolor\":\"white\",\"lakecolor\":\"white\",\"landcolor\":\"#E5ECF6\",\"showlakes\":true,\"showland\":true,\"subunitcolor\":\"white\"},\"hoverlabel\":{\"align\":\"left\"},\"hovermode\":\"closest\",\"mapbox\":{\"style\":\"light\"},\"paper_bgcolor\":\"white\",\"plot_bgcolor\":\"#E5ECF6\",\"polar\":{\"angularaxis\":{\"gridcolor\":\"white\",\"linecolor\":\"white\",\"ticks\":\"\"},\"bgcolor\":\"#E5ECF6\",\"radialaxis\":{\"gridcolor\":\"white\",\"linecolor\":\"white\",\"ticks\":\"\"}},\"scene\":{\"xaxis\":{\"backgroundcolor\":\"#E5ECF6\",\"gridcolor\":\"white\",\"gridwidth\":2,\"linecolor\":\"white\",\"showbackground\":true,\"ticks\":\"\",\"zerolinecolor\":\"white\"},\"yaxis\":{\"backgroundcolor\":\"#E5ECF6\",\"gridcolor\":\"white\",\"gridwidth\":2,\"linecolor\":\"white\",\"showbackground\":true,\"ticks\":\"\",\"zerolinecolor\":\"white\"},\"zaxis\":{\"backgroundcolor\":\"#E5ECF6\",\"gridcolor\":\"white\",\"gridwidth\":2,\"linecolor\":\"white\",\"showbackground\":true,\"ticks\":\"\",\"zerolinecolor\":\"white\"}},\"shapedefaults\":{\"line\":{\"color\":\"#2a3f5f\"}},\"ternary\":{\"aaxis\":{\"gridcolor\":\"white\",\"linecolor\":\"white\",\"ticks\":\"\"},\"baxis\":{\"gridcolor\":\"white\",\"linecolor\":\"white\",\"ticks\":\"\"},\"bgcolor\":\"#E5ECF6\",\"caxis\":{\"gridcolor\":\"white\",\"linecolor\":\"white\",\"ticks\":\"\"}},\"title\":{\"x\":0.05},\"xaxis\":{\"automargin\":true,\"gridcolor\":\"white\",\"linecolor\":\"white\",\"ticks\":\"\",\"title\":{\"standoff\":15},\"zerolinecolor\":\"white\",\"zerolinewidth\":2},\"yaxis\":{\"automargin\":true,\"gridcolor\":\"white\",\"linecolor\":\"white\",\"ticks\":\"\",\"title\":{\"standoff\":15},\"zerolinecolor\":\"white\",\"zerolinewidth\":2}}},\"font\":{\"family\":\"Courier New, monospace\",\"size\":12},\"title\":{\"text\":\"ML performance by model on wine data\"},\"xaxis\":{\"title\":{\"text\":\"Train error - validation error\"}},\"yaxis\":{\"title\":{\"text\":\"Validation MAE\"}},\"legend\":{\"title\":{\"text\":\"Model and fit type\"}},\"shapes\":[{\"line\":{\"color\":\"Purple\"},\"type\":\"line\",\"x0\":-0.3191223580341227,\"x1\":-0.061105050074143075,\"xref\":\"x\",\"y0\":0.42674999999999996,\"y1\":0.42674999999999996,\"yref\":\"y\"}],\"annotations\":[{\"arrowhead\":1,\"showarrow\":true,\"text\":\"Meilleur test score 0.42675\",\"x\":-0.3191223580341227,\"y\":0.42674999999999996}]},                        {\"responsive\": true}                    ).then(function(){\n",
       "                            \n",
       "var gd = document.getElementById('c558310d-76bf-4042-aaca-6f6ceb9ce9e9');\n",
       "var x = new MutationObserver(function (mutations, observer) {{\n",
       "        var display = window.getComputedStyle(gd).display;\n",
       "        if (!display || display === 'none') {{\n",
       "            console.log([gd, 'removed!']);\n",
       "            Plotly.purge(gd);\n",
       "            observer.disconnect();\n",
       "        }}\n",
       "}});\n",
       "\n",
       "// Listen for the removal of the full notebook cells\n",
       "var notebookContainer = gd.closest('#notebook-container');\n",
       "if (notebookContainer) {{\n",
       "    x.observe(notebookContainer, {childList: true});\n",
       "}}\n",
       "\n",
       "// Listen for the clearing of the current output cell\n",
       "var outputEl = gd.closest('.output');\n",
       "if (outputEl) {{\n",
       "    x.observe(outputEl, {childList: true});\n",
       "}}\n",
       "\n",
       "                        })                };                });            </script>        </div>"
      ]
     },
     "metadata": {},
     "output_type": "display_data"
    }
   ],
   "source": [
    "subset = scores.query(\"metric=='mae'\")\n",
    "fig = go.Figure()\n",
    "\n",
    "# Add traces\n",
    "show_anot = 0\n",
    "for ith, split in enumerate([\"train\", \"val\", \"test\"]):\n",
    "    temp = subset.query(\"data_split==@split\")\n",
    "    for i, kind in enumerate(temp[\"kind\"].unique()):\n",
    "        color = colors[i]\n",
    "        models = temp[temp[\"kind\"] == kind][\"model\"].values\n",
    "        fig.add_trace(\n",
    "            go.Scatter(\n",
    "                x=temp[temp[\"kind\"] == kind][\"difference\"],\n",
    "                y=temp[temp[\"kind\"] == kind][\"score\"],\n",
    "                mode=\"markers\",\n",
    "                name=split + \"_\" + kind,\n",
    "                marker=dict(\n",
    "                    size=14,\n",
    "                    symbol=symbols[ith],\n",
    "                    color=color,\n",
    "                    opacity=0.8,\n",
    "                    line=dict(width=1.5),\n",
    "                ),\n",
    "                text=models + \"_\" + kind,\n",
    "                hovertemplate=\"train error - val error: %{x} <br>SCORE: %{y} </br> MODEL :%{text}\",\n",
    "            )\n",
    "        )\n",
    "\n",
    "        if show_anot == 0:\n",
    "            fig.add_trace(\n",
    "                go.Scatter(\n",
    "                    x=temp[temp[\"kind\"] == kind][\"difference\"],\n",
    "                    y=temp[temp[\"kind\"] == kind][\"score\"] - 0.03,\n",
    "                    mode=\"text\",\n",
    "                    text=models + \"_\" + kind,\n",
    "                    textposition=\"bottom center\",\n",
    "                    showlegend=False,\n",
    "                )\n",
    "            )\n",
    "    show_anot += 1\n",
    "fig.update_layout(\n",
    "    title=f\"ML performance by model on {dataset} data\",\n",
    "    xaxis_title=\"Train error - validation error\",\n",
    "    yaxis_title=\"Validation MAE\",\n",
    "    legend_title=\"Model and fit type\",\n",
    "    font=dict(family=\"Courier New, monospace\", size=12),\n",
    ")\n",
    "\n",
    "best_score= np.min(subset.query(\"data_split=='test'\")['score'])\n",
    "\n",
    "fig.add_shape(type='line',\n",
    "                x0=np.min(subset['difference']),\n",
    "                y0=best_score,\n",
    "                y1=best_score,\n",
    "                x1=np.max(subset['difference']),\n",
    "                line=dict(color='Purple',),\n",
    "                xref='x',\n",
    "                yref='y'\n",
    "                \n",
    ")\n",
    "fig.add_annotation(text= f\"Meilleur test score {np.round(best_score,6)}\",\n",
    "                  x=np.min(subset['difference']), y=best_score, showarrow=True,arrowhead=1)\n",
    "\n",
    "fig.show()"
   ]
  },
  {
   "cell_type": "markdown",
   "id": "b4ab207b-1dfc-415f-be27-f4a03e6bbe68",
   "metadata": {},
   "source": [
    "Les résultats pour le mean absolute error sont très bons. \n",
    "\n",
    "Cette fois-ci ce sont les modèles RF qui obtiennent les meilleurs scores MAE (ils sont aussi ceux qui ont le plus *overfit*).\n",
    "\n",
    "Il semblerait que le modèle SVM avec *tuning* propose un bon équilibre entre généralisation (*low variance*) et faible *bias*. "
   ]
  },
  {
   "cell_type": "markdown",
   "id": "5a481405-86ca-445a-95d2-fe8fb4556117",
   "metadata": {},
   "source": [
    "On s'interesse actuellement aux paramètres qui ont maximisé (ou minimisé) nos scores.\n",
    "\n",
    "D'abord, nous prenons les 4 modèles avec le moins d'overfitting rmsle: \n"
   ]
  },
  {
   "cell_type": "code",
   "execution_count": 52,
   "id": "691e618f-4eeb-461d-a176-edc58f5c6076",
   "metadata": {},
   "outputs": [],
   "source": [
    "scores[\"abs_difference\"]= np.abs(scores[\"difference\"])\n",
    "scores.sort_values(\"abs_difference\", inplace=True)\n",
    "best_models= scores.query(\"data_split=='test'\")[\"raw_path\"][:5]"
   ]
  },
  {
   "cell_type": "markdown",
   "id": "47dde384-83d2-499e-a5bc-348fb7d9fd0b",
   "metadata": {},
   "source": [
    "Comme nous l'avons vu grâce aux graphiques, les meilleurs modèles sont: \n",
    "- MLP avec et sans *parameter tuning*\n",
    "- RF avec *parameter tuning*\n",
    "- SVM avec *parameter tuning*\n",
    "\n",
    "Ces modèles correspondent aux modèles au centre du premier graphique."
   ]
  },
  {
   "cell_type": "code",
   "execution_count": 53,
   "id": "acbd3d7c-4aaf-454e-94da-ab27c2dd020b",
   "metadata": {},
   "outputs": [
    {
     "name": "stdout",
     "output_type": "stream",
     "text": [
      "--- Best models ---\n",
      "169    mlp_wine_grid_mae_True_-0.01541_06-02-2022_16_...\n",
      "174    svm_wine_grid_misclassification_True_-0.0119_0...\n",
      "203    mlp_wine_baseline_mae_True_-0.01541_06-02-2022...\n",
      "214    svm_wine_baseline_misclassification_True_-0.01...\n",
      "240    xgb_wine_grid_reg_squarederror_True_-0.01125_0...\n",
      "Name: raw_path, dtype: object\n"
     ]
    }
   ],
   "source": [
    "print(\"--- Best models ---\")\n",
    "print(best_models)"
   ]
  },
  {
   "cell_type": "markdown",
   "id": "4e50e738-5417-4fa5-8731-766902028dbd",
   "metadata": {},
   "source": [
    "Voici les parametres de chaque modèle "
   ]
  },
  {
   "cell_type": "code",
   "execution_count": 54,
   "id": "2483220b-c765-4eb9-b95e-da2492de1496",
   "metadata": {},
   "outputs": [
    {
     "name": "stdout",
     "output_type": "stream",
     "text": [
      "mlp_wine_grid_mae_True_-0.01541_06-02-2022_16_08_54.pkl\n",
      "{'activation': 'tanh', 'alpha': 0.05, 'batch_size': 'auto', 'beta_1': 0.9, 'beta_2': 0.999, 'early_stopping': True, 'epsilon': 1e-08, 'hidden_layer_sizes': (100,), 'learning_rate': 'constant', 'learning_rate_init': 0.001, 'max_fun': 15000, 'max_iter': 3000, 'momentum': 0.9, 'n_iter_no_change': 10, 'nesterovs_momentum': True, 'power_t': 0.5, 'random_state': 123, 'shuffle': True, 'solver': 'adam', 'tol': 0.0001, 'validation_fraction': 0.1, 'verbose': False, 'warm_start': False}\n",
      "\n",
      "\n",
      "svm_wine_grid_misclassification_True_-0.0119_06-02-2022_16_08_54.pkl\n",
      "{'C': 0.5, 'cache_size': 200, 'coef0': 0.0, 'degree': 3, 'epsilon': 0.1, 'gamma': 'scale', 'kernel': 'rbf', 'max_iter': -1, 'shrinking': True, 'tol': 0.001, 'verbose': False}\n",
      "\n",
      "\n",
      "mlp_wine_baseline_mae_True_-0.01541_06-02-2022_16_08_54.pkl\n",
      "{'activation': 'relu', 'alpha': 0.0001, 'batch_size': 'auto', 'beta_1': 0.9, 'beta_2': 0.999, 'early_stopping': True, 'epsilon': 1e-08, 'hidden_layer_sizes': (100,), 'learning_rate': 'constant', 'learning_rate_init': 0.001, 'max_fun': 15000, 'max_iter': 3000, 'momentum': 0.9, 'n_iter_no_change': 10, 'nesterovs_momentum': True, 'power_t': 0.5, 'random_state': 123, 'shuffle': True, 'solver': 'adam', 'tol': 0.0001, 'validation_fraction': 0.1, 'verbose': False, 'warm_start': False}\n",
      "\n",
      "\n",
      "svm_wine_baseline_misclassification_True_-0.0119_06-02-2022_16_08_54.pkl\n",
      "{'C': 1.0, 'cache_size': 200, 'coef0': 0.0, 'degree': 3, 'epsilon': 0.1, 'gamma': 'scale', 'kernel': 'rbf', 'max_iter': -1, 'shrinking': True, 'tol': 0.001, 'verbose': False}\n",
      "\n",
      "\n",
      "xgb_wine_grid_reg_squarederror_True_-0.01125_06-02-2022_16_08_54.pkl\n",
      "{'objective': 'reg:squarederror', 'base_score': 0.5, 'booster': 'gbtree', 'colsample_bylevel': 1, 'colsample_bynode': 1, 'colsample_bytree': 0.8, 'enable_categorical': False, 'gamma': 0.08, 'gpu_id': -1, 'importance_type': None, 'interaction_constraints': '', 'learning_rate': 0.02, 'max_delta_step': 0, 'max_depth': 5, 'min_child_weight': 5, 'missing': nan, 'monotone_constraints': '()', 'n_estimators': 700, 'n_jobs': 1, 'num_parallel_tree': 1, 'predictor': 'auto', 'random_state': 0, 'reg_alpha': 0, 'reg_lambda': 0, 'scale_pos_weight': 1, 'subsample': 0.8, 'tree_method': 'exact', 'validate_parameters': 1, 'verbosity': None, 'lambda': 0}\n",
      "\n",
      "\n"
     ]
    }
   ],
   "source": [
    "for model_to_query in best_models:\n",
    "    print(model_to_query)\n",
    "    print(loaded_models.get(model_to_query).get(\"model\").get_params())\n",
    "    print(\"\\n\")"
   ]
  },
  {
   "cell_type": "markdown",
   "id": "59af8a3f-dc17-4b04-bdce-f684ebcc75be",
   "metadata": {},
   "source": [
    "En ordre:\n",
    "- MLP :\n",
    "    * Le modèle avec *tuning* utilise des activations tanh (vs relu par le baseline).\n",
    "    * Le modèle avec tuning a utilisé 1 couche intermédiare avec 100 neurones. C'est aussi le choix par défaut.\n",
    "    * Adam est le *solver* qui minimise l'erreur pour les deux modèles (SGD était l'autre option).\n",
    "    * Le modèle avec tuning comporte une plus forte L2 régularisation que le modèle baseline.\n",
    "- XGBOOST avec *tuning*:\n",
    "    * Le tuning a priorisé des arbres moyens (5 divisions)\n",
    "    * 100 arbres ont étaient estimés. \n",
    "    * Un paramètre de min_child_weight = 5 limite l'overfitting.\n",
    "    * Par contre une régularisation L2 lambda de 0.\n",
    "    * Les features sont sélectionnées aléatoirement (colsample_bytree =0.8)\n",
    "    \n",
    "- SVR avec et sans *tuning*:\n",
    "    * La régularisation très faible C=40 (a différence du paramètre pour les données house). Le modèle accepte donc des marges très larges. \n",
    "    * Le meilleur kernel a été le kernel radial (à différence du linéaire pour les données house). "
   ]
  },
  {
   "cell_type": "markdown",
   "id": "2783c10f-4732-4986-8d32-549989008e92",
   "metadata": {},
   "source": [
    "### XGBOOST PERFORMANCE BY STEP"
   ]
  },
  {
   "cell_type": "code",
   "execution_count": 80,
   "id": "5871cc8b-3a2d-413a-96c5-0de92d0688fe",
   "metadata": {},
   "outputs": [
    {
     "data": {
      "text/markdown": [
       "Nous voyons que le early stopping a fonctionné. En effet, le booster a été initialisé avec 600 pas (steps), mais en réalité il en a effectué que 384.<br> Ce qui veut dire que la meilleure itération n'est pas la dernière: l'erreur minimale avec les données de validation a été obtenue à l'itération 373"
      ],
      "text/plain": [
       "<IPython.core.display.Markdown object>"
      ]
     },
     "execution_count": 80,
     "metadata": {},
     "output_type": "execute_result"
    }
   ],
   "source": [
    "xgboost_grid= loaded_models.get(best_models.tolist()[4]).get(\"model\")\n",
    "val_metrics= xgboost_grid.evals_result()['validation_0'][\"rmsle\"]\n",
    "nboosted=len(val_metrics)\n",
    "best_iter=xgboost_grid.best_iteration\n",
    "best_score = xgboost_grid.best_score\n",
    "md(f\"Nous voyons que le early stopping a fonctionné. En effet, le booster a été initialisé avec 600 pas (steps), mais en réalité il en a effectué que {nboosted}.<br> \\\n",
    "Ce qui veut dire que la meilleure itération n'est pas la dernière: l'erreur minimale avec les données de validation a été obtenue à l'itération {best_iter}\")"
   ]
  },
  {
   "cell_type": "code",
   "execution_count": 84,
   "id": "8844b503-691b-4f6f-94fc-b5cb830382f6",
   "metadata": {},
   "outputs": [
    {
     "data": {
      "application/vnd.plotly.v1+json": {
       "config": {
        "plotlyServerURL": "https://plot.ly"
       },
       "data": [
        {
         "mode": "lines",
         "name": "train",
         "type": "scatter",
         "y": [
          1.416004,
          1.355127,
          1.29892,
          1.246729,
          1.198146,
          1.152818,
          1.110334,
          1.07048,
          1.032739,
          0.9972,
          0.96354,
          0.931687,
          0.901415,
          0.872591,
          0.845132,
          0.819032,
          0.794058,
          0.770164,
          0.747229,
          0.725433,
          0.704619,
          0.684599,
          0.665231,
          0.646694,
          0.628861,
          0.611676,
          0.595081,
          0.579089,
          0.563689,
          0.548794,
          0.534432,
          0.520701,
          0.507432,
          0.494447,
          0.48196,
          0.469932,
          0.458242,
          0.446927,
          0.435917,
          0.425284,
          0.415016,
          0.405116,
          0.395489,
          0.386113,
          0.377021,
          0.36815,
          0.359615,
          0.351315,
          0.343247,
          0.33544,
          0.327818,
          0.320465,
          0.313289,
          0.306297,
          0.29947,
          0.292845,
          0.286381,
          0.280209,
          0.274165,
          0.268255,
          0.262458,
          0.256905,
          0.251433,
          0.246189,
          0.241071,
          0.236081,
          0.231147,
          0.226432,
          0.221841,
          0.217363,
          0.213014,
          0.208746,
          0.204596,
          0.200584,
          0.196653,
          0.192827,
          0.189151,
          0.185548,
          0.182037,
          0.178642,
          0.175304,
          0.172032,
          0.168824,
          0.165751,
          0.162777,
          0.159884,
          0.157056,
          0.154246,
          0.151502,
          0.148889,
          0.14634,
          0.143906,
          0.141517,
          0.139174,
          0.136929,
          0.134739,
          0.132577,
          0.13047,
          0.128418,
          0.126427,
          0.12449,
          0.122578,
          0.120751,
          0.11897,
          0.117251,
          0.1156,
          0.113948,
          0.112384,
          0.110828,
          0.109293,
          0.107819,
          0.106392,
          0.105052,
          0.103739,
          0.102516,
          0.101233,
          0.1,
          0.098803,
          0.097644,
          0.096554,
          0.09549,
          0.094443,
          0.093434,
          0.092421,
          0.091483,
          0.090557,
          0.089612,
          0.088696,
          0.087787,
          0.086996,
          0.086146,
          0.085388,
          0.084596,
          0.083812,
          0.083057,
          0.08236,
          0.081698,
          0.081,
          0.080399,
          0.079799,
          0.079212,
          0.078667,
          0.078057,
          0.077471,
          0.076949,
          0.07647,
          0.076027,
          0.07553,
          0.075071,
          0.074654,
          0.074233,
          0.073807,
          0.073364,
          0.072949,
          0.07258,
          0.072226,
          0.071919,
          0.071557,
          0.071264,
          0.070928,
          0.070605,
          0.070338,
          0.070045,
          0.06981,
          0.069533,
          0.069218,
          0.068971,
          0.068704,
          0.068476,
          0.068226,
          0.067903,
          0.067712,
          0.067461,
          0.06723,
          0.067037,
          0.066878,
          0.066644,
          0.066397,
          0.066192,
          0.066034,
          0.065882,
          0.06564,
          0.0655,
          0.065356,
          0.065158,
          0.06495,
          0.064789,
          0.064595,
          0.064453,
          0.064336,
          0.064225,
          0.064078,
          0.063945,
          0.063856,
          0.063717,
          0.063603,
          0.063509,
          0.063379,
          0.06323,
          0.063106,
          0.063019,
          0.062941,
          0.062828,
          0.062736,
          0.062617,
          0.062556,
          0.062431,
          0.062369,
          0.06225,
          0.062172,
          0.062097,
          0.06201,
          0.061916,
          0.061792,
          0.061612,
          0.061525,
          0.061403,
          0.061335,
          0.061267,
          0.061167,
          0.061053,
          0.060953,
          0.06086,
          0.060815,
          0.060755,
          0.060647,
          0.060562,
          0.060478,
          0.060402,
          0.060349,
          0.060222,
          0.060125,
          0.060065,
          0.060035,
          0.059946,
          0.059868,
          0.059803,
          0.059721,
          0.059689,
          0.059595,
          0.05955,
          0.059515,
          0.059448,
          0.059364,
          0.05929,
          0.059239,
          0.059169,
          0.059053,
          0.058942,
          0.058888,
          0.058852,
          0.058729,
          0.058681,
          0.058617,
          0.058552,
          0.058505,
          0.058442,
          0.058322,
          0.058282,
          0.058225,
          0.058193,
          0.058097,
          0.05805,
          0.05802,
          0.057938,
          0.057831,
          0.057785,
          0.057686,
          0.057603,
          0.057503,
          0.057456,
          0.057411,
          0.057324,
          0.057252,
          0.057215,
          0.057197,
          0.057141,
          0.057057,
          0.05703,
          0.056952,
          0.056881,
          0.056814,
          0.056776,
          0.056694,
          0.056653,
          0.056593,
          0.056567,
          0.056482,
          0.056378,
          0.05635,
          0.056305,
          0.056268,
          0.056166,
          0.056068,
          0.05602,
          0.055942,
          0.055855,
          0.055766,
          0.055682,
          0.055652,
          0.05552,
          0.055472,
          0.055425,
          0.055394,
          0.055358,
          0.055261,
          0.055169,
          0.055154,
          0.055134,
          0.055114,
          0.055033,
          0.054953,
          0.054916,
          0.054823,
          0.054765,
          0.054746,
          0.054701,
          0.054612,
          0.05452,
          0.054491,
          0.054407,
          0.05434,
          0.054256,
          0.054228,
          0.05418,
          0.054151,
          0.054107,
          0.054059,
          0.054021,
          0.053987,
          0.053952,
          0.053856,
          0.053834,
          0.053742,
          0.053695,
          0.0536,
          0.053571,
          0.053504,
          0.053437,
          0.053354,
          0.053306,
          0.053227,
          0.053172,
          0.053133,
          0.053051,
          0.052942,
          0.05285,
          0.052786,
          0.052688,
          0.052655,
          0.052603,
          0.052528,
          0.052409,
          0.052327,
          0.052291,
          0.052193,
          0.052147,
          0.052124,
          0.052097,
          0.05201,
          0.051961,
          0.051905,
          0.051861,
          0.051777,
          0.051708,
          0.051656,
          0.051607,
          0.051581,
          0.051547,
          0.051484,
          0.051424,
          0.051333,
          0.051254,
          0.051169,
          0.051101,
          0.05108,
          0.051047,
          0.050969,
          0.05095,
          0.050911,
          0.05087,
          0.050841,
          0.050804,
          0.050741
         ]
        },
        {
         "mode": "lines",
         "name": "validation",
         "type": "scatter",
         "y": [
          1.428485,
          1.36788,
          1.312401,
          1.260683,
          1.212213,
          1.16683,
          1.124537,
          1.084948,
          1.047251,
          1.011565,
          0.978058,
          0.946327,
          0.916128,
          0.887219,
          0.859874,
          0.833718,
          0.809113,
          0.785572,
          0.763029,
          0.741439,
          0.720797,
          0.700866,
          0.681507,
          0.66318,
          0.645572,
          0.628551,
          0.612077,
          0.596165,
          0.581018,
          0.566133,
          0.551846,
          0.538398,
          0.525221,
          0.512499,
          0.500098,
          0.488282,
          0.476755,
          0.465639,
          0.454746,
          0.444199,
          0.434094,
          0.424286,
          0.414907,
          0.405718,
          0.396733,
          0.388028,
          0.37972,
          0.371622,
          0.363588,
          0.356007,
          0.348662,
          0.341443,
          0.334385,
          0.327504,
          0.320843,
          0.314364,
          0.308063,
          0.302104,
          0.296171,
          0.290365,
          0.284736,
          0.279496,
          0.274227,
          0.269239,
          0.264354,
          0.259565,
          0.254828,
          0.25033,
          0.24596,
          0.241715,
          0.237557,
          0.233521,
          0.229692,
          0.225889,
          0.222153,
          0.218552,
          0.215065,
          0.211686,
          0.208355,
          0.205214,
          0.20219,
          0.199097,
          0.196117,
          0.193242,
          0.190485,
          0.187865,
          0.185347,
          0.182839,
          0.180319,
          0.177944,
          0.175618,
          0.173421,
          0.171306,
          0.16923,
          0.167257,
          0.165365,
          0.163506,
          0.161607,
          0.159758,
          0.157894,
          0.156226,
          0.154522,
          0.152866,
          0.151265,
          0.149839,
          0.148347,
          0.14697,
          0.14568,
          0.144383,
          0.143028,
          0.141756,
          0.140542,
          0.139375,
          0.138274,
          0.137279,
          0.136177,
          0.13515,
          0.134251,
          0.133408,
          0.132526,
          0.131661,
          0.130782,
          0.129942,
          0.129147,
          0.128409,
          0.12769,
          0.12692,
          0.126193,
          0.125453,
          0.124746,
          0.124119,
          0.123624,
          0.123029,
          0.122401,
          0.121829,
          0.121357,
          0.120781,
          0.120273,
          0.119829,
          0.119375,
          0.118927,
          0.118476,
          0.117991,
          0.117566,
          0.117249,
          0.116892,
          0.116551,
          0.116199,
          0.115864,
          0.11556,
          0.115256,
          0.114968,
          0.114639,
          0.114357,
          0.11409,
          0.113891,
          0.113706,
          0.113505,
          0.113309,
          0.112978,
          0.112737,
          0.112558,
          0.112366,
          0.112164,
          0.111985,
          0.111738,
          0.111569,
          0.111369,
          0.111237,
          0.111114,
          0.110905,
          0.110739,
          0.110617,
          0.110422,
          0.110255,
          0.110171,
          0.110028,
          0.109821,
          0.109718,
          0.109586,
          0.109493,
          0.109353,
          0.109232,
          0.109128,
          0.109025,
          0.108844,
          0.108731,
          0.108647,
          0.108562,
          0.108511,
          0.108468,
          0.108393,
          0.108374,
          0.108273,
          0.108203,
          0.10811,
          0.108058,
          0.107964,
          0.107892,
          0.107792,
          0.107733,
          0.107668,
          0.107611,
          0.107586,
          0.107522,
          0.107473,
          0.107453,
          0.107395,
          0.107333,
          0.10727,
          0.107205,
          0.107166,
          0.107141,
          0.107062,
          0.107013,
          0.106992,
          0.106931,
          0.106916,
          0.106865,
          0.106811,
          0.106764,
          0.106703,
          0.10663,
          0.106622,
          0.106627,
          0.106577,
          0.106523,
          0.106498,
          0.106492,
          0.106453,
          0.106401,
          0.106329,
          0.106325,
          0.106338,
          0.106335,
          0.106321,
          0.106283,
          0.106265,
          0.106239,
          0.106219,
          0.106206,
          0.106223,
          0.106217,
          0.106173,
          0.106134,
          0.106155,
          0.106139,
          0.106119,
          0.106122,
          0.106161,
          0.106148,
          0.106104,
          0.10612,
          0.106062,
          0.106068,
          0.106051,
          0.106044,
          0.105982,
          0.106001,
          0.105973,
          0.105959,
          0.105895,
          0.105876,
          0.105833,
          0.105831,
          0.10575,
          0.105774,
          0.105756,
          0.105734,
          0.105756,
          0.105739,
          0.105726,
          0.105725,
          0.105731,
          0.105722,
          0.105742,
          0.105717,
          0.105658,
          0.105669,
          0.105688,
          0.105682,
          0.105646,
          0.10567,
          0.10566,
          0.105664,
          0.105695,
          0.105687,
          0.105639,
          0.105665,
          0.105636,
          0.105629,
          0.105593,
          0.105556,
          0.105528,
          0.105532,
          0.105538,
          0.105523,
          0.105511,
          0.10551,
          0.105507,
          0.105529,
          0.10553,
          0.105552,
          0.105529,
          0.105528,
          0.105495,
          0.105484,
          0.105472,
          0.105468,
          0.105483,
          0.105466,
          0.105449,
          0.105448,
          0.105474,
          0.1055,
          0.105501,
          0.105485,
          0.105538,
          0.105495,
          0.10548,
          0.105508,
          0.105471,
          0.105442,
          0.10546,
          0.105469,
          0.105479,
          0.105441,
          0.105466,
          0.105431,
          0.105415,
          0.105423,
          0.105404,
          0.10538,
          0.105397,
          0.105368,
          0.105359,
          0.105342,
          0.105331,
          0.105305,
          0.105284,
          0.105282,
          0.105231,
          0.105221,
          0.105232,
          0.105244,
          0.105229,
          0.105235,
          0.105236,
          0.105273,
          0.105281,
          0.105287,
          0.10526,
          0.105174,
          0.105175,
          0.105186,
          0.10516,
          0.105162,
          0.105155,
          0.105145,
          0.105129,
          0.105128,
          0.105096,
          0.105131,
          0.105124,
          0.105141,
          0.105118,
          0.105086,
          0.105122,
          0.105112,
          0.105131,
          0.105146,
          0.105093,
          0.105119,
          0.105083,
          0.105109,
          0.105111,
          0.105127,
          0.105125,
          0.105164,
          0.105144,
          0.10514,
          0.105162,
          0.105174,
          0.105168
         ]
        }
       ],
       "layout": {
        "annotations": [
         {
          "arrowhead": 1,
          "ax": -60,
          "ay": -30,
          "showarrow": true,
          "text": "Last best iteration",
          "x": 373,
          "y": 1.105083
         }
        ],
        "autosize": true,
        "font": {
         "family": "Courier New, monospace",
         "size": 12
        },
        "legend": {
         "title": {
          "text": "Data split "
         }
        },
        "shapes": [
         {
          "line": {
           "color": "green",
           "dash": "dash",
           "width": 3
          },
          "type": "line",
          "x0": 373,
          "x1": 373,
          "xref": "x",
          "y0": 0,
          "y1": 1,
          "yref": "y domain"
         }
        ],
        "template": {
         "data": {
          "bar": [
           {
            "error_x": {
             "color": "#2a3f5f"
            },
            "error_y": {
             "color": "#2a3f5f"
            },
            "marker": {
             "line": {
              "color": "#E5ECF6",
              "width": 0.5
             },
             "pattern": {
              "fillmode": "overlay",
              "size": 10,
              "solidity": 0.2
             }
            },
            "type": "bar"
           }
          ],
          "barpolar": [
           {
            "marker": {
             "line": {
              "color": "#E5ECF6",
              "width": 0.5
             },
             "pattern": {
              "fillmode": "overlay",
              "size": 10,
              "solidity": 0.2
             }
            },
            "type": "barpolar"
           }
          ],
          "carpet": [
           {
            "aaxis": {
             "endlinecolor": "#2a3f5f",
             "gridcolor": "white",
             "linecolor": "white",
             "minorgridcolor": "white",
             "startlinecolor": "#2a3f5f"
            },
            "baxis": {
             "endlinecolor": "#2a3f5f",
             "gridcolor": "white",
             "linecolor": "white",
             "minorgridcolor": "white",
             "startlinecolor": "#2a3f5f"
            },
            "type": "carpet"
           }
          ],
          "choropleth": [
           {
            "colorbar": {
             "outlinewidth": 0,
             "ticks": ""
            },
            "type": "choropleth"
           }
          ],
          "contour": [
           {
            "colorbar": {
             "outlinewidth": 0,
             "ticks": ""
            },
            "colorscale": [
             [
              0,
              "#0d0887"
             ],
             [
              0.1111111111111111,
              "#46039f"
             ],
             [
              0.2222222222222222,
              "#7201a8"
             ],
             [
              0.3333333333333333,
              "#9c179e"
             ],
             [
              0.4444444444444444,
              "#bd3786"
             ],
             [
              0.5555555555555556,
              "#d8576b"
             ],
             [
              0.6666666666666666,
              "#ed7953"
             ],
             [
              0.7777777777777778,
              "#fb9f3a"
             ],
             [
              0.8888888888888888,
              "#fdca26"
             ],
             [
              1,
              "#f0f921"
             ]
            ],
            "type": "contour"
           }
          ],
          "contourcarpet": [
           {
            "colorbar": {
             "outlinewidth": 0,
             "ticks": ""
            },
            "type": "contourcarpet"
           }
          ],
          "heatmap": [
           {
            "colorbar": {
             "outlinewidth": 0,
             "ticks": ""
            },
            "colorscale": [
             [
              0,
              "#0d0887"
             ],
             [
              0.1111111111111111,
              "#46039f"
             ],
             [
              0.2222222222222222,
              "#7201a8"
             ],
             [
              0.3333333333333333,
              "#9c179e"
             ],
             [
              0.4444444444444444,
              "#bd3786"
             ],
             [
              0.5555555555555556,
              "#d8576b"
             ],
             [
              0.6666666666666666,
              "#ed7953"
             ],
             [
              0.7777777777777778,
              "#fb9f3a"
             ],
             [
              0.8888888888888888,
              "#fdca26"
             ],
             [
              1,
              "#f0f921"
             ]
            ],
            "type": "heatmap"
           }
          ],
          "heatmapgl": [
           {
            "colorbar": {
             "outlinewidth": 0,
             "ticks": ""
            },
            "colorscale": [
             [
              0,
              "#0d0887"
             ],
             [
              0.1111111111111111,
              "#46039f"
             ],
             [
              0.2222222222222222,
              "#7201a8"
             ],
             [
              0.3333333333333333,
              "#9c179e"
             ],
             [
              0.4444444444444444,
              "#bd3786"
             ],
             [
              0.5555555555555556,
              "#d8576b"
             ],
             [
              0.6666666666666666,
              "#ed7953"
             ],
             [
              0.7777777777777778,
              "#fb9f3a"
             ],
             [
              0.8888888888888888,
              "#fdca26"
             ],
             [
              1,
              "#f0f921"
             ]
            ],
            "type": "heatmapgl"
           }
          ],
          "histogram": [
           {
            "marker": {
             "pattern": {
              "fillmode": "overlay",
              "size": 10,
              "solidity": 0.2
             }
            },
            "type": "histogram"
           }
          ],
          "histogram2d": [
           {
            "colorbar": {
             "outlinewidth": 0,
             "ticks": ""
            },
            "colorscale": [
             [
              0,
              "#0d0887"
             ],
             [
              0.1111111111111111,
              "#46039f"
             ],
             [
              0.2222222222222222,
              "#7201a8"
             ],
             [
              0.3333333333333333,
              "#9c179e"
             ],
             [
              0.4444444444444444,
              "#bd3786"
             ],
             [
              0.5555555555555556,
              "#d8576b"
             ],
             [
              0.6666666666666666,
              "#ed7953"
             ],
             [
              0.7777777777777778,
              "#fb9f3a"
             ],
             [
              0.8888888888888888,
              "#fdca26"
             ],
             [
              1,
              "#f0f921"
             ]
            ],
            "type": "histogram2d"
           }
          ],
          "histogram2dcontour": [
           {
            "colorbar": {
             "outlinewidth": 0,
             "ticks": ""
            },
            "colorscale": [
             [
              0,
              "#0d0887"
             ],
             [
              0.1111111111111111,
              "#46039f"
             ],
             [
              0.2222222222222222,
              "#7201a8"
             ],
             [
              0.3333333333333333,
              "#9c179e"
             ],
             [
              0.4444444444444444,
              "#bd3786"
             ],
             [
              0.5555555555555556,
              "#d8576b"
             ],
             [
              0.6666666666666666,
              "#ed7953"
             ],
             [
              0.7777777777777778,
              "#fb9f3a"
             ],
             [
              0.8888888888888888,
              "#fdca26"
             ],
             [
              1,
              "#f0f921"
             ]
            ],
            "type": "histogram2dcontour"
           }
          ],
          "mesh3d": [
           {
            "colorbar": {
             "outlinewidth": 0,
             "ticks": ""
            },
            "type": "mesh3d"
           }
          ],
          "parcoords": [
           {
            "line": {
             "colorbar": {
              "outlinewidth": 0,
              "ticks": ""
             }
            },
            "type": "parcoords"
           }
          ],
          "pie": [
           {
            "automargin": true,
            "type": "pie"
           }
          ],
          "scatter": [
           {
            "marker": {
             "colorbar": {
              "outlinewidth": 0,
              "ticks": ""
             }
            },
            "type": "scatter"
           }
          ],
          "scatter3d": [
           {
            "line": {
             "colorbar": {
              "outlinewidth": 0,
              "ticks": ""
             }
            },
            "marker": {
             "colorbar": {
              "outlinewidth": 0,
              "ticks": ""
             }
            },
            "type": "scatter3d"
           }
          ],
          "scattercarpet": [
           {
            "marker": {
             "colorbar": {
              "outlinewidth": 0,
              "ticks": ""
             }
            },
            "type": "scattercarpet"
           }
          ],
          "scattergeo": [
           {
            "marker": {
             "colorbar": {
              "outlinewidth": 0,
              "ticks": ""
             }
            },
            "type": "scattergeo"
           }
          ],
          "scattergl": [
           {
            "marker": {
             "colorbar": {
              "outlinewidth": 0,
              "ticks": ""
             }
            },
            "type": "scattergl"
           }
          ],
          "scattermapbox": [
           {
            "marker": {
             "colorbar": {
              "outlinewidth": 0,
              "ticks": ""
             }
            },
            "type": "scattermapbox"
           }
          ],
          "scatterpolar": [
           {
            "marker": {
             "colorbar": {
              "outlinewidth": 0,
              "ticks": ""
             }
            },
            "type": "scatterpolar"
           }
          ],
          "scatterpolargl": [
           {
            "marker": {
             "colorbar": {
              "outlinewidth": 0,
              "ticks": ""
             }
            },
            "type": "scatterpolargl"
           }
          ],
          "scatterternary": [
           {
            "marker": {
             "colorbar": {
              "outlinewidth": 0,
              "ticks": ""
             }
            },
            "type": "scatterternary"
           }
          ],
          "surface": [
           {
            "colorbar": {
             "outlinewidth": 0,
             "ticks": ""
            },
            "colorscale": [
             [
              0,
              "#0d0887"
             ],
             [
              0.1111111111111111,
              "#46039f"
             ],
             [
              0.2222222222222222,
              "#7201a8"
             ],
             [
              0.3333333333333333,
              "#9c179e"
             ],
             [
              0.4444444444444444,
              "#bd3786"
             ],
             [
              0.5555555555555556,
              "#d8576b"
             ],
             [
              0.6666666666666666,
              "#ed7953"
             ],
             [
              0.7777777777777778,
              "#fb9f3a"
             ],
             [
              0.8888888888888888,
              "#fdca26"
             ],
             [
              1,
              "#f0f921"
             ]
            ],
            "type": "surface"
           }
          ],
          "table": [
           {
            "cells": {
             "fill": {
              "color": "#EBF0F8"
             },
             "line": {
              "color": "white"
             }
            },
            "header": {
             "fill": {
              "color": "#C8D4E3"
             },
             "line": {
              "color": "white"
             }
            },
            "type": "table"
           }
          ]
         },
         "layout": {
          "annotationdefaults": {
           "arrowcolor": "#2a3f5f",
           "arrowhead": 0,
           "arrowwidth": 1
          },
          "autotypenumbers": "strict",
          "coloraxis": {
           "colorbar": {
            "outlinewidth": 0,
            "ticks": ""
           }
          },
          "colorscale": {
           "diverging": [
            [
             0,
             "#8e0152"
            ],
            [
             0.1,
             "#c51b7d"
            ],
            [
             0.2,
             "#de77ae"
            ],
            [
             0.3,
             "#f1b6da"
            ],
            [
             0.4,
             "#fde0ef"
            ],
            [
             0.5,
             "#f7f7f7"
            ],
            [
             0.6,
             "#e6f5d0"
            ],
            [
             0.7,
             "#b8e186"
            ],
            [
             0.8,
             "#7fbc41"
            ],
            [
             0.9,
             "#4d9221"
            ],
            [
             1,
             "#276419"
            ]
           ],
           "sequential": [
            [
             0,
             "#0d0887"
            ],
            [
             0.1111111111111111,
             "#46039f"
            ],
            [
             0.2222222222222222,
             "#7201a8"
            ],
            [
             0.3333333333333333,
             "#9c179e"
            ],
            [
             0.4444444444444444,
             "#bd3786"
            ],
            [
             0.5555555555555556,
             "#d8576b"
            ],
            [
             0.6666666666666666,
             "#ed7953"
            ],
            [
             0.7777777777777778,
             "#fb9f3a"
            ],
            [
             0.8888888888888888,
             "#fdca26"
            ],
            [
             1,
             "#f0f921"
            ]
           ],
           "sequentialminus": [
            [
             0,
             "#0d0887"
            ],
            [
             0.1111111111111111,
             "#46039f"
            ],
            [
             0.2222222222222222,
             "#7201a8"
            ],
            [
             0.3333333333333333,
             "#9c179e"
            ],
            [
             0.4444444444444444,
             "#bd3786"
            ],
            [
             0.5555555555555556,
             "#d8576b"
            ],
            [
             0.6666666666666666,
             "#ed7953"
            ],
            [
             0.7777777777777778,
             "#fb9f3a"
            ],
            [
             0.8888888888888888,
             "#fdca26"
            ],
            [
             1,
             "#f0f921"
            ]
           ]
          },
          "colorway": [
           "#636efa",
           "#EF553B",
           "#00cc96",
           "#ab63fa",
           "#FFA15A",
           "#19d3f3",
           "#FF6692",
           "#B6E880",
           "#FF97FF",
           "#FECB52"
          ],
          "font": {
           "color": "#2a3f5f"
          },
          "geo": {
           "bgcolor": "white",
           "lakecolor": "white",
           "landcolor": "#E5ECF6",
           "showlakes": true,
           "showland": true,
           "subunitcolor": "white"
          },
          "hoverlabel": {
           "align": "left"
          },
          "hovermode": "closest",
          "mapbox": {
           "style": "light"
          },
          "paper_bgcolor": "white",
          "plot_bgcolor": "#E5ECF6",
          "polar": {
           "angularaxis": {
            "gridcolor": "white",
            "linecolor": "white",
            "ticks": ""
           },
           "bgcolor": "#E5ECF6",
           "radialaxis": {
            "gridcolor": "white",
            "linecolor": "white",
            "ticks": ""
           }
          },
          "scene": {
           "xaxis": {
            "backgroundcolor": "#E5ECF6",
            "gridcolor": "white",
            "gridwidth": 2,
            "linecolor": "white",
            "showbackground": true,
            "ticks": "",
            "zerolinecolor": "white"
           },
           "yaxis": {
            "backgroundcolor": "#E5ECF6",
            "gridcolor": "white",
            "gridwidth": 2,
            "linecolor": "white",
            "showbackground": true,
            "ticks": "",
            "zerolinecolor": "white"
           },
           "zaxis": {
            "backgroundcolor": "#E5ECF6",
            "gridcolor": "white",
            "gridwidth": 2,
            "linecolor": "white",
            "showbackground": true,
            "ticks": "",
            "zerolinecolor": "white"
           }
          },
          "shapedefaults": {
           "line": {
            "color": "#2a3f5f"
           }
          },
          "ternary": {
           "aaxis": {
            "gridcolor": "white",
            "linecolor": "white",
            "ticks": ""
           },
           "baxis": {
            "gridcolor": "white",
            "linecolor": "white",
            "ticks": ""
           },
           "bgcolor": "#E5ECF6",
           "caxis": {
            "gridcolor": "white",
            "linecolor": "white",
            "ticks": ""
           }
          },
          "title": {
           "x": 0.05
          },
          "xaxis": {
           "automargin": true,
           "gridcolor": "white",
           "linecolor": "white",
           "ticks": "",
           "title": {
            "standoff": 15
           },
           "zerolinecolor": "white",
           "zerolinewidth": 2
          },
          "yaxis": {
           "automargin": true,
           "gridcolor": "white",
           "linecolor": "white",
           "ticks": "",
           "title": {
            "standoff": 15
           },
           "zerolinecolor": "white",
           "zerolinewidth": 2
          }
         }
        },
        "title": {
         "text": "RMSLE by step XGBoost grid tuned"
        },
        "xaxis": {
         "autorange": true,
         "range": [
          0,
          383
         ],
         "title": {
          "text": "Iteration"
         }
        },
        "yaxis": {
         "autorange": true,
         "range": [
          -0.025800333333333335,
          1.5050263333333334
         ],
         "title": {
          "text": "RMSLE"
         },
         "type": "linear"
        }
       }
      },
      "image/png": "[encoded data removed]",
      "text/html": [
       "<div>                            <div id=\"75aa74f4-9ee2-4452-a284-51eeecebe98a\" class=\"plotly-graph-div\" style=\"height:525px; width:100%;\"></div>            <script type=\"text/javascript\">                require([\"plotly\"], function(Plotly) {                    window.PLOTLYENV=window.PLOTLYENV || {};                                    if (document.getElementById(\"75aa74f4-9ee2-4452-a284-51eeecebe98a\")) {                    Plotly.newPlot(                        \"75aa74f4-9ee2-4452-a284-51eeecebe98a\",                        [{\"mode\":\"lines\",\"name\":\"train\",\"y\":[1.416004,1.355127,1.29892,1.246729,1.198146,1.152818,1.110334,1.07048,1.032739,0.9972,0.96354,0.931687,0.901415,0.872591,0.845132,0.819032,0.794058,0.770164,0.747229,0.725433,0.704619,0.684599,0.665231,0.646694,0.628861,0.611676,0.595081,0.579089,0.563689,0.548794,0.534432,0.520701,0.507432,0.494447,0.48196,0.469932,0.458242,0.446927,0.435917,0.425284,0.415016,0.405116,0.395489,0.386113,0.377021,0.36815,0.359615,0.351315,0.343247,0.33544,0.327818,0.320465,0.313289,0.306297,0.29947,0.292845,0.286381,0.280209,0.274165,0.268255,0.262458,0.256905,0.251433,0.246189,0.241071,0.236081,0.231147,0.226432,0.221841,0.217363,0.213014,0.208746,0.204596,0.200584,0.196653,0.192827,0.189151,0.185548,0.182037,0.178642,0.175304,0.172032,0.168824,0.165751,0.162777,0.159884,0.157056,0.154246,0.151502,0.148889,0.14634,0.143906,0.141517,0.139174,0.136929,0.134739,0.132577,0.13047,0.128418,0.126427,0.12449,0.122578,0.120751,0.11897,0.117251,0.1156,0.113948,0.112384,0.110828,0.109293,0.107819,0.106392,0.105052,0.103739,0.102516,0.101233,0.1,0.098803,0.097644,0.096554,0.09549,0.094443,0.093434,0.092421,0.091483,0.090557,0.089612,0.088696,0.087787,0.086996,0.086146,0.085388,0.084596,0.083812,0.083057,0.08236,0.081698,0.081,0.080399,0.079799,0.079212,0.078667,0.078057,0.077471,0.076949,0.07647,0.076027,0.07553,0.075071,0.074654,0.074233,0.073807,0.073364,0.072949,0.07258,0.072226,0.071919,0.071557,0.071264,0.070928,0.070605,0.070338,0.070045,0.06981,0.069533,0.069218,0.068971,0.068704,0.068476,0.068226,0.067903,0.067712,0.067461,0.06723,0.067037,0.066878,0.066644,0.066397,0.066192,0.066034,0.065882,0.06564,0.0655,0.065356,0.065158,0.06495,0.064789,0.064595,0.064453,0.064336,0.064225,0.064078,0.063945,0.063856,0.063717,0.063603,0.063509,0.063379,0.06323,0.063106,0.063019,0.062941,0.062828,0.062736,0.062617,0.062556,0.062431,0.062369,0.06225,0.062172,0.062097,0.06201,0.061916,0.061792,0.061612,0.061525,0.061403,0.061335,0.061267,0.061167,0.061053,0.060953,0.06086,0.060815,0.060755,0.060647,0.060562,0.060478,0.060402,0.060349,0.060222,0.060125,0.060065,0.060035,0.059946,0.059868,0.059803,0.059721,0.059689,0.059595,0.05955,0.059515,0.059448,0.059364,0.05929,0.059239,0.059169,0.059053,0.058942,0.058888,0.058852,0.058729,0.058681,0.058617,0.058552,0.058505,0.058442,0.058322,0.058282,0.058225,0.058193,0.058097,0.05805,0.05802,0.057938,0.057831,0.057785,0.057686,0.057603,0.057503,0.057456,0.057411,0.057324,0.057252,0.057215,0.057197,0.057141,0.057057,0.05703,0.056952,0.056881,0.056814,0.056776,0.056694,0.056653,0.056593,0.056567,0.056482,0.056378,0.05635,0.056305,0.056268,0.056166,0.056068,0.05602,0.055942,0.055855,0.055766,0.055682,0.055652,0.05552,0.055472,0.055425,0.055394,0.055358,0.055261,0.055169,0.055154,0.055134,0.055114,0.055033,0.054953,0.054916,0.054823,0.054765,0.054746,0.054701,0.054612,0.05452,0.054491,0.054407,0.05434,0.054256,0.054228,0.05418,0.054151,0.054107,0.054059,0.054021,0.053987,0.053952,0.053856,0.053834,0.053742,0.053695,0.0536,0.053571,0.053504,0.053437,0.053354,0.053306,0.053227,0.053172,0.053133,0.053051,0.052942,0.05285,0.052786,0.052688,0.052655,0.052603,0.052528,0.052409,0.052327,0.052291,0.052193,0.052147,0.052124,0.052097,0.05201,0.051961,0.051905,0.051861,0.051777,0.051708,0.051656,0.051607,0.051581,0.051547,0.051484,0.051424,0.051333,0.051254,0.051169,0.051101,0.05108,0.051047,0.050969,0.05095,0.050911,0.05087,0.050841,0.050804,0.050741],\"type\":\"scatter\"},{\"mode\":\"lines\",\"name\":\"validation\",\"y\":[1.428485,1.36788,1.312401,1.260683,1.212213,1.16683,1.124537,1.084948,1.047251,1.011565,0.978058,0.946327,0.916128,0.887219,0.859874,0.833718,0.809113,0.785572,0.763029,0.741439,0.720797,0.700866,0.681507,0.66318,0.645572,0.628551,0.612077,0.596165,0.581018,0.566133,0.551846,0.538398,0.525221,0.512499,0.500098,0.488282,0.476755,0.465639,0.454746,0.444199,0.434094,0.424286,0.414907,0.405718,0.396733,0.388028,0.37972,0.371622,0.363588,0.356007,0.348662,0.341443,0.334385,0.327504,0.320843,0.314364,0.308063,0.302104,0.296171,0.290365,0.284736,0.279496,0.274227,0.269239,0.264354,0.259565,0.254828,0.25033,0.24596,0.241715,0.237557,0.233521,0.229692,0.225889,0.222153,0.218552,0.215065,0.211686,0.208355,0.205214,0.20219,0.199097,0.196117,0.193242,0.190485,0.187865,0.185347,0.182839,0.180319,0.177944,0.175618,0.173421,0.171306,0.16923,0.167257,0.165365,0.163506,0.161607,0.159758,0.157894,0.156226,0.154522,0.152866,0.151265,0.149839,0.148347,0.14697,0.14568,0.144383,0.143028,0.141756,0.140542,0.139375,0.138274,0.137279,0.136177,0.13515,0.134251,0.133408,0.132526,0.131661,0.130782,0.129942,0.129147,0.128409,0.12769,0.12692,0.126193,0.125453,0.124746,0.124119,0.123624,0.123029,0.122401,0.121829,0.121357,0.120781,0.120273,0.119829,0.119375,0.118927,0.118476,0.117991,0.117566,0.117249,0.116892,0.116551,0.116199,0.115864,0.11556,0.115256,0.114968,0.114639,0.114357,0.11409,0.113891,0.113706,0.113505,0.113309,0.112978,0.112737,0.112558,0.112366,0.112164,0.111985,0.111738,0.111569,0.111369,0.111237,0.111114,0.110905,0.110739,0.110617,0.110422,0.110255,0.110171,0.110028,0.109821,0.109718,0.109586,0.109493,0.109353,0.109232,0.109128,0.109025,0.108844,0.108731,0.108647,0.108562,0.108511,0.108468,0.108393,0.108374,0.108273,0.108203,0.10811,0.108058,0.107964,0.107892,0.107792,0.107733,0.107668,0.107611,0.107586,0.107522,0.107473,0.107453,0.107395,0.107333,0.10727,0.107205,0.107166,0.107141,0.107062,0.107013,0.106992,0.106931,0.106916,0.106865,0.106811,0.106764,0.106703,0.10663,0.106622,0.106627,0.106577,0.106523,0.106498,0.106492,0.106453,0.106401,0.106329,0.106325,0.106338,0.106335,0.106321,0.106283,0.106265,0.106239,0.106219,0.106206,0.106223,0.106217,0.106173,0.106134,0.106155,0.106139,0.106119,0.106122,0.106161,0.106148,0.106104,0.10612,0.106062,0.106068,0.106051,0.106044,0.105982,0.106001,0.105973,0.105959,0.105895,0.105876,0.105833,0.105831,0.10575,0.105774,0.105756,0.105734,0.105756,0.105739,0.105726,0.105725,0.105731,0.105722,0.105742,0.105717,0.105658,0.105669,0.105688,0.105682,0.105646,0.10567,0.10566,0.105664,0.105695,0.105687,0.105639,0.105665,0.105636,0.105629,0.105593,0.105556,0.105528,0.105532,0.105538,0.105523,0.105511,0.10551,0.105507,0.105529,0.10553,0.105552,0.105529,0.105528,0.105495,0.105484,0.105472,0.105468,0.105483,0.105466,0.105449,0.105448,0.105474,0.1055,0.105501,0.105485,0.105538,0.105495,0.10548,0.105508,0.105471,0.105442,0.10546,0.105469,0.105479,0.105441,0.105466,0.105431,0.105415,0.105423,0.105404,0.10538,0.105397,0.105368,0.105359,0.105342,0.105331,0.105305,0.105284,0.105282,0.105231,0.105221,0.105232,0.105244,0.105229,0.105235,0.105236,0.105273,0.105281,0.105287,0.10526,0.105174,0.105175,0.105186,0.10516,0.105162,0.105155,0.105145,0.105129,0.105128,0.105096,0.105131,0.105124,0.105141,0.105118,0.105086,0.105122,0.105112,0.105131,0.105146,0.105093,0.105119,0.105083,0.105109,0.105111,0.105127,0.105125,0.105164,0.105144,0.10514,0.105162,0.105174,0.105168],\"type\":\"scatter\"}],                        {\"template\":{\"data\":{\"bar\":[{\"error_x\":{\"color\":\"#2a3f5f\"},\"error_y\":{\"color\":\"#2a3f5f\"},\"marker\":{\"line\":{\"color\":\"#E5ECF6\",\"width\":0.5},\"pattern\":{\"fillmode\":\"overlay\",\"size\":10,\"solidity\":0.2}},\"type\":\"bar\"}],\"barpolar\":[{\"marker\":{\"line\":{\"color\":\"#E5ECF6\",\"width\":0.5},\"pattern\":{\"fillmode\":\"overlay\",\"size\":10,\"solidity\":0.2}},\"type\":\"barpolar\"}],\"carpet\":[{\"aaxis\":{\"endlinecolor\":\"#2a3f5f\",\"gridcolor\":\"white\",\"linecolor\":\"white\",\"minorgridcolor\":\"white\",\"startlinecolor\":\"#2a3f5f\"},\"baxis\":{\"endlinecolor\":\"#2a3f5f\",\"gridcolor\":\"white\",\"linecolor\":\"white\",\"minorgridcolor\":\"white\",\"startlinecolor\":\"#2a3f5f\"},\"type\":\"carpet\"}],\"choropleth\":[{\"colorbar\":{\"outlinewidth\":0,\"ticks\":\"\"},\"type\":\"choropleth\"}],\"contour\":[{\"colorbar\":{\"outlinewidth\":0,\"ticks\":\"\"},\"colorscale\":[[0.0,\"#0d0887\"],[0.1111111111111111,\"#46039f\"],[0.2222222222222222,\"#7201a8\"],[0.3333333333333333,\"#9c179e\"],[0.4444444444444444,\"#bd3786\"],[0.5555555555555556,\"#d8576b\"],[0.6666666666666666,\"#ed7953\"],[0.7777777777777778,\"#fb9f3a\"],[0.8888888888888888,\"#fdca26\"],[1.0,\"#f0f921\"]],\"type\":\"contour\"}],\"contourcarpet\":[{\"colorbar\":{\"outlinewidth\":0,\"ticks\":\"\"},\"type\":\"contourcarpet\"}],\"heatmap\":[{\"colorbar\":{\"outlinewidth\":0,\"ticks\":\"\"},\"colorscale\":[[0.0,\"#0d0887\"],[0.1111111111111111,\"#46039f\"],[0.2222222222222222,\"#7201a8\"],[0.3333333333333333,\"#9c179e\"],[0.4444444444444444,\"#bd3786\"],[0.5555555555555556,\"#d8576b\"],[0.6666666666666666,\"#ed7953\"],[0.7777777777777778,\"#fb9f3a\"],[0.8888888888888888,\"#fdca26\"],[1.0,\"#f0f921\"]],\"type\":\"heatmap\"}],\"heatmapgl\":[{\"colorbar\":{\"outlinewidth\":0,\"ticks\":\"\"},\"colorscale\":[[0.0,\"#0d0887\"],[0.1111111111111111,\"#46039f\"],[0.2222222222222222,\"#7201a8\"],[0.3333333333333333,\"#9c179e\"],[0.4444444444444444,\"#bd3786\"],[0.5555555555555556,\"#d8576b\"],[0.6666666666666666,\"#ed7953\"],[0.7777777777777778,\"#fb9f3a\"],[0.8888888888888888,\"#fdca26\"],[1.0,\"#f0f921\"]],\"type\":\"heatmapgl\"}],\"histogram\":[{\"marker\":{\"pattern\":{\"fillmode\":\"overlay\",\"size\":10,\"solidity\":0.2}},\"type\":\"histogram\"}],\"histogram2d\":[{\"colorbar\":{\"outlinewidth\":0,\"ticks\":\"\"},\"colorscale\":[[0.0,\"#0d0887\"],[0.1111111111111111,\"#46039f\"],[0.2222222222222222,\"#7201a8\"],[0.3333333333333333,\"#9c179e\"],[0.4444444444444444,\"#bd3786\"],[0.5555555555555556,\"#d8576b\"],[0.6666666666666666,\"#ed7953\"],[0.7777777777777778,\"#fb9f3a\"],[0.8888888888888888,\"#fdca26\"],[1.0,\"#f0f921\"]],\"type\":\"histogram2d\"}],\"histogram2dcontour\":[{\"colorbar\":{\"outlinewidth\":0,\"ticks\":\"\"},\"colorscale\":[[0.0,\"#0d0887\"],[0.1111111111111111,\"#46039f\"],[0.2222222222222222,\"#7201a8\"],[0.3333333333333333,\"#9c179e\"],[0.4444444444444444,\"#bd3786\"],[0.5555555555555556,\"#d8576b\"],[0.6666666666666666,\"#ed7953\"],[0.7777777777777778,\"#fb9f3a\"],[0.8888888888888888,\"#fdca26\"],[1.0,\"#f0f921\"]],\"type\":\"histogram2dcontour\"}],\"mesh3d\":[{\"colorbar\":{\"outlinewidth\":0,\"ticks\":\"\"},\"type\":\"mesh3d\"}],\"parcoords\":[{\"line\":{\"colorbar\":{\"outlinewidth\":0,\"ticks\":\"\"}},\"type\":\"parcoords\"}],\"pie\":[{\"automargin\":true,\"type\":\"pie\"}],\"scatter\":[{\"marker\":{\"colorbar\":{\"outlinewidth\":0,\"ticks\":\"\"}},\"type\":\"scatter\"}],\"scatter3d\":[{\"line\":{\"colorbar\":{\"outlinewidth\":0,\"ticks\":\"\"}},\"marker\":{\"colorbar\":{\"outlinewidth\":0,\"ticks\":\"\"}},\"type\":\"scatter3d\"}],\"scattercarpet\":[{\"marker\":{\"colorbar\":{\"outlinewidth\":0,\"ticks\":\"\"}},\"type\":\"scattercarpet\"}],\"scattergeo\":[{\"marker\":{\"colorbar\":{\"outlinewidth\":0,\"ticks\":\"\"}},\"type\":\"scattergeo\"}],\"scattergl\":[{\"marker\":{\"colorbar\":{\"outlinewidth\":0,\"ticks\":\"\"}},\"type\":\"scattergl\"}],\"scattermapbox\":[{\"marker\":{\"colorbar\":{\"outlinewidth\":0,\"ticks\":\"\"}},\"type\":\"scattermapbox\"}],\"scatterpolar\":[{\"marker\":{\"colorbar\":{\"outlinewidth\":0,\"ticks\":\"\"}},\"type\":\"scatterpolar\"}],\"scatterpolargl\":[{\"marker\":{\"colorbar\":{\"outlinewidth\":0,\"ticks\":\"\"}},\"type\":\"scatterpolargl\"}],\"scatterternary\":[{\"marker\":{\"colorbar\":{\"outlinewidth\":0,\"ticks\":\"\"}},\"type\":\"scatterternary\"}],\"surface\":[{\"colorbar\":{\"outlinewidth\":0,\"ticks\":\"\"},\"colorscale\":[[0.0,\"#0d0887\"],[0.1111111111111111,\"#46039f\"],[0.2222222222222222,\"#7201a8\"],[0.3333333333333333,\"#9c179e\"],[0.4444444444444444,\"#bd3786\"],[0.5555555555555556,\"#d8576b\"],[0.6666666666666666,\"#ed7953\"],[0.7777777777777778,\"#fb9f3a\"],[0.8888888888888888,\"#fdca26\"],[1.0,\"#f0f921\"]],\"type\":\"surface\"}],\"table\":[{\"cells\":{\"fill\":{\"color\":\"#EBF0F8\"},\"line\":{\"color\":\"white\"}},\"header\":{\"fill\":{\"color\":\"#C8D4E3\"},\"line\":{\"color\":\"white\"}},\"type\":\"table\"}]},\"layout\":{\"annotationdefaults\":{\"arrowcolor\":\"#2a3f5f\",\"arrowhead\":0,\"arrowwidth\":1},\"autotypenumbers\":\"strict\",\"coloraxis\":{\"colorbar\":{\"outlinewidth\":0,\"ticks\":\"\"}},\"colorscale\":{\"diverging\":[[0,\"#8e0152\"],[0.1,\"#c51b7d\"],[0.2,\"#de77ae\"],[0.3,\"#f1b6da\"],[0.4,\"#fde0ef\"],[0.5,\"#f7f7f7\"],[0.6,\"#e6f5d0\"],[0.7,\"#b8e186\"],[0.8,\"#7fbc41\"],[0.9,\"#4d9221\"],[1,\"#276419\"]],\"sequential\":[[0.0,\"#0d0887\"],[0.1111111111111111,\"#46039f\"],[0.2222222222222222,\"#7201a8\"],[0.3333333333333333,\"#9c179e\"],[0.4444444444444444,\"#bd3786\"],[0.5555555555555556,\"#d8576b\"],[0.6666666666666666,\"#ed7953\"],[0.7777777777777778,\"#fb9f3a\"],[0.8888888888888888,\"#fdca26\"],[1.0,\"#f0f921\"]],\"sequentialminus\":[[0.0,\"#0d0887\"],[0.1111111111111111,\"#46039f\"],[0.2222222222222222,\"#7201a8\"],[0.3333333333333333,\"#9c179e\"],[0.4444444444444444,\"#bd3786\"],[0.5555555555555556,\"#d8576b\"],[0.6666666666666666,\"#ed7953\"],[0.7777777777777778,\"#fb9f3a\"],[0.8888888888888888,\"#fdca26\"],[1.0,\"#f0f921\"]]},\"colorway\":[\"#636efa\",\"#EF553B\",\"#00cc96\",\"#ab63fa\",\"#FFA15A\",\"#19d3f3\",\"#FF6692\",\"#B6E880\",\"#FF97FF\",\"#FECB52\"],\"font\":{\"color\":\"#2a3f5f\"},\"geo\":{\"bgcolor\":\"white\",\"lakecolor\":\"white\",\"landcolor\":\"#E5ECF6\",\"showlakes\":true,\"showland\":true,\"subunitcolor\":\"white\"},\"hoverlabel\":{\"align\":\"left\"},\"hovermode\":\"closest\",\"mapbox\":{\"style\":\"light\"},\"paper_bgcolor\":\"white\",\"plot_bgcolor\":\"#E5ECF6\",\"polar\":{\"angularaxis\":{\"gridcolor\":\"white\",\"linecolor\":\"white\",\"ticks\":\"\"},\"bgcolor\":\"#E5ECF6\",\"radialaxis\":{\"gridcolor\":\"white\",\"linecolor\":\"white\",\"ticks\":\"\"}},\"scene\":{\"xaxis\":{\"backgroundcolor\":\"#E5ECF6\",\"gridcolor\":\"white\",\"gridwidth\":2,\"linecolor\":\"white\",\"showbackground\":true,\"ticks\":\"\",\"zerolinecolor\":\"white\"},\"yaxis\":{\"backgroundcolor\":\"#E5ECF6\",\"gridcolor\":\"white\",\"gridwidth\":2,\"linecolor\":\"white\",\"showbackground\":true,\"ticks\":\"\",\"zerolinecolor\":\"white\"},\"zaxis\":{\"backgroundcolor\":\"#E5ECF6\",\"gridcolor\":\"white\",\"gridwidth\":2,\"linecolor\":\"white\",\"showbackground\":true,\"ticks\":\"\",\"zerolinecolor\":\"white\"}},\"shapedefaults\":{\"line\":{\"color\":\"#2a3f5f\"}},\"ternary\":{\"aaxis\":{\"gridcolor\":\"white\",\"linecolor\":\"white\",\"ticks\":\"\"},\"baxis\":{\"gridcolor\":\"white\",\"linecolor\":\"white\",\"ticks\":\"\"},\"bgcolor\":\"#E5ECF6\",\"caxis\":{\"gridcolor\":\"white\",\"linecolor\":\"white\",\"ticks\":\"\"}},\"title\":{\"x\":0.05},\"xaxis\":{\"automargin\":true,\"gridcolor\":\"white\",\"linecolor\":\"white\",\"ticks\":\"\",\"title\":{\"standoff\":15},\"zerolinecolor\":\"white\",\"zerolinewidth\":2},\"yaxis\":{\"automargin\":true,\"gridcolor\":\"white\",\"linecolor\":\"white\",\"ticks\":\"\",\"title\":{\"standoff\":15},\"zerolinecolor\":\"white\",\"zerolinewidth\":2}}},\"annotations\":[{\"arrowhead\":1,\"ax\":-60,\"showarrow\":true,\"text\":\"Last best iteration\",\"x\":373,\"y\":1.105083}],\"font\":{\"family\":\"Courier New, monospace\",\"size\":12},\"title\":{\"text\":\"RMSLE by step XGBoost grid tuned\"},\"xaxis\":{\"title\":{\"text\":\"Iteration\"}},\"yaxis\":{\"title\":{\"text\":\"RMSLE\"}},\"legend\":{\"title\":{\"text\":\"Data split \"}},\"shapes\":[{\"line\":{\"color\":\"green\",\"dash\":\"dash\",\"width\":3},\"type\":\"line\",\"x0\":373,\"x1\":373,\"xref\":\"x\",\"y0\":0,\"y1\":1,\"yref\":\"y domain\"}]},                        {\"responsive\": true}                    ).then(function(){\n",
       "                            \n",
       "var gd = document.getElementById('75aa74f4-9ee2-4452-a284-51eeecebe98a');\n",
       "var x = new MutationObserver(function (mutations, observer) {{\n",
       "        var display = window.getComputedStyle(gd).display;\n",
       "        if (!display || display === 'none') {{\n",
       "            console.log([gd, 'removed!']);\n",
       "            Plotly.purge(gd);\n",
       "            observer.disconnect();\n",
       "        }}\n",
       "}});\n",
       "\n",
       "// Listen for the removal of the full notebook cells\n",
       "var notebookContainer = gd.closest('#notebook-container');\n",
       "if (notebookContainer) {{\n",
       "    x.observe(notebookContainer, {childList: true});\n",
       "}}\n",
       "\n",
       "// Listen for the clearing of the current output cell\n",
       "var outputEl = gd.closest('.output');\n",
       "if (outputEl) {{\n",
       "    x.observe(outputEl, {childList: true});\n",
       "}}\n",
       "\n",
       "                        })                };                });            </script>        </div>"
      ]
     },
     "metadata": {},
     "output_type": "display_data"
    }
   ],
   "source": [
    "fig = go.Figure()\n",
    "keys= ['validation_0','validation_1']\n",
    "# Add traces\n",
    "step_data=[]\n",
    "for i, data_split in enumerate(['train','validation']):\n",
    "    data_split_= keys[i]\n",
    "    color = colors[i]\n",
    "    step_score=xgboost_grid.evals_result()[data_split_][\"rmsle\"]\n",
    "    fig.add_trace(\n",
    "        go.Scatter(\n",
    "            y= step_score,\n",
    "            mode=\"lines\",\n",
    "            name= data_split,\n",
    "        )\n",
    "    )\n",
    "    step_data.append(step_score)\n",
    "    \n",
    "fig.add_annotation(x=best_iter, y=best_score+1, ax=-60,\n",
    "        text=\"Last best iteration\",\n",
    "        showarrow=True,\n",
    "        arrowhead=1)\n",
    "    \n",
    "fig.update_layout(\n",
    "    title=f\"RMSLE by step XGBoost grid tuned\",\n",
    "    xaxis_title=\"Iteration\",\n",
    "    yaxis_title=\"RMSLE\",\n",
    "    legend_title=\"Data split \",\n",
    "    font=dict(family=\"Courier New, monospace\", size=12),\n",
    ")\n",
    "fig.add_vline(\n",
    "    x=best_iter, line_width=3, line_dash=\"dash\", \n",
    "    line_color=\"green\")\n",
    "\n",
    "fig.show()"
   ]
  },
  {
   "cell_type": "code",
   "execution_count": 85,
   "id": "52becff4-f837-4960-afc4-9bdf39a620ef",
   "metadata": {},
   "outputs": [
    {
     "data": {
      "application/vnd.plotly.v1+json": {
       "config": {
        "plotlyServerURL": "https://plot.ly"
       },
       "data": [
        {
         "mode": "lines",
         "name": "train",
         "type": "scatter",
         "y": [
          5.0165,
          4.915938,
          4.817472,
          4.720788,
          4.626269,
          4.533777,
          4.443124,
          4.354394,
          4.267085,
          4.18172,
          4.097983,
          4.016104,
          3.935809,
          3.856986,
          3.779715,
          3.704266,
          3.630154,
          3.557473,
          3.486003,
          3.416525,
          3.348711,
          3.28212,
          3.216332,
          3.152156,
          3.089267,
          3.027537,
          2.966851,
          2.907396,
          2.84917,
          2.791999,
          2.73598,
          2.681618,
          2.628358,
          2.575518,
          2.524036,
          2.473756,
          2.424269,
          2.375826,
          2.32817,
          2.28164,
          2.236227,
          2.191999,
          2.148486,
          2.105678,
          2.063705,
          2.022319,
          1.982185,
          1.942709,
          1.904079,
          1.866294,
          1.82911,
          1.792892,
          1.757304,
          1.722318,
          1.687886,
          1.654172,
          1.621115,
          1.589221,
          1.55788,
          1.527038,
          1.496384,
          1.466919,
          1.437728,
          1.409555,
          1.381868,
          1.354625,
          1.327606,
          1.301601,
          1.276111,
          1.251153,
          1.226854,
          1.202963,
          1.179649,
          1.157067,
          1.134882,
          1.113153,
          1.092157,
          1.071406,
          1.051241,
          1.031462,
          1.011983,
          0.992798,
          0.973982,
          0.955716,
          0.937944,
          0.920563,
          0.903529,
          0.886516,
          0.869887,
          0.853971,
          0.838325,
          0.823154,
          0.808225,
          0.793578,
          0.779418,
          0.7656,
          0.752096,
          0.738871,
          0.726005,
          0.713435,
          0.701016,
          0.688941,
          0.677336,
          0.66614,
          0.655307,
          0.644665,
          0.634136,
          0.624067,
          0.614209,
          0.604466,
          0.595141,
          0.586048,
          0.577288,
          0.568634,
          0.560482,
          0.552192,
          0.544169,
          0.536368,
          0.528682,
          0.521433,
          0.514226,
          0.507238,
          0.500358,
          0.493617,
          0.487433,
          0.481297,
          0.474966,
          0.469174,
          0.46324,
          0.457971,
          0.452447,
          0.447429,
          0.442203,
          0.437212,
          0.432414,
          0.42797,
          0.423607,
          0.419321,
          0.415451,
          0.411759,
          0.408205,
          0.40463,
          0.400942,
          0.397473,
          0.394204,
          0.391131,
          0.388295,
          0.38527,
          0.382508,
          0.379798,
          0.377265,
          0.374719,
          0.372213,
          0.369812,
          0.367721,
          0.365775,
          0.363798,
          0.361513,
          0.359703,
          0.357737,
          0.35586,
          0.354285,
          0.352586,
          0.351203,
          0.349647,
          0.347825,
          0.346493,
          0.344937,
          0.343694,
          0.342295,
          0.340743,
          0.339727,
          0.338561,
          0.337403,
          0.336478,
          0.335675,
          0.334433,
          0.333266,
          0.332204,
          0.331381,
          0.330529,
          0.329403,
          0.328673,
          0.327941,
          0.327016,
          0.326051,
          0.325318,
          0.324322,
          0.323636,
          0.323105,
          0.322513,
          0.321818,
          0.321223,
          0.320775,
          0.320112,
          0.319533,
          0.319031,
          0.318513,
          0.317751,
          0.317198,
          0.316725,
          0.316334,
          0.315932,
          0.315551,
          0.314842,
          0.314558,
          0.313898,
          0.313643,
          0.313055,
          0.312639,
          0.312349,
          0.311876,
          0.311317,
          0.310656,
          0.309738,
          0.309269,
          0.308683,
          0.30823,
          0.307913,
          0.307409,
          0.306833,
          0.306221,
          0.305736,
          0.30546,
          0.305142,
          0.304651,
          0.304283,
          0.303914,
          0.30353,
          0.303304,
          0.302777,
          0.302177,
          0.30186,
          0.301725,
          0.301255,
          0.300777,
          0.300458,
          0.300016,
          0.299851,
          0.29937,
          0.299136,
          0.298974,
          0.298584,
          0.298216,
          0.297867,
          0.297539,
          0.297267,
          0.296746,
          0.296321,
          0.295983,
          0.295735,
          0.295255,
          0.294945,
          0.294534,
          0.29417,
          0.293896,
          0.293466,
          0.2929,
          0.292659,
          0.292306,
          0.292133,
          0.291739,
          0.291453,
          0.291247,
          0.290867,
          0.290169,
          0.289929,
          0.289394,
          0.289022,
          0.288465,
          0.288224,
          0.287971,
          0.287674,
          0.287402,
          0.287146,
          0.287036,
          0.286698,
          0.286334,
          0.286223,
          0.285972,
          0.285593,
          0.285306,
          0.285033,
          0.284563,
          0.28427,
          0.283896,
          0.283761,
          0.283334,
          0.282783,
          0.282587,
          0.282353,
          0.2821,
          0.281644,
          0.281091,
          0.280936,
          0.280606,
          0.28007,
          0.279537,
          0.279161,
          0.278904,
          0.278213,
          0.278,
          0.277762,
          0.277568,
          0.277409,
          0.277001,
          0.276535,
          0.276415,
          0.276241,
          0.276123,
          0.275674,
          0.275291,
          0.275102,
          0.274654,
          0.27441,
          0.274328,
          0.274061,
          0.273627,
          0.273185,
          0.272991,
          0.272569,
          0.272279,
          0.271921,
          0.271783,
          0.271518,
          0.271354,
          0.271088,
          0.270856,
          0.270578,
          0.270399,
          0.270224,
          0.269731,
          0.269537,
          0.268999,
          0.268742,
          0.268245,
          0.268032,
          0.267688,
          0.267346,
          0.266841,
          0.266589,
          0.266196,
          0.265965,
          0.265699,
          0.265213,
          0.264681,
          0.264234,
          0.263943,
          0.263431,
          0.26327,
          0.263011,
          0.262597,
          0.261957,
          0.261561,
          0.261359,
          0.26078,
          0.260608,
          0.260415,
          0.26021,
          0.259763,
          0.259589,
          0.259292,
          0.259045,
          0.258527,
          0.25818,
          0.257874,
          0.257648,
          0.257515,
          0.257205,
          0.256931,
          0.256635,
          0.256143,
          0.255727,
          0.255273,
          0.254965,
          0.254889,
          0.254675,
          0.254245,
          0.25412,
          0.253806,
          0.253565,
          0.253369,
          0.253172,
          0.252868
         ]
        },
        {
         "mode": "lines",
         "name": "validation",
         "type": "scatter",
         "y": [
          5.103231,
          5.00302,
          4.905701,
          4.809848,
          4.715511,
          4.622757,
          4.532457,
          4.444241,
          4.356863,
          4.271025,
          4.187444,
          4.105757,
          4.02543,
          3.946208,
          3.869044,
          3.793197,
          3.71989,
          3.647939,
          3.577472,
          3.508321,
          3.440874,
          3.37442,
          3.308482,
          3.244738,
          3.18218,
          3.120581,
          3.060235,
          3.000687,
          2.943049,
          2.885606,
          2.829602,
          2.775997,
          2.722663,
          2.670416,
          2.6189,
          2.568827,
          2.519752,
          2.47211,
          2.425177,
          2.37918,
          2.334711,
          2.29088,
          2.248349,
          2.206432,
          2.164942,
          2.124402,
          2.085326,
          2.046706,
          2.008104,
          1.971313,
          1.935111,
          1.899288,
          1.863959,
          1.829235,
          1.795345,
          1.761975,
          1.729651,
          1.699071,
          1.668673,
          1.638681,
          1.609207,
          1.581573,
          1.553499,
          1.526873,
          1.500424,
          1.474447,
          1.448676,
          1.424116,
          1.400069,
          1.376356,
          1.353108,
          1.330515,
          1.309126,
          1.288095,
          1.26732,
          1.247044,
          1.227104,
          1.207906,
          1.189056,
          1.171064,
          1.153671,
          1.135737,
          1.118391,
          1.101307,
          1.08518,
          1.069951,
          1.055118,
          1.040388,
          1.025458,
          1.011271,
          0.997179,
          0.983949,
          0.97067,
          0.957896,
          0.945645,
          0.934043,
          0.922487,
          0.910803,
          0.89906,
          0.887431,
          0.876371,
          0.865432,
          0.854537,
          0.844147,
          0.834304,
          0.82428,
          0.814771,
          0.805977,
          0.797371,
          0.788448,
          0.780098,
          0.771954,
          0.763965,
          0.756197,
          0.74919,
          0.741474,
          0.733958,
          0.727341,
          0.720864,
          0.71411,
          0.707791,
          0.701077,
          0.694632,
          0.688687,
          0.683435,
          0.678107,
          0.672557,
          0.667403,
          0.662237,
          0.657189,
          0.652696,
          0.648677,
          0.644333,
          0.639777,
          0.635439,
          0.631864,
          0.627567,
          0.623921,
          0.62051,
          0.617091,
          0.61395,
          0.610981,
          0.607606,
          0.604464,
          0.601985,
          0.599348,
          0.596888,
          0.594215,
          0.591807,
          0.589517,
          0.587154,
          0.584868,
          0.582325,
          0.58015,
          0.578036,
          0.576641,
          0.574705,
          0.57278,
          0.570989,
          0.568853,
          0.566943,
          0.565581,
          0.563782,
          0.562336,
          0.561034,
          0.559126,
          0.557783,
          0.556201,
          0.555016,
          0.553934,
          0.552573,
          0.551434,
          0.5507,
          0.54974,
          0.54854,
          0.547841,
          0.546639,
          0.545331,
          0.544482,
          0.543466,
          0.542567,
          0.541012,
          0.54012,
          0.539203,
          0.538367,
          0.537328,
          0.536423,
          0.535951,
          0.53543,
          0.534991,
          0.534472,
          0.533978,
          0.53359,
          0.532832,
          0.532312,
          0.531518,
          0.530919,
          0.530324,
          0.530099,
          0.529366,
          0.528765,
          0.528216,
          0.527786,
          0.527454,
          0.526879,
          0.526514,
          0.526094,
          0.525744,
          0.525515,
          0.525069,
          0.524621,
          0.524462,
          0.524075,
          0.523671,
          0.52312,
          0.522964,
          0.522579,
          0.522634,
          0.522061,
          0.521851,
          0.521317,
          0.520766,
          0.520426,
          0.520283,
          0.52028,
          0.519921,
          0.519723,
          0.519213,
          0.519064,
          0.518875,
          0.518592,
          0.518162,
          0.518107,
          0.518037,
          0.517946,
          0.517654,
          0.5172,
          0.517154,
          0.517016,
          0.516758,
          0.516503,
          0.516486,
          0.51625,
          0.515889,
          0.515673,
          0.515759,
          0.515536,
          0.515301,
          0.515327,
          0.515443,
          0.515243,
          0.515084,
          0.515153,
          0.514811,
          0.514868,
          0.514692,
          0.514676,
          0.514352,
          0.514198,
          0.513991,
          0.513727,
          0.513319,
          0.513179,
          0.512738,
          0.512786,
          0.512016,
          0.512029,
          0.512028,
          0.511863,
          0.512027,
          0.512025,
          0.511908,
          0.511854,
          0.511875,
          0.511778,
          0.511772,
          0.511354,
          0.511041,
          0.511041,
          0.511052,
          0.510999,
          0.510692,
          0.510878,
          0.510656,
          0.510622,
          0.510643,
          0.510655,
          0.510276,
          0.510335,
          0.510167,
          0.510144,
          0.509831,
          0.509863,
          0.509632,
          0.509741,
          0.509633,
          0.509504,
          0.509246,
          0.509276,
          0.50919,
          0.509133,
          0.508993,
          0.509048,
          0.508959,
          0.509003,
          0.508906,
          0.508701,
          0.508632,
          0.508535,
          0.50844,
          0.508389,
          0.508333,
          0.508369,
          0.508284,
          0.508368,
          0.508276,
          0.508209,
          0.508404,
          0.508265,
          0.508082,
          0.508303,
          0.508051,
          0.507867,
          0.507924,
          0.507907,
          0.507932,
          0.507656,
          0.507743,
          0.50756,
          0.507411,
          0.507466,
          0.507228,
          0.507,
          0.507179,
          0.506944,
          0.506848,
          0.506769,
          0.50665,
          0.506433,
          0.506447,
          0.506417,
          0.506254,
          0.506187,
          0.50626,
          0.506199,
          0.505982,
          0.50597,
          0.505844,
          0.506115,
          0.506118,
          0.506114,
          0.506041,
          0.505496,
          0.505497,
          0.505516,
          0.505255,
          0.505382,
          0.505221,
          0.505145,
          0.50514,
          0.50518,
          0.505039,
          0.50505,
          0.505014,
          0.505183,
          0.504869,
          0.504757,
          0.505064,
          0.504955,
          0.504951,
          0.504928,
          0.504437,
          0.504662,
          0.504528,
          0.504677,
          0.504617,
          0.504577,
          0.504548,
          0.504776,
          0.504685,
          0.504593,
          0.504725,
          0.504632,
          0.504497
         ]
        }
       ],
       "layout": {
        "annotations": [
         {
          "arrowhead": 1,
          "ax": -60,
          "ay": -30,
          "showarrow": true,
          "text": "Last best iteration",
          "x": 373,
          "y": 1.105083
         }
        ],
        "autosize": true,
        "font": {
         "family": "Courier New, monospace",
         "size": 12
        },
        "legend": {
         "title": {
          "text": "Data split "
         }
        },
        "shapes": [
         {
          "line": {
           "color": "green",
           "dash": "dash",
           "width": 3
          },
          "type": "line",
          "x0": 373,
          "x1": 373,
          "xref": "x",
          "y0": 0,
          "y1": 1,
          "yref": "y domain"
         }
        ],
        "template": {
         "data": {
          "bar": [
           {
            "error_x": {
             "color": "#2a3f5f"
            },
            "error_y": {
             "color": "#2a3f5f"
            },
            "marker": {
             "line": {
              "color": "#E5ECF6",
              "width": 0.5
             },
             "pattern": {
              "fillmode": "overlay",
              "size": 10,
              "solidity": 0.2
             }
            },
            "type": "bar"
           }
          ],
          "barpolar": [
           {
            "marker": {
             "line": {
              "color": "#E5ECF6",
              "width": 0.5
             },
             "pattern": {
              "fillmode": "overlay",
              "size": 10,
              "solidity": 0.2
             }
            },
            "type": "barpolar"
           }
          ],
          "carpet": [
           {
            "aaxis": {
             "endlinecolor": "#2a3f5f",
             "gridcolor": "white",
             "linecolor": "white",
             "minorgridcolor": "white",
             "startlinecolor": "#2a3f5f"
            },
            "baxis": {
             "endlinecolor": "#2a3f5f",
             "gridcolor": "white",
             "linecolor": "white",
             "minorgridcolor": "white",
             "startlinecolor": "#2a3f5f"
            },
            "type": "carpet"
           }
          ],
          "choropleth": [
           {
            "colorbar": {
             "outlinewidth": 0,
             "ticks": ""
            },
            "type": "choropleth"
           }
          ],
          "contour": [
           {
            "colorbar": {
             "outlinewidth": 0,
             "ticks": ""
            },
            "colorscale": [
             [
              0,
              "#0d0887"
             ],
             [
              0.1111111111111111,
              "#46039f"
             ],
             [
              0.2222222222222222,
              "#7201a8"
             ],
             [
              0.3333333333333333,
              "#9c179e"
             ],
             [
              0.4444444444444444,
              "#bd3786"
             ],
             [
              0.5555555555555556,
              "#d8576b"
             ],
             [
              0.6666666666666666,
              "#ed7953"
             ],
             [
              0.7777777777777778,
              "#fb9f3a"
             ],
             [
              0.8888888888888888,
              "#fdca26"
             ],
             [
              1,
              "#f0f921"
             ]
            ],
            "type": "contour"
           }
          ],
          "contourcarpet": [
           {
            "colorbar": {
             "outlinewidth": 0,
             "ticks": ""
            },
            "type": "contourcarpet"
           }
          ],
          "heatmap": [
           {
            "colorbar": {
             "outlinewidth": 0,
             "ticks": ""
            },
            "colorscale": [
             [
              0,
              "#0d0887"
             ],
             [
              0.1111111111111111,
              "#46039f"
             ],
             [
              0.2222222222222222,
              "#7201a8"
             ],
             [
              0.3333333333333333,
              "#9c179e"
             ],
             [
              0.4444444444444444,
              "#bd3786"
             ],
             [
              0.5555555555555556,
              "#d8576b"
             ],
             [
              0.6666666666666666,
              "#ed7953"
             ],
             [
              0.7777777777777778,
              "#fb9f3a"
             ],
             [
              0.8888888888888888,
              "#fdca26"
             ],
             [
              1,
              "#f0f921"
             ]
            ],
            "type": "heatmap"
           }
          ],
          "heatmapgl": [
           {
            "colorbar": {
             "outlinewidth": 0,
             "ticks": ""
            },
            "colorscale": [
             [
              0,
              "#0d0887"
             ],
             [
              0.1111111111111111,
              "#46039f"
             ],
             [
              0.2222222222222222,
              "#7201a8"
             ],
             [
              0.3333333333333333,
              "#9c179e"
             ],
             [
              0.4444444444444444,
              "#bd3786"
             ],
             [
              0.5555555555555556,
              "#d8576b"
             ],
             [
              0.6666666666666666,
              "#ed7953"
             ],
             [
              0.7777777777777778,
              "#fb9f3a"
             ],
             [
              0.8888888888888888,
              "#fdca26"
             ],
             [
              1,
              "#f0f921"
             ]
            ],
            "type": "heatmapgl"
           }
          ],
          "histogram": [
           {
            "marker": {
             "pattern": {
              "fillmode": "overlay",
              "size": 10,
              "solidity": 0.2
             }
            },
            "type": "histogram"
           }
          ],
          "histogram2d": [
           {
            "colorbar": {
             "outlinewidth": 0,
             "ticks": ""
            },
            "colorscale": [
             [
              0,
              "#0d0887"
             ],
             [
              0.1111111111111111,
              "#46039f"
             ],
             [
              0.2222222222222222,
              "#7201a8"
             ],
             [
              0.3333333333333333,
              "#9c179e"
             ],
             [
              0.4444444444444444,
              "#bd3786"
             ],
             [
              0.5555555555555556,
              "#d8576b"
             ],
             [
              0.6666666666666666,
              "#ed7953"
             ],
             [
              0.7777777777777778,
              "#fb9f3a"
             ],
             [
              0.8888888888888888,
              "#fdca26"
             ],
             [
              1,
              "#f0f921"
             ]
            ],
            "type": "histogram2d"
           }
          ],
          "histogram2dcontour": [
           {
            "colorbar": {
             "outlinewidth": 0,
             "ticks": ""
            },
            "colorscale": [
             [
              0,
              "#0d0887"
             ],
             [
              0.1111111111111111,
              "#46039f"
             ],
             [
              0.2222222222222222,
              "#7201a8"
             ],
             [
              0.3333333333333333,
              "#9c179e"
             ],
             [
              0.4444444444444444,
              "#bd3786"
             ],
             [
              0.5555555555555556,
              "#d8576b"
             ],
             [
              0.6666666666666666,
              "#ed7953"
             ],
             [
              0.7777777777777778,
              "#fb9f3a"
             ],
             [
              0.8888888888888888,
              "#fdca26"
             ],
             [
              1,
              "#f0f921"
             ]
            ],
            "type": "histogram2dcontour"
           }
          ],
          "mesh3d": [
           {
            "colorbar": {
             "outlinewidth": 0,
             "ticks": ""
            },
            "type": "mesh3d"
           }
          ],
          "parcoords": [
           {
            "line": {
             "colorbar": {
              "outlinewidth": 0,
              "ticks": ""
             }
            },
            "type": "parcoords"
           }
          ],
          "pie": [
           {
            "automargin": true,
            "type": "pie"
           }
          ],
          "scatter": [
           {
            "marker": {
             "colorbar": {
              "outlinewidth": 0,
              "ticks": ""
             }
            },
            "type": "scatter"
           }
          ],
          "scatter3d": [
           {
            "line": {
             "colorbar": {
              "outlinewidth": 0,
              "ticks": ""
             }
            },
            "marker": {
             "colorbar": {
              "outlinewidth": 0,
              "ticks": ""
             }
            },
            "type": "scatter3d"
           }
          ],
          "scattercarpet": [
           {
            "marker": {
             "colorbar": {
              "outlinewidth": 0,
              "ticks": ""
             }
            },
            "type": "scattercarpet"
           }
          ],
          "scattergeo": [
           {
            "marker": {
             "colorbar": {
              "outlinewidth": 0,
              "ticks": ""
             }
            },
            "type": "scattergeo"
           }
          ],
          "scattergl": [
           {
            "marker": {
             "colorbar": {
              "outlinewidth": 0,
              "ticks": ""
             }
            },
            "type": "scattergl"
           }
          ],
          "scattermapbox": [
           {
            "marker": {
             "colorbar": {
              "outlinewidth": 0,
              "ticks": ""
             }
            },
            "type": "scattermapbox"
           }
          ],
          "scatterpolar": [
           {
            "marker": {
             "colorbar": {
              "outlinewidth": 0,
              "ticks": ""
             }
            },
            "type": "scatterpolar"
           }
          ],
          "scatterpolargl": [
           {
            "marker": {
             "colorbar": {
              "outlinewidth": 0,
              "ticks": ""
             }
            },
            "type": "scatterpolargl"
           }
          ],
          "scatterternary": [
           {
            "marker": {
             "colorbar": {
              "outlinewidth": 0,
              "ticks": ""
             }
            },
            "type": "scatterternary"
           }
          ],
          "surface": [
           {
            "colorbar": {
             "outlinewidth": 0,
             "ticks": ""
            },
            "colorscale": [
             [
              0,
              "#0d0887"
             ],
             [
              0.1111111111111111,
              "#46039f"
             ],
             [
              0.2222222222222222,
              "#7201a8"
             ],
             [
              0.3333333333333333,
              "#9c179e"
             ],
             [
              0.4444444444444444,
              "#bd3786"
             ],
             [
              0.5555555555555556,
              "#d8576b"
             ],
             [
              0.6666666666666666,
              "#ed7953"
             ],
             [
              0.7777777777777778,
              "#fb9f3a"
             ],
             [
              0.8888888888888888,
              "#fdca26"
             ],
             [
              1,
              "#f0f921"
             ]
            ],
            "type": "surface"
           }
          ],
          "table": [
           {
            "cells": {
             "fill": {
              "color": "#EBF0F8"
             },
             "line": {
              "color": "white"
             }
            },
            "header": {
             "fill": {
              "color": "#C8D4E3"
             },
             "line": {
              "color": "white"
             }
            },
            "type": "table"
           }
          ]
         },
         "layout": {
          "annotationdefaults": {
           "arrowcolor": "#2a3f5f",
           "arrowhead": 0,
           "arrowwidth": 1
          },
          "autotypenumbers": "strict",
          "coloraxis": {
           "colorbar": {
            "outlinewidth": 0,
            "ticks": ""
           }
          },
          "colorscale": {
           "diverging": [
            [
             0,
             "#8e0152"
            ],
            [
             0.1,
             "#c51b7d"
            ],
            [
             0.2,
             "#de77ae"
            ],
            [
             0.3,
             "#f1b6da"
            ],
            [
             0.4,
             "#fde0ef"
            ],
            [
             0.5,
             "#f7f7f7"
            ],
            [
             0.6,
             "#e6f5d0"
            ],
            [
             0.7,
             "#b8e186"
            ],
            [
             0.8,
             "#7fbc41"
            ],
            [
             0.9,
             "#4d9221"
            ],
            [
             1,
             "#276419"
            ]
           ],
           "sequential": [
            [
             0,
             "#0d0887"
            ],
            [
             0.1111111111111111,
             "#46039f"
            ],
            [
             0.2222222222222222,
             "#7201a8"
            ],
            [
             0.3333333333333333,
             "#9c179e"
            ],
            [
             0.4444444444444444,
             "#bd3786"
            ],
            [
             0.5555555555555556,
             "#d8576b"
            ],
            [
             0.6666666666666666,
             "#ed7953"
            ],
            [
             0.7777777777777778,
             "#fb9f3a"
            ],
            [
             0.8888888888888888,
             "#fdca26"
            ],
            [
             1,
             "#f0f921"
            ]
           ],
           "sequentialminus": [
            [
             0,
             "#0d0887"
            ],
            [
             0.1111111111111111,
             "#46039f"
            ],
            [
             0.2222222222222222,
             "#7201a8"
            ],
            [
             0.3333333333333333,
             "#9c179e"
            ],
            [
             0.4444444444444444,
             "#bd3786"
            ],
            [
             0.5555555555555556,
             "#d8576b"
            ],
            [
             0.6666666666666666,
             "#ed7953"
            ],
            [
             0.7777777777777778,
             "#fb9f3a"
            ],
            [
             0.8888888888888888,
             "#fdca26"
            ],
            [
             1,
             "#f0f921"
            ]
           ]
          },
          "colorway": [
           "#636efa",
           "#EF553B",
           "#00cc96",
           "#ab63fa",
           "#FFA15A",
           "#19d3f3",
           "#FF6692",
           "#B6E880",
           "#FF97FF",
           "#FECB52"
          ],
          "font": {
           "color": "#2a3f5f"
          },
          "geo": {
           "bgcolor": "white",
           "lakecolor": "white",
           "landcolor": "#E5ECF6",
           "showlakes": true,
           "showland": true,
           "subunitcolor": "white"
          },
          "hoverlabel": {
           "align": "left"
          },
          "hovermode": "closest",
          "mapbox": {
           "style": "light"
          },
          "paper_bgcolor": "white",
          "plot_bgcolor": "#E5ECF6",
          "polar": {
           "angularaxis": {
            "gridcolor": "white",
            "linecolor": "white",
            "ticks": ""
           },
           "bgcolor": "#E5ECF6",
           "radialaxis": {
            "gridcolor": "white",
            "linecolor": "white",
            "ticks": ""
           }
          },
          "scene": {
           "xaxis": {
            "backgroundcolor": "#E5ECF6",
            "gridcolor": "white",
            "gridwidth": 2,
            "linecolor": "white",
            "showbackground": true,
            "ticks": "",
            "zerolinecolor": "white"
           },
           "yaxis": {
            "backgroundcolor": "#E5ECF6",
            "gridcolor": "white",
            "gridwidth": 2,
            "linecolor": "white",
            "showbackground": true,
            "ticks": "",
            "zerolinecolor": "white"
           },
           "zaxis": {
            "backgroundcolor": "#E5ECF6",
            "gridcolor": "white",
            "gridwidth": 2,
            "linecolor": "white",
            "showbackground": true,
            "ticks": "",
            "zerolinecolor": "white"
           }
          },
          "shapedefaults": {
           "line": {
            "color": "#2a3f5f"
           }
          },
          "ternary": {
           "aaxis": {
            "gridcolor": "white",
            "linecolor": "white",
            "ticks": ""
           },
           "baxis": {
            "gridcolor": "white",
            "linecolor": "white",
            "ticks": ""
           },
           "bgcolor": "#E5ECF6",
           "caxis": {
            "gridcolor": "white",
            "linecolor": "white",
            "ticks": ""
           }
          },
          "title": {
           "x": 0.05
          },
          "xaxis": {
           "automargin": true,
           "gridcolor": "white",
           "linecolor": "white",
           "ticks": "",
           "title": {
            "standoff": 15
           },
           "zerolinecolor": "white",
           "zerolinewidth": 2
          },
          "yaxis": {
           "automargin": true,
           "gridcolor": "white",
           "linecolor": "white",
           "ticks": "",
           "title": {
            "standoff": 15
           },
           "zerolinecolor": "white",
           "zerolinewidth": 2
          }
         }
        },
        "title": {
         "text": "MAE by step XGBoost refitted model"
        },
        "xaxis": {
         "autorange": true,
         "range": [
          0,
          383
         ],
         "title": {
          "text": "Iteration"
         }
        },
        "yaxis": {
         "autorange": true,
         "range": [
          -0.016596611111111104,
          5.372695611111111
         ],
         "title": {
          "text": "MAE"
         },
         "type": "linear"
        }
       }
      },
      "image/png": "[encoded data removed]",
      "text/html": [
       "<div>                            <div id=\"92eef774-8b81-4c4c-a912-e61cd32b0a71\" class=\"plotly-graph-div\" style=\"height:525px; width:100%;\"></div>            <script type=\"text/javascript\">                require([\"plotly\"], function(Plotly) {                    window.PLOTLYENV=window.PLOTLYENV || {};                                    if (document.getElementById(\"92eef774-8b81-4c4c-a912-e61cd32b0a71\")) {                    Plotly.newPlot(                        \"92eef774-8b81-4c4c-a912-e61cd32b0a71\",                        [{\"mode\":\"lines\",\"name\":\"train\",\"y\":[5.0165,4.915938,4.817472,4.720788,4.626269,4.533777,4.443124,4.354394,4.267085,4.18172,4.097983,4.016104,3.935809,3.856986,3.779715,3.704266,3.630154,3.557473,3.486003,3.416525,3.348711,3.28212,3.216332,3.152156,3.089267,3.027537,2.966851,2.907396,2.84917,2.791999,2.73598,2.681618,2.628358,2.575518,2.524036,2.473756,2.424269,2.375826,2.32817,2.28164,2.236227,2.191999,2.148486,2.105678,2.063705,2.022319,1.982185,1.942709,1.904079,1.866294,1.82911,1.792892,1.757304,1.722318,1.687886,1.654172,1.621115,1.589221,1.55788,1.527038,1.496384,1.466919,1.437728,1.409555,1.381868,1.354625,1.327606,1.301601,1.276111,1.251153,1.226854,1.202963,1.179649,1.157067,1.134882,1.113153,1.092157,1.071406,1.051241,1.031462,1.011983,0.992798,0.973982,0.955716,0.937944,0.920563,0.903529,0.886516,0.869887,0.853971,0.838325,0.823154,0.808225,0.793578,0.779418,0.7656,0.752096,0.738871,0.726005,0.713435,0.701016,0.688941,0.677336,0.66614,0.655307,0.644665,0.634136,0.624067,0.614209,0.604466,0.595141,0.586048,0.577288,0.568634,0.560482,0.552192,0.544169,0.536368,0.528682,0.521433,0.514226,0.507238,0.500358,0.493617,0.487433,0.481297,0.474966,0.469174,0.46324,0.457971,0.452447,0.447429,0.442203,0.437212,0.432414,0.42797,0.423607,0.419321,0.415451,0.411759,0.408205,0.40463,0.400942,0.397473,0.394204,0.391131,0.388295,0.38527,0.382508,0.379798,0.377265,0.374719,0.372213,0.369812,0.367721,0.365775,0.363798,0.361513,0.359703,0.357737,0.35586,0.354285,0.352586,0.351203,0.349647,0.347825,0.346493,0.344937,0.343694,0.342295,0.340743,0.339727,0.338561,0.337403,0.336478,0.335675,0.334433,0.333266,0.332204,0.331381,0.330529,0.329403,0.328673,0.327941,0.327016,0.326051,0.325318,0.324322,0.323636,0.323105,0.322513,0.321818,0.321223,0.320775,0.320112,0.319533,0.319031,0.318513,0.317751,0.317198,0.316725,0.316334,0.315932,0.315551,0.314842,0.314558,0.313898,0.313643,0.313055,0.312639,0.312349,0.311876,0.311317,0.310656,0.309738,0.309269,0.308683,0.30823,0.307913,0.307409,0.306833,0.306221,0.305736,0.30546,0.305142,0.304651,0.304283,0.303914,0.30353,0.303304,0.302777,0.302177,0.30186,0.301725,0.301255,0.300777,0.300458,0.300016,0.299851,0.29937,0.299136,0.298974,0.298584,0.298216,0.297867,0.297539,0.297267,0.296746,0.296321,0.295983,0.295735,0.295255,0.294945,0.294534,0.29417,0.293896,0.293466,0.2929,0.292659,0.292306,0.292133,0.291739,0.291453,0.291247,0.290867,0.290169,0.289929,0.289394,0.289022,0.288465,0.288224,0.287971,0.287674,0.287402,0.287146,0.287036,0.286698,0.286334,0.286223,0.285972,0.285593,0.285306,0.285033,0.284563,0.28427,0.283896,0.283761,0.283334,0.282783,0.282587,0.282353,0.2821,0.281644,0.281091,0.280936,0.280606,0.28007,0.279537,0.279161,0.278904,0.278213,0.278,0.277762,0.277568,0.277409,0.277001,0.276535,0.276415,0.276241,0.276123,0.275674,0.275291,0.275102,0.274654,0.27441,0.274328,0.274061,0.273627,0.273185,0.272991,0.272569,0.272279,0.271921,0.271783,0.271518,0.271354,0.271088,0.270856,0.270578,0.270399,0.270224,0.269731,0.269537,0.268999,0.268742,0.268245,0.268032,0.267688,0.267346,0.266841,0.266589,0.266196,0.265965,0.265699,0.265213,0.264681,0.264234,0.263943,0.263431,0.26327,0.263011,0.262597,0.261957,0.261561,0.261359,0.26078,0.260608,0.260415,0.26021,0.259763,0.259589,0.259292,0.259045,0.258527,0.25818,0.257874,0.257648,0.257515,0.257205,0.256931,0.256635,0.256143,0.255727,0.255273,0.254965,0.254889,0.254675,0.254245,0.25412,0.253806,0.253565,0.253369,0.253172,0.252868],\"type\":\"scatter\"},{\"mode\":\"lines\",\"name\":\"validation\",\"y\":[5.103231,5.00302,4.905701,4.809848,4.715511,4.622757,4.532457,4.444241,4.356863,4.271025,4.187444,4.105757,4.02543,3.946208,3.869044,3.793197,3.71989,3.647939,3.577472,3.508321,3.440874,3.37442,3.308482,3.244738,3.18218,3.120581,3.060235,3.000687,2.943049,2.885606,2.829602,2.775997,2.722663,2.670416,2.6189,2.568827,2.519752,2.47211,2.425177,2.37918,2.334711,2.29088,2.248349,2.206432,2.164942,2.124402,2.085326,2.046706,2.008104,1.971313,1.935111,1.899288,1.863959,1.829235,1.795345,1.761975,1.729651,1.699071,1.668673,1.638681,1.609207,1.581573,1.553499,1.526873,1.500424,1.474447,1.448676,1.424116,1.400069,1.376356,1.353108,1.330515,1.309126,1.288095,1.26732,1.247044,1.227104,1.207906,1.189056,1.171064,1.153671,1.135737,1.118391,1.101307,1.08518,1.069951,1.055118,1.040388,1.025458,1.011271,0.997179,0.983949,0.97067,0.957896,0.945645,0.934043,0.922487,0.910803,0.89906,0.887431,0.876371,0.865432,0.854537,0.844147,0.834304,0.82428,0.814771,0.805977,0.797371,0.788448,0.780098,0.771954,0.763965,0.756197,0.74919,0.741474,0.733958,0.727341,0.720864,0.71411,0.707791,0.701077,0.694632,0.688687,0.683435,0.678107,0.672557,0.667403,0.662237,0.657189,0.652696,0.648677,0.644333,0.639777,0.635439,0.631864,0.627567,0.623921,0.62051,0.617091,0.61395,0.610981,0.607606,0.604464,0.601985,0.599348,0.596888,0.594215,0.591807,0.589517,0.587154,0.584868,0.582325,0.58015,0.578036,0.576641,0.574705,0.57278,0.570989,0.568853,0.566943,0.565581,0.563782,0.562336,0.561034,0.559126,0.557783,0.556201,0.555016,0.553934,0.552573,0.551434,0.5507,0.54974,0.54854,0.547841,0.546639,0.545331,0.544482,0.543466,0.542567,0.541012,0.54012,0.539203,0.538367,0.537328,0.536423,0.535951,0.53543,0.534991,0.534472,0.533978,0.53359,0.532832,0.532312,0.531518,0.530919,0.530324,0.530099,0.529366,0.528765,0.528216,0.527786,0.527454,0.526879,0.526514,0.526094,0.525744,0.525515,0.525069,0.524621,0.524462,0.524075,0.523671,0.52312,0.522964,0.522579,0.522634,0.522061,0.521851,0.521317,0.520766,0.520426,0.520283,0.52028,0.519921,0.519723,0.519213,0.519064,0.518875,0.518592,0.518162,0.518107,0.518037,0.517946,0.517654,0.5172,0.517154,0.517016,0.516758,0.516503,0.516486,0.51625,0.515889,0.515673,0.515759,0.515536,0.515301,0.515327,0.515443,0.515243,0.515084,0.515153,0.514811,0.514868,0.514692,0.514676,0.514352,0.514198,0.513991,0.513727,0.513319,0.513179,0.512738,0.512786,0.512016,0.512029,0.512028,0.511863,0.512027,0.512025,0.511908,0.511854,0.511875,0.511778,0.511772,0.511354,0.511041,0.511041,0.511052,0.510999,0.510692,0.510878,0.510656,0.510622,0.510643,0.510655,0.510276,0.510335,0.510167,0.510144,0.509831,0.509863,0.509632,0.509741,0.509633,0.509504,0.509246,0.509276,0.50919,0.509133,0.508993,0.509048,0.508959,0.509003,0.508906,0.508701,0.508632,0.508535,0.50844,0.508389,0.508333,0.508369,0.508284,0.508368,0.508276,0.508209,0.508404,0.508265,0.508082,0.508303,0.508051,0.507867,0.507924,0.507907,0.507932,0.507656,0.507743,0.50756,0.507411,0.507466,0.507228,0.507,0.507179,0.506944,0.506848,0.506769,0.50665,0.506433,0.506447,0.506417,0.506254,0.506187,0.50626,0.506199,0.505982,0.50597,0.505844,0.506115,0.506118,0.506114,0.506041,0.505496,0.505497,0.505516,0.505255,0.505382,0.505221,0.505145,0.50514,0.50518,0.505039,0.50505,0.505014,0.505183,0.504869,0.504757,0.505064,0.504955,0.504951,0.504928,0.504437,0.504662,0.504528,0.504677,0.504617,0.504577,0.504548,0.504776,0.504685,0.504593,0.504725,0.504632,0.504497],\"type\":\"scatter\"}],                        {\"template\":{\"data\":{\"bar\":[{\"error_x\":{\"color\":\"#2a3f5f\"},\"error_y\":{\"color\":\"#2a3f5f\"},\"marker\":{\"line\":{\"color\":\"#E5ECF6\",\"width\":0.5},\"pattern\":{\"fillmode\":\"overlay\",\"size\":10,\"solidity\":0.2}},\"type\":\"bar\"}],\"barpolar\":[{\"marker\":{\"line\":{\"color\":\"#E5ECF6\",\"width\":0.5},\"pattern\":{\"fillmode\":\"overlay\",\"size\":10,\"solidity\":0.2}},\"type\":\"barpolar\"}],\"carpet\":[{\"aaxis\":{\"endlinecolor\":\"#2a3f5f\",\"gridcolor\":\"white\",\"linecolor\":\"white\",\"minorgridcolor\":\"white\",\"startlinecolor\":\"#2a3f5f\"},\"baxis\":{\"endlinecolor\":\"#2a3f5f\",\"gridcolor\":\"white\",\"linecolor\":\"white\",\"minorgridcolor\":\"white\",\"startlinecolor\":\"#2a3f5f\"},\"type\":\"carpet\"}],\"choropleth\":[{\"colorbar\":{\"outlinewidth\":0,\"ticks\":\"\"},\"type\":\"choropleth\"}],\"contour\":[{\"colorbar\":{\"outlinewidth\":0,\"ticks\":\"\"},\"colorscale\":[[0.0,\"#0d0887\"],[0.1111111111111111,\"#46039f\"],[0.2222222222222222,\"#7201a8\"],[0.3333333333333333,\"#9c179e\"],[0.4444444444444444,\"#bd3786\"],[0.5555555555555556,\"#d8576b\"],[0.6666666666666666,\"#ed7953\"],[0.7777777777777778,\"#fb9f3a\"],[0.8888888888888888,\"#fdca26\"],[1.0,\"#f0f921\"]],\"type\":\"contour\"}],\"contourcarpet\":[{\"colorbar\":{\"outlinewidth\":0,\"ticks\":\"\"},\"type\":\"contourcarpet\"}],\"heatmap\":[{\"colorbar\":{\"outlinewidth\":0,\"ticks\":\"\"},\"colorscale\":[[0.0,\"#0d0887\"],[0.1111111111111111,\"#46039f\"],[0.2222222222222222,\"#7201a8\"],[0.3333333333333333,\"#9c179e\"],[0.4444444444444444,\"#bd3786\"],[0.5555555555555556,\"#d8576b\"],[0.6666666666666666,\"#ed7953\"],[0.7777777777777778,\"#fb9f3a\"],[0.8888888888888888,\"#fdca26\"],[1.0,\"#f0f921\"]],\"type\":\"heatmap\"}],\"heatmapgl\":[{\"colorbar\":{\"outlinewidth\":0,\"ticks\":\"\"},\"colorscale\":[[0.0,\"#0d0887\"],[0.1111111111111111,\"#46039f\"],[0.2222222222222222,\"#7201a8\"],[0.3333333333333333,\"#9c179e\"],[0.4444444444444444,\"#bd3786\"],[0.5555555555555556,\"#d8576b\"],[0.6666666666666666,\"#ed7953\"],[0.7777777777777778,\"#fb9f3a\"],[0.8888888888888888,\"#fdca26\"],[1.0,\"#f0f921\"]],\"type\":\"heatmapgl\"}],\"histogram\":[{\"marker\":{\"pattern\":{\"fillmode\":\"overlay\",\"size\":10,\"solidity\":0.2}},\"type\":\"histogram\"}],\"histogram2d\":[{\"colorbar\":{\"outlinewidth\":0,\"ticks\":\"\"},\"colorscale\":[[0.0,\"#0d0887\"],[0.1111111111111111,\"#46039f\"],[0.2222222222222222,\"#7201a8\"],[0.3333333333333333,\"#9c179e\"],[0.4444444444444444,\"#bd3786\"],[0.5555555555555556,\"#d8576b\"],[0.6666666666666666,\"#ed7953\"],[0.7777777777777778,\"#fb9f3a\"],[0.8888888888888888,\"#fdca26\"],[1.0,\"#f0f921\"]],\"type\":\"histogram2d\"}],\"histogram2dcontour\":[{\"colorbar\":{\"outlinewidth\":0,\"ticks\":\"\"},\"colorscale\":[[0.0,\"#0d0887\"],[0.1111111111111111,\"#46039f\"],[0.2222222222222222,\"#7201a8\"],[0.3333333333333333,\"#9c179e\"],[0.4444444444444444,\"#bd3786\"],[0.5555555555555556,\"#d8576b\"],[0.6666666666666666,\"#ed7953\"],[0.7777777777777778,\"#fb9f3a\"],[0.8888888888888888,\"#fdca26\"],[1.0,\"#f0f921\"]],\"type\":\"histogram2dcontour\"}],\"mesh3d\":[{\"colorbar\":{\"outlinewidth\":0,\"ticks\":\"\"},\"type\":\"mesh3d\"}],\"parcoords\":[{\"line\":{\"colorbar\":{\"outlinewidth\":0,\"ticks\":\"\"}},\"type\":\"parcoords\"}],\"pie\":[{\"automargin\":true,\"type\":\"pie\"}],\"scatter\":[{\"marker\":{\"colorbar\":{\"outlinewidth\":0,\"ticks\":\"\"}},\"type\":\"scatter\"}],\"scatter3d\":[{\"line\":{\"colorbar\":{\"outlinewidth\":0,\"ticks\":\"\"}},\"marker\":{\"colorbar\":{\"outlinewidth\":0,\"ticks\":\"\"}},\"type\":\"scatter3d\"}],\"scattercarpet\":[{\"marker\":{\"colorbar\":{\"outlinewidth\":0,\"ticks\":\"\"}},\"type\":\"scattercarpet\"}],\"scattergeo\":[{\"marker\":{\"colorbar\":{\"outlinewidth\":0,\"ticks\":\"\"}},\"type\":\"scattergeo\"}],\"scattergl\":[{\"marker\":{\"colorbar\":{\"outlinewidth\":0,\"ticks\":\"\"}},\"type\":\"scattergl\"}],\"scattermapbox\":[{\"marker\":{\"colorbar\":{\"outlinewidth\":0,\"ticks\":\"\"}},\"type\":\"scattermapbox\"}],\"scatterpolar\":[{\"marker\":{\"colorbar\":{\"outlinewidth\":0,\"ticks\":\"\"}},\"type\":\"scatterpolar\"}],\"scatterpolargl\":[{\"marker\":{\"colorbar\":{\"outlinewidth\":0,\"ticks\":\"\"}},\"type\":\"scatterpolargl\"}],\"scatterternary\":[{\"marker\":{\"colorbar\":{\"outlinewidth\":0,\"ticks\":\"\"}},\"type\":\"scatterternary\"}],\"surface\":[{\"colorbar\":{\"outlinewidth\":0,\"ticks\":\"\"},\"colorscale\":[[0.0,\"#0d0887\"],[0.1111111111111111,\"#46039f\"],[0.2222222222222222,\"#7201a8\"],[0.3333333333333333,\"#9c179e\"],[0.4444444444444444,\"#bd3786\"],[0.5555555555555556,\"#d8576b\"],[0.6666666666666666,\"#ed7953\"],[0.7777777777777778,\"#fb9f3a\"],[0.8888888888888888,\"#fdca26\"],[1.0,\"#f0f921\"]],\"type\":\"surface\"}],\"table\":[{\"cells\":{\"fill\":{\"color\":\"#EBF0F8\"},\"line\":{\"color\":\"white\"}},\"header\":{\"fill\":{\"color\":\"#C8D4E3\"},\"line\":{\"color\":\"white\"}},\"type\":\"table\"}]},\"layout\":{\"annotationdefaults\":{\"arrowcolor\":\"#2a3f5f\",\"arrowhead\":0,\"arrowwidth\":1},\"autotypenumbers\":\"strict\",\"coloraxis\":{\"colorbar\":{\"outlinewidth\":0,\"ticks\":\"\"}},\"colorscale\":{\"diverging\":[[0,\"#8e0152\"],[0.1,\"#c51b7d\"],[0.2,\"#de77ae\"],[0.3,\"#f1b6da\"],[0.4,\"#fde0ef\"],[0.5,\"#f7f7f7\"],[0.6,\"#e6f5d0\"],[0.7,\"#b8e186\"],[0.8,\"#7fbc41\"],[0.9,\"#4d9221\"],[1,\"#276419\"]],\"sequential\":[[0.0,\"#0d0887\"],[0.1111111111111111,\"#46039f\"],[0.2222222222222222,\"#7201a8\"],[0.3333333333333333,\"#9c179e\"],[0.4444444444444444,\"#bd3786\"],[0.5555555555555556,\"#d8576b\"],[0.6666666666666666,\"#ed7953\"],[0.7777777777777778,\"#fb9f3a\"],[0.8888888888888888,\"#fdca26\"],[1.0,\"#f0f921\"]],\"sequentialminus\":[[0.0,\"#0d0887\"],[0.1111111111111111,\"#46039f\"],[0.2222222222222222,\"#7201a8\"],[0.3333333333333333,\"#9c179e\"],[0.4444444444444444,\"#bd3786\"],[0.5555555555555556,\"#d8576b\"],[0.6666666666666666,\"#ed7953\"],[0.7777777777777778,\"#fb9f3a\"],[0.8888888888888888,\"#fdca26\"],[1.0,\"#f0f921\"]]},\"colorway\":[\"#636efa\",\"#EF553B\",\"#00cc96\",\"#ab63fa\",\"#FFA15A\",\"#19d3f3\",\"#FF6692\",\"#B6E880\",\"#FF97FF\",\"#FECB52\"],\"font\":{\"color\":\"#2a3f5f\"},\"geo\":{\"bgcolor\":\"white\",\"lakecolor\":\"white\",\"landcolor\":\"#E5ECF6\",\"showlakes\":true,\"showland\":true,\"subunitcolor\":\"white\"},\"hoverlabel\":{\"align\":\"left\"},\"hovermode\":\"closest\",\"mapbox\":{\"style\":\"light\"},\"paper_bgcolor\":\"white\",\"plot_bgcolor\":\"#E5ECF6\",\"polar\":{\"angularaxis\":{\"gridcolor\":\"white\",\"linecolor\":\"white\",\"ticks\":\"\"},\"bgcolor\":\"#E5ECF6\",\"radialaxis\":{\"gridcolor\":\"white\",\"linecolor\":\"white\",\"ticks\":\"\"}},\"scene\":{\"xaxis\":{\"backgroundcolor\":\"#E5ECF6\",\"gridcolor\":\"white\",\"gridwidth\":2,\"linecolor\":\"white\",\"showbackground\":true,\"ticks\":\"\",\"zerolinecolor\":\"white\"},\"yaxis\":{\"backgroundcolor\":\"#E5ECF6\",\"gridcolor\":\"white\",\"gridwidth\":2,\"linecolor\":\"white\",\"showbackground\":true,\"ticks\":\"\",\"zerolinecolor\":\"white\"},\"zaxis\":{\"backgroundcolor\":\"#E5ECF6\",\"gridcolor\":\"white\",\"gridwidth\":2,\"linecolor\":\"white\",\"showbackground\":true,\"ticks\":\"\",\"zerolinecolor\":\"white\"}},\"shapedefaults\":{\"line\":{\"color\":\"#2a3f5f\"}},\"ternary\":{\"aaxis\":{\"gridcolor\":\"white\",\"linecolor\":\"white\",\"ticks\":\"\"},\"baxis\":{\"gridcolor\":\"white\",\"linecolor\":\"white\",\"ticks\":\"\"},\"bgcolor\":\"#E5ECF6\",\"caxis\":{\"gridcolor\":\"white\",\"linecolor\":\"white\",\"ticks\":\"\"}},\"title\":{\"x\":0.05},\"xaxis\":{\"automargin\":true,\"gridcolor\":\"white\",\"linecolor\":\"white\",\"ticks\":\"\",\"title\":{\"standoff\":15},\"zerolinecolor\":\"white\",\"zerolinewidth\":2},\"yaxis\":{\"automargin\":true,\"gridcolor\":\"white\",\"linecolor\":\"white\",\"ticks\":\"\",\"title\":{\"standoff\":15},\"zerolinecolor\":\"white\",\"zerolinewidth\":2}}},\"annotations\":[{\"arrowhead\":1,\"ax\":-60,\"showarrow\":true,\"text\":\"Last best iteration\",\"x\":373,\"y\":1.105083}],\"font\":{\"family\":\"Courier New, monospace\",\"size\":12},\"title\":{\"text\":\"MAE by step XGBoost refitted model\"},\"xaxis\":{\"title\":{\"text\":\"Iteration\"}},\"yaxis\":{\"title\":{\"text\":\"MAE\"}},\"legend\":{\"title\":{\"text\":\"Data split \"}},\"shapes\":[{\"line\":{\"color\":\"green\",\"dash\":\"dash\",\"width\":3},\"type\":\"line\",\"x0\":373,\"x1\":373,\"xref\":\"x\",\"y0\":0,\"y1\":1,\"yref\":\"y domain\"}]},                        {\"responsive\": true}                    ).then(function(){\n",
       "                            \n",
       "var gd = document.getElementById('92eef774-8b81-4c4c-a912-e61cd32b0a71');\n",
       "var x = new MutationObserver(function (mutations, observer) {{\n",
       "        var display = window.getComputedStyle(gd).display;\n",
       "        if (!display || display === 'none') {{\n",
       "            console.log([gd, 'removed!']);\n",
       "            Plotly.purge(gd);\n",
       "            observer.disconnect();\n",
       "        }}\n",
       "}});\n",
       "\n",
       "// Listen for the removal of the full notebook cells\n",
       "var notebookContainer = gd.closest('#notebook-container');\n",
       "if (notebookContainer) {{\n",
       "    x.observe(notebookContainer, {childList: true});\n",
       "}}\n",
       "\n",
       "// Listen for the clearing of the current output cell\n",
       "var outputEl = gd.closest('.output');\n",
       "if (outputEl) {{\n",
       "    x.observe(outputEl, {childList: true});\n",
       "}}\n",
       "\n",
       "                        })                };                });            </script>        </div>"
      ]
     },
     "metadata": {},
     "output_type": "display_data"
    }
   ],
   "source": [
    "fig = go.Figure()\n",
    "keys= ['validation_0','validation_1']\n",
    "# Add traces\n",
    "step_data=[]\n",
    "for i, data_split in enumerate(['train','validation']):\n",
    "    data_split_= keys[i]\n",
    "    color = colors[i]\n",
    "    step_score=xgboost_grid.evals_result()[data_split_][\"mae\"]\n",
    "    fig.add_trace(\n",
    "        go.Scatter(\n",
    "            y= step_score,\n",
    "            mode=\"lines\",\n",
    "            name= data_split,\n",
    "        )\n",
    "    )\n",
    "    step_data.append(step_score)\n",
    "    \n",
    "fig.add_annotation(x=best_iter, y=best_score+1, ax=-60,\n",
    "        text=\"Last best iteration\",\n",
    "        showarrow=True,\n",
    "        arrowhead=1)\n",
    "    \n",
    "fig.update_layout(\n",
    "    title=f\"MAE by step XGBoost refitted model\",\n",
    "    xaxis_title=\"Iteration\",\n",
    "    yaxis_title=\"MAE\",\n",
    "    legend_title=\"Data split \",\n",
    "    font=dict(family=\"Courier New, monospace\", size=12),\n",
    ")\n",
    "fig.add_vline(\n",
    "    x=best_iter, line_width=3, line_dash=\"dash\", \n",
    "    line_color=\"green\")\n",
    "\n",
    "fig.show()"
   ]
  },
  {
   "cell_type": "markdown",
   "id": "608dd10e-02b7-4e79-bec5-4fd6a8ebb014",
   "metadata": {},
   "source": [
    "Nous voyons que la courbe des performances avec les données de validation suit de près la performance du modèle avec les données d'entraînement."
   ]
  }
 ],
 "metadata": {
  "kernelspec": {
   "display_name": "Python 3 (ipykernel)",
   "language": "python",
   "name": "python3"
  },
  "language_info": {
   "codemirror_mode": {
    "name": "ipython",
    "version": 3
   },
   "file_extension": ".py",
   "mimetype": "text/x-python",
   "name": "python",
   "nbconvert_exporter": "python",
   "pygments_lexer": "ipython3",
   "version": "3.9.7"
  }
 },
 "nbformat": 4,
 "nbformat_minor": 5
}
